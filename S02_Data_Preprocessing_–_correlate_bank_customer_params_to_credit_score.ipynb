{
  "nbformat": 4,
  "nbformat_minor": 0,
  "metadata": {
    "kernelspec": {
      "display_name": "Python 3",
      "language": "python",
      "name": "python3"
    },
    "language_info": {
      "codemirror_mode": {
        "name": "ipython",
        "version": 3
      },
      "file_extension": ".py",
      "mimetype": "text/x-python",
      "name": "python",
      "nbconvert_exporter": "python",
      "pygments_lexer": "ipython3",
      "version": "3.7.4"
    },
    "colab": {
      "name": "S02 Data Preprocessing – correlate bank customer params to credit score.ipynb",
      "provenance": [],
      "collapsed_sections": [],
      "include_colab_link": true
    }
  },
  "cells": [
    {
      "cell_type": "markdown",
      "metadata": {
        "id": "view-in-github",
        "colab_type": "text"
      },
      "source": [
        "<a href=\"https://colab.research.google.com/github/dnevo/Practicum/blob/master/S02_Data_Preprocessing_%E2%80%93_correlate_bank_customer_params_to_credit_score.ipynb\" target=\"_parent\"><img src=\"https://colab.research.google.com/assets/colab-badge.svg\" alt=\"Open In Colab\"/></a>"
      ]
    },
    {
      "cell_type": "markdown",
      "metadata": {
        "id": "wVQxBB4F6rGk",
        "colab_type": "text"
      },
      "source": [
        "## Comments from reviewer\n",
        "\n",
        "<span style=\"color:green\"> Hi! Congratulations on your first project :) I know that the first project is the hardest one, but you did a good job. I believe we can make your work even better. I left you comments on what should be improved and also questions I'd like to get answers to. You will find my comments in Markdown cells with green text. Please, change your work a bit and send the project back to me. Good Luck! :) </span>"
      ]
    },
    {
      "cell_type": "markdown",
      "metadata": {
        "id": "1ygOz9HZ6rGl",
        "colab_type": "text"
      },
      "source": [
        "## Comments from reviewer 2\n",
        "\n",
        "<span style=\"color:purple\">Thanks for the udpdated project!</span>"
      ]
    },
    {
      "cell_type": "markdown",
      "metadata": {
        "id": "xnKjVIdQ6rGm",
        "colab_type": "text"
      },
      "source": [
        "## Analyzing borrowers’ risk of defaulting\n",
        "\n",
        "Your project is to prepare a report for a bank’s loan division. You’ll need to find out if a customer’s marital status and number of children has an impact on whether they will default on a loan. The bank already has some data on customers’ credit worthiness.\n",
        "\n",
        "Your report will be considered when building a **credit scoring** of a potential customer. A ** credit scoring ** is used to evaluate the ability of a potential borrower to repay their loan."
      ]
    },
    {
      "cell_type": "markdown",
      "metadata": {
        "id": "S1La01dt6rGn",
        "colab_type": "text"
      },
      "source": [
        "### Step 1. Open the data file and have a look at the general information. "
      ]
    },
    {
      "cell_type": "code",
      "metadata": {
        "id": "M3iql1izT4l_",
        "colab_type": "code",
        "colab": {
          "base_uri": "https://localhost:8080/",
          "height": 833
        },
        "outputId": "54216e04-98f6-4e77-d5a3-636f713dadce"
      },
      "source": [
        "import pandas as pd\n",
        "import numpy as np\n",
        "import nltk\n",
        "nltk.download('popular')\n",
        "from nltk.stem import WordNetLemmatizer\n",
        "pd.set_option('display.width', 200)"
      ],
      "execution_count": 14,
      "outputs": [
        {
          "output_type": "stream",
          "text": [
            "[nltk_data] Downloading collection 'popular'\n",
            "[nltk_data]    | \n",
            "[nltk_data]    | Downloading package cmudict to /root/nltk_data...\n",
            "[nltk_data]    |   Package cmudict is already up-to-date!\n",
            "[nltk_data]    | Downloading package gazetteers to /root/nltk_data...\n",
            "[nltk_data]    |   Package gazetteers is already up-to-date!\n",
            "[nltk_data]    | Downloading package genesis to /root/nltk_data...\n",
            "[nltk_data]    |   Package genesis is already up-to-date!\n",
            "[nltk_data]    | Downloading package gutenberg to /root/nltk_data...\n",
            "[nltk_data]    |   Package gutenberg is already up-to-date!\n",
            "[nltk_data]    | Downloading package inaugural to /root/nltk_data...\n",
            "[nltk_data]    |   Package inaugural is already up-to-date!\n",
            "[nltk_data]    | Downloading package movie_reviews to\n",
            "[nltk_data]    |     /root/nltk_data...\n",
            "[nltk_data]    |   Package movie_reviews is already up-to-date!\n",
            "[nltk_data]    | Downloading package names to /root/nltk_data...\n",
            "[nltk_data]    |   Package names is already up-to-date!\n",
            "[nltk_data]    | Downloading package shakespeare to /root/nltk_data...\n",
            "[nltk_data]    |   Package shakespeare is already up-to-date!\n",
            "[nltk_data]    | Downloading package stopwords to /root/nltk_data...\n",
            "[nltk_data]    |   Package stopwords is already up-to-date!\n",
            "[nltk_data]    | Downloading package treebank to /root/nltk_data...\n",
            "[nltk_data]    |   Package treebank is already up-to-date!\n",
            "[nltk_data]    | Downloading package twitter_samples to\n",
            "[nltk_data]    |     /root/nltk_data...\n",
            "[nltk_data]    |   Package twitter_samples is already up-to-date!\n",
            "[nltk_data]    | Downloading package omw to /root/nltk_data...\n",
            "[nltk_data]    |   Package omw is already up-to-date!\n",
            "[nltk_data]    | Downloading package wordnet to /root/nltk_data...\n",
            "[nltk_data]    |   Package wordnet is already up-to-date!\n",
            "[nltk_data]    | Downloading package wordnet_ic to /root/nltk_data...\n",
            "[nltk_data]    |   Package wordnet_ic is already up-to-date!\n",
            "[nltk_data]    | Downloading package words to /root/nltk_data...\n",
            "[nltk_data]    |   Package words is already up-to-date!\n",
            "[nltk_data]    | Downloading package maxent_ne_chunker to\n",
            "[nltk_data]    |     /root/nltk_data...\n",
            "[nltk_data]    |   Package maxent_ne_chunker is already up-to-date!\n",
            "[nltk_data]    | Downloading package punkt to /root/nltk_data...\n",
            "[nltk_data]    |   Package punkt is already up-to-date!\n",
            "[nltk_data]    | Downloading package snowball_data to\n",
            "[nltk_data]    |     /root/nltk_data...\n",
            "[nltk_data]    |   Package snowball_data is already up-to-date!\n",
            "[nltk_data]    | Downloading package averaged_perceptron_tagger to\n",
            "[nltk_data]    |     /root/nltk_data...\n",
            "[nltk_data]    |   Package averaged_perceptron_tagger is already up-\n",
            "[nltk_data]    |       to-date!\n",
            "[nltk_data]    | \n",
            "[nltk_data]  Done downloading collection popular\n"
          ],
          "name": "stdout"
        }
      ]
    },
    {
      "cell_type": "code",
      "metadata": {
        "scrolled": true,
        "id": "Su8n7LQu6rGo",
        "colab_type": "code",
        "colab": {
          "base_uri": "https://localhost:8080/",
          "height": 578
        },
        "outputId": "3699b3a5-1ce8-4dfa-c238-3dd2e807b7ac"
      },
      "source": [
        "credit_scoring = pd.read_csv('https://raw.githubusercontent.com/dnevo/Practicum/master/datasets/credit_scoring_eng.csv')\n",
        "print(credit_scoring.tail(30))"
      ],
      "execution_count": 1,
      "outputs": [
        {
          "output_type": "stream",
          "text": [
            "       children  ...                                   purpose\n",
            "21495         1  ...                          wedding ceremony\n",
            "21496         1  ...                              to buy a car\n",
            "21497         0  ...                       building a property\n",
            "21498         1  ...                         to have a wedding\n",
            "21499         0  ...                          wedding ceremony\n",
            "21500         0  ...  transactions with commercial real estate\n",
            "21501         0  ...                                   housing\n",
            "21502         1  ...                    building a real estate\n",
            "21503         0  ...                        to become educated\n",
            "21504         0  ...                   supplementary education\n",
            "21505         0  ...                         to have a wedding\n",
            "21506         1  ...                          wedding ceremony\n",
            "21507         1  ...                  second-hand car purchase\n",
            "21508         0  ...                                  property\n",
            "21509         0  ...                  real estate transactions\n",
            "21510         2  ...                              car purchase\n",
            "21511         0  ...           buying property for renting out\n",
            "21512         0  ...          to get a supplementary education\n",
            "21513         0  ...                     purchase of the house\n",
            "21514         0  ...                       building a property\n",
            "21515         1  ...                        to become educated\n",
            "21516         0  ...                  purchase of my own house\n",
            "21517         0  ...                         buying my own car\n",
            "21518         0  ...                         purchase of a car\n",
            "21519         1  ...                buy commercial real estate\n",
            "21520         1  ...                      housing transactions\n",
            "21521         0  ...                         purchase of a car\n",
            "21522         1  ...                                  property\n",
            "21523         3  ...                         buying my own car\n",
            "21524         2  ...                              to buy a car\n",
            "\n",
            "[30 rows x 12 columns]\n"
          ],
          "name": "stdout"
        }
      ]
    },
    {
      "cell_type": "code",
      "metadata": {
        "id": "b4nXP7Cx6rGx",
        "colab_type": "code",
        "colab": {
          "base_uri": "https://localhost:8080/",
          "height": 357
        },
        "outputId": "3074c429-a255-44a0-d6f5-3bf6656930f1"
      },
      "source": [
        "print(credit_scoring.info())"
      ],
      "execution_count": 2,
      "outputs": [
        {
          "output_type": "stream",
          "text": [
            "<class 'pandas.core.frame.DataFrame'>\n",
            "RangeIndex: 21525 entries, 0 to 21524\n",
            "Data columns (total 12 columns):\n",
            " #   Column            Non-Null Count  Dtype  \n",
            "---  ------            --------------  -----  \n",
            " 0   children          21525 non-null  int64  \n",
            " 1   days_employed     19351 non-null  float64\n",
            " 2   dob_years         21525 non-null  int64  \n",
            " 3   education         21525 non-null  object \n",
            " 4   education_id      21525 non-null  int64  \n",
            " 5   family_status     21525 non-null  object \n",
            " 6   family_status_id  21525 non-null  int64  \n",
            " 7   gender            21525 non-null  object \n",
            " 8   income_type       21525 non-null  object \n",
            " 9   debt              21525 non-null  int64  \n",
            " 10  total_income      19351 non-null  float64\n",
            " 11  purpose           21525 non-null  object \n",
            "dtypes: float64(2), int64(5), object(5)\n",
            "memory usage: 2.0+ MB\n",
            "None\n"
          ],
          "name": "stdout"
        }
      ]
    },
    {
      "cell_type": "markdown",
      "metadata": {
        "id": "zqr0Tk056rG1",
        "colab_type": "text"
      },
      "source": [
        "#### it can be noticed that the data is not distributed evenly according to the `debt` column - it contains only 1741 records of people who returned the loan - i.e. only 8% of the records."
      ]
    },
    {
      "cell_type": "code",
      "metadata": {
        "id": "v3MgHC_Z6rG2",
        "colab_type": "code",
        "colab": {
          "base_uri": "https://localhost:8080/",
          "height": 68
        },
        "outputId": "ffef2765-39b3-455d-dff6-d64c3453816d"
      },
      "source": [
        "print(credit_scoring['debt'].value_counts())"
      ],
      "execution_count": 3,
      "outputs": [
        {
          "output_type": "stream",
          "text": [
            "0    19784\n",
            "1     1741\n",
            "Name: debt, dtype: int64\n"
          ],
          "name": "stdout"
        }
      ]
    },
    {
      "cell_type": "markdown",
      "metadata": {
        "id": "e0E_i-S-6rG7",
        "colab_type": "text"
      },
      "source": [
        "### Conclusion"
      ]
    },
    {
      "cell_type": "markdown",
      "metadata": {
        "id": "_XtjG5NT6rG7",
        "colab_type": "text"
      },
      "source": [
        "#### main point I notice is that only 8% of the records are of people who did not returned loan.\n",
        "Two column `days_employed` and `total_income` were identified as containing missing data."
      ]
    },
    {
      "cell_type": "markdown",
      "metadata": {
        "id": "DlEJcn4s6rG-",
        "colab_type": "text"
      },
      "source": [
        "### Step 2. Data preprocessing"
      ]
    },
    {
      "cell_type": "markdown",
      "metadata": {
        "id": "pgHCGwuX6rG_",
        "colab_type": "text"
      },
      "source": [
        "#### invalid data: invalid `gender` (=`XNA`). Replace by Female (`F`)\n",
        "It was was replaced to F as Female were the majority (67%) in the data"
      ]
    },
    {
      "cell_type": "markdown",
      "metadata": {
        "id": "ScxPc3WD6rHA",
        "colab_type": "text"
      },
      "source": [
        "<span style=\"color:green\"> Why would you change it to F? Can you justify your decision? </span>"
      ]
    },
    {
      "cell_type": "code",
      "metadata": {
        "id": "kXq7Op-o6rHA",
        "colab_type": "code",
        "colab": {
          "base_uri": "https://localhost:8080/",
          "height": 85
        },
        "outputId": "1df2c750-bcfb-4b02-acd4-9db98775d426"
      },
      "source": [
        "print(credit_scoring['gender'].value_counts())\n",
        "credit_scoring['gender'] = credit_scoring['gender'].where(credit_scoring['gender'] != 'XNA', other='F')"
      ],
      "execution_count": 4,
      "outputs": [
        {
          "output_type": "stream",
          "text": [
            "F      14236\n",
            "M       7288\n",
            "XNA        1\n",
            "Name: gender, dtype: int64\n"
          ],
          "name": "stdout"
        }
      ]
    },
    {
      "cell_type": "markdown",
      "metadata": {
        "id": "ouYFtKqr6rHF",
        "colab_type": "text"
      },
      "source": [
        "#### invalid data: invalid age (`dob_years` =`0`). Replace by the mean."
      ]
    },
    {
      "cell_type": "code",
      "metadata": {
        "id": "hFIRpUD86rHG",
        "colab_type": "code",
        "colab": {
          "base_uri": "https://localhost:8080/",
          "height": 136
        },
        "outputId": "cfa2bf52-13d0-4c6d-92db-e144bf2a43d2"
      },
      "source": [
        "print(credit_scoring['dob_years'].value_counts().sort_index().head())\n",
        "mean_age = int(credit_scoring['dob_years'].mean())\n",
        "print('Mean age: {}'.format(mean_age))\n",
        "credit_scoring['dob_years'] = credit_scoring['dob_years'].where(credit_scoring['dob_years']>0, other=mean_age)"
      ],
      "execution_count": 5,
      "outputs": [
        {
          "output_type": "stream",
          "text": [
            "0     101\n",
            "19     14\n",
            "20     51\n",
            "21    111\n",
            "22    183\n",
            "Name: dob_years, dtype: int64\n",
            "Mean age: 43\n"
          ],
          "name": "stdout"
        }
      ]
    },
    {
      "cell_type": "markdown",
      "metadata": {
        "id": "zdzW9mr-6rHK",
        "colab_type": "text"
      },
      "source": [
        "#### invalid number of `children`: `-1` and `20`. Replace by `1` and `2`.\n",
        "Since `1` and `2` are the 2nd and 3rd frequent values, assumption is that there was a typo..."
      ]
    },
    {
      "cell_type": "markdown",
      "metadata": {
        "id": "IFBAM3Ma6rHL",
        "colab_type": "text"
      },
      "source": [
        "<span style=\"color:green\"> Why do you think they are completely ivalid? Maybe it's a typo. Please explain </span>"
      ]
    },
    {
      "cell_type": "code",
      "metadata": {
        "id": "u5lLanwq6rHM",
        "colab_type": "code",
        "colab": {
          "base_uri": "https://localhost:8080/",
          "height": 170
        },
        "outputId": "ef32fbdf-ebf9-49f1-f3c3-fb7ad4b31a37"
      },
      "source": [
        "print(credit_scoring['children'].value_counts())\n",
        "def fix_typo_children(children):\n",
        "    if children == -1:\n",
        "        return 1\n",
        "    elif children == 20:\n",
        "        return 2\n",
        "    else:\n",
        "        return children\n",
        "credit_scoring['children'] = credit_scoring['children'].apply(fix_typo_children)"
      ],
      "execution_count": 6,
      "outputs": [
        {
          "output_type": "stream",
          "text": [
            " 0     14149\n",
            " 1      4818\n",
            " 2      2055\n",
            " 3       330\n",
            " 20       76\n",
            "-1        47\n",
            " 4        41\n",
            " 5         9\n",
            "Name: children, dtype: int64\n"
          ],
          "name": "stdout"
        }
      ]
    },
    {
      "cell_type": "markdown",
      "metadata": {
        "id": "r0i66HOK6rHQ",
        "colab_type": "text"
      },
      "source": [
        "### Processing missing values"
      ]
    },
    {
      "cell_type": "markdown",
      "metadata": {
        "id": "sKlcVLxE6rHR",
        "colab_type": "text"
      },
      "source": [
        "#### There are only 3445 out of 21,525 records with valid working days (non-negative `days_employed`). In addition, the median and mean of the positive values is ~365,000 - i.e 100 years, which points an error this data element.\n",
        "As there is no way currently to fix the data, the column will be dropped."
      ]
    },
    {
      "cell_type": "code",
      "metadata": {
        "id": "54-RLtKR6rHS",
        "colab_type": "code",
        "colab": {
          "base_uri": "https://localhost:8080/",
          "height": 51
        },
        "outputId": "cbd9adfb-147e-484b-e699-e72f2469a25f"
      },
      "source": [
        "print(len(credit_scoring[credit_scoring['days_employed']>0]))\n",
        "print(credit_scoring[credit_scoring['days_employed']>0]['days_employed'].mean())\n",
        "credit_scoring = credit_scoring.drop('days_employed',axis=1)"
      ],
      "execution_count": 7,
      "outputs": [
        {
          "output_type": "stream",
          "text": [
            "3445\n",
            "365004.30991626816\n"
          ],
          "name": "stdout"
        }
      ]
    },
    {
      "cell_type": "markdown",
      "metadata": {
        "id": "h_hD1TYi6rHW",
        "colab_type": "text"
      },
      "source": [
        "<span style=\"color:green\"> You should definitely take a closer look at this column. Since the majority of data has negative values - these are definitely not missing. </span>"
      ]
    },
    {
      "cell_type": "markdown",
      "metadata": {
        "id": "JouzcFnx6rHX",
        "colab_type": "text"
      },
      "source": [
        "<span style=\"color:green\"> Investigate the negative values in days_employed and think about what it can be. Is it a typo? Not days? Definitely not missing values. Also, does your mean value seem real to you? Can you think of real distribution of the days_employed for bank's clients?</span>"
      ]
    },
    {
      "cell_type": "markdown",
      "metadata": {
        "id": "W6Jef9s76rHX",
        "colab_type": "text"
      },
      "source": [
        "<span style=\"color:green\"> I would be grateful if you also explain what you did here. :) Why did you create a new data set? Are you gonna work with it later? </span>"
      ]
    },
    {
      "cell_type": "markdown",
      "metadata": {
        "id": "F3YxBpSa6rHY",
        "colab_type": "text"
      },
      "source": [
        "<span style=\"color:purple\"> In general, droping columns is not a good practice. You never know what you are gonna need </span>"
      ]
    },
    {
      "cell_type": "markdown",
      "metadata": {
        "id": "g5YWHxMa6rHZ",
        "colab_type": "text"
      },
      "source": [
        "#### There are 54 duplicates, all with with missing (NaN) `total_income`. meaning, duplications probably due to total data information dropped during the data processing."
      ]
    },
    {
      "cell_type": "code",
      "metadata": {
        "id": "gsa1JDcj6rHa",
        "colab_type": "code",
        "colab": {
          "base_uri": "https://localhost:8080/",
          "height": 51
        },
        "outputId": "36d61658-4c78-4dec-a282-904a7adbb7d6"
      },
      "source": [
        "duplicates = credit_scoring[credit_scoring.duplicated()]\n",
        "print('Duplicated rows: {}'.format(len(duplicates)))\n",
        "print('Rows missing total_income : {}'.format(len((duplicates[duplicates['total_income'].isna()]))))"
      ],
      "execution_count": 8,
      "outputs": [
        {
          "output_type": "stream",
          "text": [
            "Duplicated rows: 54\n",
            "Rows missing total_income : 54\n"
          ],
          "name": "stdout"
        }
      ]
    },
    {
      "cell_type": "markdown",
      "metadata": {
        "id": "rTNmy3wI6rHf",
        "colab_type": "text"
      },
      "source": [
        "<span style=\"color:green\"> Can you please explain why you think that? </span>"
      ]
    },
    {
      "cell_type": "markdown",
      "metadata": {
        "id": "LHBnLOuk6rHf",
        "colab_type": "text"
      },
      "source": [
        "#### Replace `NaN` values in the column `total_income` by the mean, and convert column to integer."
      ]
    },
    {
      "cell_type": "code",
      "metadata": {
        "id": "yrrP2kaU6rHg",
        "colab_type": "code",
        "colab": {
          "base_uri": "https://localhost:8080/",
          "height": 34
        },
        "outputId": "7b82ef5f-501c-482c-da03-359f9a6a7c68"
      },
      "source": [
        "income_mean = credit_scoring['total_income'].mean()\n",
        "print('Mean income: {:,.0f}'.format(income_mean))\n",
        "credit_scoring['total_income'].fillna(income_mean, inplace=True)\n",
        "credit_scoring['total_income'] = credit_scoring['total_income'].astype('int')"
      ],
      "execution_count": 9,
      "outputs": [
        {
          "output_type": "stream",
          "text": [
            "Mean income: 26,788\n"
          ],
          "name": "stdout"
        }
      ]
    },
    {
      "cell_type": "markdown",
      "metadata": {
        "id": "9M_gPI6C6rHk",
        "colab_type": "text"
      },
      "source": [
        "<span style=\"color:green\"> Agree with mean for income :) </span>"
      ]
    },
    {
      "cell_type": "markdown",
      "metadata": {
        "id": "UI0RVa_p6rHl",
        "colab_type": "text"
      },
      "source": [
        "### Conclusion"
      ]
    },
    {
      "cell_type": "markdown",
      "metadata": {
        "id": "eAAfl0wp6rHm",
        "colab_type": "text"
      },
      "source": [
        "Missing values were found for both `days_employed` and `total_income` columns. The main issue was in `days_employed` which contained a lot of invaild values (negative) - as it seems this column is totaly corrupted and it is recommended that we recollect the information. Meanwhile the column `days_employed` is dropped. For `total_income` it was replaced by the mean."
      ]
    },
    {
      "cell_type": "markdown",
      "metadata": {
        "id": "tJkQhwuN6rHo",
        "colab_type": "text"
      },
      "source": [
        "<span style=\"color:green\"> Unfortunately, in the real life we have to deal with this kind of information almost every day.So we have to work with what's given :)</span>"
      ]
    },
    {
      "cell_type": "markdown",
      "metadata": {
        "id": "McCwE2s26rHo",
        "colab_type": "text"
      },
      "source": [
        "### Data type replacement"
      ]
    },
    {
      "cell_type": "markdown",
      "metadata": {
        "id": "84IbgJCQ6rHp",
        "colab_type": "text"
      },
      "source": [
        "The `total_income` column was modified from float to integer - this will enable more consize storage and faster comptation."
      ]
    },
    {
      "cell_type": "markdown",
      "metadata": {
        "id": "0zWwGgfD6rHq",
        "colab_type": "text"
      },
      "source": [
        "<span style=\"color:green\"> Since you have already done data replacement, here you only needed to leave a note about that :) </span>"
      ]
    },
    {
      "cell_type": "markdown",
      "metadata": {
        "id": "C1DIIon26rHq",
        "colab_type": "text"
      },
      "source": [
        "### Conclusion"
      ]
    },
    {
      "cell_type": "markdown",
      "metadata": {
        "id": "H5KpioGb6rHr",
        "colab_type": "text"
      },
      "source": [
        ""
      ]
    },
    {
      "cell_type": "markdown",
      "metadata": {
        "id": "lCIp-xYa6rHs",
        "colab_type": "text"
      },
      "source": [
        "### Processing duplicates"
      ]
    },
    {
      "cell_type": "markdown",
      "metadata": {
        "id": "f12ivU0r6rHt",
        "colab_type": "text"
      },
      "source": [
        "#### There is duplicate data due to case differences in variable education (ex. secondary education and Secondary Education. Therefore `education` will be converted to lower case. "
      ]
    },
    {
      "cell_type": "code",
      "metadata": {
        "id": "XokrQS2p6rHt",
        "colab_type": "code",
        "colab": {
          "base_uri": "https://localhost:8080/",
          "height": 425
        },
        "outputId": "87ff5a91-6ab2-4b02-ded8-c46d6504109b"
      },
      "source": [
        "print(credit_scoring.groupby('education_id')['education'].value_counts())\n",
        "credit_scoring['education'] = credit_scoring['education'].str.lower()\n",
        "print(credit_scoring.groupby('education_id')['education'].value_counts())"
      ],
      "execution_count": 10,
      "outputs": [
        {
          "output_type": "stream",
          "text": [
            "education_id  education          \n",
            "0             bachelor's degree       4718\n",
            "              BACHELOR'S DEGREE        274\n",
            "              Bachelor's Degree        268\n",
            "1             secondary education    13750\n",
            "              SECONDARY EDUCATION      772\n",
            "              Secondary Education      711\n",
            "2             some college             668\n",
            "              Some College              47\n",
            "              SOME COLLEGE              29\n",
            "3             primary education        250\n",
            "              PRIMARY EDUCATION         17\n",
            "              Primary Education         15\n",
            "4             graduate degree            4\n",
            "              GRADUATE DEGREE            1\n",
            "              Graduate Degree            1\n",
            "Name: education, dtype: int64\n",
            "education_id  education          \n",
            "0             bachelor's degree       5260\n",
            "1             secondary education    15233\n",
            "2             some college             744\n",
            "3             primary education        282\n",
            "4             graduate degree            6\n",
            "Name: education, dtype: int64\n"
          ],
          "name": "stdout"
        }
      ]
    },
    {
      "cell_type": "markdown",
      "metadata": {
        "id": "YcBeaynV6rHx",
        "colab_type": "text"
      },
      "source": [
        "<span style=\"color:green\"> Good methods! But in real life please try to do convertion to one case BEFORE finding duplicates. Convertion can lead to more duplicates, that you won't be able to catch unless you check again </span>"
      ]
    },
    {
      "cell_type": "markdown",
      "metadata": {
        "id": "0HLwgMXP6rHy",
        "colab_type": "text"
      },
      "source": [
        "#### Drop duplicates"
      ]
    },
    {
      "cell_type": "code",
      "metadata": {
        "id": "F8SjXGhu6rHy",
        "colab_type": "code",
        "colab": {}
      },
      "source": [
        "credit_scoring.drop_duplicates(inplace=True)"
      ],
      "execution_count": 11,
      "outputs": []
    },
    {
      "cell_type": "markdown",
      "metadata": {
        "id": "X9_EKG1t6rH3",
        "colab_type": "text"
      },
      "source": [
        "### Conclusion"
      ]
    },
    {
      "cell_type": "markdown",
      "metadata": {
        "id": "8qAYIDv66rH4",
        "colab_type": "text"
      },
      "source": [
        "The reason for duplicated rows is that either `days_employed` or `total_income` are NaN - this caused the redundancy."
      ]
    },
    {
      "cell_type": "markdown",
      "metadata": {
        "id": "KxFsDIJ66rH4",
        "colab_type": "text"
      },
      "source": [
        "### Lemmatization"
      ]
    },
    {
      "cell_type": "code",
      "metadata": {
        "id": "lu9eA3lk6rH5",
        "colab_type": "code",
        "colab": {
          "base_uri": "https://localhost:8080/",
          "height": 697
        },
        "outputId": "274ab227-1622-480f-e56c-b0e5b771f67e"
      },
      "source": [
        "wordnet_lemma = WordNetLemmatizer()\n",
        "\n",
        "def lemmatize_text(text):\n",
        "    words = nltk.word_tokenize(text)\n",
        "    return [wordnet_lemma.lemmatize(w, pos = 'n') for w in words]\n",
        "\n",
        "credit_scoring['purpose_lemmatized'] = credit_scoring['purpose'].apply(lemmatize_text)\n",
        "print(credit_scoring['purpose'].value_counts())\n",
        "print(len(credit_scoring['purpose'].value_counts()))"
      ],
      "execution_count": 22,
      "outputs": [
        {
          "output_type": "stream",
          "text": [
            "wedding ceremony                            791\n",
            "having a wedding                            768\n",
            "to have a wedding                           765\n",
            "real estate transactions                    675\n",
            "buy commercial real estate                  661\n",
            "housing transactions                        652\n",
            "buying property for renting out             651\n",
            "transactions with commercial real estate    650\n",
            "housing                                     646\n",
            "purchase of the house                       646\n",
            "purchase of the house for my family         638\n",
            "construction of own property                635\n",
            "property                                    633\n",
            "transactions with my real estate            627\n",
            "building a real estate                      624\n",
            "buy real estate                             621\n",
            "purchase of my own house                    620\n",
            "building a property                         619\n",
            "housing renovation                          607\n",
            "buy residential real estate                 606\n",
            "buying my own car                           505\n",
            "going to university                         496\n",
            "car                                         494\n",
            "second-hand car purchase                    486\n",
            "to own a car                                478\n",
            "cars                                        478\n",
            "buying a second-hand car                    478\n",
            "to buy a car                                471\n",
            "car purchase                                461\n",
            "supplementary education                     460\n",
            "purchase of a car                           455\n",
            "university education                        452\n",
            "education                                   447\n",
            "to get a supplementary education            446\n",
            "getting an education                        442\n",
            "profile education                           436\n",
            "getting higher education                    426\n",
            "to become educated                          408\n",
            "Name: purpose, dtype: int64\n",
            "38\n"
          ],
          "name": "stdout"
        }
      ]
    },
    {
      "cell_type": "markdown",
      "metadata": {
        "id": "3ZFHNqgj6rH9",
        "colab_type": "text"
      },
      "source": [
        "### Conclusion"
      ]
    },
    {
      "cell_type": "markdown",
      "metadata": {
        "id": "zYNz8beQ6rH9",
        "colab_type": "text"
      },
      "source": [
        "As can be noticed in the distribution above, reasons are repeated in different manners (ex. [to, get, asupplementary, education], [to, become, educated])\n",
        "Lemmatization is required in order to create keywords which are necessary for categorization of the purpose of the loan. The categorization by itself was found as not enough since multiple keywords were raiseed for same reason:\n",
        "For house additional keywords: 'housing','estate' and 'property'\n",
        "For education additional keywords: 'educated' and 'university'"
      ]
    },
    {
      "cell_type": "markdown",
      "metadata": {
        "id": "F_qJT9vV6rH-",
        "colab_type": "text"
      },
      "source": [
        "<span style=\"color:green\"> Please, show the lemmatized column and describe the distribution a little bit. </span>"
      ]
    },
    {
      "cell_type": "markdown",
      "metadata": {
        "id": "WAZnOtmz6rH-",
        "colab_type": "text"
      },
      "source": [
        "### Categorizing Data"
      ]
    },
    {
      "cell_type": "code",
      "metadata": {
        "id": "B1oG7yzF6rH_",
        "colab_type": "code",
        "colab": {
          "base_uri": "https://localhost:8080/",
          "height": 255
        },
        "outputId": "1173bdd9-5606-4204-c947-7107fcb6a02a"
      },
      "source": [
        "def get_reason(tokens):\n",
        "    token_s = set(tokens)\n",
        "    if token_s.intersection({'house','housing','estate','property'}):\n",
        "        return 'house'\n",
        "    elif token_s.intersection({'education', 'educated', 'university'}):\n",
        "        return 'education'\n",
        "    elif token_s.intersection({'car'}):\n",
        "        return 'car'\n",
        "    elif token_s.intersection({'wedding'}):\n",
        "        return 'wedding'\n",
        "    else:\n",
        "        print (tokens)\n",
        "        return error\n",
        "credit_scoring['reason'] = credit_scoring['purpose_lemmatized'].apply(get_reason)\n",
        "print(credit_scoring[['purpose', 'purpose_lemmatized', 'reason']])"
      ],
      "execution_count": 23,
      "outputs": [
        {
          "output_type": "stream",
          "text": [
            "                       purpose          purpose_lemmatized     reason\n",
            "0        purchase of the house  [purchase, of, the, house]      house\n",
            "1                 car purchase             [car, purchase]        car\n",
            "2        purchase of the house  [purchase, of, the, house]      house\n",
            "3      supplementary education  [supplementary, education]  education\n",
            "4            to have a wedding      [to, have, a, wedding]    wedding\n",
            "...                        ...                         ...        ...\n",
            "21520     housing transactions      [housing, transaction]      house\n",
            "21521        purchase of a car      [purchase, of, a, car]        car\n",
            "21522                 property                  [property]      house\n",
            "21523        buying my own car      [buying, my, own, car]        car\n",
            "21524             to buy a car           [to, buy, a, car]        car\n",
            "\n",
            "[21454 rows x 3 columns]\n"
          ],
          "name": "stdout"
        }
      ]
    },
    {
      "cell_type": "code",
      "metadata": {
        "id": "518tZG4E6rIC",
        "colab_type": "code",
        "colab": {
          "base_uri": "https://localhost:8080/",
          "height": 255
        },
        "outputId": "8d50fd88-4ce8-4289-b600-2f575d9621a4"
      },
      "source": [
        "pd.options.display.float_format = '{:,.0f}'.format\n",
        "print(credit_scoring['total_income'].describe())\n",
        "def income_level(income):\n",
        "    if income < 107655:\n",
        "        return 'Low(<107K)'\n",
        "    elif income < 156106:\n",
        "        return 'Mid(107K-156K)'\n",
        "    elif income < 195752:\n",
        "        return 'High(157K-195K)'\n",
        "    else:\n",
        "        return 'Highest(>195K)'\n",
        "\n",
        "credit_scoring['income_level'] = credit_scoring['total_income'].apply(income_level)\n",
        "print(credit_scoring['income_level'].value_counts())"
      ],
      "execution_count": 24,
      "outputs": [
        {
          "output_type": "stream",
          "text": [
            "count    21,454\n",
            "mean     26,787\n",
            "std      15,647\n",
            "min       3,306\n",
            "25%      17,220\n",
            "50%      24,966\n",
            "75%      31,330\n",
            "max     362,496\n",
            "Name: total_income, dtype: float64\n",
            "Low(<107K)         21380\n",
            "Mid(107K-156K)        48\n",
            "High(157K-195K)       14\n",
            "Highest(>195K)        12\n",
            "Name: income_level, dtype: int64\n"
          ],
          "name": "stdout"
        }
      ]
    },
    {
      "cell_type": "markdown",
      "metadata": {
        "id": "G4_xLJ4Y6rIG",
        "colab_type": "text"
      },
      "source": [
        "Create 3 groups Young (<30), Mid (30-50), Old (>50)"
      ]
    },
    {
      "cell_type": "code",
      "metadata": {
        "id": "SOisGEor6rIG",
        "colab_type": "code",
        "colab": {
          "base_uri": "https://localhost:8080/",
          "height": 85
        },
        "outputId": "cb99a4c4-b606-426b-e83a-2920e2bee88d"
      },
      "source": [
        "def age_group(age):\n",
        "    if age < 30:\n",
        "        return 'Young(<30)'\n",
        "    elif age <= 50:\n",
        "        return 'Mid(30-50)'\n",
        "    else:\n",
        "        return 'Old(>50)'\n",
        "\n",
        "credit_scoring['age_group'] = credit_scoring['dob_years'].apply(age_group)\n",
        "print(credit_scoring['age_group'].value_counts())"
      ],
      "execution_count": 25,
      "outputs": [
        {
          "output_type": "stream",
          "text": [
            "Mid(30-50)    11630\n",
            "Old(>50)       6644\n",
            "Young(<30)     3180\n",
            "Name: age_group, dtype: int64\n"
          ],
          "name": "stdout"
        }
      ]
    },
    {
      "cell_type": "markdown",
      "metadata": {
        "id": "TGHK7clG6rIK",
        "colab_type": "text"
      },
      "source": [
        "### Conclusion"
      ]
    },
    {
      "cell_type": "markdown",
      "metadata": {
        "id": "Zd4l3rTG6rIK",
        "colab_type": "text"
      },
      "source": [
        "A new category `reason` was created based on the `purpose` column and its lemmatization. We had to apply a function in order to handle the multiple synonims detected in the lemmatization process (see above in lemmatization section). Thanks to this grouping, the number of groups was reduced from 37 (after lemmatization) to just 4 (house, education, car, wedding).\n",
        "\n",
        "A new category `income_level` was created based on the `total_income` columns - this will enable looking for correlation between income level and repaying loan on time. The category includes 4 equaly sized groups: Low, Mid, Hig, Highest.\n",
        "\n",
        "A new category `age_group` was created based on the `dob_years` column - it contains 3 groups, and has can be noticed the 'Mid(30-50) contains most of the data."
      ]
    },
    {
      "cell_type": "markdown",
      "metadata": {
        "id": "K-X7a1HK6rIL",
        "colab_type": "text"
      },
      "source": [
        "<span style=\"color:green\"> Cool categorization! Please take a deeper look into groups and describe them a little :) </span>"
      ]
    },
    {
      "cell_type": "markdown",
      "metadata": {
        "id": "H0HhH-LE6rIL",
        "colab_type": "text"
      },
      "source": [
        "### Step 3. Answer these questions"
      ]
    },
    {
      "cell_type": "markdown",
      "metadata": {
        "id": "Wwf41ZfE6rIM",
        "colab_type": "text"
      },
      "source": [
        "- Is there a relation between having kids and repaying a loan on time?"
      ]
    },
    {
      "cell_type": "code",
      "metadata": {
        "id": "1seiKnr-6rIO",
        "colab_type": "code",
        "colab": {
          "base_uri": "https://localhost:8080/",
          "height": 153
        },
        "outputId": "b769366a-f996-4597-d902-1d6c861a0223"
      },
      "source": [
        "data_pivot = credit_scoring.pivot_table(index=['children'], columns='debt', values='education', aggfunc='count')\n",
        "data_pivot.fillna(0, inplace=True)\n",
        "data_pivot['%Return'] = 100*data_pivot[0] / (data_pivot[0] + data_pivot[1])\n",
        "print(data_pivot.sort_values(by='%Return', ascending=False))"
      ],
      "execution_count": 26,
      "outputs": [
        {
          "output_type": "stream",
          "text": [
            "debt          0     1  %Return\n",
            "children                      \n",
            "5             9     0      100\n",
            "0        13,028 1,063       92\n",
            "3           303    27       92\n",
            "1         4,410   445       91\n",
            "2         1,926   202       91\n",
            "4            37     4       90\n"
          ],
          "name": "stdout"
        }
      ]
    },
    {
      "cell_type": "markdown",
      "metadata": {
        "id": "9-U1miPm6rIT",
        "colab_type": "text"
      },
      "source": [
        "### Conclusion"
      ]
    },
    {
      "cell_type": "markdown",
      "metadata": {
        "id": "t8uff0g66rIU",
        "colab_type": "text"
      },
      "source": [
        "People with no or 3 children tend more to repay loan on time. However the difference is marginal (~1%)"
      ]
    },
    {
      "cell_type": "markdown",
      "metadata": {
        "id": "XjPb3OXy6rIV",
        "colab_type": "text"
      },
      "source": [
        "<span style=\"color:green\"> What about people with 3 children?:) But yeah, I agree with your methods) </span>"
      ]
    },
    {
      "cell_type": "markdown",
      "metadata": {
        "id": "ZdNcSiZK6rIV",
        "colab_type": "text"
      },
      "source": [
        "- Is there a relation between marital status and repaying a loan on time?"
      ]
    },
    {
      "cell_type": "code",
      "metadata": {
        "id": "nMLP2E5Q6rIW",
        "colab_type": "code",
        "colab": {
          "base_uri": "https://localhost:8080/",
          "height": 136
        },
        "outputId": "74a89e49-a19a-4298-9c27-e45781a13959"
      },
      "source": [
        "data_pivot = credit_scoring.pivot_table(index=['family_status'], columns='debt', values='reason', aggfunc='count')\n",
        "data_pivot['%Return'] = 100*data_pivot[0] / (data_pivot[0] + data_pivot[1])\n",
        "print(data_pivot.sort_values(by='%Return', ascending=False))"
      ],
      "execution_count": 27,
      "outputs": [
        {
          "output_type": "stream",
          "text": [
            "debt                   0    1  %Return\n",
            "family_status                         \n",
            "widow / widower      896   63       93\n",
            "divorced            1110   85       93\n",
            "married            11408  931       92\n",
            "civil partnership   3763  388       91\n",
            "unmarried           2536  274       90\n"
          ],
          "name": "stdout"
        }
      ]
    },
    {
      "cell_type": "markdown",
      "metadata": {
        "id": "l9kd9DYA6rIb",
        "colab_type": "text"
      },
      "source": [
        "### Conclusion"
      ]
    },
    {
      "cell_type": "markdown",
      "metadata": {
        "id": "i6nmr1Fy6rIc",
        "colab_type": "text"
      },
      "source": [
        "Married people tend more to repay loan on time. However the difference is less than 2%"
      ]
    },
    {
      "cell_type": "markdown",
      "metadata": {
        "id": "fcjv6hLI6rIc",
        "colab_type": "text"
      },
      "source": [
        "- Is there a relation between income level and repaying a loan on time?"
      ]
    },
    {
      "cell_type": "code",
      "metadata": {
        "id": "QZJjsk3F6rId",
        "colab_type": "code",
        "colab": {
          "base_uri": "https://localhost:8080/",
          "height": 119
        },
        "outputId": "2e76a22d-ef98-4b69-b3de-dba4b6c4f9b4"
      },
      "source": [
        "data_pivot = credit_scoring.pivot_table(index=['income_level'], columns='debt', values='education', aggfunc='count')\n",
        "data_pivot.fillna(0, inplace=True)\n",
        "data_pivot['%Return'] = 100*data_pivot[0] / (data_pivot[0] + data_pivot[1])\n",
        "print(data_pivot.sort_values(by='%Return', ascending=False))"
      ],
      "execution_count": 28,
      "outputs": [
        {
          "output_type": "stream",
          "text": [
            "debt                 0     1  %Return\n",
            "income_level                         \n",
            "Mid(107K-156K)      45     3       94\n",
            "High(157K-195K)     13     1       93\n",
            "Low(<107K)       19644  1736       92\n",
            "Highest(>195K)      11     1       92\n"
          ],
          "name": "stdout"
        }
      ]
    },
    {
      "cell_type": "markdown",
      "metadata": {
        "id": "r9r411YY6rIg",
        "colab_type": "text"
      },
      "source": [
        "### Conclusion"
      ]
    },
    {
      "cell_type": "markdown",
      "metadata": {
        "id": "jquxwace6rIg",
        "colab_type": "text"
      },
      "source": [
        "people with the highest (25%) income tend more to repay loan on time. However the difference is less than 2%"
      ]
    },
    {
      "cell_type": "markdown",
      "metadata": {
        "id": "Qbi9Zr5r6rIh",
        "colab_type": "text"
      },
      "source": [
        "- How do different loan purposes affect on-time repayment of the loan?"
      ]
    },
    {
      "cell_type": "code",
      "metadata": {
        "id": "RokfX6TR6rIi",
        "colab_type": "code",
        "colab": {
          "base_uri": "https://localhost:8080/",
          "height": 119
        },
        "outputId": "258b2f19-c790-47b5-bf5e-1d29cc9a60dd"
      },
      "source": [
        "data_pivot = credit_scoring.pivot_table(index=['reason'], columns='debt', values='education', aggfunc='count')\n",
        "data_pivot.fillna(0, inplace=True)\n",
        "data_pivot['%Return'] = 100*data_pivot[0] / (data_pivot[0] + data_pivot[1])\n",
        "print(data_pivot.sort_values(by='%Return', ascending=False))"
      ],
      "execution_count": 29,
      "outputs": [
        {
          "output_type": "stream",
          "text": [
            "debt           0    1  %Return\n",
            "reason                        \n",
            "house      10029  782       93\n",
            "wedding     2138  186       92\n",
            "education   3643  370       91\n",
            "car         3903  403       91\n"
          ],
          "name": "stdout"
        }
      ]
    },
    {
      "cell_type": "markdown",
      "metadata": {
        "id": "5Xmfv5Zu6rIl",
        "colab_type": "text"
      },
      "source": [
        "### Conclusion"
      ]
    },
    {
      "cell_type": "markdown",
      "metadata": {
        "id": "0eyMMb2X6rIm",
        "colab_type": "text"
      },
      "source": [
        "people taking loan for buying a house tend more to repay loan on time. However the difference is quite small."
      ]
    },
    {
      "cell_type": "markdown",
      "metadata": {
        "id": "h0-t2Ea46rIn",
        "colab_type": "text"
      },
      "source": [
        "## Pivot tables for additional columns  we also generated:"
      ]
    },
    {
      "cell_type": "code",
      "metadata": {
        "id": "85KKKuHu6rIo",
        "colab_type": "code",
        "colab": {
          "base_uri": "https://localhost:8080/",
          "height": 187
        },
        "outputId": "e3025f4c-163d-4784-fb75-e21981e92bfa"
      },
      "source": [
        "data_pivot = credit_scoring.pivot_table(index=['income_type'], columns='debt', values='education', aggfunc='count')\n",
        "data_pivot.fillna(0, inplace=True)\n",
        "data_pivot['%Return'] = 100*data_pivot[0] / (data_pivot[0] + data_pivot[1])\n",
        "print(data_pivot.sort_values(by='%Return', ascending=False))"
      ],
      "execution_count": 30,
      "outputs": [
        {
          "output_type": "stream",
          "text": [
            "debt                             0     1  %Return\n",
            "income_type                                      \n",
            "entrepreneur                     2     0      100\n",
            "student                          1     0      100\n",
            "retiree                      3,613   216       94\n",
            "civil servant                1,371    86       94\n",
            "business                     4,702   376       93\n",
            "employee                    10,023 1,061       90\n",
            "unemployed                       1     1       50\n",
            "paternity / maternity leave      0     1        0\n"
          ],
          "name": "stdout"
        }
      ]
    },
    {
      "cell_type": "code",
      "metadata": {
        "id": "Nj3Vunv76rIr",
        "colab_type": "code",
        "colab": {
          "base_uri": "https://localhost:8080/",
          "height": 85
        },
        "outputId": "3304f024-eb52-4c54-c24b-f3e492836c42"
      },
      "source": [
        "data_pivot = credit_scoring.pivot_table(index=['gender'], columns='debt', values='education', aggfunc='count')\n",
        "data_pivot.fillna(0, inplace=True)\n",
        "data_pivot['%Return'] = 100*data_pivot[0] / (data_pivot[0] + data_pivot[1])\n",
        "print(data_pivot.sort_values(by='%Return', ascending=False))"
      ],
      "execution_count": 31,
      "outputs": [
        {
          "output_type": "stream",
          "text": [
            "debt        0    1  %Return\n",
            "gender                     \n",
            "F       13181  994       93\n",
            "M        6532  747       90\n"
          ],
          "name": "stdout"
        }
      ]
    },
    {
      "cell_type": "code",
      "metadata": {
        "id": "DkAzicmy6rIv",
        "colab_type": "code",
        "colab": {
          "base_uri": "https://localhost:8080/",
          "height": 102
        },
        "outputId": "322bc466-db77-4a4d-b780-c55c0e8f863a"
      },
      "source": [
        "data_pivot = credit_scoring.pivot_table(index=['age_group'], columns='debt', values='education', aggfunc='count')\n",
        "data_pivot.fillna(0, inplace=True)\n",
        "data_pivot['%Return'] = 100*data_pivot[0] / (data_pivot[0] + data_pivot[1])\n",
        "print(data_pivot.sort_values(by='%Return', ascending=False))"
      ],
      "execution_count": 32,
      "outputs": [
        {
          "output_type": "stream",
          "text": [
            "debt            0     1  %Return\n",
            "age_group                       \n",
            "Old(>50)     6263   381       94\n",
            "Mid(30-50)  10619  1011       91\n",
            "Young(<30)   2831   349       89\n"
          ],
          "name": "stdout"
        }
      ]
    },
    {
      "cell_type": "code",
      "metadata": {
        "id": "k5yfYjwz6rI0",
        "colab_type": "code",
        "colab": {
          "base_uri": "https://localhost:8080/",
          "height": 136
        },
        "outputId": "0a90aff2-5b13-422c-ce18-361f84c695b2"
      },
      "source": [
        "data_pivot = credit_scoring.pivot_table(index=['education'], columns='debt', values='reason', aggfunc='count')\n",
        "data_pivot.fillna(0, inplace=True)\n",
        "data_pivot['%Return'] = 100*data_pivot[0] / (data_pivot[0] + data_pivot[1])\n",
        "print(data_pivot.sort_values(by='%Return', ascending=False))"
      ],
      "execution_count": 33,
      "outputs": [
        {
          "output_type": "stream",
          "text": [
            "debt                     0     1  %Return\n",
            "education                                \n",
            "graduate degree          6     0      100\n",
            "bachelor's degree    4,972   278       95\n",
            "secondary education 13,808 1,364       91\n",
            "some college           676    68       91\n",
            "primary education      251    31       89\n"
          ],
          "name": "stdout"
        }
      ]
    },
    {
      "cell_type": "markdown",
      "metadata": {
        "id": "z4wqdmph6rI3",
        "colab_type": "text"
      },
      "source": [
        "### Step 4. General conclusion"
      ]
    },
    {
      "cell_type": "markdown",
      "metadata": {
        "id": "b36RKXIs6rI4",
        "colab_type": "text"
      },
      "source": [
        "#### Main point notice - the whole purpose of the data is to predict return of loan. However the data contain only 1741 (8%) of total of people who DID NOT return loan. It is highly recommended to provide additional records of people who did not returned loan.\n",
        "The rest of the data consisted of the following:\n",
        "1. Family status - did not showed as generating impact on loan return\n",
        "2. numer of children - no real impact on result\n",
        "3. income level - there was missing data - recommended to retrieve it. was devided into 4 income groups - no real impact\n",
        "4. reason of loan - was converted into new catregory with 4 groups\n",
        "6. income type - no real impact\n",
        "7. gender - it could be noticed female more reliable in returning loan.\n",
        "8. education - the higher the education, higher chance to return loan\n",
        "9. employment duration - information completely corrupted.\n",
        "\n",
        "It is difficult to draw sharp conclusion as the differences are quite small. We should consider collecting additional parameters such as loan size, duration, area/region and crminal record."
      ]
    },
    {
      "cell_type": "markdown",
      "metadata": {
        "id": "dp5R7nFG6rI5",
        "colab_type": "text"
      },
      "source": [
        "<span style=\"color:green\">Your general conlusion should be more about data in general. Please describe your data, your main points of your research and what you've found. Also, what bank should do to build a good loaning strategy based on your research? </span>"
      ]
    },
    {
      "cell_type": "markdown",
      "metadata": {
        "id": "h5ym9Vwm6rI5",
        "colab_type": "text"
      },
      "source": [
        "### Project Readiness Checklist\n",
        "\n",
        "Put 'x' in the completed points. Then press Shift + Enter."
      ]
    },
    {
      "cell_type": "markdown",
      "metadata": {
        "id": "xlFP0V766rI6",
        "colab_type": "text"
      },
      "source": [
        "- [x]  file open;\n",
        "- [x]  file examined;\n",
        "- [x]  missing values defined;\n",
        "- [x]  missing values are filled;\n",
        "- [x]  an explanation of which missing value types were detected;\n",
        "- [x]  explanation for the possible causes of missing values;\n",
        "- [x]  an explanation of how the blanks are filled;\n",
        "- [x]  replaced the real data type with an integer;\n",
        "- [x]  an explanation of which method is used to change the data type and why;\n",
        "- [x]  duplicates deleted;\n",
        "- [x]  an explanation of which method is used to find and remove duplicates;\n",
        "- [x]  description of the possible reasons for the appearance of duplicates in the data;\n",
        "- [x]  highlighted lemmas in the values of the loan purpose column;\n",
        "- [x]  the lemmatization process is described;\n",
        "- [x]  data is categorized;\n",
        "- [x]  an explanation of the principle of data categorization;\n",
        "- [x]  an answer to the question \"Is there a relation between having kids and repaying a loan on time?\";\n",
        "- [x]  an answer to the question \" Is there a relation between marital status and repaying a loan on time?\";\n",
        "- [x]   an answer to the question \" Is there a relation between income level and repaying a loan on time?\";\n",
        "- [x]  an answer to the question \" How do different loan purposes affect on-time repayment of the loan?\"\n",
        "- [x]  conclusions are present on each stage;\n",
        "- [x]  a general conclusion is made."
      ]
    }
  ]
}