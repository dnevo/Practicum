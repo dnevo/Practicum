{
  "nbformat": 4,
  "nbformat_minor": 0,
  "metadata": {
    "kernelspec": {
      "display_name": "Python 3",
      "language": "python",
      "name": "python3"
    },
    "language_info": {
      "codemirror_mode": {
        "name": "ipython",
        "version": 3
      },
      "file_extension": ".py",
      "mimetype": "text/x-python",
      "name": "python",
      "nbconvert_exporter": "python",
      "pygments_lexer": "ipython3",
      "version": "3.7.4"
    },
    "colab": {
      "name": "S10 Integrated Project 2 – gold concentration in mining process.ipynb",
      "provenance": [],
      "include_colab_link": true
    }
  },
  "cells": [
    {
      "cell_type": "markdown",
      "metadata": {
        "id": "view-in-github",
        "colab_type": "text"
      },
      "source": [
        "<a href=\"https://colab.research.google.com/github/dnevo/Practicum/blob/master/S10_Integrated_Project_2_%E2%80%93_gold_concentration_in_mining_process.ipynb\" target=\"_parent\"><img src=\"https://colab.research.google.com/assets/colab-badge.svg\" alt=\"Open In Colab\"/></a>"
      ]
    },
    {
      "cell_type": "markdown",
      "metadata": {
        "id": "LIKlaXlE-5h_",
        "colab_type": "text"
      },
      "source": [
        "## Review (2)\n",
        "\n",
        "Great update. Everything is correct now. So I'm accepting your project. Good luck with future learning.\n",
        "\n",
        "---"
      ]
    },
    {
      "cell_type": "markdown",
      "metadata": {
        "id": "441iv8XY-5iB",
        "colab_type": "text"
      },
      "source": [
        "## Review\n",
        "\n",
        "Hi Doron. This is Soslan. As always I've added all my comments to new cells with different coloring.\n",
        "\n",
        "<div class=\"alert alert-success\" role=\"alert\">\n",
        "  If you did something great I'm using green color for my comment\n",
        "</div>\n",
        "\n",
        "<div class=\"alert alert-warning\" role=\"alert\">\n",
        "If I want to give you advice or think that something can be improved, then I'll use yellow. This is an optional recommendation.\n",
        "</div>\n",
        "\n",
        "<div class=\"alert alert-danger\" role=\"alert\">\n",
        "  If the topic requires some extra work so I can accept it then the color will be red\n",
        "</div>\n",
        "\n",
        "Although you did a nice project I can't accept it by the first iteration. I really like your code, charts, formatting. But you have to use cross-validation during training of your models. Can you please fix this so I can accept your project. Thanks.\n",
        "\n",
        "---"
      ]
    },
    {
      "cell_type": "markdown",
      "metadata": {
        "id": "qXvhayKDA98l",
        "colab_type": "text"
      },
      "source": [
        ""
      ]
    },
    {
      "cell_type": "code",
      "metadata": {
        "id": "t1LyfrmT-5iI",
        "colab_type": "code",
        "colab": {}
      },
      "source": [
        "import warnings\n",
        "warnings.simplefilter(action='ignore', category=FutureWarning)\n",
        "import numpy as np\n",
        "import pandas as pd\n",
        "import matplotlib.pyplot as plt \n",
        "%matplotlib inline \n",
        "import seaborn as sns\n",
        "from sklearn.metrics import mean_absolute_error\n",
        "from sklearn.model_selection import train_test_split\n",
        "from sklearn.linear_model import LinearRegression\n",
        "from sklearn.ensemble import RandomForestRegressor\n",
        "from sklearn.tree import DecisionTreeRegressor\n",
        "from sklearn.model_selection import cross_val_score\n",
        "from sklearn.model_selection import cross_validate\n",
        "from sklearn.model_selection import KFold  #added by reviewer\n",
        "\n",
        "pd.set_option('display.max_rows', 50)\n",
        "pd.set_option('display.width', 200)\n",
        "pd.set_option('display.max_columns', None)\n",
        "pd.options.display.float_format = '{:11,.2f}'.format"
      ],
      "execution_count": 1,
      "outputs": []
    },
    {
      "cell_type": "markdown",
      "metadata": {
        "id": "pcFKFU2L-5iM",
        "colab_type": "text"
      },
      "source": [
        "# 1. Data Preparation\n",
        "## 1.1 Open the files"
      ]
    },
    {
      "cell_type": "code",
      "metadata": {
        "id": "WbCUArdH-5iN",
        "colab_type": "code",
        "colab": {}
      },
      "source": [
        "train_data = pd.read_csv('https://raw.githubusercontent.com/dnevo/Practicum/master/datasets/gold_recovery_train.csv', index_col='date')\n",
        "test_data = pd.read_csv('https://raw.githubusercontent.com/dnevo/Practicum/master/datasets/gold_recovery_test.csv', index_col='date')"
      ],
      "execution_count": 2,
      "outputs": []
    },
    {
      "cell_type": "code",
      "metadata": {
        "id": "IsU8tXcN-5iT",
        "colab_type": "code",
        "colab": {
          "base_uri": "https://localhost:8080/",
          "height": 1000
        },
        "outputId": "0a738ff8-3b8b-49b9-f4c9-d22ca6d0c883"
      },
      "source": [
        "train_data.info()"
      ],
      "execution_count": 3,
      "outputs": [
        {
          "output_type": "stream",
          "text": [
            "<class 'pandas.core.frame.DataFrame'>\n",
            "Index: 16860 entries, 2016-01-15 00:00:00 to 2018-08-18 10:59:59\n",
            "Data columns (total 86 columns):\n",
            " #   Column                                              Non-Null Count  Dtype  \n",
            "---  ------                                              --------------  -----  \n",
            " 0   final.output.concentrate_ag                         16788 non-null  float64\n",
            " 1   final.output.concentrate_pb                         16788 non-null  float64\n",
            " 2   final.output.concentrate_sol                        16490 non-null  float64\n",
            " 3   final.output.concentrate_au                         16789 non-null  float64\n",
            " 4   final.output.recovery                               15339 non-null  float64\n",
            " 5   final.output.tail_ag                                16794 non-null  float64\n",
            " 6   final.output.tail_pb                                16677 non-null  float64\n",
            " 7   final.output.tail_sol                               16715 non-null  float64\n",
            " 8   final.output.tail_au                                16794 non-null  float64\n",
            " 9   primary_cleaner.input.sulfate                       15553 non-null  float64\n",
            " 10  primary_cleaner.input.depressant                    15598 non-null  float64\n",
            " 11  primary_cleaner.input.feed_size                     16860 non-null  float64\n",
            " 12  primary_cleaner.input.xanthate                      15875 non-null  float64\n",
            " 13  primary_cleaner.output.concentrate_ag               16778 non-null  float64\n",
            " 14  primary_cleaner.output.concentrate_pb               16502 non-null  float64\n",
            " 15  primary_cleaner.output.concentrate_sol              16224 non-null  float64\n",
            " 16  primary_cleaner.output.concentrate_au               16778 non-null  float64\n",
            " 17  primary_cleaner.output.tail_ag                      16777 non-null  float64\n",
            " 18  primary_cleaner.output.tail_pb                      16761 non-null  float64\n",
            " 19  primary_cleaner.output.tail_sol                     16579 non-null  float64\n",
            " 20  primary_cleaner.output.tail_au                      16777 non-null  float64\n",
            " 21  primary_cleaner.state.floatbank8_a_air              16820 non-null  float64\n",
            " 22  primary_cleaner.state.floatbank8_a_level            16827 non-null  float64\n",
            " 23  primary_cleaner.state.floatbank8_b_air              16820 non-null  float64\n",
            " 24  primary_cleaner.state.floatbank8_b_level            16833 non-null  float64\n",
            " 25  primary_cleaner.state.floatbank8_c_air              16822 non-null  float64\n",
            " 26  primary_cleaner.state.floatbank8_c_level            16833 non-null  float64\n",
            " 27  primary_cleaner.state.floatbank8_d_air              16821 non-null  float64\n",
            " 28  primary_cleaner.state.floatbank8_d_level            16833 non-null  float64\n",
            " 29  rougher.calculation.sulfate_to_au_concentrate       16833 non-null  float64\n",
            " 30  rougher.calculation.floatbank10_sulfate_to_au_feed  16833 non-null  float64\n",
            " 31  rougher.calculation.floatbank11_sulfate_to_au_feed  16833 non-null  float64\n",
            " 32  rougher.calculation.au_pb_ratio                     15618 non-null  float64\n",
            " 33  rougher.input.feed_ag                               16778 non-null  float64\n",
            " 34  rougher.input.feed_pb                               16632 non-null  float64\n",
            " 35  rougher.input.feed_rate                             16347 non-null  float64\n",
            " 36  rougher.input.feed_size                             16443 non-null  float64\n",
            " 37  rougher.input.feed_sol                              16568 non-null  float64\n",
            " 38  rougher.input.feed_au                               16777 non-null  float64\n",
            " 39  rougher.input.floatbank10_sulfate                   15816 non-null  float64\n",
            " 40  rougher.input.floatbank10_xanthate                  16514 non-null  float64\n",
            " 41  rougher.input.floatbank11_sulfate                   16237 non-null  float64\n",
            " 42  rougher.input.floatbank11_xanthate                  14956 non-null  float64\n",
            " 43  rougher.output.concentrate_ag                       16778 non-null  float64\n",
            " 44  rougher.output.concentrate_pb                       16778 non-null  float64\n",
            " 45  rougher.output.concentrate_sol                      16698 non-null  float64\n",
            " 46  rougher.output.concentrate_au                       16778 non-null  float64\n",
            " 47  rougher.output.recovery                             14287 non-null  float64\n",
            " 48  rougher.output.tail_ag                              14610 non-null  float64\n",
            " 49  rougher.output.tail_pb                              16778 non-null  float64\n",
            " 50  rougher.output.tail_sol                             14611 non-null  float64\n",
            " 51  rougher.output.tail_au                              14611 non-null  float64\n",
            " 52  rougher.state.floatbank10_a_air                     16807 non-null  float64\n",
            " 53  rougher.state.floatbank10_a_level                   16807 non-null  float64\n",
            " 54  rougher.state.floatbank10_b_air                     16807 non-null  float64\n",
            " 55  rougher.state.floatbank10_b_level                   16807 non-null  float64\n",
            " 56  rougher.state.floatbank10_c_air                     16807 non-null  float64\n",
            " 57  rougher.state.floatbank10_c_level                   16814 non-null  float64\n",
            " 58  rougher.state.floatbank10_d_air                     16802 non-null  float64\n",
            " 59  rougher.state.floatbank10_d_level                   16809 non-null  float64\n",
            " 60  rougher.state.floatbank10_e_air                     16257 non-null  float64\n",
            " 61  rougher.state.floatbank10_e_level                   16809 non-null  float64\n",
            " 62  rougher.state.floatbank10_f_air                     16802 non-null  float64\n",
            " 63  rougher.state.floatbank10_f_level                   16802 non-null  float64\n",
            " 64  secondary_cleaner.output.tail_ag                    16776 non-null  float64\n",
            " 65  secondary_cleaner.output.tail_pb                    16764 non-null  float64\n",
            " 66  secondary_cleaner.output.tail_sol                   14874 non-null  float64\n",
            " 67  secondary_cleaner.output.tail_au                    16778 non-null  float64\n",
            " 68  secondary_cleaner.state.floatbank2_a_air            16497 non-null  float64\n",
            " 69  secondary_cleaner.state.floatbank2_a_level          16751 non-null  float64\n",
            " 70  secondary_cleaner.state.floatbank2_b_air            16705 non-null  float64\n",
            " 71  secondary_cleaner.state.floatbank2_b_level          16748 non-null  float64\n",
            " 72  secondary_cleaner.state.floatbank3_a_air            16763 non-null  float64\n",
            " 73  secondary_cleaner.state.floatbank3_a_level          16747 non-null  float64\n",
            " 74  secondary_cleaner.state.floatbank3_b_air            16752 non-null  float64\n",
            " 75  secondary_cleaner.state.floatbank3_b_level          16750 non-null  float64\n",
            " 76  secondary_cleaner.state.floatbank4_a_air            16731 non-null  float64\n",
            " 77  secondary_cleaner.state.floatbank4_a_level          16747 non-null  float64\n",
            " 78  secondary_cleaner.state.floatbank4_b_air            16768 non-null  float64\n",
            " 79  secondary_cleaner.state.floatbank4_b_level          16767 non-null  float64\n",
            " 80  secondary_cleaner.state.floatbank5_a_air            16775 non-null  float64\n",
            " 81  secondary_cleaner.state.floatbank5_a_level          16775 non-null  float64\n",
            " 82  secondary_cleaner.state.floatbank5_b_air            16775 non-null  float64\n",
            " 83  secondary_cleaner.state.floatbank5_b_level          16776 non-null  float64\n",
            " 84  secondary_cleaner.state.floatbank6_a_air            16757 non-null  float64\n",
            " 85  secondary_cleaner.state.floatbank6_a_level          16775 non-null  float64\n",
            "dtypes: float64(86)\n",
            "memory usage: 11.2+ MB\n"
          ],
          "name": "stdout"
        }
      ]
    },
    {
      "cell_type": "markdown",
      "metadata": {
        "id": "Q3vCGFvd-5iY",
        "colab_type": "text"
      },
      "source": [
        "Train data contains 16,680 and 86 columns. All the columns have missing values"
      ]
    },
    {
      "cell_type": "code",
      "metadata": {
        "id": "GI5wIDvd-5iZ",
        "colab_type": "code",
        "colab": {
          "base_uri": "https://localhost:8080/",
          "height": 1000
        },
        "outputId": "3a1b6a8b-6e14-4f37-98dd-301bbb5077bd"
      },
      "source": [
        "test_data.info()"
      ],
      "execution_count": 4,
      "outputs": [
        {
          "output_type": "stream",
          "text": [
            "<class 'pandas.core.frame.DataFrame'>\n",
            "Index: 5856 entries, 2016-09-01 00:59:59 to 2017-12-31 23:59:59\n",
            "Data columns (total 52 columns):\n",
            " #   Column                                      Non-Null Count  Dtype  \n",
            "---  ------                                      --------------  -----  \n",
            " 0   primary_cleaner.input.sulfate               5554 non-null   float64\n",
            " 1   primary_cleaner.input.depressant            5572 non-null   float64\n",
            " 2   primary_cleaner.input.feed_size             5856 non-null   float64\n",
            " 3   primary_cleaner.input.xanthate              5690 non-null   float64\n",
            " 4   primary_cleaner.state.floatbank8_a_air      5840 non-null   float64\n",
            " 5   primary_cleaner.state.floatbank8_a_level    5840 non-null   float64\n",
            " 6   primary_cleaner.state.floatbank8_b_air      5840 non-null   float64\n",
            " 7   primary_cleaner.state.floatbank8_b_level    5840 non-null   float64\n",
            " 8   primary_cleaner.state.floatbank8_c_air      5840 non-null   float64\n",
            " 9   primary_cleaner.state.floatbank8_c_level    5840 non-null   float64\n",
            " 10  primary_cleaner.state.floatbank8_d_air      5840 non-null   float64\n",
            " 11  primary_cleaner.state.floatbank8_d_level    5840 non-null   float64\n",
            " 12  rougher.input.feed_ag                       5840 non-null   float64\n",
            " 13  rougher.input.feed_pb                       5840 non-null   float64\n",
            " 14  rougher.input.feed_rate                     5816 non-null   float64\n",
            " 15  rougher.input.feed_size                     5834 non-null   float64\n",
            " 16  rougher.input.feed_sol                      5789 non-null   float64\n",
            " 17  rougher.input.feed_au                       5840 non-null   float64\n",
            " 18  rougher.input.floatbank10_sulfate           5599 non-null   float64\n",
            " 19  rougher.input.floatbank10_xanthate          5733 non-null   float64\n",
            " 20  rougher.input.floatbank11_sulfate           5801 non-null   float64\n",
            " 21  rougher.input.floatbank11_xanthate          5503 non-null   float64\n",
            " 22  rougher.state.floatbank10_a_air             5839 non-null   float64\n",
            " 23  rougher.state.floatbank10_a_level           5840 non-null   float64\n",
            " 24  rougher.state.floatbank10_b_air             5839 non-null   float64\n",
            " 25  rougher.state.floatbank10_b_level           5840 non-null   float64\n",
            " 26  rougher.state.floatbank10_c_air             5839 non-null   float64\n",
            " 27  rougher.state.floatbank10_c_level           5840 non-null   float64\n",
            " 28  rougher.state.floatbank10_d_air             5839 non-null   float64\n",
            " 29  rougher.state.floatbank10_d_level           5840 non-null   float64\n",
            " 30  rougher.state.floatbank10_e_air             5839 non-null   float64\n",
            " 31  rougher.state.floatbank10_e_level           5840 non-null   float64\n",
            " 32  rougher.state.floatbank10_f_air             5839 non-null   float64\n",
            " 33  rougher.state.floatbank10_f_level           5840 non-null   float64\n",
            " 34  secondary_cleaner.state.floatbank2_a_air    5836 non-null   float64\n",
            " 35  secondary_cleaner.state.floatbank2_a_level  5840 non-null   float64\n",
            " 36  secondary_cleaner.state.floatbank2_b_air    5833 non-null   float64\n",
            " 37  secondary_cleaner.state.floatbank2_b_level  5840 non-null   float64\n",
            " 38  secondary_cleaner.state.floatbank3_a_air    5822 non-null   float64\n",
            " 39  secondary_cleaner.state.floatbank3_a_level  5840 non-null   float64\n",
            " 40  secondary_cleaner.state.floatbank3_b_air    5840 non-null   float64\n",
            " 41  secondary_cleaner.state.floatbank3_b_level  5840 non-null   float64\n",
            " 42  secondary_cleaner.state.floatbank4_a_air    5840 non-null   float64\n",
            " 43  secondary_cleaner.state.floatbank4_a_level  5840 non-null   float64\n",
            " 44  secondary_cleaner.state.floatbank4_b_air    5840 non-null   float64\n",
            " 45  secondary_cleaner.state.floatbank4_b_level  5840 non-null   float64\n",
            " 46  secondary_cleaner.state.floatbank5_a_air    5840 non-null   float64\n",
            " 47  secondary_cleaner.state.floatbank5_a_level  5840 non-null   float64\n",
            " 48  secondary_cleaner.state.floatbank5_b_air    5840 non-null   float64\n",
            " 49  secondary_cleaner.state.floatbank5_b_level  5840 non-null   float64\n",
            " 50  secondary_cleaner.state.floatbank6_a_air    5840 non-null   float64\n",
            " 51  secondary_cleaner.state.floatbank6_a_level  5840 non-null   float64\n",
            "dtypes: float64(52)\n",
            "memory usage: 2.4+ MB\n"
          ],
          "name": "stdout"
        }
      ]
    },
    {
      "cell_type": "markdown",
      "metadata": {
        "id": "R5OQLhmK-5ie",
        "colab_type": "text"
      },
      "source": [
        "Test data contains 5,856 rows and 52 columns. All the columns have missing values. \n",
        "<br>The data does not include the 2 Recovery columns.\n",
        "\n",
        "Therefore we will retrieve these 2 columns from the Full data csv, and add to the Test dataframe:"
      ]
    },
    {
      "cell_type": "code",
      "metadata": {
        "id": "GmnGyrtF-5if",
        "colab_type": "code",
        "colab": {}
      },
      "source": [
        "full_data = pd.read_csv('https://raw.githubusercontent.com/dnevo/Practicum/master/datasets/gold_recovery_full.zip', header=0,\n",
        "                        usecols=['date', 'rougher.output.recovery','final.output.recovery'], index_col='date')"
      ],
      "execution_count": 5,
      "outputs": []
    },
    {
      "cell_type": "code",
      "metadata": {
        "id": "siMZfWDo-5il",
        "colab_type": "code",
        "colab": {
          "base_uri": "https://localhost:8080/",
          "height": 170
        },
        "outputId": "7bd92c65-6314-471c-fc98-caefb032b7e6"
      },
      "source": [
        "full_data.info()"
      ],
      "execution_count": 6,
      "outputs": [
        {
          "output_type": "stream",
          "text": [
            "<class 'pandas.core.frame.DataFrame'>\n",
            "Index: 22716 entries, 2016-01-15 00:00:00 to 2018-08-18 10:59:59\n",
            "Data columns (total 2 columns):\n",
            " #   Column                   Non-Null Count  Dtype  \n",
            "---  ------                   --------------  -----  \n",
            " 0   final.output.recovery    20753 non-null  float64\n",
            " 1   rougher.output.recovery  19597 non-null  float64\n",
            "dtypes: float64(2)\n",
            "memory usage: 532.4+ KB\n"
          ],
          "name": "stdout"
        }
      ]
    },
    {
      "cell_type": "code",
      "metadata": {
        "id": "zQ7tLD8H-5ip",
        "colab_type": "code",
        "colab": {}
      },
      "source": [
        "test_data = test_data.join(full_data)"
      ],
      "execution_count": 7,
      "outputs": []
    },
    {
      "cell_type": "markdown",
      "metadata": {
        "id": "tw7PWHCB-5it",
        "colab_type": "text"
      },
      "source": [
        "<div class=\"alert alert-success\" role=\"alert\">\n",
        "Good start\n",
        "</div>"
      ]
    },
    {
      "cell_type": "markdown",
      "metadata": {
        "id": "JaU4N9aX-5iu",
        "colab_type": "text"
      },
      "source": [
        "## 1.2 Validate that recovery is calculates correctly\n",
        "\n",
        "$Recovery=\\frac{C×(F-T)}{F×(C-T)}100$\n",
        "Concentrate, Feed, Tail"
      ]
    },
    {
      "cell_type": "code",
      "metadata": {
        "id": "AqOgiGRz-5iv",
        "colab_type": "code",
        "colab": {
          "base_uri": "https://localhost:8080/",
          "height": 51
        },
        "outputId": "80ad85aa-730f-4842-e841-01c93ad52dae"
      },
      "source": [
        "def calc_recovery(C, F, T):\n",
        "  return 100 * (C * (F-T)) / (F * (C-T))\n",
        "\n",
        "recovery = train_data[[\n",
        "                       'rougher.input.feed_au',\n",
        "                       'rougher.output.concentrate_au',\n",
        "                       'primary_cleaner.output.concentrate_au',\n",
        "                       'final.output.concentrate_au',\n",
        "                       'rougher.output.tail_au',\n",
        "                       'primary_cleaner.output.tail_au',\n",
        "                       'secondary_cleaner.output.tail_au',\n",
        "                       'final.output.tail_au',\n",
        "                       'rougher.output.recovery',\n",
        "                       'final.output.recovery']].dropna(axis=0)\n",
        "final_recovery = calc_recovery(\n",
        "    recovery['final.output.concentrate_au'], recovery['rougher.input.feed_au'], recovery['final.output.tail_au'])\n",
        "print('Predicted Final Recovery MAE: {:.15f}'.format(mean_absolute_error(recovery['final.output.recovery'], final_recovery)))\n",
        "rougher_recovery = calc_recovery(\n",
        "    recovery['rougher.output.concentrate_au'], recovery['rougher.input.feed_au'], recovery['rougher.output.tail_au'])\n",
        "print('Predicted Rougher Recovery MAE: {:.15f}'.format(mean_absolute_error(recovery['rougher.output.recovery'], rougher_recovery)))"
      ],
      "execution_count": 8,
      "outputs": [
        {
          "output_type": "stream",
          "text": [
            "Predicted Final Recovery MAE: 0.000000000000009\n",
            "Predicted Rougher Recovery MAE: 0.000000000000011\n"
          ],
          "name": "stdout"
        }
      ]
    },
    {
      "cell_type": "markdown",
      "metadata": {
        "id": "DqEEZivM-5iz",
        "colab_type": "text"
      },
      "source": [
        "<div class=\"alert alert-success\" role=\"alert\">\n",
        "Looks correct</div>"
      ]
    },
    {
      "cell_type": "markdown",
      "metadata": {
        "id": "AI9Llj40-5i0",
        "colab_type": "text"
      },
      "source": [
        "## 1.3 Features not available in the test set"
      ]
    },
    {
      "cell_type": "code",
      "metadata": {
        "id": "PHO-spi8-5i1",
        "colab_type": "code",
        "colab": {
          "base_uri": "https://localhost:8080/",
          "height": 71
        },
        "outputId": "b96c9533-2efe-4949-cdb4-3198dc644fcb"
      },
      "source": [
        "print('Cols in Test:', set(test_data.columns))\n",
        "cols_not_in_test = set(train_data.columns) - set(test_data.columns)\n",
        "print('Cols not in Test:', cols_not_in_test)"
      ],
      "execution_count": 9,
      "outputs": [
        {
          "output_type": "stream",
          "text": [
            "Cols in Test: {'secondary_cleaner.state.floatbank6_a_level', 'secondary_cleaner.state.floatbank2_a_air', 'rougher.input.feed_sol', 'secondary_cleaner.state.floatbank4_a_air', 'rougher.input.floatbank11_xanthate', 'rougher.input.floatbank10_xanthate', 'primary_cleaner.input.feed_size', 'primary_cleaner.state.floatbank8_a_air', 'primary_cleaner.state.floatbank8_a_level', 'primary_cleaner.input.depressant', 'secondary_cleaner.state.floatbank4_b_level', 'secondary_cleaner.state.floatbank3_a_air', 'rougher.input.feed_size', 'final.output.recovery', 'rougher.state.floatbank10_f_air', 'secondary_cleaner.state.floatbank4_b_air', 'rougher.state.floatbank10_e_air', 'rougher.state.floatbank10_c_air', 'primary_cleaner.state.floatbank8_b_air', 'secondary_cleaner.state.floatbank2_a_level', 'secondary_cleaner.state.floatbank5_a_air', 'secondary_cleaner.state.floatbank5_b_level', 'rougher.input.floatbank11_sulfate', 'rougher.state.floatbank10_a_air', 'rougher.input.feed_ag', 'rougher.state.floatbank10_b_level', 'secondary_cleaner.state.floatbank2_b_air', 'primary_cleaner.input.xanthate', 'primary_cleaner.state.floatbank8_c_air', 'rougher.state.floatbank10_f_level', 'rougher.state.floatbank10_b_air', 'rougher.state.floatbank10_d_air', 'rougher.input.feed_pb', 'rougher.output.recovery', 'rougher.input.feed_rate', 'rougher.state.floatbank10_e_level', 'rougher.state.floatbank10_a_level', 'rougher.state.floatbank10_c_level', 'rougher.input.feed_au', 'primary_cleaner.state.floatbank8_b_level', 'secondary_cleaner.state.floatbank4_a_level', 'secondary_cleaner.state.floatbank2_b_level', 'rougher.state.floatbank10_d_level', 'primary_cleaner.state.floatbank8_d_air', 'secondary_cleaner.state.floatbank3_a_level', 'primary_cleaner.state.floatbank8_d_level', 'primary_cleaner.input.sulfate', 'secondary_cleaner.state.floatbank5_b_air', 'secondary_cleaner.state.floatbank6_a_air', 'primary_cleaner.state.floatbank8_c_level', 'rougher.input.floatbank10_sulfate', 'secondary_cleaner.state.floatbank3_b_air', 'secondary_cleaner.state.floatbank5_a_level', 'secondary_cleaner.state.floatbank3_b_level'}\n",
            "Cols not in Test: {'final.output.tail_au', 'rougher.output.tail_pb', 'rougher.output.tail_au', 'rougher.output.tail_ag', 'rougher.output.tail_sol', 'rougher.calculation.floatbank10_sulfate_to_au_feed', 'rougher.calculation.au_pb_ratio', 'rougher.output.concentrate_sol', 'final.output.concentrate_pb', 'final.output.tail_pb', 'final.output.tail_sol', 'secondary_cleaner.output.tail_sol', 'secondary_cleaner.output.tail_pb', 'final.output.concentrate_au', 'secondary_cleaner.output.tail_au', 'primary_cleaner.output.tail_au', 'rougher.output.concentrate_pb', 'final.output.concentrate_ag', 'primary_cleaner.output.tail_sol', 'secondary_cleaner.output.tail_ag', 'primary_cleaner.output.tail_ag', 'primary_cleaner.output.concentrate_sol', 'primary_cleaner.output.concentrate_pb', 'rougher.output.concentrate_au', 'rougher.output.concentrate_ag', 'primary_cleaner.output.concentrate_au', 'final.output.tail_ag', 'primary_cleaner.output.tail_pb', 'final.output.concentrate_sol', 'rougher.calculation.floatbank11_sulfate_to_au_feed', 'primary_cleaner.output.concentrate_ag', 'rougher.calculation.sulfate_to_au_concentrate'}\n"
          ],
          "name": "stdout"
        }
      ]
    },
    {
      "cell_type": "markdown",
      "metadata": {
        "id": "EULt-yew-5i5",
        "colab_type": "text"
      },
      "source": [
        "As we see above, Test set includes all the features with `parameter_type` `state` and `input`, and does not include features with `parameter_type` `output` and `calculation`."
      ]
    },
    {
      "cell_type": "code",
      "metadata": {
        "id": "XOWpMwpZ-5i5",
        "colab_type": "code",
        "colab": {
          "base_uri": "https://localhost:8080/",
          "height": 1000
        },
        "outputId": "3a613cc3-eedf-487e-e256-89350a406fab"
      },
      "source": [
        "train_data[cols_not_in_test].describe(include='all').transpose()"
      ],
      "execution_count": 10,
      "outputs": [
        {
          "output_type": "execute_result",
          "data": {
            "text/html": [
              "<div>\n",
              "<style scoped>\n",
              "    .dataframe tbody tr th:only-of-type {\n",
              "        vertical-align: middle;\n",
              "    }\n",
              "\n",
              "    .dataframe tbody tr th {\n",
              "        vertical-align: top;\n",
              "    }\n",
              "\n",
              "    .dataframe thead th {\n",
              "        text-align: right;\n",
              "    }\n",
              "</style>\n",
              "<table border=\"1\" class=\"dataframe\">\n",
              "  <thead>\n",
              "    <tr style=\"text-align: right;\">\n",
              "      <th></th>\n",
              "      <th>count</th>\n",
              "      <th>mean</th>\n",
              "      <th>std</th>\n",
              "      <th>min</th>\n",
              "      <th>25%</th>\n",
              "      <th>50%</th>\n",
              "      <th>75%</th>\n",
              "      <th>max</th>\n",
              "    </tr>\n",
              "  </thead>\n",
              "  <tbody>\n",
              "    <tr>\n",
              "      <th>final.output.tail_au</th>\n",
              "      <td>16,794.00</td>\n",
              "      <td>2.69</td>\n",
              "      <td>1.27</td>\n",
              "      <td>0.00</td>\n",
              "      <td>2.17</td>\n",
              "      <td>2.78</td>\n",
              "      <td>3.42</td>\n",
              "      <td>9.79</td>\n",
              "    </tr>\n",
              "    <tr>\n",
              "      <th>rougher.output.tail_pb</th>\n",
              "      <td>16,778.00</td>\n",
              "      <td>0.60</td>\n",
              "      <td>0.33</td>\n",
              "      <td>0.00</td>\n",
              "      <td>0.41</td>\n",
              "      <td>0.59</td>\n",
              "      <td>0.78</td>\n",
              "      <td>3.78</td>\n",
              "    </tr>\n",
              "    <tr>\n",
              "      <th>rougher.output.tail_au</th>\n",
              "      <td>14,611.00</td>\n",
              "      <td>1.76</td>\n",
              "      <td>0.73</td>\n",
              "      <td>0.02</td>\n",
              "      <td>1.31</td>\n",
              "      <td>1.75</td>\n",
              "      <td>2.19</td>\n",
              "      <td>9.69</td>\n",
              "    </tr>\n",
              "    <tr>\n",
              "      <th>rougher.output.tail_ag</th>\n",
              "      <td>14,610.00</td>\n",
              "      <td>5.57</td>\n",
              "      <td>1.05</td>\n",
              "      <td>0.59</td>\n",
              "      <td>4.92</td>\n",
              "      <td>5.72</td>\n",
              "      <td>6.31</td>\n",
              "      <td>12.72</td>\n",
              "    </tr>\n",
              "    <tr>\n",
              "      <th>rougher.output.tail_sol</th>\n",
              "      <td>14,611.00</td>\n",
              "      <td>17.87</td>\n",
              "      <td>3.46</td>\n",
              "      <td>10.01</td>\n",
              "      <td>15.65</td>\n",
              "      <td>18.00</td>\n",
              "      <td>19.93</td>\n",
              "      <td>66.12</td>\n",
              "    </tr>\n",
              "    <tr>\n",
              "      <th>rougher.calculation.floatbank10_sulfate_to_au_feed</th>\n",
              "      <td>16,833.00</td>\n",
              "      <td>3,784.84</td>\n",
              "      <td>70,887.20</td>\n",
              "      <td>-2,023,458.74</td>\n",
              "      <td>2,502.31</td>\n",
              "      <td>2,854.64</td>\n",
              "      <td>3,644.41</td>\n",
              "      <td>6,211,432.53</td>\n",
              "    </tr>\n",
              "    <tr>\n",
              "      <th>rougher.calculation.au_pb_ratio</th>\n",
              "      <td>15,618.00</td>\n",
              "      <td>2.33</td>\n",
              "      <td>0.90</td>\n",
              "      <td>-0.01</td>\n",
              "      <td>1.98</td>\n",
              "      <td>2.23</td>\n",
              "      <td>2.64</td>\n",
              "      <td>39.38</td>\n",
              "    </tr>\n",
              "    <tr>\n",
              "      <th>rougher.output.concentrate_sol</th>\n",
              "      <td>16,698.00</td>\n",
              "      <td>25.39</td>\n",
              "      <td>10.40</td>\n",
              "      <td>0.00</td>\n",
              "      <td>24.79</td>\n",
              "      <td>28.80</td>\n",
              "      <td>31.54</td>\n",
              "      <td>40.09</td>\n",
              "    </tr>\n",
              "    <tr>\n",
              "      <th>final.output.concentrate_pb</th>\n",
              "      <td>16,788.00</td>\n",
              "      <td>9.11</td>\n",
              "      <td>3.39</td>\n",
              "      <td>0.00</td>\n",
              "      <td>8.83</td>\n",
              "      <td>10.07</td>\n",
              "      <td>11.05</td>\n",
              "      <td>17.03</td>\n",
              "    </tr>\n",
              "    <tr>\n",
              "      <th>final.output.tail_pb</th>\n",
              "      <td>16,677.00</td>\n",
              "      <td>2.36</td>\n",
              "      <td>1.22</td>\n",
              "      <td>0.00</td>\n",
              "      <td>1.64</td>\n",
              "      <td>2.45</td>\n",
              "      <td>3.19</td>\n",
              "      <td>6.09</td>\n",
              "    </tr>\n",
              "    <tr>\n",
              "      <th>final.output.tail_sol</th>\n",
              "      <td>16,715.00</td>\n",
              "      <td>9.30</td>\n",
              "      <td>4.26</td>\n",
              "      <td>0.00</td>\n",
              "      <td>7.87</td>\n",
              "      <td>10.02</td>\n",
              "      <td>11.65</td>\n",
              "      <td>22.32</td>\n",
              "    </tr>\n",
              "    <tr>\n",
              "      <th>secondary_cleaner.output.tail_sol</th>\n",
              "      <td>14,874.00</td>\n",
              "      <td>6.18</td>\n",
              "      <td>4.46</td>\n",
              "      <td>0.00</td>\n",
              "      <td>2.05</td>\n",
              "      <td>6.19</td>\n",
              "      <td>10.25</td>\n",
              "      <td>33.06</td>\n",
              "    </tr>\n",
              "    <tr>\n",
              "      <th>secondary_cleaner.output.tail_pb</th>\n",
              "      <td>16,764.00</td>\n",
              "      <td>5.32</td>\n",
              "      <td>3.19</td>\n",
              "      <td>0.00</td>\n",
              "      <td>3.47</td>\n",
              "      <td>5.16</td>\n",
              "      <td>7.56</td>\n",
              "      <td>17.04</td>\n",
              "    </tr>\n",
              "    <tr>\n",
              "      <th>final.output.concentrate_au</th>\n",
              "      <td>16,789.00</td>\n",
              "      <td>39.47</td>\n",
              "      <td>13.92</td>\n",
              "      <td>0.00</td>\n",
              "      <td>42.06</td>\n",
              "      <td>44.50</td>\n",
              "      <td>45.98</td>\n",
              "      <td>53.61</td>\n",
              "    </tr>\n",
              "    <tr>\n",
              "      <th>secondary_cleaner.output.tail_au</th>\n",
              "      <td>16,778.00</td>\n",
              "      <td>3.94</td>\n",
              "      <td>2.68</td>\n",
              "      <td>0.00</td>\n",
              "      <td>2.82</td>\n",
              "      <td>3.86</td>\n",
              "      <td>4.85</td>\n",
              "      <td>26.81</td>\n",
              "    </tr>\n",
              "    <tr>\n",
              "      <th>primary_cleaner.output.tail_au</th>\n",
              "      <td>16,777.00</td>\n",
              "      <td>3.59</td>\n",
              "      <td>2.03</td>\n",
              "      <td>0.00</td>\n",
              "      <td>2.66</td>\n",
              "      <td>3.40</td>\n",
              "      <td>4.47</td>\n",
              "      <td>18.53</td>\n",
              "    </tr>\n",
              "    <tr>\n",
              "      <th>rougher.output.concentrate_pb</th>\n",
              "      <td>16,778.00</td>\n",
              "      <td>6.88</td>\n",
              "      <td>2.93</td>\n",
              "      <td>0.00</td>\n",
              "      <td>6.35</td>\n",
              "      <td>7.58</td>\n",
              "      <td>8.50</td>\n",
              "      <td>18.39</td>\n",
              "    </tr>\n",
              "    <tr>\n",
              "      <th>final.output.concentrate_ag</th>\n",
              "      <td>16,788.00</td>\n",
              "      <td>4.72</td>\n",
              "      <td>2.10</td>\n",
              "      <td>0.00</td>\n",
              "      <td>3.97</td>\n",
              "      <td>4.87</td>\n",
              "      <td>5.82</td>\n",
              "      <td>16.00</td>\n",
              "    </tr>\n",
              "    <tr>\n",
              "      <th>primary_cleaner.output.tail_sol</th>\n",
              "      <td>16,579.00</td>\n",
              "      <td>6.75</td>\n",
              "      <td>3.00</td>\n",
              "      <td>0.00</td>\n",
              "      <td>5.53</td>\n",
              "      <td>7.38</td>\n",
              "      <td>8.73</td>\n",
              "      <td>20.62</td>\n",
              "    </tr>\n",
              "    <tr>\n",
              "      <th>secondary_cleaner.output.tail_ag</th>\n",
              "      <td>16,776.00</td>\n",
              "      <td>13.01</td>\n",
              "      <td>5.96</td>\n",
              "      <td>0.00</td>\n",
              "      <td>11.37</td>\n",
              "      <td>14.77</td>\n",
              "      <td>17.13</td>\n",
              "      <td>23.26</td>\n",
              "    </tr>\n",
              "    <tr>\n",
              "      <th>primary_cleaner.output.tail_ag</th>\n",
              "      <td>16,777.00</td>\n",
              "      <td>14.92</td>\n",
              "      <td>5.94</td>\n",
              "      <td>0.00</td>\n",
              "      <td>13.28</td>\n",
              "      <td>15.55</td>\n",
              "      <td>18.31</td>\n",
              "      <td>29.46</td>\n",
              "    </tr>\n",
              "    <tr>\n",
              "      <th>primary_cleaner.output.concentrate_sol</th>\n",
              "      <td>16,224.00</td>\n",
              "      <td>9.17</td>\n",
              "      <td>4.90</td>\n",
              "      <td>0.00</td>\n",
              "      <td>6.48</td>\n",
              "      <td>9.30</td>\n",
              "      <td>12.75</td>\n",
              "      <td>22.28</td>\n",
              "    </tr>\n",
              "    <tr>\n",
              "      <th>primary_cleaner.output.concentrate_pb</th>\n",
              "      <td>16,502.00</td>\n",
              "      <td>8.62</td>\n",
              "      <td>3.82</td>\n",
              "      <td>0.00</td>\n",
              "      <td>7.15</td>\n",
              "      <td>9.62</td>\n",
              "      <td>11.13</td>\n",
              "      <td>17.08</td>\n",
              "    </tr>\n",
              "    <tr>\n",
              "      <th>rougher.output.concentrate_au</th>\n",
              "      <td>16,778.00</td>\n",
              "      <td>17.40</td>\n",
              "      <td>6.92</td>\n",
              "      <td>0.00</td>\n",
              "      <td>17.44</td>\n",
              "      <td>19.64</td>\n",
              "      <td>21.22</td>\n",
              "      <td>28.52</td>\n",
              "    </tr>\n",
              "    <tr>\n",
              "      <th>rougher.output.concentrate_ag</th>\n",
              "      <td>16,778.00</td>\n",
              "      <td>10.58</td>\n",
              "      <td>4.45</td>\n",
              "      <td>0.00</td>\n",
              "      <td>9.97</td>\n",
              "      <td>11.46</td>\n",
              "      <td>13.28</td>\n",
              "      <td>24.48</td>\n",
              "    </tr>\n",
              "    <tr>\n",
              "      <th>primary_cleaner.output.concentrate_au</th>\n",
              "      <td>16,778.00</td>\n",
              "      <td>29.16</td>\n",
              "      <td>10.98</td>\n",
              "      <td>0.00</td>\n",
              "      <td>29.63</td>\n",
              "      <td>32.65</td>\n",
              "      <td>35.01</td>\n",
              "      <td>45.93</td>\n",
              "    </tr>\n",
              "    <tr>\n",
              "      <th>final.output.tail_ag</th>\n",
              "      <td>16,794.00</td>\n",
              "      <td>8.76</td>\n",
              "      <td>3.63</td>\n",
              "      <td>0.00</td>\n",
              "      <td>7.61</td>\n",
              "      <td>9.22</td>\n",
              "      <td>10.97</td>\n",
              "      <td>19.55</td>\n",
              "    </tr>\n",
              "    <tr>\n",
              "      <th>primary_cleaner.output.tail_pb</th>\n",
              "      <td>16,761.00</td>\n",
              "      <td>3.17</td>\n",
              "      <td>1.75</td>\n",
              "      <td>0.00</td>\n",
              "      <td>2.16</td>\n",
              "      <td>3.08</td>\n",
              "      <td>4.19</td>\n",
              "      <td>9.63</td>\n",
              "    </tr>\n",
              "    <tr>\n",
              "      <th>final.output.concentrate_sol</th>\n",
              "      <td>16,490.00</td>\n",
              "      <td>8.30</td>\n",
              "      <td>3.83</td>\n",
              "      <td>0.00</td>\n",
              "      <td>6.94</td>\n",
              "      <td>8.56</td>\n",
              "      <td>10.29</td>\n",
              "      <td>18.12</td>\n",
              "    </tr>\n",
              "    <tr>\n",
              "      <th>rougher.calculation.floatbank11_sulfate_to_au_feed</th>\n",
              "      <td>16,833.00</td>\n",
              "      <td>2,017.51</td>\n",
              "      <td>48,369.41</td>\n",
              "      <td>-4,014,501.94</td>\n",
              "      <td>2,498.16</td>\n",
              "      <td>2,815.06</td>\n",
              "      <td>3,511.39</td>\n",
              "      <td>1,537,563.64</td>\n",
              "    </tr>\n",
              "    <tr>\n",
              "      <th>primary_cleaner.output.concentrate_ag</th>\n",
              "      <td>16,778.00</td>\n",
              "      <td>7.42</td>\n",
              "      <td>3.11</td>\n",
              "      <td>0.00</td>\n",
              "      <td>6.61</td>\n",
              "      <td>8.00</td>\n",
              "      <td>9.40</td>\n",
              "      <td>16.08</td>\n",
              "    </tr>\n",
              "    <tr>\n",
              "      <th>rougher.calculation.sulfate_to_au_concentrate</th>\n",
              "      <td>16,833.00</td>\n",
              "      <td>-11,372.02</td>\n",
              "      <td>5,754,320.04</td>\n",
              "      <td>-664,389,125.75</td>\n",
              "      <td>38,988.65</td>\n",
              "      <td>43,167.93</td>\n",
              "      <td>47,811.06</td>\n",
              "      <td>83,324,035.85</td>\n",
              "    </tr>\n",
              "  </tbody>\n",
              "</table>\n",
              "</div>"
            ],
            "text/plain": [
              "                                                         count        mean          std             min         25%         50%         75%           max\n",
              "final.output.tail_au                                 16,794.00        2.69         1.27            0.00        2.17        2.78        3.42          9.79\n",
              "rougher.output.tail_pb                               16,778.00        0.60         0.33            0.00        0.41        0.59        0.78          3.78\n",
              "rougher.output.tail_au                               14,611.00        1.76         0.73            0.02        1.31        1.75        2.19          9.69\n",
              "rougher.output.tail_ag                               14,610.00        5.57         1.05            0.59        4.92        5.72        6.31         12.72\n",
              "rougher.output.tail_sol                              14,611.00       17.87         3.46           10.01       15.65       18.00       19.93         66.12\n",
              "rougher.calculation.floatbank10_sulfate_to_au_feed   16,833.00    3,784.84    70,887.20   -2,023,458.74    2,502.31    2,854.64    3,644.41  6,211,432.53\n",
              "rougher.calculation.au_pb_ratio                      15,618.00        2.33         0.90           -0.01        1.98        2.23        2.64         39.38\n",
              "rougher.output.concentrate_sol                       16,698.00       25.39        10.40            0.00       24.79       28.80       31.54         40.09\n",
              "final.output.concentrate_pb                          16,788.00        9.11         3.39            0.00        8.83       10.07       11.05         17.03\n",
              "final.output.tail_pb                                 16,677.00        2.36         1.22            0.00        1.64        2.45        3.19          6.09\n",
              "final.output.tail_sol                                16,715.00        9.30         4.26            0.00        7.87       10.02       11.65         22.32\n",
              "secondary_cleaner.output.tail_sol                    14,874.00        6.18         4.46            0.00        2.05        6.19       10.25         33.06\n",
              "secondary_cleaner.output.tail_pb                     16,764.00        5.32         3.19            0.00        3.47        5.16        7.56         17.04\n",
              "final.output.concentrate_au                          16,789.00       39.47        13.92            0.00       42.06       44.50       45.98         53.61\n",
              "secondary_cleaner.output.tail_au                     16,778.00        3.94         2.68            0.00        2.82        3.86        4.85         26.81\n",
              "primary_cleaner.output.tail_au                       16,777.00        3.59         2.03            0.00        2.66        3.40        4.47         18.53\n",
              "rougher.output.concentrate_pb                        16,778.00        6.88         2.93            0.00        6.35        7.58        8.50         18.39\n",
              "final.output.concentrate_ag                          16,788.00        4.72         2.10            0.00        3.97        4.87        5.82         16.00\n",
              "primary_cleaner.output.tail_sol                      16,579.00        6.75         3.00            0.00        5.53        7.38        8.73         20.62\n",
              "secondary_cleaner.output.tail_ag                     16,776.00       13.01         5.96            0.00       11.37       14.77       17.13         23.26\n",
              "primary_cleaner.output.tail_ag                       16,777.00       14.92         5.94            0.00       13.28       15.55       18.31         29.46\n",
              "primary_cleaner.output.concentrate_sol               16,224.00        9.17         4.90            0.00        6.48        9.30       12.75         22.28\n",
              "primary_cleaner.output.concentrate_pb                16,502.00        8.62         3.82            0.00        7.15        9.62       11.13         17.08\n",
              "rougher.output.concentrate_au                        16,778.00       17.40         6.92            0.00       17.44       19.64       21.22         28.52\n",
              "rougher.output.concentrate_ag                        16,778.00       10.58         4.45            0.00        9.97       11.46       13.28         24.48\n",
              "primary_cleaner.output.concentrate_au                16,778.00       29.16        10.98            0.00       29.63       32.65       35.01         45.93\n",
              "final.output.tail_ag                                 16,794.00        8.76         3.63            0.00        7.61        9.22       10.97         19.55\n",
              "primary_cleaner.output.tail_pb                       16,761.00        3.17         1.75            0.00        2.16        3.08        4.19          9.63\n",
              "final.output.concentrate_sol                         16,490.00        8.30         3.83            0.00        6.94        8.56       10.29         18.12\n",
              "rougher.calculation.floatbank11_sulfate_to_au_feed   16,833.00    2,017.51    48,369.41   -4,014,501.94    2,498.16    2,815.06    3,511.39  1,537,563.64\n",
              "primary_cleaner.output.concentrate_ag                16,778.00        7.42         3.11            0.00        6.61        8.00        9.40         16.08\n",
              "rougher.calculation.sulfate_to_au_concentrate        16,833.00  -11,372.02 5,754,320.04 -664,389,125.75   38,988.65   43,167.93   47,811.06 83,324,035.85"
            ]
          },
          "metadata": {
            "tags": []
          },
          "execution_count": 10
        }
      ]
    },
    {
      "cell_type": "markdown",
      "metadata": {
        "id": "rHLJjjoL-5i-",
        "colab_type": "text"
      },
      "source": [
        "As above:\n",
        "- features with `parameter_type`=`output` represent percentages (0 - 100)\n",
        "- features with `parameter_type`=`calculation` represents ratios"
      ]
    },
    {
      "cell_type": "markdown",
      "metadata": {
        "id": "YoGxdWnH-5i-",
        "colab_type": "text"
      },
      "source": [
        "## 1.4 Data pre-processing"
      ]
    },
    {
      "cell_type": "code",
      "metadata": {
        "id": "TlJmDDMx-5i_",
        "colab_type": "code",
        "colab": {
          "base_uri": "https://localhost:8080/",
          "height": 419
        },
        "outputId": "a490ce7f-5063-4966-96e2-e2703773b246"
      },
      "source": [
        "train_data.describe().transpose().sort_index()"
      ],
      "execution_count": 11,
      "outputs": [
        {
          "output_type": "execute_result",
          "data": {
            "text/html": [
              "<div>\n",
              "<style scoped>\n",
              "    .dataframe tbody tr th:only-of-type {\n",
              "        vertical-align: middle;\n",
              "    }\n",
              "\n",
              "    .dataframe tbody tr th {\n",
              "        vertical-align: top;\n",
              "    }\n",
              "\n",
              "    .dataframe thead th {\n",
              "        text-align: right;\n",
              "    }\n",
              "</style>\n",
              "<table border=\"1\" class=\"dataframe\">\n",
              "  <thead>\n",
              "    <tr style=\"text-align: right;\">\n",
              "      <th></th>\n",
              "      <th>count</th>\n",
              "      <th>mean</th>\n",
              "      <th>std</th>\n",
              "      <th>min</th>\n",
              "      <th>25%</th>\n",
              "      <th>50%</th>\n",
              "      <th>75%</th>\n",
              "      <th>max</th>\n",
              "    </tr>\n",
              "  </thead>\n",
              "  <tbody>\n",
              "    <tr>\n",
              "      <th>final.output.concentrate_ag</th>\n",
              "      <td>16,788.00</td>\n",
              "      <td>4.72</td>\n",
              "      <td>2.10</td>\n",
              "      <td>0.00</td>\n",
              "      <td>3.97</td>\n",
              "      <td>4.87</td>\n",
              "      <td>5.82</td>\n",
              "      <td>16.00</td>\n",
              "    </tr>\n",
              "    <tr>\n",
              "      <th>final.output.concentrate_au</th>\n",
              "      <td>16,789.00</td>\n",
              "      <td>39.47</td>\n",
              "      <td>13.92</td>\n",
              "      <td>0.00</td>\n",
              "      <td>42.06</td>\n",
              "      <td>44.50</td>\n",
              "      <td>45.98</td>\n",
              "      <td>53.61</td>\n",
              "    </tr>\n",
              "    <tr>\n",
              "      <th>final.output.concentrate_pb</th>\n",
              "      <td>16,788.00</td>\n",
              "      <td>9.11</td>\n",
              "      <td>3.39</td>\n",
              "      <td>0.00</td>\n",
              "      <td>8.83</td>\n",
              "      <td>10.07</td>\n",
              "      <td>11.05</td>\n",
              "      <td>17.03</td>\n",
              "    </tr>\n",
              "    <tr>\n",
              "      <th>final.output.concentrate_sol</th>\n",
              "      <td>16,490.00</td>\n",
              "      <td>8.30</td>\n",
              "      <td>3.83</td>\n",
              "      <td>0.00</td>\n",
              "      <td>6.94</td>\n",
              "      <td>8.56</td>\n",
              "      <td>10.29</td>\n",
              "      <td>18.12</td>\n",
              "    </tr>\n",
              "    <tr>\n",
              "      <th>final.output.recovery</th>\n",
              "      <td>15,339.00</td>\n",
              "      <td>67.21</td>\n",
              "      <td>11.96</td>\n",
              "      <td>0.00</td>\n",
              "      <td>62.63</td>\n",
              "      <td>67.64</td>\n",
              "      <td>72.82</td>\n",
              "      <td>100.00</td>\n",
              "    </tr>\n",
              "    <tr>\n",
              "      <th>...</th>\n",
              "      <td>...</td>\n",
              "      <td>...</td>\n",
              "      <td>...</td>\n",
              "      <td>...</td>\n",
              "      <td>...</td>\n",
              "      <td>...</td>\n",
              "      <td>...</td>\n",
              "      <td>...</td>\n",
              "    </tr>\n",
              "    <tr>\n",
              "      <th>secondary_cleaner.state.floatbank5_a_level</th>\n",
              "      <td>16,775.00</td>\n",
              "      <td>-500.23</td>\n",
              "      <td>76.98</td>\n",
              "      <td>-799.74</td>\n",
              "      <td>-500.53</td>\n",
              "      <td>-499.78</td>\n",
              "      <td>-496.53</td>\n",
              "      <td>-275.07</td>\n",
              "    </tr>\n",
              "    <tr>\n",
              "      <th>secondary_cleaner.state.floatbank5_b_air</th>\n",
              "      <td>16,775.00</td>\n",
              "      <td>12.38</td>\n",
              "      <td>6.22</td>\n",
              "      <td>0.43</td>\n",
              "      <td>8.93</td>\n",
              "      <td>11.09</td>\n",
              "      <td>15.98</td>\n",
              "      <td>39.85</td>\n",
              "    </tr>\n",
              "    <tr>\n",
              "      <th>secondary_cleaner.state.floatbank5_b_level</th>\n",
              "      <td>16,776.00</td>\n",
              "      <td>-498.96</td>\n",
              "      <td>82.15</td>\n",
              "      <td>-800.26</td>\n",
              "      <td>-500.15</td>\n",
              "      <td>-499.93</td>\n",
              "      <td>-498.42</td>\n",
              "      <td>-120.19</td>\n",
              "    </tr>\n",
              "    <tr>\n",
              "      <th>secondary_cleaner.state.floatbank6_a_air</th>\n",
              "      <td>16,757.00</td>\n",
              "      <td>18.43</td>\n",
              "      <td>6.96</td>\n",
              "      <td>0.02</td>\n",
              "      <td>13.98</td>\n",
              "      <td>18.03</td>\n",
              "      <td>24.98</td>\n",
              "      <td>54.88</td>\n",
              "    </tr>\n",
              "    <tr>\n",
              "      <th>secondary_cleaner.state.floatbank6_a_level</th>\n",
              "      <td>16,775.00</td>\n",
              "      <td>-521.80</td>\n",
              "      <td>77.17</td>\n",
              "      <td>-810.47</td>\n",
              "      <td>-501.08</td>\n",
              "      <td>-500.11</td>\n",
              "      <td>-499.57</td>\n",
              "      <td>-39.78</td>\n",
              "    </tr>\n",
              "  </tbody>\n",
              "</table>\n",
              "<p>86 rows × 8 columns</p>\n",
              "</div>"
            ],
            "text/plain": [
              "                                                 count        mean         std         min         25%         50%         75%         max\n",
              "final.output.concentrate_ag                  16,788.00        4.72        2.10        0.00        3.97        4.87        5.82       16.00\n",
              "final.output.concentrate_au                  16,789.00       39.47       13.92        0.00       42.06       44.50       45.98       53.61\n",
              "final.output.concentrate_pb                  16,788.00        9.11        3.39        0.00        8.83       10.07       11.05       17.03\n",
              "final.output.concentrate_sol                 16,490.00        8.30        3.83        0.00        6.94        8.56       10.29       18.12\n",
              "final.output.recovery                        15,339.00       67.21       11.96        0.00       62.63       67.64       72.82      100.00\n",
              "...                                                ...         ...         ...         ...         ...         ...         ...         ...\n",
              "secondary_cleaner.state.floatbank5_a_level   16,775.00     -500.23       76.98     -799.74     -500.53     -499.78     -496.53     -275.07\n",
              "secondary_cleaner.state.floatbank5_b_air     16,775.00       12.38        6.22        0.43        8.93       11.09       15.98       39.85\n",
              "secondary_cleaner.state.floatbank5_b_level   16,776.00     -498.96       82.15     -800.26     -500.15     -499.93     -498.42     -120.19\n",
              "secondary_cleaner.state.floatbank6_a_air     16,757.00       18.43        6.96        0.02       13.98       18.03       24.98       54.88\n",
              "secondary_cleaner.state.floatbank6_a_level   16,775.00     -521.80       77.17     -810.47     -501.08     -500.11     -499.57      -39.78\n",
              "\n",
              "[86 rows x 8 columns]"
            ]
          },
          "metadata": {
            "tags": []
          },
          "execution_count": 11
        }
      ]
    },
    {
      "cell_type": "markdown",
      "metadata": {
        "id": "VGdpZ_4y-5jF",
        "colab_type": "text"
      },
      "source": [
        "### Note: we will handle missing data and anomalies later"
      ]
    },
    {
      "cell_type": "markdown",
      "metadata": {
        "id": "aeRoGq6j-5jG",
        "colab_type": "text"
      },
      "source": [
        "<div class=\"alert alert-danger\" role=\"alert\">\n",
        "    <s>What about missed values? You have a hint in project about how to handle them.</s></div>\n",
        "\n",
        "Data is indexed with the date and time of acquisition (date feature). Parameters that are next to each other in terms of time are often similar.\n",
        "\n",
        "`fillna()` with `method = 'ffill'` can helps. But before it is better to clean rows with missed values in target.\n",
        "\n",
        "---\n",
        "\n",
        "\n",
        "<div class=\"alert alert-success\" role=\"alert\">\n",
        "Fixed</div>"
      ]
    },
    {
      "cell_type": "markdown",
      "metadata": {
        "id": "MD08RPWR-5jH",
        "colab_type": "text"
      },
      "source": [
        "# 2. Data Analysis\n",
        "## 2.1 Concetrations of metals per purification stage"
      ]
    },
    {
      "cell_type": "code",
      "metadata": {
        "id": "64BIGUts-5jI",
        "colab_type": "code",
        "colab": {
          "base_uri": "https://localhost:8080/",
          "height": 849
        },
        "outputId": "0ca9c044-df11-4b44-d64b-352cca99bff1"
      },
      "source": [
        "def kdeplot_concentrate(data, metal):\n",
        "  nbins = 30\n",
        "  plt.figure(figsize=(12, 3))\n",
        "  sns.distplot(data[f'rougher.input.feed_{metal.lower()}'], hist = True, kde=False, bins=nbins, label='Rougher Input',hist_kws={'alpha':0.7})  \n",
        "  sns.distplot(data[f'rougher.output.concentrate_{metal.lower()}'], hist = True, kde=False, bins=nbins, label='Rougher Output',hist_kws={'alpha':0.7})  \n",
        "  sns.distplot(data[f'primary_cleaner.output.concentrate_{metal.lower()}'], hist = True, kde=False, bins=nbins, label='Primary Cleaner',hist_kws={'alpha':0.7})  \n",
        "  sns.distplot(data[f'final.output.concentrate_{metal.lower()}'], hist = True, kde=False, bins=nbins, label='Final',hist_kws={'alpha':0.7})\n",
        "  plt.legend()\n",
        "  plt.xlabel(f'Concetrate {metal} (%)');\n",
        "  plt.ylabel('Count')\n",
        "  plt.show()\n",
        "\n",
        "for metal in ['Au', 'Ag','Pb','Sol']:\n",
        "  kdeplot_concentrate(train_data, metal)"
      ],
      "execution_count": 12,
      "outputs": [
        {
          "output_type": "display_data",
          "data": {
            "image/png": "[encoded data removed]",
            "text/plain": [
              "<Figure size 864x216 with 1 Axes>"
            ]
          },
          "metadata": {
            "tags": [],
            "needs_background": "light"
          }
        },
        {
          "output_type": "display_data",
          "data": {
            "image/png": "[encoded data removed]",
            "text/plain": [
              "<Figure size 864x216 with 1 Axes>"
            ]
          },
          "metadata": {
            "tags": [],
            "needs_background": "light"
          }
        },
        {
          "output_type": "display_data",
          "data": {
            "image/png": "[encoded data removed]",
            "text/plain": [
              "<Figure size 864x216 with 1 Axes>"
            ]
          },
          "metadata": {
            "tags": [],
            "needs_background": "light"
          }
        },
        {
          "output_type": "display_data",
          "data": {
            "image/png": "[encoded data removed]",
            "text/plain": [
              "<Figure size 864x216 with 1 Axes>"
            ]
          },
          "metadata": {
            "tags": [],
            "needs_background": "light"
          }
        }
      ]
    },
    {
      "cell_type": "markdown",
      "metadata": {
        "id": "qbYZFzqO-5jM",
        "colab_type": "text"
      },
      "source": [
        "<div class=\"alert alert-success\" role=\"alert\">\n",
        "Nice charts</div>"
      ]
    },
    {
      "cell_type": "markdown",
      "metadata": {
        "id": "CTwaHb2r-5jN",
        "colab_type": "text"
      },
      "source": [
        "As can be noted above, there are many (>1000) abnormal values which are close to zero."
      ]
    },
    {
      "cell_type": "code",
      "metadata": {
        "id": "bJ123hbD-5jN",
        "colab_type": "code",
        "colab": {
          "base_uri": "https://localhost:8080/",
          "height": 102
        },
        "outputId": "95ed0b47-df35-4976-bf03-4d3101e58fdc"
      },
      "source": [
        "print('Final recovery=0%:', len(train_data[(train_data['final.output.recovery'] == 0)]))\n",
        "print('Final recovery=100%:', len(train_data[(train_data['final.output.recovery'] == 100)]))\n",
        "print('Final recovery=NaN:', len(train_data[(train_data['final.output.recovery'].isna())]))\n",
        "print('Rougher recovery=0%:', len(train_data[(train_data['rougher.output.recovery'] == 0)]))\n",
        "print('Rougher recovery=NaN:', len(train_data[(train_data['rougher.output.recovery'].isna())]))"
      ],
      "execution_count": 13,
      "outputs": [
        {
          "output_type": "stream",
          "text": [
            "Final recovery=0%: 89\n",
            "Final recovery=100%: 473\n",
            "Final recovery=NaN: 1521\n",
            "Rougher recovery=0%: 320\n",
            "Rougher recovery=NaN: 2573\n"
          ],
          "name": "stdout"
        }
      ]
    },
    {
      "cell_type": "markdown",
      "metadata": {
        "id": "J2MD3XZI-5jT",
        "colab_type": "text"
      },
      "source": [
        "As above most anomalies cases (>1500) are when Final / Rougher Recovery are NaN. We should drop them from both train and test sets since it is not a good practice play around with values of the result columns. \n",
        "In addition, it will fix most of the abnormal concetration around zero, as in the plots above."
      ]
    },
    {
      "cell_type": "code",
      "metadata": {
        "id": "tFAIaz78-5jT",
        "colab_type": "code",
        "colab": {}
      },
      "source": [
        "train_data.dropna(subset=['rougher.output.recovery', 'final.output.recovery'], inplace=True)\n",
        "test_data.dropna(subset=['rougher.output.recovery', 'final.output.recovery'], inplace=True)"
      ],
      "execution_count": 14,
      "outputs": []
    },
    {
      "cell_type": "markdown",
      "metadata": {
        "id": "K7kI2LEj-5jY",
        "colab_type": "text"
      },
      "source": [
        "We will drop also the rows the rows with total input concentrations equal to zero, as they are measurement errors"
      ]
    },
    {
      "cell_type": "code",
      "metadata": {
        "id": "LZPclNsH-5jY",
        "colab_type": "code",
        "colab": {}
      },
      "source": [
        "train_data = train_data[\n",
        "                        train_data['rougher.input.feed_au'] + train_data['rougher.input.feed_ag'] \n",
        "                        + train_data['rougher.input.feed_pb'] + train_data['rougher.input.feed_sol'] > 0]\n",
        "test_data = test_data[\n",
        "                        test_data['rougher.input.feed_au'] + test_data['rougher.input.feed_ag'] \n",
        "                        + test_data['rougher.input.feed_pb'] + test_data['rougher.input.feed_sol'] > 0]"
      ],
      "execution_count": 15,
      "outputs": []
    },
    {
      "cell_type": "markdown",
      "metadata": {
        "id": "Zl2rDoas-5jc",
        "colab_type": "text"
      },
      "source": [
        "We will fill the missing values in both Train and test sets:"
      ]
    },
    {
      "cell_type": "code",
      "metadata": {
        "id": "-_c-Ylq5-5jc",
        "colab_type": "code",
        "colab": {}
      },
      "source": [
        "train_data.fillna(0, inplace=True)\n",
        "test_data.fillna(0, inplace=True)"
      ],
      "execution_count": 16,
      "outputs": []
    },
    {
      "cell_type": "markdown",
      "metadata": {
        "id": "WM8vFoXV-5jg",
        "colab_type": "text"
      },
      "source": [
        "## 2.2 Comparison of feed particle size distribution in training and test sets"
      ]
    },
    {
      "cell_type": "code",
      "metadata": {
        "id": "dCE6jVE1-5jg",
        "colab_type": "code",
        "colab": {
          "base_uri": "https://localhost:8080/",
          "height": 296
        },
        "outputId": "315b00a8-a18b-41d1-b58c-bdddacc10b17"
      },
      "source": [
        "sns.kdeplot(train_data['rougher.input.feed_size'], shade=True, Label='Train')  \n",
        "sns.kdeplot(test_data['rougher.input.feed_size'], shade=True, Label='Test')  \n",
        "plt.xlabel('Feed Size');\n",
        "plt.ylabel('Probability Density')"
      ],
      "execution_count": 17,
      "outputs": [
        {
          "output_type": "execute_result",
          "data": {
            "text/plain": [
              "Text(0, 0.5, 'Probability Density')"
            ]
          },
          "metadata": {
            "tags": []
          },
          "execution_count": 17
        },
        {
          "output_type": "display_data",
          "data": {
            "image/png": "[encoded data removed]",
            "text/plain": [
              "<Figure size 432x288 with 1 Axes>"
            ]
          },
          "metadata": {
            "tags": [],
            "needs_background": "light"
          }
        }
      ]
    },
    {
      "cell_type": "code",
      "metadata": {
        "id": "e9JojumG-5jl",
        "colab_type": "code",
        "colab": {
          "base_uri": "https://localhost:8080/",
          "height": 323
        },
        "outputId": "88163228-fcb9-430b-d777-ac482989e886"
      },
      "source": [
        "print(train_data['rougher.input.feed_size'].describe())\n",
        "print(test_data['rougher.input.feed_size'].describe())"
      ],
      "execution_count": 18,
      "outputs": [
        {
          "output_type": "stream",
          "text": [
            "count     13,976.00\n",
            "mean          59.47\n",
            "std           23.10\n",
            "min            0.00\n",
            "25%           48.79\n",
            "50%           55.18\n",
            "75%           65.79\n",
            "max          484.97\n",
            "Name: rougher.input.feed_size, dtype: float64\n",
            "count      5,269.00\n",
            "mean          55.96\n",
            "std           19.11\n",
            "min            0.00\n",
            "25%           43.91\n",
            "50%           50.86\n",
            "75%           62.46\n",
            "max          392.49\n",
            "Name: rougher.input.feed_size, dtype: float64\n"
          ],
          "name": "stdout"
        }
      ]
    },
    {
      "cell_type": "markdown",
      "metadata": {
        "id": "6JC6vOug-5jp",
        "colab_type": "text"
      },
      "source": [
        "As can be noted above, the distributions are similar."
      ]
    },
    {
      "cell_type": "markdown",
      "metadata": {
        "id": "MLsX_y2m-5jq",
        "colab_type": "text"
      },
      "source": [
        "## 2.3. Total concentrations of all substances per stage"
      ]
    },
    {
      "cell_type": "code",
      "metadata": {
        "id": "KZjInS20-5jq",
        "colab_type": "code",
        "colab": {
          "base_uri": "https://localhost:8080/",
          "height": 279
        },
        "outputId": "67a1bf0b-e23b-48ce-cf71-fc1fec9bb569"
      },
      "source": [
        "train_data['rougher_input_all'] = train_data['rougher.input.feed_au'] + train_data['rougher.input.feed_ag'] + train_data['rougher.input.feed_pb'] + train_data['rougher.input.feed_sol']\n",
        "train_data['rougher_output_all'] = train_data['rougher.output.concentrate_au'] + train_data['rougher.output.concentrate_ag'] + train_data['rougher.output.concentrate_pb'] + train_data['rougher.output.concentrate_sol']\n",
        "train_data['primary_cleaner_output_all'] = train_data['primary_cleaner.output.concentrate_au'] + train_data['primary_cleaner.output.concentrate_ag'] + train_data['primary_cleaner.output.concentrate_pb'] + train_data['primary_cleaner.output.concentrate_sol']\n",
        "train_data['final_output_all'] = train_data['final.output.concentrate_au'] + train_data['final.output.concentrate_ag'] + train_data['final.output.concentrate_pb'] + train_data['final.output.concentrate_sol']\n",
        "\n",
        "sns.kdeplot(train_data['rougher_input_all'], shade=True, Label='Rougher Input')\n",
        "sns.kdeplot(train_data['rougher_output_all'], shade=True, Label='Rougher Output')\n",
        "sns.kdeplot(train_data['primary_cleaner_output_all'], shade=True, Label='Primary Cleaner')\n",
        "sns.kdeplot(train_data['final_output_all'], shade=True, Label='Final')\n",
        "plt.xlabel('Total Concetrate (%)');\n",
        "plt.ylabel('Probability Density')\n",
        "plt.legend()\n",
        "plt.show()"
      ],
      "execution_count": 19,
      "outputs": [
        {
          "output_type": "display_data",
          "data": {
            "image/png": "[encoded data removed]",
            "text/plain": [
              "<Figure size 432x288 with 1 Axes>"
            ]
          },
          "metadata": {
            "tags": [],
            "needs_background": "light"
          }
        }
      ]
    },
    {
      "cell_type": "markdown",
      "metadata": {
        "id": "pFC4-yjS-5ju",
        "colab_type": "text"
      },
      "source": [
        "As can be noted in the plots, we can nicely notice that as we progress in the stages from Rougher input towards Final, the average concentrate increases and the distribution gets denser."
      ]
    },
    {
      "cell_type": "markdown",
      "metadata": {
        "id": "bA78Ba1i-5ju",
        "colab_type": "text"
      },
      "source": [
        "<div class=\"alert alert-warning\" role=\"alert\">\n",
        "By the task description I think you can delete anomalies as probably they are errors of appliances.\n",
        "</div>\n",
        "\n",
        "Do you notice any abnormal values in the total distribution? If you do, is it worth removing such values from both samples? Describe the findings and eliminate anomalies.\n",
        "\n",
        "---"
      ]
    },
    {
      "cell_type": "markdown",
      "metadata": {
        "id": "09lT9kf--5jw",
        "colab_type": "text"
      },
      "source": [
        "# 3. Building the model\n",
        "## 3.1 Preparations"
      ]
    },
    {
      "cell_type": "markdown",
      "metadata": {
        "id": "p61w3JN--5jx",
        "colab_type": "text"
      },
      "source": [
        "### Function to calculate the Final SMAPE\n",
        "Evaluation metric is sMAPE (symmetric Mean Absolute Percentage Error).\n",
        "\n",
        "It is similar to MAE, but is expressed in relative values instead of absolute ones. Why is it symmetrical? It equally takes into account the scale of both the target and the prediction."
      ]
    },
    {
      "cell_type": "code",
      "metadata": {
        "id": "2B_w4fj--5jy",
        "colab_type": "code",
        "colab": {}
      },
      "source": [
        "def smape(Y, Yp):\n",
        "    return 100/len(Yp) * np.sum(2 * np.abs(Yp - Y) / (np.abs(Y) + np.abs(Yp)))\n",
        "\n",
        "def calc_metrics(set_features, set_targets):\n",
        "    set_predictions = model.predict(set_features)\n",
        "    rougher_smape = smape(set_targets.iloc[:,0], set_predictions[:,0])\n",
        "    final_output_smape = smape(set_targets.iloc[:,1], set_predictions[:,1])\n",
        "    final_smape = 0.25*rougher_smape + 0.75*final_output_smape\n",
        "    return final_smape"
      ],
      "execution_count": 20,
      "outputs": []
    },
    {
      "cell_type": "markdown",
      "metadata": {
        "id": "YHXchzcf-5j2",
        "colab_type": "text"
      },
      "source": [
        "<div class=\"alert alert-success\" role=\"alert\">\n",
        "Correct function. I think Jupiter notebook prefers Tab or 4 spaces. That is why some keywords in your functions are red.</div>"
      ]
    },
    {
      "cell_type": "markdown",
      "metadata": {
        "id": "jGRt6Ih9-5j2",
        "colab_type": "text"
      },
      "source": [
        "### Function to plot Validation Curve"
      ]
    },
    {
      "cell_type": "code",
      "metadata": {
        "id": "7_-1fHC5-5j3",
        "colab_type": "code",
        "colab": {}
      },
      "source": [
        "def validation_curve(train_scores, valid_scores, param_range):\n",
        "    plt.figure(figsize=(9, 6))\n",
        "    plt.plot(param_range, train_scores, 'o-', color=\"r\", label=\"Training\")\n",
        "    plt.plot(param_range, valid_scores, 'o-', color=\"b\", label=\"Validation\")\n",
        "    plt.ylabel('Score') \n",
        "    plt.title('Validation Curve')\n",
        "    plt.legend()\n",
        "    plt.grid()\n",
        "    plt.show()"
      ],
      "execution_count": 21,
      "outputs": []
    },
    {
      "cell_type": "markdown",
      "metadata": {
        "id": "O5OVr0u1-5j6",
        "colab_type": "text"
      },
      "source": [
        "### Preparation for Cross-Validation: replace `date` index by integer index - because Kfold assumes integer index:"
      ]
    },
    {
      "cell_type": "code",
      "metadata": {
        "id": "UJUpxRNR-5j7",
        "colab_type": "code",
        "colab": {}
      },
      "source": [
        "train_data.reset_index(drop=True,inplace=True)\n",
        "target = train_data[['rougher.output.recovery','final.output.recovery']]\n",
        "features = train_data[list(test_data.columns)].drop(['rougher.output.recovery','final.output.recovery'], axis=1)"
      ],
      "execution_count": 22,
      "outputs": []
    },
    {
      "cell_type": "markdown",
      "metadata": {
        "id": "S10tPLwn-5j-",
        "colab_type": "text"
      },
      "source": [
        "### Function to calculate averaged SMAPE with Cross Validation"
      ]
    },
    {
      "cell_type": "code",
      "metadata": {
        "id": "6846t-7Y-5j-",
        "colab_type": "code",
        "colab": {}
      },
      "source": [
        "def cross_val_smape(model):\n",
        "    train_scores, valid_scores = [], []\n",
        "    kf = KFold(n_splits=3, random_state=12345)\n",
        "    for train, valid in kf.split(features):\n",
        "        model.fit(features.iloc[train], target.iloc[train])\n",
        "        train_scores.append(calc_metrics(features.iloc[train], target.iloc[train]))\n",
        "        valid_scores.append(calc_metrics(features.iloc[valid], target.iloc[valid]))\n",
        "    return np.mean(train_scores), np.mean(valid_scores)"
      ],
      "execution_count": 23,
      "outputs": []
    },
    {
      "cell_type": "markdown",
      "metadata": {
        "id": "XpzJx2D0-5kC",
        "colab_type": "text"
      },
      "source": [
        "<div class=\"alert alert-warning\" role=\"alert\">\n",
        "You have forgotten to include KFold, did it instead of you to avoid another iteration.</div>"
      ]
    },
    {
      "cell_type": "markdown",
      "metadata": {
        "id": "1p-Wawxq-5kD",
        "colab_type": "text"
      },
      "source": [
        "## 3.2 Model training"
      ]
    },
    {
      "cell_type": "markdown",
      "metadata": {
        "id": "OhI_Dj5W-5kE",
        "colab_type": "text"
      },
      "source": [
        "### Linear Regression Model"
      ]
    },
    {
      "cell_type": "code",
      "metadata": {
        "id": "iWc1FMR5-5kE",
        "colab_type": "code",
        "colab": {
          "base_uri": "https://localhost:8080/",
          "height": 51
        },
        "outputId": "e6314397-36ec-40eb-f178-320dd12fc556"
      },
      "source": [
        "model = LinearRegression() \n",
        "mean_train_score, mean_valid_score = cross_val_smape(model)\n",
        "print('Train Final SMAPE: {:.2f}'.format(mean_train_score))\n",
        "print('Valid Final SMAPE: {:.2f}'.format(mean_valid_score))"
      ],
      "execution_count": 24,
      "outputs": [
        {
          "output_type": "stream",
          "text": [
            "Train Final SMAPE: 8.88\n",
            "Valid Final SMAPE: 15.27\n"
          ],
          "name": "stdout"
        }
      ]
    },
    {
      "cell_type": "code",
      "metadata": {
        "id": "PkTcOYJN-5kI",
        "colab_type": "code",
        "colab": {}
      },
      "source": [
        "### Decision Tree Model"
      ],
      "execution_count": 25,
      "outputs": []
    },
    {
      "cell_type": "code",
      "metadata": {
        "id": "Pj0wdLox-5kL",
        "colab_type": "code",
        "colab": {
          "base_uri": "https://localhost:8080/",
          "height": 390
        },
        "outputId": "9f326fcc-7a89-421a-86f1-6dc897ee0d4a"
      },
      "source": [
        "train_scores = []\n",
        "valid_scores = []\n",
        "param_range = []\n",
        "for depth in range(2,7):\n",
        "    model = DecisionTreeRegressor(random_state=12345, max_depth=depth)\n",
        "    mean_train_score, mean_valid_score = cross_val_smape(model)\n",
        "    train_scores.append(mean_train_score)\n",
        "    valid_scores.append(mean_valid_score)\n",
        "    param_range.append(depth)\n",
        "validation_curve(train_scores, valid_scores, param_range)"
      ],
      "execution_count": 26,
      "outputs": [
        {
          "output_type": "display_data",
          "data": {
            "image/png": "[encoded data removed]",
            "text/plain": [
              "<Figure size 648x432 with 1 Axes>"
            ]
          },
          "metadata": {
            "tags": [],
            "needs_background": "light"
          }
        }
      ]
    },
    {
      "cell_type": "markdown",
      "metadata": {
        "id": "I3KQmvuX-5kO",
        "colab_type": "text"
      },
      "source": [
        "Best value: max_depth = 3"
      ]
    },
    {
      "cell_type": "markdown",
      "metadata": {
        "id": "20JteNKC-5kP",
        "colab_type": "text"
      },
      "source": [
        "<div class=\"alert alert-success\" role=\"alert\">\n",
        "Nice charts</div>"
      ]
    },
    {
      "cell_type": "markdown",
      "metadata": {
        "id": "aqpoGwj4-5kP",
        "colab_type": "text"
      },
      "source": [
        "### Random Forest Model"
      ]
    },
    {
      "cell_type": "code",
      "metadata": {
        "id": "bxlv9aFN-5kQ",
        "colab_type": "code",
        "colab": {
          "base_uri": "https://localhost:8080/",
          "height": 390
        },
        "outputId": "44ef6ed9-adbf-4d53-f21e-ffa89b91b9cc"
      },
      "source": [
        "train_scores = []\n",
        "valid_scores = []\n",
        "param_range = []\n",
        "for depth in range(2,7):\n",
        "    model = RandomForestRegressor(random_state=12345, max_depth=depth)\n",
        "    mean_train_score, mean_valid_score = cross_val_smape(model)\n",
        "    train_scores.append(mean_train_score)\n",
        "    valid_scores.append(mean_valid_score)\n",
        "    param_range.append(depth)\n",
        "validation_curve(train_scores, valid_scores, param_range)"
      ],
      "execution_count": 27,
      "outputs": [
        {
          "output_type": "display_data",
          "data": {
            "image/png": "[encoded data removed]",
            "text/plain": [
              "<Figure size 648x432 with 1 Axes>"
            ]
          },
          "metadata": {
            "tags": [],
            "needs_background": "light"
          }
        }
      ]
    },
    {
      "cell_type": "markdown",
      "metadata": {
        "id": "xqgOnNm_-5kT",
        "colab_type": "text"
      },
      "source": [
        "best value: max_depth = 4. Let's check n_estimators:"
      ]
    },
    {
      "cell_type": "code",
      "metadata": {
        "id": "IJXNPYSJ-5kV",
        "colab_type": "code",
        "colab": {
          "base_uri": "https://localhost:8080/",
          "height": 390
        },
        "outputId": "3a9aa635-a392-4576-9461-a7eac364288c"
      },
      "source": [
        "train_scores = []\n",
        "valid_scores = []\n",
        "param_range = []\n",
        "for n_estim in range(11,17):\n",
        "    model = RandomForestRegressor(random_state=12345, max_depth=4, n_estimators=n_estim) \n",
        "    mean_train_score, mean_valid_score = cross_val_smape(model)\n",
        "    train_scores.append(mean_train_score)\n",
        "    valid_scores.append(mean_valid_score)\n",
        "    param_range.append(n_estim)\n",
        "validation_curve(train_scores, valid_scores, param_range)"
      ],
      "execution_count": 28,
      "outputs": [
        {
          "output_type": "display_data",
          "data": {
            "image/png": "[encoded data removed]",
            "text/plain": [
              "<Figure size 648x432 with 1 Axes>"
            ]
          },
          "metadata": {
            "tags": [],
            "needs_background": "light"
          }
        }
      ]
    },
    {
      "cell_type": "markdown",
      "metadata": {
        "id": "ZMu5pTUY-5kZ",
        "colab_type": "text"
      },
      "source": [
        "Best value: n_estimators = 14"
      ]
    },
    {
      "cell_type": "markdown",
      "metadata": {
        "id": "6K1UGHrl-5ka",
        "colab_type": "text"
      },
      "source": [
        "<div class=\"alert alert-danger\" role=\"alert\">\n",
        "<s>Although you did everything correctly I have to ask you to use cross-validation for hyperparameter search as this is the requirement of the project.</s></div>\n",
        "\n",
        "<div class=\"alert alert-success\" role=\"alert\">\n",
        "Fixed</div>\n",
        "\n",
        "Citation: 3.2. Train different models. Evaluate them using cross-validation. Pick the best model and test it using the test sample. Provide findings.\n",
        "\n",
        "---"
      ]
    },
    {
      "cell_type": "markdown",
      "metadata": {
        "id": "c6_TvJ-L-5kb",
        "colab_type": "text"
      },
      "source": [
        "# Conclusion (and the winner is...)"
      ]
    },
    {
      "cell_type": "markdown",
      "metadata": {
        "id": "ZE07Y51G-5kc",
        "colab_type": "text"
      },
      "source": [
        "The best model in this case is Random Forest. Lets calculate the metrics:"
      ]
    },
    {
      "cell_type": "code",
      "metadata": {
        "id": "2_Zx8yX0-5kc",
        "colab_type": "code",
        "colab": {
          "base_uri": "https://localhost:8080/",
          "height": 34
        },
        "outputId": "a3722ddf-a65c-46cb-9c6b-bfceb170b827"
      },
      "source": [
        "target_test = test_data[['rougher.output.recovery','final.output.recovery']]\n",
        "features_test = test_data.drop(['rougher.output.recovery','final.output.recovery'], axis=1)\n",
        "\n",
        "model = RandomForestRegressor(random_state=12345, max_depth=4, n_estimators=14) \n",
        "model.fit(features, target)\n",
        "print('Test Final SMAPE: {:.2f}'.format(calc_metrics(features_test, target_test)))"
      ],
      "execution_count": 29,
      "outputs": [
        {
          "output_type": "stream",
          "text": [
            "Test Final SMAPE: 9.24\n"
          ],
          "name": "stdout"
        }
      ]
    },
    {
      "cell_type": "markdown",
      "metadata": {
        "id": "QRXHyfS_-5kf",
        "colab_type": "text"
      },
      "source": [
        "<div class=\"alert alert-warning\" role=\"alert\">\n",
        "    <s>You can also try the best Random Forest as Decision Tree tends to overfit easily.</s></div>\n",
        "    \n",
        "  <div class=\"alert alert-success\" role=\"alert\">\n",
        "Final result looks better now.</div>"
      ]
    }
  ]
}