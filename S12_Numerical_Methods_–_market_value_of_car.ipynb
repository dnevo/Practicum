{
  "nbformat": 4,
  "nbformat_minor": 0,
  "metadata": {
    "kernelspec": {
      "display_name": "Python 3",
      "language": "python",
      "name": "python3"
    },
    "language_info": {
      "codemirror_mode": {
        "name": "ipython",
        "version": 3
      },
      "file_extension": ".py",
      "mimetype": "text/x-python",
      "name": "python",
      "nbconvert_exporter": "python",
      "pygments_lexer": "ipython3",
      "version": "3.7.4"
    },
    "colab": {
      "name": "S12 Numerical Methods – market value of car.ipynb",
      "provenance": [],
      "collapsed_sections": [],
      "include_colab_link": true
    }
  },
  "cells": [
    {
      "cell_type": "markdown",
      "metadata": {
        "id": "view-in-github",
        "colab_type": "text"
      },
      "source": [
        "<a href=\"https://colab.research.google.com/github/dnevo/Practicum/blob/master/S12_Numerical_Methods_%E2%80%93_market_value_of_car.ipynb\" target=\"_parent\"><img src=\"https://colab.research.google.com/assets/colab-badge.svg\" alt=\"Open In Colab\"/></a>"
      ]
    },
    {
      "cell_type": "markdown",
      "metadata": {
        "id": "35JM-39AmDqZ",
        "colab_type": "text"
      },
      "source": [
        "## Review\n",
        "\n",
        "Hi, my name is Daria! I'm reviewing your project. \n",
        "\n",
        "You can find my comments under the heading «Review». \n",
        "I’m using __<font color='green'>green</font>__ color if everything is done perfectly. Recommendations and remarks are highlighted in __<font color='blue'>blue</font>__. \n",
        "If the topic requires some extra work, the color will be  __<font color='red'>red</font>__. \n",
        "\n",
        "You did an outstanding job on data processing and models training! Didn't make any mistakes in general data science workflow :) The only thing you need to work on is adding another type of regression model. Waiting for your update!\n"
      ]
    },
    {
      "cell_type": "markdown",
      "metadata": {
        "id": "fii5-GINhu4j",
        "colab_type": "text"
      },
      "source": [
        "Rusty Bargain used car sales service is developing an app to attract new customers. In that app, you can quickly find out the market value of your car. You have access to historical data: technical specifications, trim versions, and prices. You need to build the model to determine the value. \n",
        "\n",
        "Rusty Bargain is interested in:\n",
        "\n",
        "- the quality of the prediction;\n",
        "- the speed of the prediction;\n",
        "- the time required for training"
      ]
    },
    {
      "cell_type": "markdown",
      "metadata": {
        "id": "AB_oaPxahu4m",
        "colab_type": "text"
      },
      "source": [
        "# 1. Data preparation"
      ]
    },
    {
      "cell_type": "code",
      "metadata": {
        "id": "9jN5MH38nOCU",
        "colab_type": "code",
        "colab": {
          "base_uri": "https://localhost:8080/",
          "height": 340
        },
        "outputId": "b2e7778f-c4a4-4050-cd8c-1e9037863de3"
      },
      "source": [
        "colab = True\n",
        "if colab:\n",
        "    data_path = 'https://raw.githubusercontent.com/dnevo/Practicum-NM/master/car_data.zip'\n",
        "    !pip install catboost\n",
        "else:\n",
        "    data_path = '/datasets/car_data.csv'"
      ],
      "execution_count": null,
      "outputs": [
        {
          "output_type": "stream",
          "text": [
            "Requirement already satisfied: catboost in /usr/local/lib/python3.6/dist-packages (0.23.2)\n",
            "Requirement already satisfied: scipy in /usr/local/lib/python3.6/dist-packages (from catboost) (1.4.1)\n",
            "Requirement already satisfied: plotly in /usr/local/lib/python3.6/dist-packages (from catboost) (4.4.1)\n",
            "Requirement already satisfied: numpy>=1.16.0 in /usr/local/lib/python3.6/dist-packages (from catboost) (1.18.5)\n",
            "Requirement already satisfied: pandas>=0.24.0 in /usr/local/lib/python3.6/dist-packages (from catboost) (1.0.5)\n",
            "Requirement already satisfied: matplotlib in /usr/local/lib/python3.6/dist-packages (from catboost) (3.2.2)\n",
            "Requirement already satisfied: six in /usr/local/lib/python3.6/dist-packages (from catboost) (1.12.0)\n",
            "Requirement already satisfied: graphviz in /usr/local/lib/python3.6/dist-packages (from catboost) (0.10.1)\n",
            "Requirement already satisfied: retrying>=1.3.3 in /usr/local/lib/python3.6/dist-packages (from plotly->catboost) (1.3.3)\n",
            "Requirement already satisfied: python-dateutil>=2.6.1 in /usr/local/lib/python3.6/dist-packages (from pandas>=0.24.0->catboost) (2.8.1)\n",
            "Requirement already satisfied: pytz>=2017.2 in /usr/local/lib/python3.6/dist-packages (from pandas>=0.24.0->catboost) (2018.9)\n",
            "Requirement already satisfied: cycler>=0.10 in /usr/local/lib/python3.6/dist-packages (from matplotlib->catboost) (0.10.0)\n",
            "Requirement already satisfied: kiwisolver>=1.0.1 in /usr/local/lib/python3.6/dist-packages (from matplotlib->catboost) (1.2.0)\n",
            "Requirement already satisfied: pyparsing!=2.0.4,!=2.1.2,!=2.1.6,>=2.0.1 in /usr/local/lib/python3.6/dist-packages (from matplotlib->catboost) (2.4.7)\n",
            "Requirement already satisfied: lightgbm in /usr/local/lib/python3.6/dist-packages (2.2.3)\n",
            "Requirement already satisfied: scikit-learn in /usr/local/lib/python3.6/dist-packages (from lightgbm) (0.22.2.post1)\n",
            "Requirement already satisfied: numpy in /usr/local/lib/python3.6/dist-packages (from lightgbm) (1.18.5)\n",
            "Requirement already satisfied: scipy in /usr/local/lib/python3.6/dist-packages (from lightgbm) (1.4.1)\n",
            "Requirement already satisfied: joblib>=0.11 in /usr/local/lib/python3.6/dist-packages (from scikit-learn->lightgbm) (0.15.1)\n"
          ],
          "name": "stdout"
        }
      ]
    },
    {
      "cell_type": "code",
      "metadata": {
        "trusted": false,
        "id": "a4uagPnPhu4o",
        "colab_type": "code",
        "colab": {}
      },
      "source": [
        "import pandas as pd\n",
        "import numpy as np\n",
        "import lightgbm as lgbm\n",
        "from catboost import CatBoostRegressor\n",
        "from sklearn.model_selection import train_test_split\n",
        "from sklearn.ensemble import RandomForestRegressor\n",
        "from sklearn.metrics import mean_squared_error\n",
        "from sklearn.preprocessing import OneHotEncoder\n",
        "pd.set_option('display.max_rows', 50)\n",
        "pd.set_option('display.width', 200)\n",
        "pd.set_option('display.max_columns', None)\n",
        "pd.options.display.float_format = '{:11,.2f}'.format"
      ],
      "execution_count": null,
      "outputs": []
    },
    {
      "cell_type": "code",
      "metadata": {
        "trusted": false,
        "id": "izKfNzr8hu4x",
        "colab_type": "code",
        "colab": {
          "base_uri": "https://localhost:8080/",
          "height": 394
        },
        "outputId": "6f529299-7ab8-407c-9a59-f7edfb4a45a5"
      },
      "source": [
        "data = pd.read_csv(data_path,parse_dates=['DateCrawled', 'DateCreated', 'LastSeen'])\n",
        "data.head()"
      ],
      "execution_count": null,
      "outputs": [
        {
          "output_type": "execute_result",
          "data": {
            "text/html": [
              "<div>\n",
              "<style scoped>\n",
              "    .dataframe tbody tr th:only-of-type {\n",
              "        vertical-align: middle;\n",
              "    }\n",
              "\n",
              "    .dataframe tbody tr th {\n",
              "        vertical-align: top;\n",
              "    }\n",
              "\n",
              "    .dataframe thead th {\n",
              "        text-align: right;\n",
              "    }\n",
              "</style>\n",
              "<table border=\"1\" class=\"dataframe\">\n",
              "  <thead>\n",
              "    <tr style=\"text-align: right;\">\n",
              "      <th></th>\n",
              "      <th>DateCrawled</th>\n",
              "      <th>Price</th>\n",
              "      <th>VehicleType</th>\n",
              "      <th>RegistrationYear</th>\n",
              "      <th>Gearbox</th>\n",
              "      <th>Power</th>\n",
              "      <th>Model</th>\n",
              "      <th>Mileage</th>\n",
              "      <th>RegistrationMonth</th>\n",
              "      <th>FuelType</th>\n",
              "      <th>Brand</th>\n",
              "      <th>NotRepaired</th>\n",
              "      <th>DateCreated</th>\n",
              "      <th>NumberOfPictures</th>\n",
              "      <th>PostalCode</th>\n",
              "      <th>LastSeen</th>\n",
              "    </tr>\n",
              "  </thead>\n",
              "  <tbody>\n",
              "    <tr>\n",
              "      <th>0</th>\n",
              "      <td>2016-03-24 11:52:00</td>\n",
              "      <td>480</td>\n",
              "      <td>NaN</td>\n",
              "      <td>1993</td>\n",
              "      <td>manual</td>\n",
              "      <td>0</td>\n",
              "      <td>golf</td>\n",
              "      <td>150000</td>\n",
              "      <td>0</td>\n",
              "      <td>petrol</td>\n",
              "      <td>volkswagen</td>\n",
              "      <td>NaN</td>\n",
              "      <td>2016-03-24</td>\n",
              "      <td>0</td>\n",
              "      <td>70435</td>\n",
              "      <td>2016-07-04 03:16:00</td>\n",
              "    </tr>\n",
              "    <tr>\n",
              "      <th>1</th>\n",
              "      <td>2016-03-24 10:58:00</td>\n",
              "      <td>18300</td>\n",
              "      <td>coupe</td>\n",
              "      <td>2011</td>\n",
              "      <td>manual</td>\n",
              "      <td>190</td>\n",
              "      <td>NaN</td>\n",
              "      <td>125000</td>\n",
              "      <td>5</td>\n",
              "      <td>gasoline</td>\n",
              "      <td>audi</td>\n",
              "      <td>yes</td>\n",
              "      <td>2016-03-24</td>\n",
              "      <td>0</td>\n",
              "      <td>66954</td>\n",
              "      <td>2016-07-04 01:46:00</td>\n",
              "    </tr>\n",
              "    <tr>\n",
              "      <th>2</th>\n",
              "      <td>2016-03-14 12:52:00</td>\n",
              "      <td>9800</td>\n",
              "      <td>suv</td>\n",
              "      <td>2004</td>\n",
              "      <td>auto</td>\n",
              "      <td>163</td>\n",
              "      <td>grand</td>\n",
              "      <td>125000</td>\n",
              "      <td>8</td>\n",
              "      <td>gasoline</td>\n",
              "      <td>jeep</td>\n",
              "      <td>NaN</td>\n",
              "      <td>2016-03-14</td>\n",
              "      <td>0</td>\n",
              "      <td>90480</td>\n",
              "      <td>2016-05-04 12:47:00</td>\n",
              "    </tr>\n",
              "    <tr>\n",
              "      <th>3</th>\n",
              "      <td>2016-03-17 16:54:00</td>\n",
              "      <td>1500</td>\n",
              "      <td>small</td>\n",
              "      <td>2001</td>\n",
              "      <td>manual</td>\n",
              "      <td>75</td>\n",
              "      <td>golf</td>\n",
              "      <td>150000</td>\n",
              "      <td>6</td>\n",
              "      <td>petrol</td>\n",
              "      <td>volkswagen</td>\n",
              "      <td>no</td>\n",
              "      <td>2016-03-17</td>\n",
              "      <td>0</td>\n",
              "      <td>91074</td>\n",
              "      <td>2016-03-17 17:40:00</td>\n",
              "    </tr>\n",
              "    <tr>\n",
              "      <th>4</th>\n",
              "      <td>2016-03-31 17:25:00</td>\n",
              "      <td>3600</td>\n",
              "      <td>small</td>\n",
              "      <td>2008</td>\n",
              "      <td>manual</td>\n",
              "      <td>69</td>\n",
              "      <td>fabia</td>\n",
              "      <td>90000</td>\n",
              "      <td>7</td>\n",
              "      <td>gasoline</td>\n",
              "      <td>skoda</td>\n",
              "      <td>no</td>\n",
              "      <td>2016-03-31</td>\n",
              "      <td>0</td>\n",
              "      <td>60437</td>\n",
              "      <td>2016-06-04 10:17:00</td>\n",
              "    </tr>\n",
              "  </tbody>\n",
              "</table>\n",
              "</div>"
            ],
            "text/plain": [
              "          DateCrawled  Price VehicleType  RegistrationYear Gearbox  Power  Model  Mileage  RegistrationMonth  FuelType       Brand NotRepaired DateCreated  NumberOfPictures  PostalCode  \\\n",
              "0 2016-03-24 11:52:00    480         NaN              1993  manual      0   golf   150000                  0    petrol  volkswagen         NaN  2016-03-24                 0       70435   \n",
              "1 2016-03-24 10:58:00  18300       coupe              2011  manual    190    NaN   125000                  5  gasoline        audi         yes  2016-03-24                 0       66954   \n",
              "2 2016-03-14 12:52:00   9800         suv              2004    auto    163  grand   125000                  8  gasoline        jeep         NaN  2016-03-14                 0       90480   \n",
              "3 2016-03-17 16:54:00   1500       small              2001  manual     75   golf   150000                  6    petrol  volkswagen          no  2016-03-17                 0       91074   \n",
              "4 2016-03-31 17:25:00   3600       small              2008  manual     69  fabia    90000                  7  gasoline       skoda          no  2016-03-31                 0       60437   \n",
              "\n",
              "             LastSeen  \n",
              "0 2016-07-04 03:16:00  \n",
              "1 2016-07-04 01:46:00  \n",
              "2 2016-05-04 12:47:00  \n",
              "3 2016-03-17 17:40:00  \n",
              "4 2016-06-04 10:17:00  "
            ]
          },
          "metadata": {
            "tags": []
          },
          "execution_count": 25
        }
      ]
    },
    {
      "cell_type": "markdown",
      "metadata": {
        "id": "w6iqZsIYl3-d",
        "colab_type": "text"
      },
      "source": [
        "##<font color='green'>Review\n",
        "    \n",
        "Nice use of ``parse_dates=`` parameter! </font>"
      ]
    },
    {
      "cell_type": "code",
      "metadata": {
        "trusted": false,
        "id": "bkQSwmqbhu49",
        "colab_type": "code",
        "colab": {
          "base_uri": "https://localhost:8080/",
          "height": 574
        },
        "outputId": "c7d0e7c4-bc4d-42a7-dd4e-29668c8665e3"
      },
      "source": [
        "data.describe(include='all')"
      ],
      "execution_count": null,
      "outputs": [
        {
          "output_type": "execute_result",
          "data": {
            "text/html": [
              "<div>\n",
              "<style scoped>\n",
              "    .dataframe tbody tr th:only-of-type {\n",
              "        vertical-align: middle;\n",
              "    }\n",
              "\n",
              "    .dataframe tbody tr th {\n",
              "        vertical-align: top;\n",
              "    }\n",
              "\n",
              "    .dataframe thead th {\n",
              "        text-align: right;\n",
              "    }\n",
              "</style>\n",
              "<table border=\"1\" class=\"dataframe\">\n",
              "  <thead>\n",
              "    <tr style=\"text-align: right;\">\n",
              "      <th></th>\n",
              "      <th>DateCrawled</th>\n",
              "      <th>Price</th>\n",
              "      <th>VehicleType</th>\n",
              "      <th>RegistrationYear</th>\n",
              "      <th>Gearbox</th>\n",
              "      <th>Power</th>\n",
              "      <th>Model</th>\n",
              "      <th>Mileage</th>\n",
              "      <th>RegistrationMonth</th>\n",
              "      <th>FuelType</th>\n",
              "      <th>Brand</th>\n",
              "      <th>NotRepaired</th>\n",
              "      <th>DateCreated</th>\n",
              "      <th>NumberOfPictures</th>\n",
              "      <th>PostalCode</th>\n",
              "      <th>LastSeen</th>\n",
              "    </tr>\n",
              "  </thead>\n",
              "  <tbody>\n",
              "    <tr>\n",
              "      <th>count</th>\n",
              "      <td>354369</td>\n",
              "      <td>354,369.00</td>\n",
              "      <td>316879</td>\n",
              "      <td>354,369.00</td>\n",
              "      <td>334536</td>\n",
              "      <td>354,369.00</td>\n",
              "      <td>334664</td>\n",
              "      <td>354,369.00</td>\n",
              "      <td>354,369.00</td>\n",
              "      <td>321474</td>\n",
              "      <td>354369</td>\n",
              "      <td>283215</td>\n",
              "      <td>354369</td>\n",
              "      <td>354,369.00</td>\n",
              "      <td>354,369.00</td>\n",
              "      <td>354369</td>\n",
              "    </tr>\n",
              "    <tr>\n",
              "      <th>unique</th>\n",
              "      <td>15470</td>\n",
              "      <td>nan</td>\n",
              "      <td>8</td>\n",
              "      <td>nan</td>\n",
              "      <td>2</td>\n",
              "      <td>nan</td>\n",
              "      <td>250</td>\n",
              "      <td>nan</td>\n",
              "      <td>nan</td>\n",
              "      <td>7</td>\n",
              "      <td>40</td>\n",
              "      <td>2</td>\n",
              "      <td>109</td>\n",
              "      <td>nan</td>\n",
              "      <td>nan</td>\n",
              "      <td>18592</td>\n",
              "    </tr>\n",
              "    <tr>\n",
              "      <th>top</th>\n",
              "      <td>2016-05-03 14:25:00</td>\n",
              "      <td>nan</td>\n",
              "      <td>sedan</td>\n",
              "      <td>nan</td>\n",
              "      <td>manual</td>\n",
              "      <td>nan</td>\n",
              "      <td>golf</td>\n",
              "      <td>nan</td>\n",
              "      <td>nan</td>\n",
              "      <td>petrol</td>\n",
              "      <td>volkswagen</td>\n",
              "      <td>no</td>\n",
              "      <td>2016-03-04 00:00:00</td>\n",
              "      <td>nan</td>\n",
              "      <td>nan</td>\n",
              "      <td>2016-07-04 07:16:00</td>\n",
              "    </tr>\n",
              "    <tr>\n",
              "      <th>freq</th>\n",
              "      <td>66</td>\n",
              "      <td>nan</td>\n",
              "      <td>91457</td>\n",
              "      <td>nan</td>\n",
              "      <td>268251</td>\n",
              "      <td>nan</td>\n",
              "      <td>29232</td>\n",
              "      <td>nan</td>\n",
              "      <td>nan</td>\n",
              "      <td>216352</td>\n",
              "      <td>77013</td>\n",
              "      <td>247161</td>\n",
              "      <td>13719</td>\n",
              "      <td>nan</td>\n",
              "      <td>nan</td>\n",
              "      <td>654</td>\n",
              "    </tr>\n",
              "    <tr>\n",
              "      <th>first</th>\n",
              "      <td>2016-01-04 00:06:00</td>\n",
              "      <td>nan</td>\n",
              "      <td>NaN</td>\n",
              "      <td>nan</td>\n",
              "      <td>NaN</td>\n",
              "      <td>nan</td>\n",
              "      <td>NaN</td>\n",
              "      <td>nan</td>\n",
              "      <td>nan</td>\n",
              "      <td>NaN</td>\n",
              "      <td>NaN</td>\n",
              "      <td>NaN</td>\n",
              "      <td>2014-10-03 00:00:00</td>\n",
              "      <td>nan</td>\n",
              "      <td>nan</td>\n",
              "      <td>2016-01-04 00:15:00</td>\n",
              "    </tr>\n",
              "    <tr>\n",
              "      <th>last</th>\n",
              "      <td>2016-12-03 23:59:00</td>\n",
              "      <td>nan</td>\n",
              "      <td>NaN</td>\n",
              "      <td>nan</td>\n",
              "      <td>NaN</td>\n",
              "      <td>nan</td>\n",
              "      <td>NaN</td>\n",
              "      <td>nan</td>\n",
              "      <td>nan</td>\n",
              "      <td>NaN</td>\n",
              "      <td>NaN</td>\n",
              "      <td>NaN</td>\n",
              "      <td>2016-12-03 00:00:00</td>\n",
              "      <td>nan</td>\n",
              "      <td>nan</td>\n",
              "      <td>2016-12-03 23:54:00</td>\n",
              "    </tr>\n",
              "    <tr>\n",
              "      <th>mean</th>\n",
              "      <td>NaN</td>\n",
              "      <td>4,416.66</td>\n",
              "      <td>NaN</td>\n",
              "      <td>2,004.23</td>\n",
              "      <td>NaN</td>\n",
              "      <td>110.09</td>\n",
              "      <td>NaN</td>\n",
              "      <td>128,211.17</td>\n",
              "      <td>5.71</td>\n",
              "      <td>NaN</td>\n",
              "      <td>NaN</td>\n",
              "      <td>NaN</td>\n",
              "      <td>NaN</td>\n",
              "      <td>0.00</td>\n",
              "      <td>50,508.69</td>\n",
              "      <td>NaN</td>\n",
              "    </tr>\n",
              "    <tr>\n",
              "      <th>std</th>\n",
              "      <td>NaN</td>\n",
              "      <td>4,514.16</td>\n",
              "      <td>NaN</td>\n",
              "      <td>90.23</td>\n",
              "      <td>NaN</td>\n",
              "      <td>189.85</td>\n",
              "      <td>NaN</td>\n",
              "      <td>37,905.34</td>\n",
              "      <td>3.73</td>\n",
              "      <td>NaN</td>\n",
              "      <td>NaN</td>\n",
              "      <td>NaN</td>\n",
              "      <td>NaN</td>\n",
              "      <td>0.00</td>\n",
              "      <td>25,783.10</td>\n",
              "      <td>NaN</td>\n",
              "    </tr>\n",
              "    <tr>\n",
              "      <th>min</th>\n",
              "      <td>NaN</td>\n",
              "      <td>0.00</td>\n",
              "      <td>NaN</td>\n",
              "      <td>1,000.00</td>\n",
              "      <td>NaN</td>\n",
              "      <td>0.00</td>\n",
              "      <td>NaN</td>\n",
              "      <td>5,000.00</td>\n",
              "      <td>0.00</td>\n",
              "      <td>NaN</td>\n",
              "      <td>NaN</td>\n",
              "      <td>NaN</td>\n",
              "      <td>NaN</td>\n",
              "      <td>0.00</td>\n",
              "      <td>1,067.00</td>\n",
              "      <td>NaN</td>\n",
              "    </tr>\n",
              "    <tr>\n",
              "      <th>25%</th>\n",
              "      <td>NaN</td>\n",
              "      <td>1,050.00</td>\n",
              "      <td>NaN</td>\n",
              "      <td>1,999.00</td>\n",
              "      <td>NaN</td>\n",
              "      <td>69.00</td>\n",
              "      <td>NaN</td>\n",
              "      <td>125,000.00</td>\n",
              "      <td>3.00</td>\n",
              "      <td>NaN</td>\n",
              "      <td>NaN</td>\n",
              "      <td>NaN</td>\n",
              "      <td>NaN</td>\n",
              "      <td>0.00</td>\n",
              "      <td>30,165.00</td>\n",
              "      <td>NaN</td>\n",
              "    </tr>\n",
              "    <tr>\n",
              "      <th>50%</th>\n",
              "      <td>NaN</td>\n",
              "      <td>2,700.00</td>\n",
              "      <td>NaN</td>\n",
              "      <td>2,003.00</td>\n",
              "      <td>NaN</td>\n",
              "      <td>105.00</td>\n",
              "      <td>NaN</td>\n",
              "      <td>150,000.00</td>\n",
              "      <td>6.00</td>\n",
              "      <td>NaN</td>\n",
              "      <td>NaN</td>\n",
              "      <td>NaN</td>\n",
              "      <td>NaN</td>\n",
              "      <td>0.00</td>\n",
              "      <td>49,413.00</td>\n",
              "      <td>NaN</td>\n",
              "    </tr>\n",
              "    <tr>\n",
              "      <th>75%</th>\n",
              "      <td>NaN</td>\n",
              "      <td>6,400.00</td>\n",
              "      <td>NaN</td>\n",
              "      <td>2,008.00</td>\n",
              "      <td>NaN</td>\n",
              "      <td>143.00</td>\n",
              "      <td>NaN</td>\n",
              "      <td>150,000.00</td>\n",
              "      <td>9.00</td>\n",
              "      <td>NaN</td>\n",
              "      <td>NaN</td>\n",
              "      <td>NaN</td>\n",
              "      <td>NaN</td>\n",
              "      <td>0.00</td>\n",
              "      <td>71,083.00</td>\n",
              "      <td>NaN</td>\n",
              "    </tr>\n",
              "    <tr>\n",
              "      <th>max</th>\n",
              "      <td>NaN</td>\n",
              "      <td>20,000.00</td>\n",
              "      <td>NaN</td>\n",
              "      <td>9,999.00</td>\n",
              "      <td>NaN</td>\n",
              "      <td>20,000.00</td>\n",
              "      <td>NaN</td>\n",
              "      <td>150,000.00</td>\n",
              "      <td>12.00</td>\n",
              "      <td>NaN</td>\n",
              "      <td>NaN</td>\n",
              "      <td>NaN</td>\n",
              "      <td>NaN</td>\n",
              "      <td>0.00</td>\n",
              "      <td>99,998.00</td>\n",
              "      <td>NaN</td>\n",
              "    </tr>\n",
              "  </tbody>\n",
              "</table>\n",
              "</div>"
            ],
            "text/plain": [
              "                DateCrawled       Price VehicleType  RegistrationYear Gearbox       Power   Model     Mileage  RegistrationMonth FuelType       Brand NotRepaired          DateCreated  \\\n",
              "count                354369  354,369.00      316879        354,369.00  334536  354,369.00  334664  354,369.00         354,369.00   321474      354369      283215               354369   \n",
              "unique                15470         nan           8               nan       2         nan     250         nan                nan        7          40           2                  109   \n",
              "top     2016-05-03 14:25:00         nan       sedan               nan  manual         nan    golf         nan                nan   petrol  volkswagen          no  2016-03-04 00:00:00   \n",
              "freq                     66         nan       91457               nan  268251         nan   29232         nan                nan   216352       77013      247161                13719   \n",
              "first   2016-01-04 00:06:00         nan         NaN               nan     NaN         nan     NaN         nan                nan      NaN         NaN         NaN  2014-10-03 00:00:00   \n",
              "last    2016-12-03 23:59:00         nan         NaN               nan     NaN         nan     NaN         nan                nan      NaN         NaN         NaN  2016-12-03 00:00:00   \n",
              "mean                    NaN    4,416.66         NaN          2,004.23     NaN      110.09     NaN  128,211.17               5.71      NaN         NaN         NaN                  NaN   \n",
              "std                     NaN    4,514.16         NaN             90.23     NaN      189.85     NaN   37,905.34               3.73      NaN         NaN         NaN                  NaN   \n",
              "min                     NaN        0.00         NaN          1,000.00     NaN        0.00     NaN    5,000.00               0.00      NaN         NaN         NaN                  NaN   \n",
              "25%                     NaN    1,050.00         NaN          1,999.00     NaN       69.00     NaN  125,000.00               3.00      NaN         NaN         NaN                  NaN   \n",
              "50%                     NaN    2,700.00         NaN          2,003.00     NaN      105.00     NaN  150,000.00               6.00      NaN         NaN         NaN                  NaN   \n",
              "75%                     NaN    6,400.00         NaN          2,008.00     NaN      143.00     NaN  150,000.00               9.00      NaN         NaN         NaN                  NaN   \n",
              "max                     NaN   20,000.00         NaN          9,999.00     NaN   20,000.00     NaN  150,000.00              12.00      NaN         NaN         NaN                  NaN   \n",
              "\n",
              "        NumberOfPictures  PostalCode             LastSeen  \n",
              "count         354,369.00  354,369.00               354369  \n",
              "unique               nan         nan                18592  \n",
              "top                  nan         nan  2016-07-04 07:16:00  \n",
              "freq                 nan         nan                  654  \n",
              "first                nan         nan  2016-01-04 00:15:00  \n",
              "last                 nan         nan  2016-12-03 23:54:00  \n",
              "mean                0.00   50,508.69                  NaN  \n",
              "std                 0.00   25,783.10                  NaN  \n",
              "min                 0.00    1,067.00                  NaN  \n",
              "25%                 0.00   30,165.00                  NaN  \n",
              "50%                 0.00   49,413.00                  NaN  \n",
              "75%                 0.00   71,083.00                  NaN  \n",
              "max                 0.00   99,998.00                  NaN  "
            ]
          },
          "metadata": {
            "tags": []
          },
          "execution_count": 26
        }
      ]
    },
    {
      "cell_type": "code",
      "metadata": {
        "trusted": false,
        "id": "DzERSAqJhu5C",
        "colab_type": "code",
        "colab": {
          "base_uri": "https://localhost:8080/",
          "height": 408
        },
        "outputId": "15572698-8e42-42b2-dd02-0c2e6635a0ce"
      },
      "source": [
        "data.info()"
      ],
      "execution_count": null,
      "outputs": [
        {
          "output_type": "stream",
          "text": [
            "<class 'pandas.core.frame.DataFrame'>\n",
            "RangeIndex: 354369 entries, 0 to 354368\n",
            "Data columns (total 16 columns):\n",
            " #   Column             Non-Null Count   Dtype         \n",
            "---  ------             --------------   -----         \n",
            " 0   DateCrawled        354369 non-null  datetime64[ns]\n",
            " 1   Price              354369 non-null  int64         \n",
            " 2   VehicleType        316879 non-null  object        \n",
            " 3   RegistrationYear   354369 non-null  int64         \n",
            " 4   Gearbox            334536 non-null  object        \n",
            " 5   Power              354369 non-null  int64         \n",
            " 6   Model              334664 non-null  object        \n",
            " 7   Mileage            354369 non-null  int64         \n",
            " 8   RegistrationMonth  354369 non-null  int64         \n",
            " 9   FuelType           321474 non-null  object        \n",
            " 10  Brand              354369 non-null  object        \n",
            " 11  NotRepaired        283215 non-null  object        \n",
            " 12  DateCreated        354369 non-null  datetime64[ns]\n",
            " 13  NumberOfPictures   354369 non-null  int64         \n",
            " 14  PostalCode         354369 non-null  int64         \n",
            " 15  LastSeen           354369 non-null  datetime64[ns]\n",
            "dtypes: datetime64[ns](3), int64(7), object(6)\n",
            "memory usage: 43.3+ MB\n"
          ],
          "name": "stdout"
        }
      ]
    },
    {
      "cell_type": "markdown",
      "metadata": {
        "id": "V2OqDKu0hu5H",
        "colab_type": "text"
      },
      "source": [
        "## As can be seen above:##\n",
        "- total of 354,369 rows\n",
        "- some of the columns / features have missing values\n",
        "- several of the features are categorical nominal: `VehicleType`, `NumberOfPictures`, `PostalCode` , `Gearbox`, `Model`, `FuelType`, `Brand`, `NotRepaired`.\n",
        "- Note that `PostalCode` and `Model` have high cardinality - which may be problematic for tree algorithms...\n",
        "- 3 features (`DateCrawled`, `DateCreated`, `LastSeen`) are datetime which cannot be handle by regression models - therefore we will engineer another feature out of it."
      ]
    },
    {
      "cell_type": "markdown",
      "metadata": {
        "id": "DXwEdNdSllw2",
        "colab_type": "text"
      },
      "source": [
        "##<font color='green'>Review\n",
        "    \n",
        "Good, everything is correct here</font>\n"
      ]
    },
    {
      "cell_type": "markdown",
      "metadata": {
        "id": "SDLJ-Iu6hu5I",
        "colab_type": "text"
      },
      "source": [
        "Drop columns:\n",
        "- `NumberOfPictures` - columns was no filled (always 0 or NaN)\n",
        "- `PostalCode` - this is a Nominal Categorial Feature. There are more than 8000 \n",
        "different codes which makes the features too fragmented and unusefull.\n",
        "- `RegistrationMonth` - no impact on Price (only year)"
      ]
    },
    {
      "cell_type": "markdown",
      "metadata": {
        "id": "1KgKSHZmlcI2",
        "colab_type": "text"
      },
      "source": [
        "##<font color='green'>Review\n",
        "    \n",
        "A reasonable decision :)</font>\n"
      ]
    },
    {
      "cell_type": "code",
      "metadata": {
        "trusted": false,
        "id": "5FlfWyJHhu5I",
        "colab_type": "code",
        "colab": {}
      },
      "source": [
        "data.drop(['NumberOfPictures', 'PostalCode', 'RegistrationMonth'], axis=1, inplace=True)"
      ],
      "execution_count": null,
      "outputs": []
    },
    {
      "cell_type": "markdown",
      "metadata": {
        "id": "woDJ9pZZhu5O",
        "colab_type": "text"
      },
      "source": [
        "Delete rows with Model ='other' or Model=NaN - reason: price is highly correlated to model"
      ]
    },
    {
      "cell_type": "code",
      "metadata": {
        "trusted": false,
        "id": "l0wl8OrThu5P",
        "colab_type": "code",
        "colab": {}
      },
      "source": [
        "data = data.loc[data['Model'] != 'other']\n",
        "data = data.loc[~data['Model'].isna()]"
      ],
      "execution_count": null,
      "outputs": []
    },
    {
      "cell_type": "markdown",
      "metadata": {
        "id": "kZjxR4kAhu5U",
        "colab_type": "text"
      },
      "source": [
        "Delete rows with low frequency (<20) `Model`"
      ]
    },
    {
      "cell_type": "code",
      "metadata": {
        "trusted": false,
        "id": "IcpDj6PZhu5V",
        "colab_type": "code",
        "colab": {}
      },
      "source": [
        "lt_20 =data['Model'].value_counts().gt(19)\n",
        "data = data.loc[data['Model'].isin(lt_20[lt_20].index)]"
      ],
      "execution_count": null,
      "outputs": []
    },
    {
      "cell_type": "markdown",
      "metadata": {
        "id": "JhEdJLZohu5Z",
        "colab_type": "text"
      },
      "source": [
        "delete rows with Price < 10"
      ]
    },
    {
      "cell_type": "code",
      "metadata": {
        "trusted": false,
        "id": "aJaUhpqKhu5a",
        "colab_type": "code",
        "colab": {}
      },
      "source": [
        "data = data.loc[data['Price'] >= 10]"
      ],
      "execution_count": null,
      "outputs": []
    },
    {
      "cell_type": "markdown",
      "metadata": {
        "id": "QrzANP9khu5e",
        "colab_type": "text"
      },
      "source": [
        "Delete outliers in registration year < 1960 (error or antiques) and registration year > 2016 (the data is from 2016...)"
      ]
    },
    {
      "cell_type": "markdown",
      "metadata": {
        "id": "ozHTRz2IlNrn",
        "colab_type": "text"
      },
      "source": [
        "##<font color='green'>Review\n",
        "    \n",
        "Great that you noticed these outliers!</font>\n"
      ]
    },
    {
      "cell_type": "code",
      "metadata": {
        "trusted": false,
        "id": "2x98bbWthu5f",
        "colab_type": "code",
        "colab": {}
      },
      "source": [
        "data = data.loc[data['RegistrationYear'] >= 1960]\n",
        "data = data.loc[data['RegistrationYear'] <= 2016]"
      ],
      "execution_count": null,
      "outputs": []
    },
    {
      "cell_type": "markdown",
      "metadata": {
        "id": "nfPT1Y07hu5j",
        "colab_type": "text"
      },
      "source": [
        "Gearbox, VehicleType and FuelType - NaN will be replace by most frequent value in model"
      ]
    },
    {
      "cell_type": "code",
      "metadata": {
        "trusted": false,
        "id": "hpdexKv9hu5j",
        "colab_type": "code",
        "colab": {}
      },
      "source": [
        "data['Gearbox'].fillna(data.groupby('Model')['Gearbox'].transform(lambda x:x.value_counts().index[0]),inplace=True)\n",
        "data['VehicleType'].fillna(data.groupby('Model')['VehicleType'].transform(lambda x:x.value_counts().index[0]),inplace=True)\n",
        "data['FuelType'].fillna(data.groupby('Model')['FuelType'].transform(lambda x:x.value_counts().index[0]),inplace=True)"
      ],
      "execution_count": null,
      "outputs": []
    },
    {
      "cell_type": "markdown",
      "metadata": {
        "id": "jAq_KSbNhu5n",
        "colab_type": "text"
      },
      "source": [
        "NotRepaired - replace NaNs with no - which is by far the most frequent value"
      ]
    },
    {
      "cell_type": "code",
      "metadata": {
        "trusted": false,
        "id": "BixjXbK5hu5o",
        "colab_type": "code",
        "colab": {}
      },
      "source": [
        "data['NotRepaired'].fillna('no',inplace=True)"
      ],
      "execution_count": null,
      "outputs": []
    },
    {
      "cell_type": "markdown",
      "metadata": {
        "id": "Rvy-yWXRhu5s",
        "colab_type": "text"
      },
      "source": [
        "`Power` == 0 does not exist (was probably not fed) and should be replace by most frequent value per model. we will do it for power < 20\n",
        "\n",
        "There are also abnormally large values as well (ex. power = 20000). We will replace the values in the 99.5% percentile (329) as well"
      ]
    },
    {
      "cell_type": "markdown",
      "metadata": {
        "id": "IW6H6tmqk_Cn",
        "colab_type": "text"
      },
      "source": [
        "##<font color='blue'>Review\n",
        "    \n",
        "There are also abnormally large values in this feature. Might be useful to replace them as well :)</font>\n"
      ]
    },
    {
      "cell_type": "code",
      "metadata": {
        "id": "GI6ZsV_Dq5pj",
        "colab_type": "code",
        "colab": {
          "base_uri": "https://localhost:8080/",
          "height": 34
        },
        "outputId": "accd8f55-b8bb-4586-8259-2b3309acda76"
      },
      "source": [
        "data['Power'].quantile(0.995)"
      ],
      "execution_count": null,
      "outputs": [
        {
          "output_type": "execute_result",
          "data": {
            "text/plain": [
              "329.0"
            ]
          },
          "metadata": {
            "tags": []
          },
          "execution_count": 91
        }
      ]
    },
    {
      "cell_type": "code",
      "metadata": {
        "trusted": false,
        "id": "CHxwe9LYhu5t",
        "colab_type": "code",
        "colab": {}
      },
      "source": [
        "data['Power'] = np.where(data['Power'] < 20 , data.groupby('Model')['Power'].transform(lambda x:x.value_counts().index[0]), data['Power'])\n",
        "data['Power'] = np.where(data['Power'] > 329, data.groupby('Model')['Power'].transform(lambda x:x.value_counts().index[0]), data['Power'])"
      ],
      "execution_count": null,
      "outputs": []
    },
    {
      "cell_type": "markdown",
      "metadata": {
        "id": "YWzEbeDdhu5x",
        "colab_type": "text"
      },
      "source": [
        "Create new feature out of the datetime features before dropping them"
      ]
    },
    {
      "cell_type": "code",
      "metadata": {
        "trusted": false,
        "id": "M1KVEIwphu5x",
        "colab_type": "code",
        "colab": {}
      },
      "source": [
        "data['days_seen'] = (data.LastSeen - data.DateCreated).dt.days\n",
        "data.drop(['DateCrawled', 'DateCreated', 'LastSeen'], axis=1, inplace=True)"
      ],
      "execution_count": null,
      "outputs": []
    },
    {
      "cell_type": "markdown",
      "metadata": {
        "id": "uv-pOn7ahu52",
        "colab_type": "text"
      },
      "source": [
        "Assign dtype = category for the categorical features - this is needed for the models to work"
      ]
    },
    {
      "cell_type": "code",
      "metadata": {
        "trusted": false,
        "id": "PY3F7K97hu53",
        "colab_type": "code",
        "colab": {}
      },
      "source": [
        "categorical_features = data.select_dtypes(exclude=['number']).columns.tolist()\n",
        "for c in categorical_features:\n",
        "    data[c] = data[c].astype('category')"
      ],
      "execution_count": null,
      "outputs": []
    },
    {
      "cell_type": "code",
      "metadata": {
        "id": "y--hoX_ep8ue",
        "colab_type": "code",
        "colab": {
          "base_uri": "https://localhost:8080/",
          "height": 1000
        },
        "outputId": "99debb5f-4da0-4541-c6df-0564526a53fc"
      },
      "source": [
        "for cat in categorical_features:\n",
        "    print(f'--- feature: {cat}, nuniques: {data[cat].nunique()} ---')\n",
        "    print(data[cat].value_counts())"
      ],
      "execution_count": null,
      "outputs": [
        {
          "output_type": "stream",
          "text": [
            "--- feature: VehicleType, nuniques: 8 ---\n",
            "sedan          87359\n",
            "small          75834\n",
            "wagon          61039\n",
            "bus            24738\n",
            "convertible    17742\n",
            "coupe          12240\n",
            "suv             9038\n",
            "other           1964\n",
            "Name: VehicleType, dtype: int64\n",
            "--- feature: Gearbox, nuniques: 2 ---\n",
            "manual    233292\n",
            "auto       56662\n",
            "Name: Gearbox, dtype: int64\n",
            "--- feature: Model, nuniques: 234 ---\n",
            "golf       26660\n",
            "3er        18599\n",
            "polo       11987\n",
            "corsa      11549\n",
            "astra       9991\n",
            "           ...  \n",
            "delta         31\n",
            "b_max         26\n",
            "charade       26\n",
            "9000          24\n",
            "musa          22\n",
            "Name: Model, Length: 234, dtype: int64\n",
            "--- feature: FuelType, nuniques: 7 ---\n",
            "petrol      195185\n",
            "gasoline     89981\n",
            "lpg           4074\n",
            "cng            476\n",
            "hybrid         123\n",
            "other           90\n",
            "electric        25\n",
            "Name: FuelType, dtype: int64\n",
            "--- feature: Brand, nuniques: 39 ---\n",
            "volkswagen       67158\n",
            "opel             33996\n",
            "bmw              32937\n",
            "mercedes_benz    26472\n",
            "audi             25581\n",
            "ford             21254\n",
            "renault          14842\n",
            "peugeot           8577\n",
            "fiat              6743\n",
            "seat              6064\n",
            "skoda             4937\n",
            "smart             4686\n",
            "mazda             4030\n",
            "nissan            3768\n",
            "toyota            3461\n",
            "mini              2930\n",
            "citroen           2881\n",
            "volvo             2408\n",
            "honda             2169\n",
            "hyundai           2115\n",
            "mitsubishi        1946\n",
            "kia               1741\n",
            "alfa_romeo        1544\n",
            "suzuki            1079\n",
            "chrysler           887\n",
            "dacia              825\n",
            "chevrolet          665\n",
            "subaru             619\n",
            "daihatsu           595\n",
            "porsche            512\n",
            "land_rover         484\n",
            "jeep               477\n",
            "daewoo             377\n",
            "trabant            350\n",
            "lancia             293\n",
            "jaguar             286\n",
            "saab               136\n",
            "lada               124\n",
            "rover                5\n",
            "Name: Brand, dtype: int64\n",
            "--- feature: NotRepaired, nuniques: 2 ---\n",
            "no     261980\n",
            "yes     27974\n",
            "Name: NotRepaired, dtype: int64\n"
          ],
          "name": "stdout"
        }
      ]
    },
    {
      "cell_type": "markdown",
      "metadata": {
        "id": "uGoDK7ehkxFJ",
        "colab_type": "text"
      },
      "source": [
        "##<font color='green'>Review\n",
        "    \n",
        "You did a very thoughtful work on data preprocessing!</font>\n"
      ]
    },
    {
      "cell_type": "markdown",
      "metadata": {
        "id": "b2_bOD3Whu56",
        "colab_type": "text"
      },
      "source": [
        "# 2. Model training"
      ]
    },
    {
      "cell_type": "code",
      "metadata": {
        "id": "S4vH0q5AwqYr",
        "colab_type": "code",
        "colab": {}
      },
      "source": [
        "def split_groups (df, target_col):\n",
        "    df_train, df_temp = train_test_split(df, test_size=0.4, random_state=12345)\n",
        "    df_valid, df_test = train_test_split(df_temp, test_size=0.5, random_state=12345)\n",
        "\n",
        "    features_train = df_train.drop([target_col], axis=1)\n",
        "    target_train = df_train[target_col]\n",
        "    features_valid = df_valid.drop([target_col], axis=1)\n",
        "    target_valid = df_valid[target_col]\n",
        "    features_test = df_test.drop([target_col], axis=1)\n",
        "    target_test = df_test[target_col]\n",
        "    return features_train, target_train, features_valid, target_valid, features_test, target_test"
      ],
      "execution_count": null,
      "outputs": []
    },
    {
      "cell_type": "markdown",
      "metadata": {
        "id": "21IcSOtFzOv9",
        "colab_type": "text"
      },
      "source": [
        "### Train with Random Forest"
      ]
    },
    {
      "cell_type": "markdown",
      "metadata": {
        "id": "4Fuk66TTuBHX",
        "colab_type": "text"
      },
      "source": [
        "Sadly, there are 234 unique models. OHE will require 233 columns, which will make the model unpractical (very long runtime). Therefore we group th less popular models under 'other'."
      ]
    },
    {
      "cell_type": "code",
      "metadata": {
        "id": "z-fORpIejGXF",
        "colab_type": "code",
        "colab": {}
      },
      "source": [
        "data1 = data.copy()\n",
        "top_50 = data1['Model'].value_counts()[:50].index\n",
        "data1['Model'] = np.where(data1['Model'].isin(top_50),data1['Model'], 'other')\n",
        "data_ohe = pd.get_dummies(data1, columns=categorical_features, drop_first=True)\n",
        "features_train, target_train, features_valid, target_valid, features_test, target_test = split_groups(data_ohe, 'Price')"
      ],
      "execution_count": null,
      "outputs": []
    },
    {
      "cell_type": "code",
      "metadata": {
        "id": "f-FiknCatOAr",
        "colab_type": "code",
        "colab": {
          "base_uri": "https://localhost:8080/",
          "height": 68
        },
        "outputId": "d9cc7c8a-81bd-46a4-a7cb-ac20a394d719"
      },
      "source": [
        "%%timeit -n1 -r1\n",
        "for depth in range(9,11):\n",
        "    model = RandomForestRegressor(random_state=12345, max_depth=depth)\n",
        "    model.fit(features_train, target_train)\n",
        "    score_train = mean_squared_error(target_train, model.predict(features_train)) ** 0.5\n",
        "    score_valid = mean_squared_error(target_valid, model.predict(features_valid)) ** 0.5\n",
        "    dif = 100*(score_valid-score_train) / score_train\n",
        "    print(depth, score_train, score_valid, dif)"
      ],
      "execution_count": null,
      "outputs": [
        {
          "output_type": "stream",
          "text": [
            "9 1828.3493648316462 1890.6402763436508 3.4069479668477016\n",
            "10 1732.3187959387506 1824.222195575718 5.305224410912459\n",
            "1 loop, best of 1: 3min 45s per loop\n"
          ],
          "name": "stdout"
        }
      ]
    },
    {
      "cell_type": "markdown",
      "metadata": {
        "id": "uICOO8dVvNwI",
        "colab_type": "text"
      },
      "source": [
        "As above, depth=9 provide an acceptable result (depth=10 result in overfit)"
      ]
    },
    {
      "cell_type": "markdown",
      "metadata": {
        "id": "S8NKh-1Dhu57",
        "colab_type": "text"
      },
      "source": [
        "Again we split into 3 groups - this is because dataframe is different, as we can work with categorical data in the following 2 algorithms."
      ]
    },
    {
      "cell_type": "code",
      "metadata": {
        "id": "bksqfiL3xwaE",
        "colab_type": "code",
        "colab": {}
      },
      "source": [
        "features_train, target_train, features_valid, target_valid, features_test, target_test = split_groups(data, 'Price')"
      ],
      "execution_count": null,
      "outputs": []
    },
    {
      "cell_type": "markdown",
      "metadata": {
        "id": "KMpgWat1hu6C",
        "colab_type": "text"
      },
      "source": [
        "## Train with CatBoost"
      ]
    },
    {
      "cell_type": "code",
      "metadata": {
        "id": "9QbRco9g1E4S",
        "colab_type": "code",
        "colab": {}
      },
      "source": [
        "def print_rmse():\n",
        "    rmse_train = mean_squared_error(target_train, prediction_train) ** 0.5\n",
        "    rmse_valid = mean_squared_error(target_valid, prediction_valid) ** 0.5\n",
        "    rmse_test = mean_squared_error(target_test, prediction_test) ** 0.5\n",
        "    print(f'RMSE Train: {rmse_train:,.0f}, Valid: {rmse_valid:,.0f}, Test: {rmse_test:,.0f}, diff(Train,Valid):{100*(rmse_valid - rmse_train)/rmse_train:,.1f}%')"
      ],
      "execution_count": null,
      "outputs": []
    },
    {
      "cell_type": "code",
      "metadata": {
        "trusted": false,
        "id": "ruTlLGxrhu6C",
        "colab_type": "code",
        "colab": {
          "base_uri": "https://localhost:8080/",
          "height": 612
        },
        "outputId": "7703a405-4653-49bc-a2ed-903f4875cb29"
      },
      "source": [
        "for depth_ in range(13,16):\n",
        "    model = CatBoostRegressor(loss_function=\"RMSE\", depth=depth_,n_estimators=150)\n",
        "    print (f'Depth: {depth_}')\n",
        "    model.fit(features_train, target_train, cat_features=categorical_features, verbose=50)\n",
        "    prediction_train = model.predict(features_train)\n",
        "    prediction_valid = model.predict(features_valid)\n",
        "    prediction_test = model.predict(features_test)\n",
        "    print_rmse()"
      ],
      "execution_count": null,
      "outputs": [
        {
          "output_type": "stream",
          "text": [
            "Depth: 4\n",
            "Learning rate set to 0.413406\n",
            "0:\tlearn: 3516.6052688\ttotal: 84.4ms\tremaining: 12.6s\n",
            "50:\tlearn: 1709.2577708\ttotal: 2.41s\tremaining: 4.69s\n",
            "100:\tlearn: 1633.4110934\ttotal: 4.7s\tremaining: 2.28s\n",
            "149:\tlearn: 1596.9050195\ttotal: 6.9s\tremaining: 0us\n",
            "RMSE Train: 1,592, Valid: 1,628, Test: 1,634, diff(Train,Valid):2.3%\n",
            "Depth: 5\n",
            "Learning rate set to 0.413406\n",
            "0:\tlearn: 3463.8670965\ttotal: 68.4ms\tremaining: 10.2s\n",
            "50:\tlearn: 1655.2418615\ttotal: 2.71s\tremaining: 5.25s\n",
            "100:\tlearn: 1585.3398139\ttotal: 5.29s\tremaining: 2.56s\n",
            "149:\tlearn: 1547.5676461\ttotal: 7.87s\tremaining: 0us\n",
            "RMSE Train: 1,543, Valid: 1,600, Test: 1,594, diff(Train,Valid):3.7%\n",
            "Depth: 6\n",
            "Learning rate set to 0.413406\n",
            "0:\tlearn: 3399.1912738\ttotal: 84.2ms\tremaining: 12.5s\n",
            "50:\tlearn: 1607.7470864\ttotal: 3.1s\tremaining: 6.02s\n",
            "100:\tlearn: 1537.4609654\ttotal: 6.05s\tremaining: 2.94s\n",
            "149:\tlearn: 1499.9093999\ttotal: 8.99s\tremaining: 0us\n",
            "RMSE Train: 1,497, Valid: 1,570, Test: 1,571, diff(Train,Valid):4.8%\n",
            "Depth: 7\n",
            "Learning rate set to 0.413406\n",
            "0:\tlearn: 3348.1863536\ttotal: 84.4ms\tremaining: 12.6s\n",
            "50:\tlearn: 1569.6312063\ttotal: 3.47s\tremaining: 6.74s\n",
            "100:\tlearn: 1497.4391146\ttotal: 6.82s\tremaining: 3.31s\n",
            "149:\tlearn: 1451.6770616\ttotal: 10.1s\tremaining: 0us\n",
            "RMSE Train: 1,450, Valid: 1,541, Test: 1,541, diff(Train,Valid):6.3%\n",
            "Depth: 8\n",
            "Learning rate set to 0.413406\n",
            "0:\tlearn: 3299.8113404\ttotal: 100ms\tremaining: 14.9s\n",
            "50:\tlearn: 1531.6265614\ttotal: 3.95s\tremaining: 7.66s\n",
            "100:\tlearn: 1452.6740152\ttotal: 7.79s\tremaining: 3.78s\n",
            "149:\tlearn: 1409.4099655\ttotal: 11.6s\tremaining: 0us\n",
            "RMSE Train: 1,412, Valid: 1,526, Test: 1,532, diff(Train,Valid):8.1%\n"
          ],
          "name": "stdout"
        }
      ]
    },
    {
      "cell_type": "markdown",
      "metadata": {
        "id": "12zFd-xNka3T",
        "colab_type": "text"
      },
      "source": [
        "## <font color='green'>Review\n",
        "    \n",
        "Great that you used `cat_features=` parameter :)</font>"
      ]
    },
    {
      "cell_type": "markdown",
      "metadata": {
        "id": "Mkeczoa3hu6M",
        "colab_type": "text"
      },
      "source": [
        "As above, depth=6 provides the best result. Execution time = 11s"
      ]
    },
    {
      "cell_type": "markdown",
      "metadata": {
        "id": "fGCbX0M3hu6N",
        "colab_type": "text"
      },
      "source": [
        "## Train with LightGBM"
      ]
    },
    {
      "cell_type": "markdown",
      "metadata": {
        "id": "Awapkrpahu6R",
        "colab_type": "text"
      },
      "source": [
        "Using `num_leaves`=100, there is overfitting (RMSE train=1384, RMSE valid=1485 - diff 6.7%)"
      ]
    },
    {
      "cell_type": "code",
      "metadata": {
        "id": "1U7XsWjBlNBk",
        "colab_type": "code",
        "colab": {
          "base_uri": "https://localhost:8080/",
          "height": 204
        },
        "outputId": "ff7aa26b-809e-4aac-8df3-dc10cacf0f3e"
      },
      "source": [
        "nleaves = 30\n",
        "params = {\n",
        " 'boosting_type': 'gbdt',\n",
        " 'objective': 'regression',\n",
        " 'metric': {'root_mean_squared_error'},\n",
        " 'num_leaves': nleaves,\n",
        " 'learning_rate': 0.05,\n",
        " 'feature_fraction': 0.9,\n",
        " 'bagging_fraction': 0.8,\n",
        " 'bagging_freq': 5,\n",
        " 'verbose': 0\n",
        "}\n",
        "lgb_train = lgbm.Dataset(features_train, target_train)\n",
        "lgb_eval = lgbm.Dataset(features_valid, target_valid, reference=lgb_train)\n",
        "gbm = lgbm.train(params,\n",
        "                lgb_train,\n",
        "                num_boost_round=800,\n",
        "                valid_sets=lgb_eval,\n",
        "                early_stopping_rounds=5,verbose_eval=100)\n",
        "\n",
        "prediction_train = gbm.predict(features_train, num_iteration=gbm.best_iteration)\n",
        "prediction_valid = gbm.predict(features_valid, num_iteration=gbm.best_iteration)\n",
        "prediction_test = gbm.predict(features_test, num_iteration=gbm.best_iteration)\n",
        "print_rmse()"
      ],
      "execution_count": null,
      "outputs": [
        {
          "output_type": "stream",
          "text": [
            "/usr/local/lib/python3.6/dist-packages/lightgbm/basic.py:762: UserWarning: categorical_feature in param dict is overridden.\n",
            "  warnings.warn('categorical_feature in param dict is overridden.')\n"
          ],
          "name": "stderr"
        },
        {
          "output_type": "stream",
          "text": [
            "Training until validation scores don't improve for 5 rounds.\n",
            "[100]\tvalid_0's rmse: 1579.77\n",
            "[200]\tvalid_0's rmse: 1526.38\n",
            "[300]\tvalid_0's rmse: 1508.61\n",
            "[400]\tvalid_0's rmse: 1499.29\n",
            "[500]\tvalid_0's rmse: 1491.42\n",
            "Early stopping, best iteration is:\n",
            "[502]\tvalid_0's rmse: 1491.32\n",
            "RMSE Train: 1,397, Valid: 1,491, Test: 1,493, diff(Train,Valid):6.8%\n"
          ],
          "name": "stdout"
        }
      ]
    },
    {
      "cell_type": "code",
      "metadata": {
        "id": "4OYDRPuZlYpj",
        "colab_type": "code",
        "colab": {
          "base_uri": "https://localhost:8080/",
          "height": 204
        },
        "outputId": "afbf718e-a0cd-4add-a9a9-183f697d3140"
      },
      "source": [
        "nleaves = 17\n",
        "params = {\n",
        " 'boosting_type': 'gbdt',\n",
        " 'objective': 'regression',\n",
        " 'metric': {'root_mean_squared_error'},\n",
        " 'num_leaves': nleaves,\n",
        " 'learning_rate': 0.05,\n",
        " 'feature_fraction': 0.9,\n",
        " 'bagging_fraction': 0.8,\n",
        " 'bagging_freq': 5,\n",
        " 'verbose': 0\n",
        "}\n",
        "lgb_train = lgbm.Dataset(features_train, target_train)\n",
        "lgb_eval = lgbm.Dataset(features_valid, target_valid, reference=lgb_train)\n",
        "gbm = lgbm.train(params,\n",
        "                lgb_train,\n",
        "                num_boost_round=800,\n",
        "                valid_sets=lgb_eval,\n",
        "                early_stopping_rounds=5,verbose_eval=100)\n",
        "\n",
        "prediction_train = gbm.predict(features_train, num_iteration=gbm.best_iteration)\n",
        "prediction_valid = gbm.predict(features_valid, num_iteration=gbm.best_iteration)\n",
        "prediction_test = gbm.predict(features_test, num_iteration=gbm.best_iteration)\n",
        "print_rmse()"
      ],
      "execution_count": null,
      "outputs": [
        {
          "output_type": "stream",
          "text": [
            "/usr/local/lib/python3.6/dist-packages/lightgbm/basic.py:762: UserWarning: categorical_feature in param dict is overridden.\n",
            "  warnings.warn('categorical_feature in param dict is overridden.')\n"
          ],
          "name": "stderr"
        },
        {
          "output_type": "stream",
          "text": [
            "Training until validation scores don't improve for 5 rounds.\n",
            "[100]\tvalid_0's rmse: 1637.71\n",
            "[200]\tvalid_0's rmse: 1565.95\n",
            "[300]\tvalid_0's rmse: 1544.36\n",
            "[400]\tvalid_0's rmse: 1533.16\n",
            "[500]\tvalid_0's rmse: 1523.02\n",
            "Early stopping, best iteration is:\n",
            "[590]\tvalid_0's rmse: 1517.64\n",
            "RMSE Train: 1,446, Valid: 1,518, Test: 1,522, diff(Train,Valid):5.0%\n"
          ],
          "name": "stdout"
        }
      ]
    },
    {
      "cell_type": "markdown",
      "metadata": {
        "id": "QQ6ttQdyhu6V",
        "colab_type": "text"
      },
      "source": [
        "LightGBM: Now using `num_leaves`=31, no overfitting (RMSE train=1426, RMSE valid=1505 - diff 5%).Execution time: 48.7s"
      ]
    },
    {
      "cell_type": "markdown",
      "metadata": {
        "id": "MgAtVuaUj1wX",
        "colab_type": "text"
      },
      "source": [
        "##<font color='green'>Review\n",
        "    \n",
        "All good :) You correctly train and test your models. Hyperparameters tuning is fine too, though it would be better to try cross-validation and to study more parameter sets.</font>\n",
        "\n",
        "<font color='red'>But both CatBoost and LightGBM is gradient boosting models. We can't tell that we choose an optimal algorithm if we didn't try anything else :) So I ask you to apply some other type of regression and compare its performance with boosting.\n",
        "    \n",
        "</font>"
      ]
    },
    {
      "cell_type": "markdown",
      "metadata": {
        "id": "t3VFMs13hu6W",
        "colab_type": "text"
      },
      "source": [
        "# 3. Model analysis\n",
        "- Random Forest (depth=9) RMSE=1890 and execution time = 1m\n",
        "- CatBoost(depth=12), RMSE=1645 and execution time=1m 53s\n",
        "- LightGBM (`num_leaves`=31), RMSE=1505 and execution time=48.7s\n",
        "\n",
        "As we can see, LightGBM provide better results..."
      ]
    },
    {
      "cell_type": "markdown",
      "metadata": {
        "id": "Fu6xGUNOiW9X",
        "colab_type": "text"
      },
      "source": [
        "# <font color='green'>Review\n",
        "\n",
        "Great results! Thank you for considering both error and execution time of models :)</font>"
      ]
    },
    {
      "cell_type": "markdown",
      "metadata": {
        "id": "e5ARCv5hhu6Z",
        "colab_type": "text"
      },
      "source": [
        "## Checklist"
      ]
    },
    {
      "cell_type": "markdown",
      "metadata": {
        "id": "yX1WVJe8hu6a",
        "colab_type": "text"
      },
      "source": [
        "Type 'x' to check. Then press Shift+Enter."
      ]
    },
    {
      "cell_type": "markdown",
      "metadata": {
        "id": "Aj_1MwIihu6b",
        "colab_type": "text"
      },
      "source": [
        "- [x]  Jupyter Notebook is open\n",
        "- [x]  Code is error free\n",
        "- [x]  The cells with the code have been arranged in order of execution\n",
        "- [x]  The data has been downloaded and prepared\n",
        "- [x]  The models have been trained\n",
        "- [x]  The analysis of speed and quality of the models has been performed"
      ]
    },
    {
      "cell_type": "code",
      "metadata": {
        "trusted": false,
        "id": "LtdAuqE0hu6c",
        "colab_type": "code",
        "colab": {}
      },
      "source": [
        ""
      ],
      "execution_count": null,
      "outputs": []
    }
  ]
}