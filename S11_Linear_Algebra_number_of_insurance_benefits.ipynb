{
  "nbformat": 4,
  "nbformat_minor": 0,
  "metadata": {
    "kernelspec": {
      "display_name": "Python 3",
      "language": "python",
      "name": "python3"
    },
    "language_info": {
      "codemirror_mode": {
        "name": "ipython",
        "version": 3
      },
      "file_extension": ".py",
      "mimetype": "text/x-python",
      "name": "python",
      "nbconvert_exporter": "python",
      "pygments_lexer": "ipython3",
      "version": "3.7.4"
    },
    "colab": {
      "name": "S11 Linear Algebra -  number of insurance benefits.ipynb",
      "provenance": [],
      "collapsed_sections": [],
      "include_colab_link": true
    }
  },
  "cells": [
    {
      "cell_type": "markdown",
      "metadata": {
        "id": "view-in-github",
        "colab_type": "text"
      },
      "source": [
        "<a href=\"https://colab.research.google.com/github/dnevo/Practicum/blob/master/S11_Linear_Algebra_number_of_insurance_benefits.ipynb\" target=\"_parent\"><img src=\"https://colab.research.google.com/assets/colab-badge.svg\" alt=\"Open In Colab\"/></a>"
      ]
    },
    {
      "cell_type": "markdown",
      "metadata": {
        "id": "nuUZtGYjDpNy",
        "colab_type": "text"
      },
      "source": [
        "## Review\n",
        "\n",
        "Hi Doron. And again Soslan on-line :). As always I've added all my comments to new cells with different coloring.\n",
        "\n",
        "<div class=\"alert alert-success\" role=\"alert\">\n",
        "  If you did something great I'm using green color for my comment\n",
        "</div>\n",
        "\n",
        "<div class=\"alert alert-warning\" role=\"alert\">\n",
        "If I want to give you advice or think that something can be improved, then I'll use yellow. This is an optional recommendation.\n",
        "</div>\n",
        "\n",
        "<div class=\"alert alert-danger\" role=\"alert\">\n",
        "  If the topic requires some extra work so I can accept it then the color will be red\n",
        "</div>\n",
        "\n",
        "I like your project. Correct, compact and clean. So I'm accepting it. Good work.\n",
        "\n",
        "---"
      ]
    },
    {
      "cell_type": "code",
      "metadata": {
        "id": "HMpMLIocDpN6",
        "colab_type": "code",
        "colab": {}
      },
      "source": [
        "import numpy as np\n",
        "import pandas as pd\n",
        "from sklearn.metrics import r2_score, mean_squared_error\n",
        "from sklearn.linear_model import LinearRegression\n",
        "pd.set_option('display.max_rows', 50)\n",
        "pd.set_option('display.width', 200)\n",
        "pd.set_option('display.max_columns', None)\n",
        "pd.options.display.float_format = '{:11,.2f}'.format\n",
        "np.set_printoptions(precision=2)"
      ],
      "execution_count": 11,
      "outputs": []
    },
    {
      "cell_type": "markdown",
      "metadata": {
        "id": "tVysUP6fEiCR",
        "colab_type": "text"
      },
      "source": [
        "## Project Description\n",
        "The Sure Tomorrow insurance company wants to protect its clients' data. Your task is to develop a data transforming algorithm that would make it hard to recover personal information from the transformed data. This is called data masking, or data obfuscation. You are also expected to prove that the algorithm works correctly. Additionally, the data should be protected in such a way that the quality of machine learning models doesn't suffer. You don't need to pick the best model. Follow these steps to develop a new algorithm:\n",
        "- construct a theoretical proof using properties of models and the given task;\n",
        "- formulate an algorithm for this proof;\n",
        "- check that the algorithm is working correctly when applied to real data.\n",
        "\n",
        "We will use a simple method of data masking, based on an invertible matrix.\n",
        "## Instructions\n",
        "1. Download and look into the data.\n",
        "2. Provide a theoretical proof based on the equation of linear regression. The features are multiplied by an invertible matrix. Show that the quality of the model is the same for both sets of parameters: the original features and the features after multiplication. How are the weight vectors from MSE minimums for these models related?\n",
        "3. State an algorithm for data transformation to solve the task. Explain why the linear regression quality won't change based on the proof above.\n",
        "4. Program your algorithm using matrix operations. Make sure that the quality of linear regression from sklearn is the same before and after transformation. Use the R2 metric.\n"
      ]
    },
    {
      "cell_type": "markdown",
      "metadata": {
        "id": "n0OTGeaGDpN_",
        "colab_type": "text"
      },
      "source": [
        "# 1. Downloading and looking on the data"
      ]
    },
    {
      "cell_type": "code",
      "metadata": {
        "id": "nZ7EzrnyDpOA",
        "colab_type": "code",
        "colab": {
          "base_uri": "https://localhost:8080/",
          "height": 204
        },
        "outputId": "d42f5bbc-e683-4ae6-af2a-e1fb1d5d12ce"
      },
      "source": [
        "data = pd.read_csv('https://raw.githubusercontent.com/dnevo/Practicum/master/datasets/insurance_us.csv')\n",
        "data.head()"
      ],
      "execution_count": 12,
      "outputs": [
        {
          "output_type": "execute_result",
          "data": {
            "text/html": [
              "<div>\n",
              "<style scoped>\n",
              "    .dataframe tbody tr th:only-of-type {\n",
              "        vertical-align: middle;\n",
              "    }\n",
              "\n",
              "    .dataframe tbody tr th {\n",
              "        vertical-align: top;\n",
              "    }\n",
              "\n",
              "    .dataframe thead th {\n",
              "        text-align: right;\n",
              "    }\n",
              "</style>\n",
              "<table border=\"1\" class=\"dataframe\">\n",
              "  <thead>\n",
              "    <tr style=\"text-align: right;\">\n",
              "      <th></th>\n",
              "      <th>Gender</th>\n",
              "      <th>Age</th>\n",
              "      <th>Salary</th>\n",
              "      <th>Family members</th>\n",
              "      <th>Insurance benefits</th>\n",
              "    </tr>\n",
              "  </thead>\n",
              "  <tbody>\n",
              "    <tr>\n",
              "      <th>0</th>\n",
              "      <td>1</td>\n",
              "      <td>41.00</td>\n",
              "      <td>49,600.00</td>\n",
              "      <td>1</td>\n",
              "      <td>0</td>\n",
              "    </tr>\n",
              "    <tr>\n",
              "      <th>1</th>\n",
              "      <td>0</td>\n",
              "      <td>46.00</td>\n",
              "      <td>38,000.00</td>\n",
              "      <td>1</td>\n",
              "      <td>1</td>\n",
              "    </tr>\n",
              "    <tr>\n",
              "      <th>2</th>\n",
              "      <td>0</td>\n",
              "      <td>29.00</td>\n",
              "      <td>21,000.00</td>\n",
              "      <td>0</td>\n",
              "      <td>0</td>\n",
              "    </tr>\n",
              "    <tr>\n",
              "      <th>3</th>\n",
              "      <td>0</td>\n",
              "      <td>21.00</td>\n",
              "      <td>41,700.00</td>\n",
              "      <td>2</td>\n",
              "      <td>0</td>\n",
              "    </tr>\n",
              "    <tr>\n",
              "      <th>4</th>\n",
              "      <td>1</td>\n",
              "      <td>28.00</td>\n",
              "      <td>26,100.00</td>\n",
              "      <td>0</td>\n",
              "      <td>0</td>\n",
              "    </tr>\n",
              "  </tbody>\n",
              "</table>\n",
              "</div>"
            ],
            "text/plain": [
              "   Gender         Age      Salary  Family members  Insurance benefits\n",
              "0       1       41.00   49,600.00               1                   0\n",
              "1       0       46.00   38,000.00               1                   1\n",
              "2       0       29.00   21,000.00               0                   0\n",
              "3       0       21.00   41,700.00               2                   0\n",
              "4       1       28.00   26,100.00               0                   0"
            ]
          },
          "metadata": {
            "tags": []
          },
          "execution_count": 12
        }
      ]
    },
    {
      "cell_type": "code",
      "metadata": {
        "id": "WRbOejvrDpOG",
        "colab_type": "code",
        "colab": {
          "base_uri": "https://localhost:8080/",
          "height": 297
        },
        "outputId": "5ffcf49a-0296-4cdd-f66d-b261a9d9959d"
      },
      "source": [
        "data.describe()"
      ],
      "execution_count": 13,
      "outputs": [
        {
          "output_type": "execute_result",
          "data": {
            "text/html": [
              "<div>\n",
              "<style scoped>\n",
              "    .dataframe tbody tr th:only-of-type {\n",
              "        vertical-align: middle;\n",
              "    }\n",
              "\n",
              "    .dataframe tbody tr th {\n",
              "        vertical-align: top;\n",
              "    }\n",
              "\n",
              "    .dataframe thead th {\n",
              "        text-align: right;\n",
              "    }\n",
              "</style>\n",
              "<table border=\"1\" class=\"dataframe\">\n",
              "  <thead>\n",
              "    <tr style=\"text-align: right;\">\n",
              "      <th></th>\n",
              "      <th>Gender</th>\n",
              "      <th>Age</th>\n",
              "      <th>Salary</th>\n",
              "      <th>Family members</th>\n",
              "      <th>Insurance benefits</th>\n",
              "    </tr>\n",
              "  </thead>\n",
              "  <tbody>\n",
              "    <tr>\n",
              "      <th>count</th>\n",
              "      <td>5,000.00</td>\n",
              "      <td>5,000.00</td>\n",
              "      <td>5,000.00</td>\n",
              "      <td>5,000.00</td>\n",
              "      <td>5,000.00</td>\n",
              "    </tr>\n",
              "    <tr>\n",
              "      <th>mean</th>\n",
              "      <td>0.50</td>\n",
              "      <td>30.95</td>\n",
              "      <td>39,916.36</td>\n",
              "      <td>1.19</td>\n",
              "      <td>0.15</td>\n",
              "    </tr>\n",
              "    <tr>\n",
              "      <th>std</th>\n",
              "      <td>0.50</td>\n",
              "      <td>8.44</td>\n",
              "      <td>9,900.08</td>\n",
              "      <td>1.09</td>\n",
              "      <td>0.46</td>\n",
              "    </tr>\n",
              "    <tr>\n",
              "      <th>min</th>\n",
              "      <td>0.00</td>\n",
              "      <td>18.00</td>\n",
              "      <td>5,300.00</td>\n",
              "      <td>0.00</td>\n",
              "      <td>0.00</td>\n",
              "    </tr>\n",
              "    <tr>\n",
              "      <th>25%</th>\n",
              "      <td>0.00</td>\n",
              "      <td>24.00</td>\n",
              "      <td>33,300.00</td>\n",
              "      <td>0.00</td>\n",
              "      <td>0.00</td>\n",
              "    </tr>\n",
              "    <tr>\n",
              "      <th>50%</th>\n",
              "      <td>0.00</td>\n",
              "      <td>30.00</td>\n",
              "      <td>40,200.00</td>\n",
              "      <td>1.00</td>\n",
              "      <td>0.00</td>\n",
              "    </tr>\n",
              "    <tr>\n",
              "      <th>75%</th>\n",
              "      <td>1.00</td>\n",
              "      <td>37.00</td>\n",
              "      <td>46,600.00</td>\n",
              "      <td>2.00</td>\n",
              "      <td>0.00</td>\n",
              "    </tr>\n",
              "    <tr>\n",
              "      <th>max</th>\n",
              "      <td>1.00</td>\n",
              "      <td>65.00</td>\n",
              "      <td>79,000.00</td>\n",
              "      <td>6.00</td>\n",
              "      <td>5.00</td>\n",
              "    </tr>\n",
              "  </tbody>\n",
              "</table>\n",
              "</div>"
            ],
            "text/plain": [
              "           Gender         Age      Salary  Family members  Insurance benefits\n",
              "count    5,000.00    5,000.00    5,000.00        5,000.00            5,000.00\n",
              "mean         0.50       30.95   39,916.36            1.19                0.15\n",
              "std          0.50        8.44    9,900.08            1.09                0.46\n",
              "min          0.00       18.00    5,300.00            0.00                0.00\n",
              "25%          0.00       24.00   33,300.00            0.00                0.00\n",
              "50%          0.00       30.00   40,200.00            1.00                0.00\n",
              "75%          1.00       37.00   46,600.00            2.00                0.00\n",
              "max          1.00       65.00   79,000.00            6.00                5.00"
            ]
          },
          "metadata": {
            "tags": []
          },
          "execution_count": 13
        }
      ]
    },
    {
      "cell_type": "code",
      "metadata": {
        "id": "63x1FmERDpOL",
        "colab_type": "code",
        "colab": {
          "base_uri": "https://localhost:8080/",
          "height": 136
        },
        "outputId": "b4045f35-4843-4c73-fb63-f5ea9bd86092"
      },
      "source": [
        "data['Insurance benefits'].value_counts()"
      ],
      "execution_count": 14,
      "outputs": [
        {
          "output_type": "execute_result",
          "data": {
            "text/plain": [
              "0    4436\n",
              "1     423\n",
              "2     115\n",
              "3      18\n",
              "4       7\n",
              "5       1\n",
              "Name: Insurance benefits, dtype: int64"
            ]
          },
          "metadata": {
            "tags": []
          },
          "execution_count": 14
        }
      ]
    },
    {
      "cell_type": "markdown",
      "metadata": {
        "id": "B9TDT3rFDpOQ",
        "colab_type": "text"
      },
      "source": [
        "As above, the targets distribution is unbalanced - in almost 90% of the examples the Insurance benefits is zero..."
      ]
    },
    {
      "cell_type": "code",
      "metadata": {
        "id": "-Wv82jCmDpOR",
        "colab_type": "code",
        "colab": {}
      },
      "source": [
        "features = data.drop('Insurance benefits', axis=1)\n",
        "target = data['Insurance benefits']"
      ],
      "execution_count": 15,
      "outputs": []
    },
    {
      "cell_type": "markdown",
      "metadata": {
        "id": "lEM0lb8MDpOW",
        "colab_type": "text"
      },
      "source": [
        "<div class=\"alert alert-success\" role=\"alert\">\n",
        "Nice start</div>"
      ]
    },
    {
      "cell_type": "markdown",
      "metadata": {
        "id": "cO_H6ttHDpOW",
        "colab_type": "text"
      },
      "source": [
        "# 2. Effect of Feature transformation on Regression quality"
      ]
    },
    {
      "cell_type": "markdown",
      "metadata": {
        "id": "rEi6jmUyDpOX",
        "colab_type": "text"
      },
      "source": [
        "**Lets reminds the calculation of prediction (a) using Normal equation:**\n",
        "<br>\n",
        "> ${\\mathrm a}={\\mathrm X}{\\mathrm w}={\\mathrm X}{{({\\mathrm X}}^T{\\mathrm X})}^{-1}{\\mathrm X}^T{\\mathrm y}$\n",
        "\n",
        "**Now, lets see what's happen after Transformation:**\n",
        "<br>\n",
        ">$\\widetilde{\\mathrm X}$ (the transformed features matrix) is the result of  ${\\mathrm X}$ multiplied by an invertible matrix ${\\mathrm A}$:\n",
        "\n",
        "> $\\widetilde{\\mathrm X}={\\mathrm X}{\\mathrm A}$\n",
        "\n",
        "> $\\widetilde{\\mathrm a}=\\widetilde{\\mathrm X}\\widetilde{\\mathrm w}=\\widetilde{\\mathrm X}{{(\\widetilde{\\mathrm X}}^T\\widetilde{\\mathrm X})}^{-1}\\widetilde{\\mathrm X}^T{\\mathrm y}$\n",
        "\n",
        "**Using different examples of ${\\mathrm A}$, we can show that ${\\mathrm a}$ (the prediction) stays the same - i.e.:**\n",
        "\n",
        "> $\\widetilde{\\mathrm a}={\\mathrm a}$"
      ]
    },
    {
      "cell_type": "code",
      "metadata": {
        "id": "JhfjjEEJDpOY",
        "colab_type": "code",
        "colab": {
          "base_uri": "https://localhost:8080/",
          "height": 187
        },
        "outputId": "65dea9de-14e4-48d2-d7bd-ed3badc78d35"
      },
      "source": [
        "def calc_predict(features, target):\n",
        "    X = np.concatenate((np.ones((features.shape[0], 1)), features), axis=1)\n",
        "    y = target\n",
        "    return np.dot(X,np.linalg.inv(X.T.dot(X)).dot(X.T).dot(y))\n",
        "\n",
        "a = calc_predict(features, target)\n",
        "for i in range(10):\n",
        "    np.random.seed(i)\n",
        "    A = np.random.normal(size=(features.shape[1],features.shape[1]))\n",
        "    a_trans = calc_predict(features @ A, target)\n",
        "    print(f'A({i}) - MSE: {mean_squared_error(a, a_trans):.15f}')"
      ],
      "execution_count": 16,
      "outputs": [
        {
          "output_type": "stream",
          "text": [
            "A(0) - MSE: 0.000000000000001\n",
            "A(1) - MSE: 0.000000000000240\n",
            "A(2) - MSE: 0.000000000000001\n",
            "A(3) - MSE: 0.000000000000000\n",
            "A(4) - MSE: 0.000000000000002\n",
            "A(5) - MSE: 0.000000000000000\n",
            "A(6) - MSE: 0.000000000000012\n",
            "A(7) - MSE: 0.000000000001119\n",
            "A(8) - MSE: 0.000000000000006\n",
            "A(9) - MSE: 0.000000000001131\n"
          ],
          "name": "stdout"
        }
      ]
    },
    {
      "cell_type": "markdown",
      "metadata": {
        "id": "Vg2sCJnNDpOd",
        "colab_type": "text"
      },
      "source": [
        "**As above, over 10 different A matrices, a_trans stays equal to a**"
      ]
    },
    {
      "cell_type": "markdown",
      "metadata": {
        "id": "_L2uQZkNDpOe",
        "colab_type": "text"
      },
      "source": [
        "<div class=\"alert alert-success\" role=\"alert\">\n",
        "Although it is provable with pure math, I can accept such proof too :) Nice random testing.</div>"
      ]
    },
    {
      "cell_type": "markdown",
      "metadata": {
        "id": "WLxxSQA1DpOf",
        "colab_type": "text"
      },
      "source": [
        "# 3. Algorithm for Linear Regression using masking\n",
        "\n",
        "1. Feature masking\n",
        "   - Generate an Invertible Matrix ($A$) with dimensions $n\\times n$ ($n$ - number of features)\n",
        "   - Tranform the Features ($F$) by multipying with the Invertible matrix: $\\widetilde F=FA$\n",
        "2. Perform linear regression using the transformed features ($\\widetilde F$)\n",
        "\n",
        "The linear regression quality will not change, as explained in the previous section"
      ]
    },
    {
      "cell_type": "markdown",
      "metadata": {
        "id": "88KbXf22DpOf",
        "colab_type": "text"
      },
      "source": [
        "<div class=\"alert alert-success\" role=\"alert\">\n",
        "Correct algorithm</div>"
      ]
    },
    {
      "cell_type": "markdown",
      "metadata": {
        "id": "6BNLbKGlDpOg",
        "colab_type": "text"
      },
      "source": [
        "# 4. Algorithm Implementation"
      ]
    },
    {
      "cell_type": "markdown",
      "metadata": {
        "id": "e0R_T2dUDpOh",
        "colab_type": "text"
      },
      "source": [
        "## 4.1 Generate Invertible matrix"
      ]
    },
    {
      "cell_type": "code",
      "metadata": {
        "id": "rax27hl3DpOi",
        "colab_type": "code",
        "colab": {}
      },
      "source": [
        "np.random.seed(12345)\n",
        "A = np.random.normal(size=(features.shape[1],features.shape[1]))"
      ],
      "execution_count": 17,
      "outputs": []
    },
    {
      "cell_type": "markdown",
      "metadata": {
        "id": "NxTxfqTjDpOl",
        "colab_type": "text"
      },
      "source": [
        "## 4.2 Linear Regression using matrix operations"
      ]
    },
    {
      "cell_type": "code",
      "metadata": {
        "id": "rEH6LChQDpOm",
        "colab_type": "code",
        "colab": {}
      },
      "source": [
        "class LinearRegressionMat:\n",
        "    def fit(self, train_features, train_target):\n",
        "        X = np.concatenate((np.ones((train_features.shape[0], 1)), train_features), axis=1)\n",
        "        y = train_target\n",
        "        w = np.linalg.inv(X.T.dot(X)).dot(X.T).dot(y)\n",
        "        self.w = w[1:]\n",
        "        self.w0 = w[0]\n",
        "\n",
        "    def predict(self, test_features):\n",
        "        return test_features.dot(self.w) + self.w0"
      ],
      "execution_count": 18,
      "outputs": []
    },
    {
      "cell_type": "code",
      "metadata": {
        "id": "7qZtnsTzDpOu",
        "colab_type": "code",
        "colab": {
          "base_uri": "https://localhost:8080/",
          "height": 51
        },
        "outputId": "03cebd1d-7814-4211-8442-cec934e79b52"
      },
      "source": [
        "model = LinearRegressionMat()\n",
        "model.fit(features, target)\n",
        "predictions = model.predict(features)\n",
        "print('R2 score (without transformation):', r2_score(target, predictions))\n",
        "\n",
        "features_trans = features @ A   # perform features transforamtion\n",
        "model.fit(features_trans, target)\n",
        "predictions = model.predict(features_trans)\n",
        "print('R2 score (with transformation):', r2_score(target, predictions))"
      ],
      "execution_count": 19,
      "outputs": [
        {
          "output_type": "stream",
          "text": [
            "R2 score (without transformation): 0.4249455028666801\n",
            "R2 score (with transformation): 0.4249455028666522\n"
          ],
          "name": "stdout"
        }
      ]
    },
    {
      "cell_type": "markdown",
      "metadata": {
        "id": "HqNXUt-fDpOz",
        "colab_type": "text"
      },
      "source": [
        "**As we can see above, model accuracy stays the same (up to 12th digit)**"
      ]
    },
    {
      "cell_type": "markdown",
      "metadata": {
        "id": "w1AO_XplDpOz",
        "colab_type": "text"
      },
      "source": [
        "## 4.3 Linear Regression using sklearn"
      ]
    },
    {
      "cell_type": "code",
      "metadata": {
        "id": "ls_pShQ9DpO0",
        "colab_type": "code",
        "colab": {
          "base_uri": "https://localhost:8080/",
          "height": 51
        },
        "outputId": "cff308af-5931-453c-9f30-b1ffd510f020"
      },
      "source": [
        "model = LinearRegression()\n",
        "model.fit(features, target)\n",
        "predictions = model.predict(features)\n",
        "print('R2 score (without transformation):', r2_score(target, predictions))\n",
        "\n",
        "features_trans = features @ A   # perform features transforamtion\n",
        "model.fit(features_trans, target)\n",
        "predictions = model.predict(features_trans)\n",
        "print('R2 score (with transformation):', r2_score(target, predictions))"
      ],
      "execution_count": 20,
      "outputs": [
        {
          "output_type": "stream",
          "text": [
            "R2 score (without transformation): 0.42494550286668\n",
            "R2 score (with transformation): 0.4249455028666811\n"
          ],
          "name": "stdout"
        }
      ]
    },
    {
      "cell_type": "markdown",
      "metadata": {
        "id": "h5uFakepDpO3",
        "colab_type": "text"
      },
      "source": [
        "**As above, we receive exactly same results when we are using sklearn**"
      ]
    },
    {
      "cell_type": "markdown",
      "metadata": {
        "id": "l_IN1aFKDpO4",
        "colab_type": "text"
      },
      "source": [
        "<div class=\"alert alert-success\" role=\"alert\">\n",
        "Great. Correct checking.</div>"
      ]
    }
  ]
}