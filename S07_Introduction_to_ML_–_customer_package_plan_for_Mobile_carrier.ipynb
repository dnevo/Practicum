{
  "nbformat": 4,
  "nbformat_minor": 0,
  "metadata": {
    "kernelspec": {
      "display_name": "Python 3",
      "language": "python",
      "name": "python3"
    },
    "language_info": {
      "codemirror_mode": {
        "name": "ipython",
        "version": 3
      },
      "file_extension": ".py",
      "mimetype": "text/x-python",
      "name": "python",
      "nbconvert_exporter": "python",
      "pygments_lexer": "ipython3",
      "version": "3.7.4"
    },
    "colab": {
      "name": "S07 Introduction to ML – customer package plan for Mobile carrier.ipynb",
      "provenance": [],
      "include_colab_link": true
    }
  },
  "cells": [
    {
      "cell_type": "markdown",
      "metadata": {
        "id": "view-in-github",
        "colab_type": "text"
      },
      "source": [
        "<a href=\"https://colab.research.google.com/github/dnevo/Practicum/blob/master/S07_Introduction_to_ML_%E2%80%93_customer_package_plan_for_Mobile_carrier.ipynb\" target=\"_parent\"><img src=\"https://colab.research.google.com/assets/colab-badge.svg\" alt=\"Open In Colab\"/></a>"
      ]
    },
    {
      "cell_type": "markdown",
      "metadata": {
        "id": "i-YJsXGoz9N6",
        "colab_type": "text"
      },
      "source": [
        "## Review\n",
        "\n",
        "Hi Doron. My name is Soslan. I'm reviewing your work. I've added all my comments to new cells with the title \"Review\". My apologies for the delay in the review. We will be faster next time :)\n",
        "\n",
        "```diff\n",
        "+ If you did something great I'm using green color for my comment\n",
        "- If the topic requires some extra work so I can accept it then the color will be red.\n",
        "```\n",
        "\n",
        "Your project is of good quality. All the checkpoints were done correctly. You did your project in most compact way. Thank you for your work and good luck in future learning.\n",
        "\n",
        "---"
      ]
    },
    {
      "cell_type": "markdown",
      "metadata": {
        "id": "YQZ9jTbN0wYI",
        "colab_type": "text"
      },
      "source": [
        "## The project\n",
        "Mobile carrier Megaline has found out that many of their subscribers use legacy plans. They want to develop a model that would analyze subscribers' behavior and recommend one of Megaline's newer plans: Smart or Ultra.\n",
        "\n",
        "You have access to behavior data about subscribers who have already switched to the new plans (from the project for the Statistical Data Analysis course). For this classification task, you need to develop a model that will pick the right plan. Since you’ve already performed the data preprocessing step, you can move straight to creating the model.\n",
        "\n",
        "Develop a model with the highest possible accuracy. In this project, the threshold for accuracy is 0.75. Check the accuracy using the test dataset."
      ]
    },
    {
      "cell_type": "code",
      "metadata": {
        "id": "1wS_xyUYz9N9",
        "colab_type": "code",
        "colab": {}
      },
      "source": [
        "import pandas as pd\n",
        "import numpy as np\n",
        "from sklearn.model_selection import train_test_split\n",
        "from sklearn.ensemble import RandomForestClassifier\n",
        "from sklearn.linear_model import LogisticRegression\n",
        "from sklearn.metrics import accuracy_score\n",
        "from sklearn.tree import DecisionTreeClassifier\n",
        "pd.set_option('display.width', 200)\n",
        "pd.set_option('display.max_columns', None)\n",
        "pd.options.display.float_format = '{:11,.2f}'.format"
      ],
      "execution_count": 1,
      "outputs": []
    },
    {
      "cell_type": "code",
      "metadata": {
        "id": "wTXLouI2z9OJ",
        "colab_type": "code",
        "colab": {
          "base_uri": "https://localhost:8080/",
          "height": 235
        },
        "outputId": "8af6d2a5-831d-496f-ff73-b1bf5e23e059"
      },
      "source": [
        "df = pd.read_csv('https://raw.githubusercontent.com/dnevo/Practicum/master/datasets/users_behavior.csv',index_col=0)\n",
        "df.head()"
      ],
      "execution_count": 2,
      "outputs": [
        {
          "output_type": "execute_result",
          "data": {
            "text/html": [
              "<div>\n",
              "<style scoped>\n",
              "    .dataframe tbody tr th:only-of-type {\n",
              "        vertical-align: middle;\n",
              "    }\n",
              "\n",
              "    .dataframe tbody tr th {\n",
              "        vertical-align: top;\n",
              "    }\n",
              "\n",
              "    .dataframe thead th {\n",
              "        text-align: right;\n",
              "    }\n",
              "</style>\n",
              "<table border=\"1\" class=\"dataframe\">\n",
              "  <thead>\n",
              "    <tr style=\"text-align: right;\">\n",
              "      <th></th>\n",
              "      <th>minutes</th>\n",
              "      <th>messages</th>\n",
              "      <th>mb_used</th>\n",
              "      <th>is_ultra</th>\n",
              "    </tr>\n",
              "    <tr>\n",
              "      <th>calls</th>\n",
              "      <th></th>\n",
              "      <th></th>\n",
              "      <th></th>\n",
              "      <th></th>\n",
              "    </tr>\n",
              "  </thead>\n",
              "  <tbody>\n",
              "    <tr>\n",
              "      <th>40.00</th>\n",
              "      <td>311.90</td>\n",
              "      <td>83.00</td>\n",
              "      <td>19,915.42</td>\n",
              "      <td>0</td>\n",
              "    </tr>\n",
              "    <tr>\n",
              "      <th>85.00</th>\n",
              "      <td>516.75</td>\n",
              "      <td>56.00</td>\n",
              "      <td>22,696.96</td>\n",
              "      <td>0</td>\n",
              "    </tr>\n",
              "    <tr>\n",
              "      <th>77.00</th>\n",
              "      <td>467.66</td>\n",
              "      <td>86.00</td>\n",
              "      <td>21,060.45</td>\n",
              "      <td>0</td>\n",
              "    </tr>\n",
              "    <tr>\n",
              "      <th>106.00</th>\n",
              "      <td>745.53</td>\n",
              "      <td>81.00</td>\n",
              "      <td>8,437.39</td>\n",
              "      <td>1</td>\n",
              "    </tr>\n",
              "    <tr>\n",
              "      <th>66.00</th>\n",
              "      <td>418.74</td>\n",
              "      <td>1.00</td>\n",
              "      <td>14,502.75</td>\n",
              "      <td>0</td>\n",
              "    </tr>\n",
              "  </tbody>\n",
              "</table>\n",
              "</div>"
            ],
            "text/plain": [
              "           minutes    messages     mb_used  is_ultra\n",
              "calls                                               \n",
              " 40.00      311.90       83.00   19,915.42         0\n",
              " 85.00      516.75       56.00   22,696.96         0\n",
              " 77.00      467.66       86.00   21,060.45         0\n",
              "106.00      745.53       81.00    8,437.39         1\n",
              " 66.00      418.74        1.00   14,502.75         0"
            ]
          },
          "metadata": {
            "tags": []
          },
          "execution_count": 2
        }
      ]
    },
    {
      "cell_type": "markdown",
      "metadata": {
        "id": "zOU42kTiz9OV",
        "colab_type": "text"
      },
      "source": [
        "## Review\n",
        "\n",
        "OK. It is always good idea too check data for missing values etc. \n",
        "\n",
        "---"
      ]
    },
    {
      "cell_type": "markdown",
      "metadata": {
        "id": "EJeUOsCwz9OW",
        "colab_type": "text"
      },
      "source": [
        "### Data set Split\n",
        "The dataset is splitted into 3 groups according to the common practice: train 60%, Validation 20%, test 20%.\n",
        "\n",
        "Since the train_test_split method is designed to split into only 2 groups, we are calling it twice in order to split to three."
      ]
    },
    {
      "cell_type": "code",
      "metadata": {
        "id": "ZWUrjpsXz9OX",
        "colab_type": "code",
        "colab": {}
      },
      "source": [
        "df_train, df_temp = train_test_split(df, test_size=0.4, random_state=12345)\n",
        "df_valid, df_test = train_test_split(df_temp, test_size=0.5, random_state=12345)\n",
        "\n",
        "features_train = df_train.drop(['is_ultra'], axis=1)\n",
        "target_train = df_train['is_ultra']\n",
        "features_valid = df_valid.drop(['is_ultra'], axis=1)\n",
        "target_valid = df_valid['is_ultra']\n",
        "features_test = df_test.drop(['is_ultra'], axis=1)\n",
        "target_test = df_test['is_ultra']"
      ],
      "execution_count": 3,
      "outputs": []
    },
    {
      "cell_type": "markdown",
      "metadata": {
        "id": "7meXbqujz9Ob",
        "colab_type": "text"
      },
      "source": [
        "### Random Forest: best result with n_estimator = 18 (0.782)"
      ]
    },
    {
      "cell_type": "code",
      "metadata": {
        "id": "_effilquz9Oc",
        "colab_type": "code",
        "colab": {
          "base_uri": "https://localhost:8080/",
          "height": 340
        },
        "outputId": "32fdffd5-2dd3-45bb-9762-e08897cdba1b"
      },
      "source": [
        "for n_estim in range(1,20):\n",
        "    model = RandomForestClassifier(random_state=12345, n_estimators=n_estim)\n",
        "    model.fit(features_train, target_train)\n",
        "    predictions_valid = model.predict(features_valid)\n",
        "    print(\"RandomForest n_estimator =\", n_estim, \": \", end='')\n",
        "    print(accuracy_score(target_valid, predictions_valid))"
      ],
      "execution_count": 4,
      "outputs": [
        {
          "output_type": "stream",
          "text": [
            "RandomForest n_estimator = 1 : 0.6749611197511665\n",
            "RandomForest n_estimator = 2 : 0.7356143079315708\n",
            "RandomForest n_estimator = 3 : 0.7231726283048211\n",
            "RandomForest n_estimator = 4 : 0.7465007776049767\n",
            "RandomForest n_estimator = 5 : 0.7465007776049767\n",
            "RandomForest n_estimator = 6 : 0.7573872472783826\n",
            "RandomForest n_estimator = 7 : 0.749611197511664\n",
            "RandomForest n_estimator = 8 : 0.7527216174183515\n",
            "RandomForest n_estimator = 9 : 0.7511664074650077\n",
            "RandomForest n_estimator = 10 : 0.7589424572317263\n",
            "RandomForest n_estimator = 11 : 0.7573872472783826\n",
            "RandomForest n_estimator = 12 : 0.7651632970451011\n",
            "RandomForest n_estimator = 13 : 0.7573872472783826\n",
            "RandomForest n_estimator = 14 : 0.7698289269051322\n",
            "RandomForest n_estimator = 15 : 0.776049766718507\n",
            "RandomForest n_estimator = 16 : 0.776049766718507\n",
            "RandomForest n_estimator = 17 : 0.776049766718507\n",
            "RandomForest n_estimator = 18 : 0.7822706065318819\n",
            "RandomForest n_estimator = 19 : 0.7807153965785381\n"
          ],
          "name": "stdout"
        }
      ]
    },
    {
      "cell_type": "markdown",
      "metadata": {
        "id": "oDJQ7MwDz9Oh",
        "colab_type": "text"
      },
      "source": [
        "### Logistic Regression: accuracy on validation set: 0.707"
      ]
    },
    {
      "cell_type": "code",
      "metadata": {
        "id": "9n0dlnXQz9Oi",
        "colab_type": "code",
        "colab": {
          "base_uri": "https://localhost:8080/",
          "height": 34
        },
        "outputId": "10830f90-6192-485a-e468-748dbc80adc4"
      },
      "source": [
        "model = LogisticRegression(random_state=12345)\n",
        "model.fit(features_train, target_train)\n",
        "predictions_valid = model.predict(features_valid)\n",
        "print(\"LogisticRegression:\", accuracy_score(target_valid, predictions_valid))"
      ],
      "execution_count": 5,
      "outputs": [
        {
          "output_type": "stream",
          "text": [
            "LogisticRegression: 0.7076205287713841\n"
          ],
          "name": "stdout"
        }
      ]
    },
    {
      "cell_type": "markdown",
      "metadata": {
        "id": "T4bedTJFz9Om",
        "colab_type": "text"
      },
      "source": [
        "### Decision Tree: best result is with max_depth = 4 (0.788)"
      ]
    },
    {
      "cell_type": "code",
      "metadata": {
        "id": "H2WFUB7Xz9On",
        "colab_type": "code",
        "colab": {
          "base_uri": "https://localhost:8080/",
          "height": 102
        },
        "outputId": "06e7f109-8bb5-4d54-c6ae-9d09246e5069"
      },
      "source": [
        "for depth in range(1,6):\n",
        "    model = DecisionTreeClassifier(random_state=12345, max_depth=depth)\n",
        "    model.fit(features_train, target_train)\n",
        "    predictions_valid = model.predict(features_valid)\n",
        "    print(\"DecisionTree max_depth =\", depth, \": \", end='')\n",
        "    print(accuracy_score(target_valid, predictions_valid))"
      ],
      "execution_count": 6,
      "outputs": [
        {
          "output_type": "stream",
          "text": [
            "DecisionTree max_depth = 1 : 0.7542768273716952\n",
            "DecisionTree max_depth = 2 : 0.7822706065318819\n",
            "DecisionTree max_depth = 3 : 0.7853810264385692\n",
            "DecisionTree max_depth = 4 : 0.7884914463452566\n",
            "DecisionTree max_depth = 5 : 0.7884914463452566\n"
          ],
          "name": "stdout"
        }
      ]
    },
    {
      "cell_type": "markdown",
      "metadata": {
        "id": "RdrmKYmfz9Os",
        "colab_type": "text"
      },
      "source": [
        "### Summary of above\n",
        "We have made a comparison of 3 models: Random Forest, Logistic Regression and Decision Tree. As from the results, Decision Tree (with max_depth = 4) provides best accuracy: 78.8%"
      ]
    },
    {
      "cell_type": "code",
      "metadata": {
        "scrolled": true,
        "id": "hQ2G4DHIz9Ot",
        "colab_type": "code",
        "colab": {
          "base_uri": "https://localhost:8080/",
          "height": 34
        },
        "outputId": "2d37d46c-4caa-451c-82e0-4123fc3613a3"
      },
      "source": [
        "model = DecisionTreeClassifier(random_state=12345, max_depth=4)\n",
        "model.fit(features_train, target_train)\n",
        "predictions_valid = model.predict(features_valid)\n",
        "print(accuracy_score(target_valid, predictions_valid))"
      ],
      "execution_count": 7,
      "outputs": [
        {
          "output_type": "stream",
          "text": [
            "0.7884914463452566\n"
          ],
          "name": "stdout"
        }
      ]
    },
    {
      "cell_type": "markdown",
      "metadata": {
        "id": "aQ2nUI-6z9Ox",
        "colab_type": "text"
      },
      "source": [
        "## Review\n",
        "\n",
        "```diff\n",
        "+ Everything is comact and correct. Good job.\n",
        "```\n",
        "\n",
        "---"
      ]
    },
    {
      "cell_type": "markdown",
      "metadata": {
        "id": "-14rGmcLz9Oy",
        "colab_type": "text"
      },
      "source": [
        "### Conclusion\n",
        "The last step, is checking accuracy on the test set. The accuracy remains similar 78.1% - which is above the target of 75% that we have set."
      ]
    },
    {
      "cell_type": "code",
      "metadata": {
        "id": "AovqcK8Iz9Oz",
        "colab_type": "code",
        "colab": {
          "base_uri": "https://localhost:8080/",
          "height": 34
        },
        "outputId": "78dcc1a8-56e7-45de-c62c-ba93daed881a"
      },
      "source": [
        "predictions_test = model.predict(features_test)\n",
        "print(accuracy_score(target_test, predictions_test))"
      ],
      "execution_count": 8,
      "outputs": [
        {
          "output_type": "stream",
          "text": [
            "0.7807153965785381\n"
          ],
          "name": "stdout"
        }
      ]
    },
    {
      "cell_type": "markdown",
      "metadata": {
        "id": "6J2x6Wa1z9O3",
        "colab_type": "text"
      },
      "source": [
        "## Review\n",
        "\n",
        "```diff\n",
        "+ All steps were done correctly\n",
        "```\n",
        "\n",
        "---"
      ]
    }
  ]
}