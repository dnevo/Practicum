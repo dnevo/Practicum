{
  "nbformat": 4,
  "nbformat_minor": 0,
  "metadata": {
    "kernelspec": {
      "display_name": "Python 3",
      "language": "python",
      "name": "python3"
    },
    "language_info": {
      "codemirror_mode": {
        "name": "ipython",
        "version": 3
      },
      "file_extension": ".py",
      "mimetype": "text/x-python",
      "name": "python",
      "nbconvert_exporter": "python",
      "pygments_lexer": "ipython3",
      "version": "3.7.4"
    },
    "colab": {
      "name": "S06 Data Collection SQL – hypothesis on taxi rides duration on rainy day.ipynb",
      "provenance": [],
      "include_colab_link": true
    }
  },
  "cells": [
    {
      "cell_type": "markdown",
      "metadata": {
        "id": "view-in-github",
        "colab_type": "text"
      },
      "source": [
        "<a href=\"https://colab.research.google.com/github/dnevo/Practicum/blob/master/S06_Data_Collection_SQL_%E2%80%93_hypothesis_on_taxi_rides_duration_on_rainy_day.ipynb\" target=\"_parent\"><img src=\"https://colab.research.google.com/assets/colab-badge.svg\" alt=\"Open In Colab\"/></a>"
      ]
    },
    {
      "cell_type": "markdown",
      "metadata": {
        "id": "Vwysya78xWKA",
        "colab_type": "text"
      },
      "source": [
        "<div class=\"alert alert-block alert-info\">\n",
        "<h2> Comments </h2>\n",
        "</div>\n",
        "\n",
        "Hi Doron,\n",
        "\n",
        "I have checked you work and left comments in such cells. Cells are of two types:\n",
        "\n",
        "<div class=\"alert alert-block alert-danger\">\n",
        "<p> <strong> A red colored cell </strong> indicates that you need to improve or adjust part of the project above. </p>\n",
        "</div>\n",
        "<div class=\"alert alert-block alert-info\">\n",
        "<p> <strong> A blue colored cell </strong> indicates that no improvements are needed in the cells above. May include some suggestions and recommendations.</p>\n",
        "</div>\n",
        "\n",
        "Hope it all will be clear to you :)\n",
        "\n",
        "Project is accepted :)\n",
        "\n",
        "*Good luck!*\n",
        "\n",
        "------------"
      ]
    },
    {
      "cell_type": "code",
      "metadata": {
        "id": "WcVh3OJExWKB",
        "colab_type": "code",
        "colab": {}
      },
      "source": [
        "import pandas as pd\n",
        "import numpy as np\n",
        "pd.set_option('display.width', 200)\n",
        "pd.set_option('display.max_columns', None)\n",
        "pd.options.display.float_format = '{:11,.2f}'.format"
      ],
      "execution_count": 1,
      "outputs": []
    },
    {
      "cell_type": "markdown",
      "metadata": {
        "id": "UUW-HQ9mxWKH",
        "colab_type": "text"
      },
      "source": [
        "## Step 4. Exploratory data analysis"
      ]
    },
    {
      "cell_type": "markdown",
      "metadata": {
        "id": "sfrpvp_exWKI",
        "colab_type": "text"
      },
      "source": [
        "**project_sql_result_01.csv**:\n",
        "- company_name: taxi company name\n",
        "- trips_amount: the number of rides for each taxi company on November 15-16, 2017."
      ]
    },
    {
      "cell_type": "code",
      "metadata": {
        "id": "VArBpvH3xWKJ",
        "colab_type": "code",
        "colab": {
          "base_uri": "https://localhost:8080/",
          "height": 204
        },
        "outputId": "30ab775e-e9f5-40d0-f1e0-e5fdc5f080d1"
      },
      "source": [
        "companies_trips = pd.read_csv('https://raw.githubusercontent.com/dnevo/Practicum/master/datasets/project_sql_result_01.csv')\n",
        "companies_trips.head()"
      ],
      "execution_count": 5,
      "outputs": [
        {
          "output_type": "execute_result",
          "data": {
            "text/html": [
              "<div>\n",
              "<style scoped>\n",
              "    .dataframe tbody tr th:only-of-type {\n",
              "        vertical-align: middle;\n",
              "    }\n",
              "\n",
              "    .dataframe tbody tr th {\n",
              "        vertical-align: top;\n",
              "    }\n",
              "\n",
              "    .dataframe thead th {\n",
              "        text-align: right;\n",
              "    }\n",
              "</style>\n",
              "<table border=\"1\" class=\"dataframe\">\n",
              "  <thead>\n",
              "    <tr style=\"text-align: right;\">\n",
              "      <th></th>\n",
              "      <th>company_name</th>\n",
              "      <th>trips_amount</th>\n",
              "    </tr>\n",
              "  </thead>\n",
              "  <tbody>\n",
              "    <tr>\n",
              "      <th>0</th>\n",
              "      <td>Flash Cab</td>\n",
              "      <td>19558</td>\n",
              "    </tr>\n",
              "    <tr>\n",
              "      <th>1</th>\n",
              "      <td>Taxi Affiliation Services</td>\n",
              "      <td>11422</td>\n",
              "    </tr>\n",
              "    <tr>\n",
              "      <th>2</th>\n",
              "      <td>Medallion Leasin</td>\n",
              "      <td>10367</td>\n",
              "    </tr>\n",
              "    <tr>\n",
              "      <th>3</th>\n",
              "      <td>Yellow Cab</td>\n",
              "      <td>9888</td>\n",
              "    </tr>\n",
              "    <tr>\n",
              "      <th>4</th>\n",
              "      <td>Taxi Affiliation Service Yellow</td>\n",
              "      <td>9299</td>\n",
              "    </tr>\n",
              "  </tbody>\n",
              "</table>\n",
              "</div>"
            ],
            "text/plain": [
              "                      company_name  trips_amount\n",
              "0                        Flash Cab         19558\n",
              "1        Taxi Affiliation Services         11422\n",
              "2                 Medallion Leasin         10367\n",
              "3                       Yellow Cab          9888\n",
              "4  Taxi Affiliation Service Yellow          9299"
            ]
          },
          "metadata": {
            "tags": []
          },
          "execution_count": 5
        }
      ]
    },
    {
      "cell_type": "code",
      "metadata": {
        "id": "RVlJ-zs4xWKP",
        "colab_type": "code",
        "colab": {
          "base_uri": "https://localhost:8080/",
          "height": 297
        },
        "outputId": "86803d93-2cad-4afa-f17c-4834acb58b05"
      },
      "source": [
        "companies_trips.describe()"
      ],
      "execution_count": 6,
      "outputs": [
        {
          "output_type": "execute_result",
          "data": {
            "text/html": [
              "<div>\n",
              "<style scoped>\n",
              "    .dataframe tbody tr th:only-of-type {\n",
              "        vertical-align: middle;\n",
              "    }\n",
              "\n",
              "    .dataframe tbody tr th {\n",
              "        vertical-align: top;\n",
              "    }\n",
              "\n",
              "    .dataframe thead th {\n",
              "        text-align: right;\n",
              "    }\n",
              "</style>\n",
              "<table border=\"1\" class=\"dataframe\">\n",
              "  <thead>\n",
              "    <tr style=\"text-align: right;\">\n",
              "      <th></th>\n",
              "      <th>trips_amount</th>\n",
              "    </tr>\n",
              "  </thead>\n",
              "  <tbody>\n",
              "    <tr>\n",
              "      <th>count</th>\n",
              "      <td>64.00</td>\n",
              "    </tr>\n",
              "    <tr>\n",
              "      <th>mean</th>\n",
              "      <td>2,145.48</td>\n",
              "    </tr>\n",
              "    <tr>\n",
              "      <th>std</th>\n",
              "      <td>3,812.31</td>\n",
              "    </tr>\n",
              "    <tr>\n",
              "      <th>min</th>\n",
              "      <td>2.00</td>\n",
              "    </tr>\n",
              "    <tr>\n",
              "      <th>25%</th>\n",
              "      <td>20.75</td>\n",
              "    </tr>\n",
              "    <tr>\n",
              "      <th>50%</th>\n",
              "      <td>178.50</td>\n",
              "    </tr>\n",
              "    <tr>\n",
              "      <th>75%</th>\n",
              "      <td>2,106.50</td>\n",
              "    </tr>\n",
              "    <tr>\n",
              "      <th>max</th>\n",
              "      <td>19,558.00</td>\n",
              "    </tr>\n",
              "  </tbody>\n",
              "</table>\n",
              "</div>"
            ],
            "text/plain": [
              "       trips_amount\n",
              "count         64.00\n",
              "mean       2,145.48\n",
              "std        3,812.31\n",
              "min            2.00\n",
              "25%           20.75\n",
              "50%          178.50\n",
              "75%        2,106.50\n",
              "max       19,558.00"
            ]
          },
          "metadata": {
            "tags": []
          },
          "execution_count": 6
        }
      ]
    },
    {
      "cell_type": "markdown",
      "metadata": {
        "id": "SrLqoRToxWKU",
        "colab_type": "text"
      },
      "source": [
        "**Trips per companies:** As can be noted in the quartiles above and the bar plot bellow, the distribution is very squewed, with the top 10 companies (out of 64 in total), dominating the market. The company 'Flash Cab' is top one, with almost double number of trips than the next one."
      ]
    },
    {
      "cell_type": "code",
      "metadata": {
        "id": "paTx0QlPxWKV",
        "colab_type": "code",
        "colab": {
          "base_uri": "https://localhost:8080/",
          "height": 498
        },
        "outputId": "ed54916f-1ae3-4ba8-d729-dedc0b3df52a"
      },
      "source": [
        "companies_trips.plot(kind='bar', x='company_name',y='trips_amount',figsize=(20,4));"
      ],
      "execution_count": 7,
      "outputs": [
        {
          "output_type": "display_data",
          "data": {
            "image/png": "[encoded data removed]",
            "text/plain": [
              "<Figure size 1440x288 with 1 Axes>"
            ]
          },
          "metadata": {
            "tags": [],
            "needs_background": "light"
          }
        }
      ]
    },
    {
      "cell_type": "markdown",
      "metadata": {
        "id": "sCExuS_cxWKa",
        "colab_type": "text"
      },
      "source": [
        "**project_sql_result_04.csv**:\n",
        "- dropoff_location_name: Chicago neighborhoods where rides ended\n",
        "- average_trips: the average number of rides that ended in each neighborhood in November 2017."
      ]
    },
    {
      "cell_type": "code",
      "metadata": {
        "id": "gxUwx_8ExWKb",
        "colab_type": "code",
        "colab": {
          "base_uri": "https://localhost:8080/",
          "height": 204
        },
        "outputId": "5d71cbd0-8b95-4ff1-e540-b851356db17b"
      },
      "source": [
        "dropoffs = pd.read_csv('https://raw.githubusercontent.com/dnevo/Practicum/master/datasets/project_sql_result_04.csv')\n",
        "dropoffs.head()"
      ],
      "execution_count": 8,
      "outputs": [
        {
          "output_type": "execute_result",
          "data": {
            "text/html": [
              "<div>\n",
              "<style scoped>\n",
              "    .dataframe tbody tr th:only-of-type {\n",
              "        vertical-align: middle;\n",
              "    }\n",
              "\n",
              "    .dataframe tbody tr th {\n",
              "        vertical-align: top;\n",
              "    }\n",
              "\n",
              "    .dataframe thead th {\n",
              "        text-align: right;\n",
              "    }\n",
              "</style>\n",
              "<table border=\"1\" class=\"dataframe\">\n",
              "  <thead>\n",
              "    <tr style=\"text-align: right;\">\n",
              "      <th></th>\n",
              "      <th>dropoff_location_name</th>\n",
              "      <th>average_trips</th>\n",
              "    </tr>\n",
              "  </thead>\n",
              "  <tbody>\n",
              "    <tr>\n",
              "      <th>0</th>\n",
              "      <td>Loop</td>\n",
              "      <td>10,727.47</td>\n",
              "    </tr>\n",
              "    <tr>\n",
              "      <th>1</th>\n",
              "      <td>River North</td>\n",
              "      <td>9,523.67</td>\n",
              "    </tr>\n",
              "    <tr>\n",
              "      <th>2</th>\n",
              "      <td>Streeterville</td>\n",
              "      <td>6,664.67</td>\n",
              "    </tr>\n",
              "    <tr>\n",
              "      <th>3</th>\n",
              "      <td>West Loop</td>\n",
              "      <td>5,163.67</td>\n",
              "    </tr>\n",
              "    <tr>\n",
              "      <th>4</th>\n",
              "      <td>O'Hare</td>\n",
              "      <td>2,546.90</td>\n",
              "    </tr>\n",
              "  </tbody>\n",
              "</table>\n",
              "</div>"
            ],
            "text/plain": [
              "  dropoff_location_name  average_trips\n",
              "0                  Loop      10,727.47\n",
              "1           River North       9,523.67\n",
              "2         Streeterville       6,664.67\n",
              "3             West Loop       5,163.67\n",
              "4                O'Hare       2,546.90"
            ]
          },
          "metadata": {
            "tags": []
          },
          "execution_count": 8
        }
      ]
    },
    {
      "cell_type": "code",
      "metadata": {
        "id": "A-6vZZ3dxWKf",
        "colab_type": "code",
        "colab": {
          "base_uri": "https://localhost:8080/",
          "height": 297
        },
        "outputId": "8c435452-2785-4d8d-c728-1053f09d020f"
      },
      "source": [
        "dropoffs.describe()"
      ],
      "execution_count": 9,
      "outputs": [
        {
          "output_type": "execute_result",
          "data": {
            "text/html": [
              "<div>\n",
              "<style scoped>\n",
              "    .dataframe tbody tr th:only-of-type {\n",
              "        vertical-align: middle;\n",
              "    }\n",
              "\n",
              "    .dataframe tbody tr th {\n",
              "        vertical-align: top;\n",
              "    }\n",
              "\n",
              "    .dataframe thead th {\n",
              "        text-align: right;\n",
              "    }\n",
              "</style>\n",
              "<table border=\"1\" class=\"dataframe\">\n",
              "  <thead>\n",
              "    <tr style=\"text-align: right;\">\n",
              "      <th></th>\n",
              "      <th>average_trips</th>\n",
              "    </tr>\n",
              "  </thead>\n",
              "  <tbody>\n",
              "    <tr>\n",
              "      <th>count</th>\n",
              "      <td>94.00</td>\n",
              "    </tr>\n",
              "    <tr>\n",
              "      <th>mean</th>\n",
              "      <td>599.95</td>\n",
              "    </tr>\n",
              "    <tr>\n",
              "      <th>std</th>\n",
              "      <td>1,714.59</td>\n",
              "    </tr>\n",
              "    <tr>\n",
              "      <th>min</th>\n",
              "      <td>1.80</td>\n",
              "    </tr>\n",
              "    <tr>\n",
              "      <th>25%</th>\n",
              "      <td>14.27</td>\n",
              "    </tr>\n",
              "    <tr>\n",
              "      <th>50%</th>\n",
              "      <td>52.02</td>\n",
              "    </tr>\n",
              "    <tr>\n",
              "      <th>75%</th>\n",
              "      <td>298.86</td>\n",
              "    </tr>\n",
              "    <tr>\n",
              "      <th>max</th>\n",
              "      <td>10,727.47</td>\n",
              "    </tr>\n",
              "  </tbody>\n",
              "</table>\n",
              "</div>"
            ],
            "text/plain": [
              "       average_trips\n",
              "count          94.00\n",
              "mean          599.95\n",
              "std         1,714.59\n",
              "min             1.80\n",
              "25%            14.27\n",
              "50%            52.02\n",
              "75%           298.86\n",
              "max        10,727.47"
            ]
          },
          "metadata": {
            "tags": []
          },
          "execution_count": 9
        }
      ]
    },
    {
      "cell_type": "markdown",
      "metadata": {
        "id": "UTam03BVxWKk",
        "colab_type": "text"
      },
      "source": [
        "**dropoff locations distribution:** the distribution of the 94 locations is very squewed, with first 4 locations taking most of the drops."
      ]
    },
    {
      "cell_type": "markdown",
      "metadata": {
        "id": "uLoYf3WTxWKl",
        "colab_type": "text"
      },
      "source": [
        "### The top 10 neighborhoods in terms of drop-offs:"
      ]
    },
    {
      "cell_type": "code",
      "metadata": {
        "id": "893ITyqkxWKm",
        "colab_type": "code",
        "colab": {
          "base_uri": "https://localhost:8080/",
          "height": 363
        },
        "outputId": "c8b6a743-0457-4a65-cfed-c22d416871fb"
      },
      "source": [
        "dropoffs.sort_values(by='average_trips',ascending=False).head(10).plot(kind='bar', x='dropoff_location_name',y='average_trips');"
      ],
      "execution_count": 10,
      "outputs": [
        {
          "output_type": "display_data",
          "data": {
            "image/png": "[encoded data removed]",
            "text/plain": [
              "<Figure size 432x288 with 1 Axes>"
            ]
          },
          "metadata": {
            "tags": [],
            "needs_background": "light"
          }
        }
      ]
    },
    {
      "cell_type": "markdown",
      "metadata": {
        "id": "vbxhn-wWxWKs",
        "colab_type": "text"
      },
      "source": [
        "**project_sql_result_07.csv** - data on rides from the Loop to O'Hare International Airport. Remember, these are the table's field values:\n",
        "- start_ts: pickup date and time\n",
        "- weather_conditions: weather conditions at the moment the ride started\n",
        "- duration_seconds: ride duration in seconds\n",
        "\n",
        "Note: all the dates are for Saturdays (and not for Sundays as described in the instructions..)"
      ]
    },
    {
      "cell_type": "code",
      "metadata": {
        "id": "ZCaHG5F4xWKs",
        "colab_type": "code",
        "colab": {
          "base_uri": "https://localhost:8080/",
          "height": 266
        },
        "outputId": "01c4e25e-4538-428e-85b1-ce873aab4688"
      },
      "source": [
        "trips = pd.read_csv('https://raw.githubusercontent.com/dnevo/Practicum/master/datasets/project_sql_result_07.csv',parse_dates=['start_ts'])\n",
        "trips.head(7)"
      ],
      "execution_count": 11,
      "outputs": [
        {
          "output_type": "execute_result",
          "data": {
            "text/html": [
              "<div>\n",
              "<style scoped>\n",
              "    .dataframe tbody tr th:only-of-type {\n",
              "        vertical-align: middle;\n",
              "    }\n",
              "\n",
              "    .dataframe tbody tr th {\n",
              "        vertical-align: top;\n",
              "    }\n",
              "\n",
              "    .dataframe thead th {\n",
              "        text-align: right;\n",
              "    }\n",
              "</style>\n",
              "<table border=\"1\" class=\"dataframe\">\n",
              "  <thead>\n",
              "    <tr style=\"text-align: right;\">\n",
              "      <th></th>\n",
              "      <th>start_ts</th>\n",
              "      <th>weather_conditions</th>\n",
              "      <th>duration_seconds</th>\n",
              "    </tr>\n",
              "  </thead>\n",
              "  <tbody>\n",
              "    <tr>\n",
              "      <th>0</th>\n",
              "      <td>2017-11-25 16:00:00</td>\n",
              "      <td>Good</td>\n",
              "      <td>2,410.00</td>\n",
              "    </tr>\n",
              "    <tr>\n",
              "      <th>1</th>\n",
              "      <td>2017-11-25 14:00:00</td>\n",
              "      <td>Good</td>\n",
              "      <td>1,920.00</td>\n",
              "    </tr>\n",
              "    <tr>\n",
              "      <th>2</th>\n",
              "      <td>2017-11-25 12:00:00</td>\n",
              "      <td>Good</td>\n",
              "      <td>1,543.00</td>\n",
              "    </tr>\n",
              "    <tr>\n",
              "      <th>3</th>\n",
              "      <td>2017-11-04 10:00:00</td>\n",
              "      <td>Good</td>\n",
              "      <td>2,512.00</td>\n",
              "    </tr>\n",
              "    <tr>\n",
              "      <th>4</th>\n",
              "      <td>2017-11-11 07:00:00</td>\n",
              "      <td>Good</td>\n",
              "      <td>1,440.00</td>\n",
              "    </tr>\n",
              "    <tr>\n",
              "      <th>5</th>\n",
              "      <td>2017-11-11 04:00:00</td>\n",
              "      <td>Good</td>\n",
              "      <td>1,320.00</td>\n",
              "    </tr>\n",
              "    <tr>\n",
              "      <th>6</th>\n",
              "      <td>2017-11-04 16:00:00</td>\n",
              "      <td>Bad</td>\n",
              "      <td>2,969.00</td>\n",
              "    </tr>\n",
              "  </tbody>\n",
              "</table>\n",
              "</div>"
            ],
            "text/plain": [
              "             start_ts weather_conditions  duration_seconds\n",
              "0 2017-11-25 16:00:00               Good          2,410.00\n",
              "1 2017-11-25 14:00:00               Good          1,920.00\n",
              "2 2017-11-25 12:00:00               Good          1,543.00\n",
              "3 2017-11-04 10:00:00               Good          2,512.00\n",
              "4 2017-11-11 07:00:00               Good          1,440.00\n",
              "5 2017-11-11 04:00:00               Good          1,320.00\n",
              "6 2017-11-04 16:00:00                Bad          2,969.00"
            ]
          },
          "metadata": {
            "tags": []
          },
          "execution_count": 11
        }
      ]
    },
    {
      "cell_type": "markdown",
      "metadata": {
        "id": "QUgquWrdxWKw",
        "colab_type": "text"
      },
      "source": [
        "As can be note below, it is quite clear that average ride duration in 'Bad' weather is longer that in case of 'Good' weather."
      ]
    },
    {
      "cell_type": "code",
      "metadata": {
        "id": "Ob9-8ZvGxWKx",
        "colab_type": "code",
        "colab": {
          "base_uri": "https://localhost:8080/",
          "height": 51
        },
        "outputId": "7c16d481-b283-4d65-d9d5-4e9c9056df1c"
      },
      "source": [
        "durations_bad = trips[trips['weather_conditions']=='Bad']['duration_seconds']\n",
        "print('Bad weather durations:n={:d}, mean={:.2f}'.format(len(durations_bad),durations_bad.mean()))\n",
        "\n",
        "durations_good = trips[trips['weather_conditions']=='Good']['duration_seconds']\n",
        "print('Good weather durations:n={:d}, mean={:.2f}'.format(len(durations_good),durations_good.mean()))"
      ],
      "execution_count": 12,
      "outputs": [
        {
          "output_type": "stream",
          "text": [
            "Bad weather durations:n=180, mean=2427.21\n",
            "Good weather durations:n=888, mean=1999.68\n"
          ],
          "name": "stdout"
        }
      ]
    },
    {
      "cell_type": "code",
      "metadata": {
        "id": "cQbqd0MaxWK2",
        "colab_type": "code",
        "colab": {
          "base_uri": "https://localhost:8080/",
          "height": 265
        },
        "outputId": "067225cb-1c9a-4956-86a1-d3893a5293ec"
      },
      "source": [
        "pd.DataFrame({'bad':durations_bad,'good':durations_good}).plot(kind='box');"
      ],
      "execution_count": 13,
      "outputs": [
        {
          "output_type": "display_data",
          "data": {
            "image/png": "[encoded data removed]",
            "text/plain": [
              "<Figure size 432x288 with 1 Axes>"
            ]
          },
          "metadata": {
            "tags": [],
            "needs_background": "light"
          }
        }
      ]
    },
    {
      "cell_type": "markdown",
      "metadata": {
        "id": "Ak7j5JROxWK6",
        "colab_type": "text"
      },
      "source": [
        "<div class=\"alert alert-block alert-info\">\n",
        "<h2> Comments </h2>\n",
        "</div>\n",
        "\n",
        "Good :)\n",
        "\n",
        "Do not forget to name graphs and their axis :)\n",
        "\n",
        "------------"
      ]
    },
    {
      "cell_type": "markdown",
      "metadata": {
        "id": "058KXvTQxWK6",
        "colab_type": "text"
      },
      "source": [
        "## Step 5. Testing hypotheses"
      ]
    },
    {
      "cell_type": "markdown",
      "metadata": {
        "id": "opowTOyrxWK7",
        "colab_type": "text"
      },
      "source": [
        "#### Testing hypothesis that Average rides duration in case of rainy Sunday is NOT higher than in case of non-rainy Sunday\n",
        "The formulation we use:\n",
        "- H0: Average rides duration in case of rainy Sunday IS NOT higher than in case of non-rainy Sunday.\n",
        "- H1: Average rides duration in case of rainy Sunday IS higher than in case of non-rainy Sunday."
      ]
    },
    {
      "cell_type": "code",
      "metadata": {
        "scrolled": true,
        "id": "Hm3jtvJAxWK8",
        "colab_type": "code",
        "colab": {
          "base_uri": "https://localhost:8080/",
          "height": 51
        },
        "outputId": "4919a76d-eb87-4eff-82a1-3a138bf33567"
      },
      "source": [
        "from scipy import stats as st\n",
        "\n",
        "alpha = .05 # critical statistical significance\n",
        "results = st.ttest_ind(\n",
        "        durations_bad, \n",
        "        durations_good, equal_var=False)\n",
        "print('p-value: ', results.pvalue / 2)  # one-sided test: p-value will be halved\n",
        "if (results.pvalue / 2 < alpha):\n",
        "        print(\"H0 rejected: Average rides duration in case of rainy Sunday IS higher than in case of non-rainy Sunday\")\n",
        "else:\n",
        "        print(\"H0 cannot be rejected: Average rides duration in case of rainy Sunday IS NOT higher than in case of non-rainy Sunday\")"
      ],
      "execution_count": 14,
      "outputs": [
        {
          "output_type": "stream",
          "text": [
            "p-value:  3.369497163054367e-12\n",
            "H0 rejected: Average rides duration in case of rainy Sunday IS higher than in case of non-rainy Sunday\n"
          ],
          "name": "stdout"
        }
      ]
    },
    {
      "cell_type": "markdown",
      "metadata": {
        "id": "lmdd2LgNxWLA",
        "colab_type": "text"
      },
      "source": [
        "<div class=\"alert alert-block alert-info\">\n",
        "<h2> Comments </h2>\n",
        "</div>\n",
        "\n",
        "Okay :)\n",
        "\n",
        "------------"
      ]
    },
    {
      "cell_type": "markdown",
      "metadata": {
        "id": "DqfG2QnPxWLA",
        "colab_type": "text"
      },
      "source": [
        "## Final conclusions\n",
        "\n",
        "- There are 64 companies, but the top 10 companies take the majority of the rides, with 'Flash Cab' having  almost double number of trips than the next one.\n",
        "- Most of the drops are to 4 locations (out of 94).\n",
        "- The weather in Chicago is 'not so bad' - 888 rides in Good weather compared to 180 in bad weather.\n",
        "- The average ride duration is longer in case of Bad weather - 2427 secs (40 minutes) compared to 1999 secs (33 minutes)"
      ]
    },
    {
      "cell_type": "markdown",
      "metadata": {
        "id": "wDK2D_vKxWLB",
        "colab_type": "text"
      },
      "source": [
        "<div class=\"alert alert-block alert-info\">\n",
        "<h2> Comments </h2>\n",
        "</div>\n",
        "\n",
        "Okay :)\n",
        "\n",
        "------------"
      ]
    }
  ]
}