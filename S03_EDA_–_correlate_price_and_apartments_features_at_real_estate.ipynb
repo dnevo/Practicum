{
  "nbformat": 4,
  "nbformat_minor": 0,
  "metadata": {
    "kernelspec": {
      "display_name": "Python 3",
      "language": "python",
      "name": "python3"
    },
    "language_info": {
      "codemirror_mode": {
        "name": "ipython",
        "version": 3
      },
      "file_extension": ".py",
      "mimetype": "text/x-python",
      "name": "python",
      "nbconvert_exporter": "python",
      "pygments_lexer": "ipython3",
      "version": "3.7.4"
    },
    "colab": {
      "name": "S03 EDA – correlate price and apartments features at real estate.ipynb",
      "provenance": [],
      "collapsed_sections": [
        "jav1t_Wm634H",
        "j5j7BJOj634f"
      ],
      "include_colab_link": true
    }
  },
  "cells": [
    {
      "cell_type": "markdown",
      "metadata": {
        "id": "view-in-github",
        "colab_type": "text"
      },
      "source": [
        "<a href=\"https://colab.research.google.com/github/dnevo/Practicum/blob/master/S03_EDA_%E2%80%93_correlate_price_and_apartments_features_at_real_estate.ipynb\" target=\"_parent\"><img src=\"https://colab.research.google.com/assets/colab-badge.svg\" alt=\"Open In Colab\"/></a>"
      ]
    },
    {
      "cell_type": "markdown",
      "metadata": {
        "id": "r6R2xa9s632C",
        "colab_type": "text"
      },
      "source": [
        "# <span style=\"color:Green\">Project Review</span>\n",
        "\n",
        "Hello, I am Dmitry. I occassionaly review students' projects as a tutor. I am happy this is your second project, that is an indicator you probably find our program useful. You can find my comments in <span style=\"color:Green\">green</span> in separate Markdown cells throughout your project (when appropriate).\n",
        "\n",
        "---\n",
        "\n",
        "<span style=\"color:Green\">\n",
        "\n",
        "**2020-02-25 DD**\n",
        "\n",
        "The first review. Accepted.\n",
        "\n",
        "</span>"
      ]
    },
    {
      "cell_type": "markdown",
      "metadata": {
        "id": "r_lAaiJD632F",
        "colab_type": "text"
      },
      "source": [
        "# Research on apartment sales ads\n",
        "\n",
        "You will have the data from a real estate agency. It is an archive of sales ads for realty in St. Petersburg, Russia, and the surrounding areas collected over the past few years. You’ll need to learn how to determine the market value of real estate properties. Your task is to define the parameters. This will make it possible to build an automated system that is capable of detecting anomalies and fraudulent activity.\n",
        "\n",
        "There are two different types of data available for every apartment for sale. The first type is a user’s input. The second type is received automatically based upon the map data. For example, the distance from the downtown area, airport, the nearest park or body of water. "
      ]
    },
    {
      "cell_type": "markdown",
      "metadata": {
        "id": "qBwA6R0q632G",
        "colab_type": "text"
      },
      "source": [
        "### Step 1. Open the data file and study the general information. "
      ]
    },
    {
      "cell_type": "code",
      "metadata": {
        "id": "cXDgyuzC632J",
        "colab_type": "code",
        "colab": {
          "base_uri": "https://localhost:8080/",
          "height": 309
        },
        "outputId": "d13a6ace-d77b-43bb-cf32-2ac2198681fb"
      },
      "source": [
        "import pandas as pd\n",
        "pd.options.display.max_columns=200\n",
        "pd.options.display.float_format = '{:20,.2f}'.format\n",
        "sales_ads = pd.read_csv('https://raw.githubusercontent.com/dnevo/Practicum/master/datasets/real_estate_data_us.csv',delimiter='\\t')\n",
        "sales_ads.head()"
      ],
      "execution_count": 85,
      "outputs": [
        {
          "output_type": "execute_result",
          "data": {
            "text/html": [
              "<div>\n",
              "<style scoped>\n",
              "    .dataframe tbody tr th:only-of-type {\n",
              "        vertical-align: middle;\n",
              "    }\n",
              "\n",
              "    .dataframe tbody tr th {\n",
              "        vertical-align: top;\n",
              "    }\n",
              "\n",
              "    .dataframe thead th {\n",
              "        text-align: right;\n",
              "    }\n",
              "</style>\n",
              "<table border=\"1\" class=\"dataframe\">\n",
              "  <thead>\n",
              "    <tr style=\"text-align: right;\">\n",
              "      <th></th>\n",
              "      <th>date_posted</th>\n",
              "      <th>days_listed</th>\n",
              "      <th>last_price</th>\n",
              "      <th>bedrooms</th>\n",
              "      <th>kitchen_area</th>\n",
              "      <th>living_area</th>\n",
              "      <th>total_area</th>\n",
              "      <th>balconies</th>\n",
              "      <th>ceiling_height</th>\n",
              "      <th>floors_total</th>\n",
              "      <th>floor</th>\n",
              "      <th>total_images</th>\n",
              "      <th>bike_parking</th>\n",
              "      <th>is_studio</th>\n",
              "      <th>is_open_plan</th>\n",
              "      <th>locality_name</th>\n",
              "      <th>airport_dist</th>\n",
              "      <th>city_center_dist</th>\n",
              "      <th>park_dist</th>\n",
              "      <th>parks_within_3000</th>\n",
              "      <th>pond_dist</th>\n",
              "      <th>ponds_within_3000</th>\n",
              "    </tr>\n",
              "  </thead>\n",
              "  <tbody>\n",
              "    <tr>\n",
              "      <th>0</th>\n",
              "      <td>2019-03-07T00:00:00</td>\n",
              "      <td>nan</td>\n",
              "      <td>260,000.00</td>\n",
              "      <td>3</td>\n",
              "      <td>25.00</td>\n",
              "      <td>51.00</td>\n",
              "      <td>108.00</td>\n",
              "      <td>nan</td>\n",
              "      <td>2.70</td>\n",
              "      <td>16.00</td>\n",
              "      <td>8</td>\n",
              "      <td>20</td>\n",
              "      <td>NaN</td>\n",
              "      <td>False</td>\n",
              "      <td>False</td>\n",
              "      <td>Saint Petersburg</td>\n",
              "      <td>18,863.00</td>\n",
              "      <td>16,028.00</td>\n",
              "      <td>482.00</td>\n",
              "      <td>1.00</td>\n",
              "      <td>755.00</td>\n",
              "      <td>2.00</td>\n",
              "    </tr>\n",
              "    <tr>\n",
              "      <th>1</th>\n",
              "      <td>2018-12-04T00:00:00</td>\n",
              "      <td>81.00</td>\n",
              "      <td>67,000.00</td>\n",
              "      <td>1</td>\n",
              "      <td>11.00</td>\n",
              "      <td>18.60</td>\n",
              "      <td>40.40</td>\n",
              "      <td>2.00</td>\n",
              "      <td>nan</td>\n",
              "      <td>11.00</td>\n",
              "      <td>1</td>\n",
              "      <td>7</td>\n",
              "      <td>NaN</td>\n",
              "      <td>False</td>\n",
              "      <td>False</td>\n",
              "      <td>Shushary village</td>\n",
              "      <td>12,817.00</td>\n",
              "      <td>18,603.00</td>\n",
              "      <td>nan</td>\n",
              "      <td>0.00</td>\n",
              "      <td>nan</td>\n",
              "      <td>0.00</td>\n",
              "    </tr>\n",
              "    <tr>\n",
              "      <th>2</th>\n",
              "      <td>2015-08-20T00:00:00</td>\n",
              "      <td>558.00</td>\n",
              "      <td>103,920.00</td>\n",
              "      <td>2</td>\n",
              "      <td>8.30</td>\n",
              "      <td>34.30</td>\n",
              "      <td>56.00</td>\n",
              "      <td>0.00</td>\n",
              "      <td>nan</td>\n",
              "      <td>5.00</td>\n",
              "      <td>4</td>\n",
              "      <td>10</td>\n",
              "      <td>NaN</td>\n",
              "      <td>False</td>\n",
              "      <td>False</td>\n",
              "      <td>Saint Petersburg</td>\n",
              "      <td>21,741.00</td>\n",
              "      <td>13,933.00</td>\n",
              "      <td>90.00</td>\n",
              "      <td>1.00</td>\n",
              "      <td>574.00</td>\n",
              "      <td>2.00</td>\n",
              "    </tr>\n",
              "    <tr>\n",
              "      <th>3</th>\n",
              "      <td>2015-07-24T00:00:00</td>\n",
              "      <td>424.00</td>\n",
              "      <td>1,298,000.00</td>\n",
              "      <td>3</td>\n",
              "      <td>nan</td>\n",
              "      <td>nan</td>\n",
              "      <td>159.00</td>\n",
              "      <td>0.00</td>\n",
              "      <td>nan</td>\n",
              "      <td>14.00</td>\n",
              "      <td>9</td>\n",
              "      <td>0</td>\n",
              "      <td>NaN</td>\n",
              "      <td>False</td>\n",
              "      <td>False</td>\n",
              "      <td>Saint Petersburg</td>\n",
              "      <td>28,098.00</td>\n",
              "      <td>6,800.00</td>\n",
              "      <td>84.00</td>\n",
              "      <td>2.00</td>\n",
              "      <td>234.00</td>\n",
              "      <td>3.00</td>\n",
              "    </tr>\n",
              "    <tr>\n",
              "      <th>4</th>\n",
              "      <td>2018-06-19T00:00:00</td>\n",
              "      <td>121.00</td>\n",
              "      <td>200,000.00</td>\n",
              "      <td>2</td>\n",
              "      <td>41.00</td>\n",
              "      <td>32.00</td>\n",
              "      <td>100.00</td>\n",
              "      <td>nan</td>\n",
              "      <td>3.03</td>\n",
              "      <td>14.00</td>\n",
              "      <td>13</td>\n",
              "      <td>2</td>\n",
              "      <td>NaN</td>\n",
              "      <td>False</td>\n",
              "      <td>False</td>\n",
              "      <td>Saint Petersburg</td>\n",
              "      <td>31,856.00</td>\n",
              "      <td>8,098.00</td>\n",
              "      <td>112.00</td>\n",
              "      <td>2.00</td>\n",
              "      <td>48.00</td>\n",
              "      <td>1.00</td>\n",
              "    </tr>\n",
              "  </tbody>\n",
              "</table>\n",
              "</div>"
            ],
            "text/plain": [
              "           date_posted          days_listed           last_price  bedrooms  \\\n",
              "0  2019-03-07T00:00:00                  nan           260,000.00         3   \n",
              "1  2018-12-04T00:00:00                81.00            67,000.00         1   \n",
              "2  2015-08-20T00:00:00               558.00           103,920.00         2   \n",
              "3  2015-07-24T00:00:00               424.00         1,298,000.00         3   \n",
              "4  2018-06-19T00:00:00               121.00           200,000.00         2   \n",
              "\n",
              "          kitchen_area          living_area           total_area  \\\n",
              "0                25.00                51.00               108.00   \n",
              "1                11.00                18.60                40.40   \n",
              "2                 8.30                34.30                56.00   \n",
              "3                  nan                  nan               159.00   \n",
              "4                41.00                32.00               100.00   \n",
              "\n",
              "             balconies       ceiling_height         floors_total  floor  \\\n",
              "0                  nan                 2.70                16.00      8   \n",
              "1                 2.00                  nan                11.00      1   \n",
              "2                 0.00                  nan                 5.00      4   \n",
              "3                 0.00                  nan                14.00      9   \n",
              "4                  nan                 3.03                14.00     13   \n",
              "\n",
              "   total_images bike_parking  is_studio  is_open_plan     locality_name  \\\n",
              "0            20          NaN      False         False  Saint Petersburg   \n",
              "1             7          NaN      False         False  Shushary village   \n",
              "2            10          NaN      False         False  Saint Petersburg   \n",
              "3             0          NaN      False         False  Saint Petersburg   \n",
              "4             2          NaN      False         False  Saint Petersburg   \n",
              "\n",
              "          airport_dist     city_center_dist            park_dist  \\\n",
              "0            18,863.00            16,028.00               482.00   \n",
              "1            12,817.00            18,603.00                  nan   \n",
              "2            21,741.00            13,933.00                90.00   \n",
              "3            28,098.00             6,800.00                84.00   \n",
              "4            31,856.00             8,098.00               112.00   \n",
              "\n",
              "     parks_within_3000            pond_dist    ponds_within_3000  \n",
              "0                 1.00               755.00                 2.00  \n",
              "1                 0.00                  nan                 0.00  \n",
              "2                 1.00               574.00                 2.00  \n",
              "3                 2.00               234.00                 3.00  \n",
              "4                 2.00                48.00                 1.00  "
            ]
          },
          "metadata": {
            "tags": []
          },
          "execution_count": 85
        }
      ]
    },
    {
      "cell_type": "markdown",
      "metadata": {
        "id": "fZoAvMJq632n",
        "colab_type": "text"
      },
      "source": [
        "### Conclusion"
      ]
    },
    {
      "cell_type": "markdown",
      "metadata": {
        "id": "MHKrDhhp632p",
        "colab_type": "text"
      },
      "source": [
        "In the first attemp, it could be noticed that a TAB delimiter was used (\\t) - in order to handle it, the read_csv method was modified to include handling of.\n",
        "In addition - missing values (NaN) can be immediately noticed - this will be handled in the data preprocessing section."
      ]
    },
    {
      "cell_type": "markdown",
      "metadata": {
        "id": "KCL-YwMn632r",
        "colab_type": "text"
      },
      "source": [
        "<span style=\"color:Green\">\n",
        "\n",
        "**2020-02-25 DD**\n",
        "\n",
        "Good observation of the tab delimiter and the NaN values (that's lucky to get some in the first five rows as in not missing them. But how can you summarize the number of NaN values per each column for all rows to be sure of the whole picture? pandas provides at least one quite convinient method for that.\n",
        "    \n",
        "Ah, well, you have provided an answer for that below. I have been too quick at formulating that question. ))\n",
        "\n",
        "</span>"
      ]
    },
    {
      "cell_type": "markdown",
      "metadata": {
        "id": "MLOufthc632s",
        "colab_type": "text"
      },
      "source": [
        "### Step 2. Data preprocessing"
      ]
    },
    {
      "cell_type": "markdown",
      "metadata": {
        "id": "SM7hVdJH632u",
        "colab_type": "text"
      },
      "source": [
        "As can see below, using the .info() method, the following parameters contain missing data:\n",
        "- ceiling_height\n",
        "- floors_total\n",
        "- living_area\n",
        "- kitchen_area\n",
        "- balconies - almost half of data is missing\n",
        "- locality_name\n",
        "- airport_dist\n",
        "- city_center_dist\n",
        "- parks_within_3000\n",
        "- park_dist - most of data is missing\n",
        "- ponds_within_3000\n",
        "- pond_dist - most of data is missing\n",
        "- days_listed"
      ]
    },
    {
      "cell_type": "code",
      "metadata": {
        "id": "MKxJ_OdB632w",
        "colab_type": "code",
        "colab": {
          "base_uri": "https://localhost:8080/",
          "height": 527
        },
        "outputId": "cef60f70-306e-4dc0-8073-c1f3e75ca840"
      },
      "source": [
        "print(sales_ads.info());"
      ],
      "execution_count": 86,
      "outputs": [
        {
          "output_type": "stream",
          "text": [
            "<class 'pandas.core.frame.DataFrame'>\n",
            "RangeIndex: 23699 entries, 0 to 23698\n",
            "Data columns (total 22 columns):\n",
            " #   Column             Non-Null Count  Dtype  \n",
            "---  ------             --------------  -----  \n",
            " 0   date_posted        23699 non-null  object \n",
            " 1   days_listed        20518 non-null  float64\n",
            " 2   last_price         23699 non-null  float64\n",
            " 3   bedrooms           23699 non-null  int64  \n",
            " 4   kitchen_area       21421 non-null  float64\n",
            " 5   living_area        21796 non-null  float64\n",
            " 6   total_area         23699 non-null  float64\n",
            " 7   balconies          12180 non-null  float64\n",
            " 8   ceiling_height     14504 non-null  float64\n",
            " 9   floors_total       23613 non-null  float64\n",
            " 10  floor              23699 non-null  int64  \n",
            " 11  total_images       23699 non-null  int64  \n",
            " 12  bike_parking       2775 non-null   object \n",
            " 13  is_studio          23699 non-null  bool   \n",
            " 14  is_open_plan       23699 non-null  bool   \n",
            " 15  locality_name      23650 non-null  object \n",
            " 16  airport_dist       18157 non-null  float64\n",
            " 17  city_center_dist   18180 non-null  float64\n",
            " 18  park_dist          8079 non-null   float64\n",
            " 19  parks_within_3000  18181 non-null  float64\n",
            " 20  pond_dist          9110 non-null   float64\n",
            " 21  ponds_within_3000  18181 non-null  float64\n",
            "dtypes: bool(2), float64(14), int64(3), object(3)\n",
            "memory usage: 3.7+ MB\n",
            "None\n"
          ],
          "name": "stdout"
        }
      ]
    },
    {
      "cell_type": "code",
      "metadata": {
        "scrolled": true,
        "id": "dEoZ9MQH6325",
        "colab_type": "code",
        "colab": {
          "base_uri": "https://localhost:8080/",
          "height": 317
        },
        "outputId": "21af0a66-8bfc-428f-973d-3a1752908ca3"
      },
      "source": [
        "sales_ads.describe()"
      ],
      "execution_count": 87,
      "outputs": [
        {
          "output_type": "execute_result",
          "data": {
            "text/html": [
              "<div>\n",
              "<style scoped>\n",
              "    .dataframe tbody tr th:only-of-type {\n",
              "        vertical-align: middle;\n",
              "    }\n",
              "\n",
              "    .dataframe tbody tr th {\n",
              "        vertical-align: top;\n",
              "    }\n",
              "\n",
              "    .dataframe thead th {\n",
              "        text-align: right;\n",
              "    }\n",
              "</style>\n",
              "<table border=\"1\" class=\"dataframe\">\n",
              "  <thead>\n",
              "    <tr style=\"text-align: right;\">\n",
              "      <th></th>\n",
              "      <th>days_listed</th>\n",
              "      <th>last_price</th>\n",
              "      <th>bedrooms</th>\n",
              "      <th>kitchen_area</th>\n",
              "      <th>living_area</th>\n",
              "      <th>total_area</th>\n",
              "      <th>balconies</th>\n",
              "      <th>ceiling_height</th>\n",
              "      <th>floors_total</th>\n",
              "      <th>floor</th>\n",
              "      <th>total_images</th>\n",
              "      <th>airport_dist</th>\n",
              "      <th>city_center_dist</th>\n",
              "      <th>park_dist</th>\n",
              "      <th>parks_within_3000</th>\n",
              "      <th>pond_dist</th>\n",
              "      <th>ponds_within_3000</th>\n",
              "    </tr>\n",
              "  </thead>\n",
              "  <tbody>\n",
              "    <tr>\n",
              "      <th>count</th>\n",
              "      <td>20,518.00</td>\n",
              "      <td>23,699.00</td>\n",
              "      <td>23,699.00</td>\n",
              "      <td>21,421.00</td>\n",
              "      <td>21,796.00</td>\n",
              "      <td>23,699.00</td>\n",
              "      <td>12,180.00</td>\n",
              "      <td>14,504.00</td>\n",
              "      <td>23,613.00</td>\n",
              "      <td>23,699.00</td>\n",
              "      <td>23,699.00</td>\n",
              "      <td>18,157.00</td>\n",
              "      <td>18,180.00</td>\n",
              "      <td>8,079.00</td>\n",
              "      <td>18,181.00</td>\n",
              "      <td>9,110.00</td>\n",
              "      <td>18,181.00</td>\n",
              "    </tr>\n",
              "    <tr>\n",
              "      <th>mean</th>\n",
              "      <td>180.89</td>\n",
              "      <td>130,830.98</td>\n",
              "      <td>2.07</td>\n",
              "      <td>10.57</td>\n",
              "      <td>34.46</td>\n",
              "      <td>60.35</td>\n",
              "      <td>1.15</td>\n",
              "      <td>2.77</td>\n",
              "      <td>10.67</td>\n",
              "      <td>5.89</td>\n",
              "      <td>9.86</td>\n",
              "      <td>28,793.67</td>\n",
              "      <td>14,191.28</td>\n",
              "      <td>490.80</td>\n",
              "      <td>0.61</td>\n",
              "      <td>517.98</td>\n",
              "      <td>0.77</td>\n",
              "    </tr>\n",
              "    <tr>\n",
              "      <th>std</th>\n",
              "      <td>219.73</td>\n",
              "      <td>217,740.27</td>\n",
              "      <td>1.08</td>\n",
              "      <td>5.91</td>\n",
              "      <td>22.03</td>\n",
              "      <td>35.65</td>\n",
              "      <td>1.07</td>\n",
              "      <td>1.26</td>\n",
              "      <td>6.60</td>\n",
              "      <td>4.89</td>\n",
              "      <td>5.68</td>\n",
              "      <td>12,630.88</td>\n",
              "      <td>8,608.39</td>\n",
              "      <td>342.32</td>\n",
              "      <td>0.80</td>\n",
              "      <td>277.72</td>\n",
              "      <td>0.94</td>\n",
              "    </tr>\n",
              "    <tr>\n",
              "      <th>min</th>\n",
              "      <td>1.00</td>\n",
              "      <td>244.00</td>\n",
              "      <td>0.00</td>\n",
              "      <td>1.30</td>\n",
              "      <td>2.00</td>\n",
              "      <td>12.00</td>\n",
              "      <td>0.00</td>\n",
              "      <td>1.00</td>\n",
              "      <td>1.00</td>\n",
              "      <td>1.00</td>\n",
              "      <td>0.00</td>\n",
              "      <td>0.00</td>\n",
              "      <td>181.00</td>\n",
              "      <td>1.00</td>\n",
              "      <td>0.00</td>\n",
              "      <td>13.00</td>\n",
              "      <td>0.00</td>\n",
              "    </tr>\n",
              "    <tr>\n",
              "      <th>25%</th>\n",
              "      <td>45.00</td>\n",
              "      <td>68,000.00</td>\n",
              "      <td>1.00</td>\n",
              "      <td>7.00</td>\n",
              "      <td>18.60</td>\n",
              "      <td>40.00</td>\n",
              "      <td>0.00</td>\n",
              "      <td>2.52</td>\n",
              "      <td>5.00</td>\n",
              "      <td>2.00</td>\n",
              "      <td>6.00</td>\n",
              "      <td>18,585.00</td>\n",
              "      <td>9,238.00</td>\n",
              "      <td>288.00</td>\n",
              "      <td>0.00</td>\n",
              "      <td>294.00</td>\n",
              "      <td>0.00</td>\n",
              "    </tr>\n",
              "    <tr>\n",
              "      <th>50%</th>\n",
              "      <td>95.00</td>\n",
              "      <td>93,000.00</td>\n",
              "      <td>2.00</td>\n",
              "      <td>9.10</td>\n",
              "      <td>30.00</td>\n",
              "      <td>52.00</td>\n",
              "      <td>1.00</td>\n",
              "      <td>2.65</td>\n",
              "      <td>9.00</td>\n",
              "      <td>4.00</td>\n",
              "      <td>9.00</td>\n",
              "      <td>26,726.00</td>\n",
              "      <td>13,098.50</td>\n",
              "      <td>455.00</td>\n",
              "      <td>0.00</td>\n",
              "      <td>502.00</td>\n",
              "      <td>1.00</td>\n",
              "    </tr>\n",
              "    <tr>\n",
              "      <th>75%</th>\n",
              "      <td>232.00</td>\n",
              "      <td>136,000.00</td>\n",
              "      <td>3.00</td>\n",
              "      <td>12.00</td>\n",
              "      <td>42.30</td>\n",
              "      <td>69.90</td>\n",
              "      <td>2.00</td>\n",
              "      <td>2.80</td>\n",
              "      <td>16.00</td>\n",
              "      <td>8.00</td>\n",
              "      <td>14.00</td>\n",
              "      <td>37,273.00</td>\n",
              "      <td>16,293.00</td>\n",
              "      <td>612.00</td>\n",
              "      <td>1.00</td>\n",
              "      <td>729.00</td>\n",
              "      <td>1.00</td>\n",
              "    </tr>\n",
              "    <tr>\n",
              "      <th>max</th>\n",
              "      <td>1,580.00</td>\n",
              "      <td>15,260,000.00</td>\n",
              "      <td>19.00</td>\n",
              "      <td>112.00</td>\n",
              "      <td>409.70</td>\n",
              "      <td>900.00</td>\n",
              "      <td>5.00</td>\n",
              "      <td>100.00</td>\n",
              "      <td>60.00</td>\n",
              "      <td>33.00</td>\n",
              "      <td>50.00</td>\n",
              "      <td>84,869.00</td>\n",
              "      <td>65,968.00</td>\n",
              "      <td>3,190.00</td>\n",
              "      <td>3.00</td>\n",
              "      <td>1,344.00</td>\n",
              "      <td>3.00</td>\n",
              "    </tr>\n",
              "  </tbody>\n",
              "</table>\n",
              "</div>"
            ],
            "text/plain": [
              "               days_listed           last_price             bedrooms  \\\n",
              "count            20,518.00            23,699.00            23,699.00   \n",
              "mean                180.89           130,830.98                 2.07   \n",
              "std                 219.73           217,740.27                 1.08   \n",
              "min                   1.00               244.00                 0.00   \n",
              "25%                  45.00            68,000.00                 1.00   \n",
              "50%                  95.00            93,000.00                 2.00   \n",
              "75%                 232.00           136,000.00                 3.00   \n",
              "max               1,580.00        15,260,000.00                19.00   \n",
              "\n",
              "              kitchen_area          living_area           total_area  \\\n",
              "count            21,421.00            21,796.00            23,699.00   \n",
              "mean                 10.57                34.46                60.35   \n",
              "std                   5.91                22.03                35.65   \n",
              "min                   1.30                 2.00                12.00   \n",
              "25%                   7.00                18.60                40.00   \n",
              "50%                   9.10                30.00                52.00   \n",
              "75%                  12.00                42.30                69.90   \n",
              "max                 112.00               409.70               900.00   \n",
              "\n",
              "                 balconies       ceiling_height         floors_total  \\\n",
              "count            12,180.00            14,504.00            23,613.00   \n",
              "mean                  1.15                 2.77                10.67   \n",
              "std                   1.07                 1.26                 6.60   \n",
              "min                   0.00                 1.00                 1.00   \n",
              "25%                   0.00                 2.52                 5.00   \n",
              "50%                   1.00                 2.65                 9.00   \n",
              "75%                   2.00                 2.80                16.00   \n",
              "max                   5.00               100.00                60.00   \n",
              "\n",
              "                     floor         total_images         airport_dist  \\\n",
              "count            23,699.00            23,699.00            18,157.00   \n",
              "mean                  5.89                 9.86            28,793.67   \n",
              "std                   4.89                 5.68            12,630.88   \n",
              "min                   1.00                 0.00                 0.00   \n",
              "25%                   2.00                 6.00            18,585.00   \n",
              "50%                   4.00                 9.00            26,726.00   \n",
              "75%                   8.00                14.00            37,273.00   \n",
              "max                  33.00                50.00            84,869.00   \n",
              "\n",
              "          city_center_dist            park_dist    parks_within_3000  \\\n",
              "count            18,180.00             8,079.00            18,181.00   \n",
              "mean             14,191.28               490.80                 0.61   \n",
              "std               8,608.39               342.32                 0.80   \n",
              "min                 181.00                 1.00                 0.00   \n",
              "25%               9,238.00               288.00                 0.00   \n",
              "50%              13,098.50               455.00                 0.00   \n",
              "75%              16,293.00               612.00                 1.00   \n",
              "max              65,968.00             3,190.00                 3.00   \n",
              "\n",
              "                 pond_dist    ponds_within_3000  \n",
              "count             9,110.00            18,181.00  \n",
              "mean                517.98                 0.77  \n",
              "std                 277.72                 0.94  \n",
              "min                  13.00                 0.00  \n",
              "25%                 294.00                 0.00  \n",
              "50%                 502.00                 1.00  \n",
              "75%                 729.00                 1.00  \n",
              "max               1,344.00                 3.00  "
            ]
          },
          "metadata": {
            "tags": []
          },
          "execution_count": 87
        }
      ]
    },
    {
      "cell_type": "markdown",
      "metadata": {
        "id": "RU0_Fza9632-",
        "colab_type": "text"
      },
      "source": [
        "Handling NaN in `ceiling_height`: as it can be shown above the data contains considerale outliers (100m!!), therefore it will make sence to select the median (2.65) as the fill value."
      ]
    },
    {
      "cell_type": "code",
      "metadata": {
        "id": "CH4cZVQh633A",
        "colab_type": "code",
        "colab": {}
      },
      "source": [
        "sales_ads['ceiling_height'].fillna(2.65, inplace=True)"
      ],
      "execution_count": 88,
      "outputs": []
    },
    {
      "cell_type": "markdown",
      "metadata": {
        "id": "wX0bqfNo633F",
        "colab_type": "text"
      },
      "source": [
        "<span style=\"color:Green\">\n",
        "\n",
        "**2020-02-25 DD**\n",
        "\n",
        "Indeed, the ceiling height of 2.65m looks to be reasonable. But there seem to be other cases of abnormal values in the column. What are they? Can you find them?\n",
        "\n",
        "</span>"
      ]
    },
    {
      "cell_type": "markdown",
      "metadata": {
        "id": "8Z6-NQcP633G",
        "colab_type": "text"
      },
      "source": [
        "Handling NaN in `floors_total`: following results of describe() method, we can safely assume that `floors_total` = `floor`*2"
      ]
    },
    {
      "cell_type": "code",
      "metadata": {
        "id": "Knr2devk633H",
        "colab_type": "code",
        "colab": {}
      },
      "source": [
        "sales_ads['floors_total'].fillna(sales_ads['floor']*2, inplace=True)"
      ],
      "execution_count": 89,
      "outputs": []
    },
    {
      "cell_type": "markdown",
      "metadata": {
        "id": "C8GYhbs4633M",
        "colab_type": "text"
      },
      "source": [
        "<span style=\"color:Green\">\n",
        "\n",
        "**2020-02-25 DD**\n",
        "\n",
        "Hmm... I am afraid it won't work. An advertised object can be any floor in a building. It is hard to tell the height of buildings (in floors) looking at just one floor of it (like through a narrow slot). I might be mistaken though, can you probably provide your thoughts here on why this assumption (floor*2) can be valid?\n",
        "\n",
        "</span>"
      ]
    },
    {
      "cell_type": "markdown",
      "metadata": {
        "id": "KfaDnj5h633N",
        "colab_type": "text"
      },
      "source": [
        "Handling NaN in `living_area`: we will use mean of ratio `living_area` to `total_area` (34.46/60.35) as fill value."
      ]
    },
    {
      "cell_type": "code",
      "metadata": {
        "id": "gqOwViVn633O",
        "colab_type": "code",
        "colab": {}
      },
      "source": [
        "sales_ads['living_area'].fillna((34.46/60.35)*sales_ads['total_area'], inplace=True)"
      ],
      "execution_count": 90,
      "outputs": []
    },
    {
      "cell_type": "markdown",
      "metadata": {
        "id": "5l6mpKAm633S",
        "colab_type": "text"
      },
      "source": [
        "<span style=\"color:Green\">\n",
        "\n",
        "**2020-02-25 DD**\n",
        "\n",
        "Ok, that looks interesting (and appropritate). But I'd wonder of this ratio source? Did you calculate it from the data?\n",
        "\n",
        "</span>"
      ]
    },
    {
      "cell_type": "markdown",
      "metadata": {
        "id": "KGgZV9hy633a",
        "colab_type": "text"
      },
      "source": [
        "Handling NaN in `kitchen_area`: we will use mean of ratio `kitchen_area` to `total_area` (10.57/60.35) as fill value."
      ]
    },
    {
      "cell_type": "code",
      "metadata": {
        "id": "7fHb1uGv633b",
        "colab_type": "code",
        "colab": {}
      },
      "source": [
        "sales_ads['kitchen_area'].fillna((10.57/60.35)*sales_ads['total_area'], inplace=True)"
      ],
      "execution_count": 91,
      "outputs": []
    },
    {
      "cell_type": "markdown",
      "metadata": {
        "id": "1QrlEMTJ633f",
        "colab_type": "text"
      },
      "source": [
        "Handling NaN in `balcony` - assuming it can be replaced by zero (if user did not enter number of balconies, then he has no balconies)."
      ]
    },
    {
      "cell_type": "code",
      "metadata": {
        "id": "UZ8Leiq08oSi",
        "colab_type": "code",
        "colab": {
          "base_uri": "https://localhost:8080/",
          "height": 136
        },
        "outputId": "851dd806-0bfa-4675-b7f7-52d086f104fd"
      },
      "source": [
        "sales_ads['balconies'].value_counts()"
      ],
      "execution_count": 92,
      "outputs": [
        {
          "output_type": "execute_result",
          "data": {
            "text/plain": [
              "1.00    4195\n",
              "0.00    3758\n",
              "2.00    3659\n",
              "5.00     304\n",
              "4.00     183\n",
              "3.00      81\n",
              "Name: balconies, dtype: int64"
            ]
          },
          "metadata": {
            "tags": []
          },
          "execution_count": 92
        }
      ]
    },
    {
      "cell_type": "code",
      "metadata": {
        "id": "CC1rE6KM633g",
        "colab_type": "code",
        "colab": {}
      },
      "source": [
        "sales_ads['balconies'].fillna(0,inplace=True)"
      ],
      "execution_count": 93,
      "outputs": []
    },
    {
      "cell_type": "markdown",
      "metadata": {
        "id": "OZH4i1jQ633k",
        "colab_type": "text"
      },
      "source": [
        "Handling NaN in `locality_name`:"
      ]
    },
    {
      "cell_type": "code",
      "metadata": {
        "id": "wy66ihTy633l",
        "colab_type": "code",
        "colab": {
          "base_uri": "https://localhost:8080/",
          "height": 221
        },
        "outputId": "596df978-af8d-409a-9091-7ec37ed1c8e5"
      },
      "source": [
        "sales_ads['locality_name'].value_counts()\n",
        "# TO BE HANDLED AFTER YANDEX WILL FIX THE NAMES"
      ],
      "execution_count": 94,
      "outputs": [
        {
          "output_type": "execute_result",
          "data": {
            "text/plain": [
              "Saint Petersburg        15721\n",
              "Murino village            556\n",
              "Shushary village          440\n",
              "Vsevolozhsk               398\n",
              "Pushkin                   369\n",
              "                        ...  \n",
              "Chudskoy Bor village        1\n",
              "village Ryabovo             1\n",
              "Shpankovo village           1\n",
              "Pizhma village              1\n",
              "Tikhkovitsy village         1\n",
              "Name: locality_name, Length: 326, dtype: int64"
            ]
          },
          "metadata": {
            "tags": []
          },
          "execution_count": 94
        }
      ]
    },
    {
      "cell_type": "markdown",
      "metadata": {
        "id": "QqbXwjIk633q",
        "colab_type": "text"
      },
      "source": [
        "<span style=\"color:Green\">\n",
        "\n",
        "**2020-02-25 DD**\n",
        "\n",
        "I am sorry that the translation is still missed. Meanwhile, you can try to perceive those names as quite absract names (e.g. like just numbers). The only meaningful name required in the project I believe is 'Санкт-Петербург' (Saint Petersburg).\n",
        "\n",
        "</span>"
      ]
    },
    {
      "cell_type": "markdown",
      "metadata": {
        "id": "hEcYnPSK633r",
        "colab_type": "text"
      },
      "source": [
        "Handling NaN in `airports_nearest`, `cityCenters_nearest`, `parks_around3000`, `parks_nearest`, `ponds_around3000`, `ponds_nearest`: we will use median as fill value to avoid bias by outliers."
      ]
    },
    {
      "cell_type": "code",
      "metadata": {
        "id": "4Og3ulHM633r",
        "colab_type": "code",
        "colab": {}
      },
      "source": [
        "sales_ads['airport_dist'].fillna(26726.0,inplace=True)\n",
        "sales_ads['city_center_dist'].fillna(13098.5,inplace=True)\n",
        "sales_ads['parks_within_3000'].fillna(0.0,inplace=True)\n",
        "sales_ads['park_dist'].fillna(455.0,inplace=True)\n",
        "sales_ads['ponds_within_3000'].fillna(1.0,inplace=True)\n",
        "sales_ads['pond_dist'].fillna(502.0,inplace=True)"
      ],
      "execution_count": 95,
      "outputs": []
    },
    {
      "cell_type": "markdown",
      "metadata": {
        "id": "_6gbxY9p633z",
        "colab_type": "text"
      },
      "source": [
        "Handling NaN in `days_listed`: it can be firmly assumed that NaN stand for properties not yet being sold. We will give it value of zero in order to be able to see it in our analysis."
      ]
    },
    {
      "cell_type": "code",
      "metadata": {
        "id": "6w0EbhC36330",
        "colab_type": "code",
        "colab": {}
      },
      "source": [
        "sales_ads['days_listed'].fillna(0.0,inplace=True)"
      ],
      "execution_count": 96,
      "outputs": []
    },
    {
      "cell_type": "markdown",
      "metadata": {
        "id": "wT7EFUUg6335",
        "colab_type": "text"
      },
      "source": [
        "<span style=\"color:Green\">\n",
        "\n",
        "**2020-02-25 DD**\n",
        "\n",
        "Ok. Alternatively, it can be left as it is i.e. with the NaN values. If it is not possible to 'guess' data in a reasonable way, NaN can be left in place as indicators of missing data indeed in further analysis.\n",
        "\n",
        "</span>"
      ]
    },
    {
      "cell_type": "markdown",
      "metadata": {
        "id": "yXjIF14E6336",
        "colab_type": "text"
      },
      "source": [
        "Convert `date_posted` to `datatime` obect type. This is required as in next sections we will make analysis based on day of the week, month and year."
      ]
    },
    {
      "cell_type": "code",
      "metadata": {
        "id": "iSRLteMG6337",
        "colab_type": "code",
        "colab": {}
      },
      "source": [
        "#2019-03-07T00:00:00\n",
        "sales_ads['date_posted'] = pd.to_datetime(sales_ads['date_posted'], format='%Y-%m-%dT%H:%M:%S')"
      ],
      "execution_count": 97,
      "outputs": []
    },
    {
      "cell_type": "markdown",
      "metadata": {
        "id": "jav1t_Wm634H",
        "colab_type": "text"
      },
      "source": [
        "### Conclusion of Step 2\n",
        "- missing data: some of the fields were almost all missing (ex. `is_apartment`)\n",
        "- distribution: some of the parameters have uneaven distribution making the mean() unreliable - therefore median() was mostly used as averagfe.\n",
        "- outliers: data contain considerable amount of outliers - some are natural (ex. price and area for luxary apartments) and smome due to mistakes (ex. celing height of 100m).\n",
        "- type conversion was required - ex: `date_posted` was converted to datetime() for calculations purpose."
      ]
    },
    {
      "cell_type": "markdown",
      "metadata": {
        "id": "hSZtHsTd634I",
        "colab_type": "text"
      },
      "source": [
        "### Step 3. Make calculations and add them to the table"
      ]
    },
    {
      "cell_type": "markdown",
      "metadata": {
        "id": "k4Emoq_s634J",
        "colab_type": "text"
      },
      "source": [
        "Add `price_per_sqm` column"
      ]
    },
    {
      "cell_type": "code",
      "metadata": {
        "id": "FZXU1gKi634K",
        "colab_type": "code",
        "colab": {}
      },
      "source": [
        "sales_ads['price_per_sqm'] = sales_ads['last_price'] / sales_ads['total_area']"
      ],
      "execution_count": 98,
      "outputs": []
    },
    {
      "cell_type": "markdown",
      "metadata": {
        "id": "yQIZjPGr634P",
        "colab_type": "text"
      },
      "source": [
        "Add `weekday_posted`, `month_posted` and `year_posted` columns (based on `date_posted`)"
      ]
    },
    {
      "cell_type": "code",
      "metadata": {
        "id": "HOJHabNm634Q",
        "colab_type": "code",
        "colab": {}
      },
      "source": [
        "sales_ads['weekday_posted'] = sales_ads['date_posted'].dt.weekday\n",
        "sales_ads['month_posted'] = sales_ads['date_posted'].dt.month\n",
        "sales_ads['year_posted'] = sales_ads['date_posted'].dt.year"
      ],
      "execution_count": 99,
      "outputs": []
    },
    {
      "cell_type": "markdown",
      "metadata": {
        "id": "l6y_m8fy634U",
        "colab_type": "text"
      },
      "source": [
        "Add `floor_category` column with values First, Last and Other - based on `floor`"
      ]
    },
    {
      "cell_type": "code",
      "metadata": {
        "id": "XWF3N2l_634V",
        "colab_type": "code",
        "colab": {}
      },
      "source": [
        "def floor_category(row):\n",
        "    if row['floor'] == 1.0:\n",
        "        return 'First'\n",
        "    elif row['floor'] < row['floors_total']:\n",
        "        return 'Other'\n",
        "    else:\n",
        "        return 'Last'\n",
        "sales_ads['floor_category'] = sales_ads.apply(floor_category, axis=1)"
      ],
      "execution_count": 100,
      "outputs": []
    },
    {
      "cell_type": "markdown",
      "metadata": {
        "id": "CuWAUknn634Z",
        "colab_type": "text"
      },
      "source": [
        "Add `living_space_to_tot_area` and `kitchen_to_tot_area` columns"
      ]
    },
    {
      "cell_type": "code",
      "metadata": {
        "id": "VE3gddxB634Z",
        "colab_type": "code",
        "colab": {}
      },
      "source": [
        "sales_ads['living_space_to_tot_area'] = sales_ads['living_area'] / sales_ads['total_area']\n",
        "sales_ads['kitchen_to_tot_area'] = sales_ads['kitchen_area'] / sales_ads['total_area']"
      ],
      "execution_count": 101,
      "outputs": []
    },
    {
      "cell_type": "markdown",
      "metadata": {
        "id": "YCZAeed5634e",
        "colab_type": "text"
      },
      "source": [
        "<span style=\"color:Green\">\n",
        "\n",
        "**2020-02-25 DD**\n",
        "\n",
        "Good.\n",
        "\n",
        "</span>"
      ]
    },
    {
      "cell_type": "markdown",
      "metadata": {
        "id": "j5j7BJOj634f",
        "colab_type": "text"
      },
      "source": [
        "### Conclusion of Step 3\n",
        "- price_per_sqm - been added - as this is an important indicator\n",
        "- floor_category was added: first floor and top floors are regarding differently from the rest of the floors.\n",
        "- for area there are 3 parameters: total, living and kitchen - it might be important to see the ratio between them"
      ]
    },
    {
      "cell_type": "markdown",
      "metadata": {
        "id": "qtZ5hAMA634g",
        "colab_type": "text"
      },
      "source": [
        "### Step 4. Conduct exploratory data analysis and follow the instructions below:"
      ]
    },
    {
      "cell_type": "markdown",
      "metadata": {
        "id": "koXHLpEc634h",
        "colab_type": "text"
      },
      "source": [
        "`total_area` - as can be seen in the general and 'zoomed' histograms, the majority of the properties are in the range of 30 to 80 sqm and the distribution looks quite nomal (bell shaped)."
      ]
    },
    {
      "cell_type": "code",
      "metadata": {
        "id": "bukHfu2p634i",
        "colab_type": "code",
        "colab": {
          "base_uri": "https://localhost:8080/",
          "height": 266
        },
        "outputId": "cf21d75a-bf56-4489-eff0-d286428b4fb8"
      },
      "source": [
        "sales_ads['total_area'].hist(bins=20);"
      ],
      "execution_count": 102,
      "outputs": [
        {
          "output_type": "display_data",
          "data": {
            "image/png": "[encoded data removed]",
            "text/plain": [
              "<Figure size 432x288 with 1 Axes>"
            ]
          },
          "metadata": {
            "tags": [],
            "needs_background": "light"
          }
        }
      ]
    },
    {
      "cell_type": "code",
      "metadata": {
        "id": "i3nDBXUX634l",
        "colab_type": "code",
        "colab": {
          "base_uri": "https://localhost:8080/",
          "height": 265
        },
        "outputId": "744f5002-b1ea-4a91-9e27-bef490d40636"
      },
      "source": [
        "sales_ads['total_area'].hist(bins=20, range=(20,130));"
      ],
      "execution_count": 103,
      "outputs": [
        {
          "output_type": "display_data",
          "data": {
            "image/png": "[encoded data removed]",
            "text/plain": [
              "<Figure size 432x288 with 1 Axes>"
            ]
          },
          "metadata": {
            "tags": [],
            "needs_background": "light"
          }
        }
      ]
    },
    {
      "cell_type": "markdown",
      "metadata": {
        "id": "PvJC3Z_y634o",
        "colab_type": "text"
      },
      "source": [
        "<span style=\"color:Green\">\n",
        "\n",
        "**2020-02-25 DD**\n",
        "\n",
        "Thank you for 'zooming' in the the most populated interval. But it does not look normal distribution because it has a long right tail.\n",
        "\n",
        "</span>"
      ]
    },
    {
      "cell_type": "markdown",
      "metadata": {
        "id": "cPfkiXFA634o",
        "colab_type": "text"
      },
      "source": [
        "`last_price` - It can be clearly noticed that the distribution is similar to the `total_area` (which should not be a surprise...)"
      ]
    },
    {
      "cell_type": "code",
      "metadata": {
        "id": "N73pKQry634p",
        "colab_type": "code",
        "colab": {
          "base_uri": "https://localhost:8080/",
          "height": 278
        },
        "outputId": "b9379a94-2260-4de4-bd6c-c52d0f5d9bb7"
      },
      "source": [
        "sales_ads['last_price'].hist(bins=20, range=(1870000.0,15300000.0));"
      ],
      "execution_count": 104,
      "outputs": [
        {
          "output_type": "display_data",
          "data": {
            "image/png": "[encoded data removed]",
            "text/plain": [
              "<Figure size 432x288 with 1 Axes>"
            ]
          },
          "metadata": {
            "tags": [],
            "needs_background": "light"
          }
        }
      ]
    },
    {
      "cell_type": "markdown",
      "metadata": {
        "id": "e1GpGlVE634s",
        "colab_type": "text"
      },
      "source": [
        "`rooms` - as can noticed distribution is normal and most of the properties are between 1 to 4 rooms. A clear anomality is that there are properities with `rooms` set to zero - this should be definitely handled."
      ]
    },
    {
      "cell_type": "code",
      "metadata": {
        "id": "55MSdBrV634s",
        "colab_type": "code",
        "colab": {
          "base_uri": "https://localhost:8080/",
          "height": 265
        },
        "outputId": "f2fc2315-84c5-4b4d-c379-0e9762162f44"
      },
      "source": [
        "sales_ads['bedrooms'].hist(bins=20);"
      ],
      "execution_count": 105,
      "outputs": [
        {
          "output_type": "display_data",
          "data": {
            "image/png": "[encoded data removed]",
            "text/plain": [
              "<Figure size 432x288 with 1 Axes>"
            ]
          },
          "metadata": {
            "tags": [],
            "needs_background": "light"
          }
        }
      ]
    },
    {
      "cell_type": "markdown",
      "metadata": {
        "id": "rzQPeAEw634v",
        "colab_type": "text"
      },
      "source": [
        "<span style=\"color:Green\">\n",
        "\n",
        "**2020-02-25 DD**\n",
        "\n",
        "Ok. BTW, given the integer nature of the number of rooms, what other way of assessing its distribution (rather than with the histogram) would be more approproate. I'd even say natural.\n",
        "\n",
        "</span>"
      ]
    },
    {
      "cell_type": "code",
      "metadata": {
        "id": "DsiN8y0-634w",
        "colab_type": "code",
        "colab": {
          "base_uri": "https://localhost:8080/",
          "height": 265
        },
        "outputId": "348b2ef9-d824-4e4c-e307-3c45bd384076"
      },
      "source": [
        "sales_ads['bedrooms'].hist(bins=10,range=(0,10));"
      ],
      "execution_count": 106,
      "outputs": [
        {
          "output_type": "display_data",
          "data": {
            "image/png": "[encoded data removed]",
            "text/plain": [
              "<Figure size 432x288 with 1 Axes>"
            ]
          },
          "metadata": {
            "tags": [],
            "needs_background": "light"
          }
        }
      ]
    },
    {
      "cell_type": "code",
      "metadata": {
        "id": "Av-T9MhL6340",
        "colab_type": "code",
        "colab": {
          "base_uri": "https://localhost:8080/",
          "height": 268
        },
        "outputId": "9a700127-08d5-4a1a-93b8-0856cee2a7d5"
      },
      "source": [
        "sales_ads['bedrooms'].value_counts().sort_index().plot.bar();"
      ],
      "execution_count": 107,
      "outputs": [
        {
          "output_type": "display_data",
          "data": {
            "image/png": "[encoded data removed]",
            "text/plain": [
              "<Figure size 432x288 with 1 Axes>"
            ]
          },
          "metadata": {
            "tags": [],
            "needs_background": "light"
          }
        }
      ]
    },
    {
      "cell_type": "markdown",
      "metadata": {
        "id": "6bwFXrYt6343",
        "colab_type": "text"
      },
      "source": [
        "`ceiling_height` - we can immediately notice that data include anomalies (ex height = 100m!). In order to have a meaningful histogram, we define a range to include the main ballpark which shows most values reside between 2.5 to 3.3m."
      ]
    },
    {
      "cell_type": "code",
      "metadata": {
        "id": "XZ4t8LPX6344",
        "colab_type": "code",
        "colab": {
          "base_uri": "https://localhost:8080/",
          "height": 265
        },
        "outputId": "de02a276-6225-400f-8689-be85282ff704"
      },
      "source": [
        "sales_ads['ceiling_height'].hist(bins=20);"
      ],
      "execution_count": 108,
      "outputs": [
        {
          "output_type": "display_data",
          "data": {
            "image/png": "[encoded data removed]",
            "text/plain": [
              "<Figure size 432x288 with 1 Axes>"
            ]
          },
          "metadata": {
            "tags": [],
            "needs_background": "light"
          }
        }
      ]
    },
    {
      "cell_type": "code",
      "metadata": {
        "id": "Gvqy0xtY6346",
        "colab_type": "code",
        "colab": {
          "base_uri": "https://localhost:8080/",
          "height": 265
        },
        "outputId": "f11b9e4e-5b86-4832-efdc-ff9e4a9e36f8"
      },
      "source": [
        "sales_ads['ceiling_height'].hist(bins=20, range=(2.25,3.5));"
      ],
      "execution_count": 109,
      "outputs": [
        {
          "output_type": "display_data",
          "data": {
            "image/png": "[encoded data removed]",
            "text/plain": [
              "<Figure size 432x288 with 1 Axes>"
            ]
          },
          "metadata": {
            "tags": [],
            "needs_background": "light"
          }
        }
      ]
    },
    {
      "cell_type": "markdown",
      "metadata": {
        "id": "-9dgAt856349",
        "colab_type": "text"
      },
      "source": [
        "`days_listed` - we can see an interesting peaks of 880 adds that were listed exactly 45 days (880 ocurances), 60 days(580) and 90 days (205) - maybe there is a condition in the advertisement causing the ads to be dropped due to no-payment?\n",
        "Other than that, we can notice that the distribution is a descending curve - this can imply a high demand for properties in the area."
      ]
    },
    {
      "cell_type": "code",
      "metadata": {
        "id": "X4Iqs1Rm634-",
        "colab_type": "code",
        "colab": {
          "base_uri": "https://localhost:8080/",
          "height": 265
        },
        "outputId": "08630129-c97d-477e-e188-fe95000c682f"
      },
      "source": [
        "sales_ads['days_listed'].hist(bins=20);"
      ],
      "execution_count": 110,
      "outputs": [
        {
          "output_type": "display_data",
          "data": {
            "image/png": "[encoded data removed]",
            "text/plain": [
              "<Figure size 432x288 with 1 Axes>"
            ]
          },
          "metadata": {
            "tags": [],
            "needs_background": "light"
          }
        }
      ]
    },
    {
      "cell_type": "code",
      "metadata": {
        "id": "W2wGszCR635B",
        "colab_type": "code",
        "colab": {
          "base_uri": "https://localhost:8080/",
          "height": 265
        },
        "outputId": "fafe8863-166d-4038-e812-b2e7c8dafabd"
      },
      "source": [
        "sales_ads['days_listed'].hist(bins=400,range=(1,400));"
      ],
      "execution_count": 111,
      "outputs": [
        {
          "output_type": "display_data",
          "data": {
            "image/png": "[encoded data removed]",
            "text/plain": [
              "<Figure size 432x288 with 1 Axes>"
            ]
          },
          "metadata": {
            "tags": [],
            "needs_background": "light"
          }
        }
      ]
    },
    {
      "cell_type": "markdown",
      "metadata": {
        "id": "-NQjHMko635E",
        "colab_type": "text"
      },
      "source": [
        "<span style=\"color:Green\">\n",
        "\n",
        "**2020-02-25 DD**\n",
        "\n",
        "I agree the peaks look interesting and your explanation is very suitable here. Though, I'd additionally check those intervals ('zooming in' again? or just counting the number of cases within certain intervals). Histograms can be misleading sometimes as they just approximate distributions, they estimate it with an error.\n",
        "\n",
        "</span>"
      ]
    },
    {
      "cell_type": "markdown",
      "metadata": {
        "id": "1qIjJA-5635F",
        "colab_type": "text"
      },
      "source": [
        "We can notice a huge difference between the mean and median values - this is of course due to form of the distribtion (slow descent curve) - therefore as an average, median (74 days) should be taken."
      ]
    },
    {
      "cell_type": "code",
      "metadata": {
        "id": "tCRlI7IA635F",
        "colab_type": "code",
        "colab": {
          "base_uri": "https://localhost:8080/",
          "height": 34
        },
        "outputId": "0afc925f-ffb5-41c0-d1a3-ca32e5553773"
      },
      "source": [
        "print('median=',sales_ads['days_listed'].median(), ', mean=', sales_ads['days_listed'].mean())"
      ],
      "execution_count": 112,
      "outputs": [
        {
          "output_type": "stream",
          "text": [
            "median= 74.0 , mean= 156.60884425503187\n"
          ],
          "name": "stdout"
        }
      ]
    },
    {
      "cell_type": "markdown",
      "metadata": {
        "id": "KHzQmWFu635I",
        "colab_type": "text"
      },
      "source": [
        "### Handling Outliers:\n",
        "- `last_price` - handling the 1% and 99% percentiles\n",
        "- `total_area` - handling the 1% and 99% percentiles\n",
        "- `bedrooms` - handling the 99% percentile (the lower percentile is ok)\n",
        "- `ceiling_height` - handling the 1% and 99% percentiles\n",
        "- `floors_total` - handling the 1% and 99% percentiles\n",
        "- `living_area` - handling the 1% and 99% percentiles\n",
        "- `floor` - handling the 99% percentile (the lower percentile is ok)\n",
        "- `kitchen_area` - handling the 1% and 99% percentiles\n",
        "- `days_listed` - handling the 99% percentile (the lower percentile is ok)"
      ]
    },
    {
      "cell_type": "code",
      "metadata": {
        "id": "59ZSiZ9U635J",
        "colab_type": "code",
        "colab": {}
      },
      "source": [
        "last_price0 = sales_ads['last_price'].quantile(0.01)\n",
        "last_price1 = sales_ads['last_price'].quantile(0.99)\n",
        "total_area0 = sales_ads['total_area'].quantile(0.01)\n",
        "total_area1 = sales_ads['total_area'].quantile(0.99)\n",
        "rooms1 = sales_ads['bedrooms'].quantile(0.99)\n",
        "ceiling_height0 = sales_ads['ceiling_height'].quantile(0.01)\n",
        "ceiling_height1 = sales_ads['ceiling_height'].quantile(0.99)\n",
        "floors_total0 = sales_ads['floors_total'].quantile(0.01)\n",
        "floors_total1 = sales_ads['floors_total'].quantile(0.99)\n",
        "living_area0 = sales_ads['living_area'].quantile(0.01)\n",
        "living_area1 = sales_ads['living_area'].quantile(0.99)\n",
        "floor1 = sales_ads['floor'].quantile(0.99)\n",
        "kitchen_area0 = sales_ads['kitchen_area'].quantile(0.01)\n",
        "kitchen_area1 = sales_ads['kitchen_area'].quantile(0.99)\n",
        "days_listed1 = sales_ads['days_listed'].quantile(0.99)"
      ],
      "execution_count": 115,
      "outputs": []
    },
    {
      "cell_type": "code",
      "metadata": {
        "id": "mY9Rq3ju635M",
        "colab_type": "code",
        "colab": {}
      },
      "source": [
        "sales_ads.query(\"@last_price0 < last_price < @last_price1\", inplace=True)\n",
        "sales_ads.query(\"@total_area0 < total_area < @total_area1\", inplace=True)\n",
        "sales_ads.query(\"bedrooms < @rooms1\", inplace=True)\n",
        "sales_ads.query(\" @ceiling_height0 < ceiling_height < @ceiling_height1\", inplace=True)\n",
        "sales_ads.query(\"@floors_total0 < floors_total < @floors_total1\", inplace=True)\n",
        "sales_ads.query(\"@living_area0 < living_area < @living_area1\", inplace=True)\n",
        "#sales_ads.query(\"floor < @floor1\", inplace=True)\n",
        "sales_ads.query(\"@kitchen_area0 < kitchen_area < @kitchen_area1\", inplace=True)\n",
        "sales_ads.query(\"days_listed < @days_listed1\", inplace=True)"
      ],
      "execution_count": 117,
      "outputs": []
    },
    {
      "cell_type": "markdown",
      "metadata": {
        "id": "I3iJ6-vq635P",
        "colab_type": "text"
      },
      "source": [
        "<span style=\"color:Green\">\n",
        "\n",
        "**2020-02-25 DD**\n",
        "\n",
        "Ok, though the code above reads a bit weird to me with that 'inplace' option (and you lose the original data btw which you might still need for additional analysis). I suggest something like that\n",
        "\n",
        "```\n",
        "sales_ads_filtered = sales.ads \\\n",
        "    .query(\"@last_price0 < last_price < @last_price1\") \\\n",
        "    .query(\"@total_area0 < total_area < @total_area1\") \\\n",
        "    ...\n",
        "```\n",
        "\n",
        "</span>"
      ]
    },
    {
      "cell_type": "code",
      "metadata": {
        "id": "HV5oGi1-635R",
        "colab_type": "code",
        "colab": {
          "base_uri": "https://localhost:8080/",
          "height": 317
        },
        "outputId": "1064d7ac-f178-4382-94b3-a765fa06a150"
      },
      "source": [
        "sales_ads.describe()"
      ],
      "execution_count": 118,
      "outputs": [
        {
          "output_type": "execute_result",
          "data": {
            "text/html": [
              "<div>\n",
              "<style scoped>\n",
              "    .dataframe tbody tr th:only-of-type {\n",
              "        vertical-align: middle;\n",
              "    }\n",
              "\n",
              "    .dataframe tbody tr th {\n",
              "        vertical-align: top;\n",
              "    }\n",
              "\n",
              "    .dataframe thead th {\n",
              "        text-align: right;\n",
              "    }\n",
              "</style>\n",
              "<table border=\"1\" class=\"dataframe\">\n",
              "  <thead>\n",
              "    <tr style=\"text-align: right;\">\n",
              "      <th></th>\n",
              "      <th>days_listed</th>\n",
              "      <th>last_price</th>\n",
              "      <th>bedrooms</th>\n",
              "      <th>kitchen_area</th>\n",
              "      <th>living_area</th>\n",
              "      <th>total_area</th>\n",
              "      <th>balconies</th>\n",
              "      <th>ceiling_height</th>\n",
              "      <th>floors_total</th>\n",
              "      <th>floor</th>\n",
              "      <th>total_images</th>\n",
              "      <th>airport_dist</th>\n",
              "      <th>city_center_dist</th>\n",
              "      <th>park_dist</th>\n",
              "      <th>parks_within_3000</th>\n",
              "      <th>pond_dist</th>\n",
              "      <th>ponds_within_3000</th>\n",
              "      <th>price_per_sqm</th>\n",
              "      <th>weekday_posted</th>\n",
              "      <th>month_posted</th>\n",
              "      <th>year_posted</th>\n",
              "      <th>living_space_to_tot_area</th>\n",
              "      <th>kitchen_to_tot_area</th>\n",
              "    </tr>\n",
              "  </thead>\n",
              "  <tbody>\n",
              "    <tr>\n",
              "      <th>count</th>\n",
              "      <td>14,190.00</td>\n",
              "      <td>14,190.00</td>\n",
              "      <td>14,190.00</td>\n",
              "      <td>14,190.00</td>\n",
              "      <td>14,190.00</td>\n",
              "      <td>14,190.00</td>\n",
              "      <td>14,190.00</td>\n",
              "      <td>14,190.00</td>\n",
              "      <td>14,190.00</td>\n",
              "      <td>14,190.00</td>\n",
              "      <td>14,190.00</td>\n",
              "      <td>14,190.00</td>\n",
              "      <td>14,190.00</td>\n",
              "      <td>14,190.00</td>\n",
              "      <td>14,190.00</td>\n",
              "      <td>14,190.00</td>\n",
              "      <td>14,190.00</td>\n",
              "      <td>14,190.00</td>\n",
              "      <td>14,190.00</td>\n",
              "      <td>14,190.00</td>\n",
              "      <td>14,190.00</td>\n",
              "      <td>14,190.00</td>\n",
              "      <td>14,190.00</td>\n",
              "    </tr>\n",
              "    <tr>\n",
              "      <th>mean</th>\n",
              "      <td>146.99</td>\n",
              "      <td>111,516.66</td>\n",
              "      <td>1.90</td>\n",
              "      <td>10.23</td>\n",
              "      <td>31.25</td>\n",
              "      <td>55.72</td>\n",
              "      <td>0.63</td>\n",
              "      <td>2.70</td>\n",
              "      <td>11.01</td>\n",
              "      <td>6.01</td>\n",
              "      <td>9.86</td>\n",
              "      <td>27,971.57</td>\n",
              "      <td>14,036.70</td>\n",
              "      <td>471.48</td>\n",
              "      <td>0.46</td>\n",
              "      <td>511.42</td>\n",
              "      <td>0.81</td>\n",
              "      <td>1,978.28</td>\n",
              "      <td>2.58</td>\n",
              "      <td>6.41</td>\n",
              "      <td>2,017.34</td>\n",
              "      <td>0.55</td>\n",
              "      <td>0.19</td>\n",
              "    </tr>\n",
              "    <tr>\n",
              "      <th>std</th>\n",
              "      <td>185.82</td>\n",
              "      <td>60,939.28</td>\n",
              "      <td>0.79</td>\n",
              "      <td>3.81</td>\n",
              "      <td>12.76</td>\n",
              "      <td>19.11</td>\n",
              "      <td>0.98</td>\n",
              "      <td>0.14</td>\n",
              "      <td>5.67</td>\n",
              "      <td>4.51</td>\n",
              "      <td>5.64</td>\n",
              "      <td>10,779.53</td>\n",
              "      <td>7,222.72</td>\n",
              "      <td>211.04</td>\n",
              "      <td>0.72</td>\n",
              "      <td>173.53</td>\n",
              "      <td>0.82</td>\n",
              "      <td>642.44</td>\n",
              "      <td>1.79</td>\n",
              "      <td>3.48</td>\n",
              "      <td>1.01</td>\n",
              "      <td>0.09</td>\n",
              "      <td>0.06</td>\n",
              "    </tr>\n",
              "    <tr>\n",
              "      <th>min</th>\n",
              "      <td>0.00</td>\n",
              "      <td>28,400.00</td>\n",
              "      <td>0.00</td>\n",
              "      <td>5.01</td>\n",
              "      <td>14.10</td>\n",
              "      <td>28.50</td>\n",
              "      <td>0.00</td>\n",
              "      <td>2.55</td>\n",
              "      <td>4.00</td>\n",
              "      <td>1.00</td>\n",
              "      <td>0.00</td>\n",
              "      <td>0.00</td>\n",
              "      <td>287.00</td>\n",
              "      <td>1.00</td>\n",
              "      <td>0.00</td>\n",
              "      <td>13.00</td>\n",
              "      <td>0.00</td>\n",
              "      <td>384.62</td>\n",
              "      <td>0.00</td>\n",
              "      <td>1.00</td>\n",
              "      <td>2,014.00</td>\n",
              "      <td>0.18</td>\n",
              "      <td>0.06</td>\n",
              "    </tr>\n",
              "    <tr>\n",
              "      <th>25%</th>\n",
              "      <td>25.00</td>\n",
              "      <td>72,000.00</td>\n",
              "      <td>1.00</td>\n",
              "      <td>7.76</td>\n",
              "      <td>19.00</td>\n",
              "      <td>40.90</td>\n",
              "      <td>0.00</td>\n",
              "      <td>2.65</td>\n",
              "      <td>5.00</td>\n",
              "      <td>3.00</td>\n",
              "      <td>6.00</td>\n",
              "      <td>20,151.25</td>\n",
              "      <td>11,096.00</td>\n",
              "      <td>455.00</td>\n",
              "      <td>0.00</td>\n",
              "      <td>502.00</td>\n",
              "      <td>0.00</td>\n",
              "      <td>1,586.68</td>\n",
              "      <td>1.00</td>\n",
              "      <td>3.00</td>\n",
              "      <td>2,017.00</td>\n",
              "      <td>0.49</td>\n",
              "      <td>0.15</td>\n",
              "    </tr>\n",
              "    <tr>\n",
              "      <th>50%</th>\n",
              "      <td>74.00</td>\n",
              "      <td>95,453.50</td>\n",
              "      <td>2.00</td>\n",
              "      <td>9.60</td>\n",
              "      <td>30.00</td>\n",
              "      <td>52.00</td>\n",
              "      <td>0.00</td>\n",
              "      <td>2.65</td>\n",
              "      <td>9.00</td>\n",
              "      <td>5.00</td>\n",
              "      <td>10.00</td>\n",
              "      <td>26,726.00</td>\n",
              "      <td>13,098.50</td>\n",
              "      <td>455.00</td>\n",
              "      <td>0.00</td>\n",
              "      <td>502.00</td>\n",
              "      <td>1.00</td>\n",
              "      <td>1,917.45</td>\n",
              "      <td>3.00</td>\n",
              "      <td>6.00</td>\n",
              "      <td>2,017.00</td>\n",
              "      <td>0.57</td>\n",
              "      <td>0.18</td>\n",
              "    </tr>\n",
              "    <tr>\n",
              "      <th>75%</th>\n",
              "      <td>193.00</td>\n",
              "      <td>131,980.00</td>\n",
              "      <td>3.00</td>\n",
              "      <td>11.89</td>\n",
              "      <td>40.00</td>\n",
              "      <td>67.00</td>\n",
              "      <td>1.00</td>\n",
              "      <td>2.70</td>\n",
              "      <td>16.00</td>\n",
              "      <td>8.00</td>\n",
              "      <td>14.00</td>\n",
              "      <td>34,213.75</td>\n",
              "      <td>15,186.00</td>\n",
              "      <td>455.00</td>\n",
              "      <td>1.00</td>\n",
              "      <td>502.00</td>\n",
              "      <td>1.00</td>\n",
              "      <td>2,290.27</td>\n",
              "      <td>4.00</td>\n",
              "      <td>10.00</td>\n",
              "      <td>2,018.00</td>\n",
              "      <td>0.61</td>\n",
              "      <td>0.23</td>\n",
              "    </tr>\n",
              "    <tr>\n",
              "      <th>max</th>\n",
              "      <td>1,045.00</td>\n",
              "      <td>474,336.00</td>\n",
              "      <td>3.00</td>\n",
              "      <td>31.20</td>\n",
              "      <td>82.80</td>\n",
              "      <td>141.00</td>\n",
              "      <td>5.00</td>\n",
              "      <td>3.39</td>\n",
              "      <td>24.00</td>\n",
              "      <td>24.00</td>\n",
              "      <td>50.00</td>\n",
              "      <td>73,391.00</td>\n",
              "      <td>61,495.00</td>\n",
              "      <td>3,190.00</td>\n",
              "      <td>3.00</td>\n",
              "      <td>1,344.00</td>\n",
              "      <td>3.00</td>\n",
              "      <td>7,741.94</td>\n",
              "      <td>6.00</td>\n",
              "      <td>12.00</td>\n",
              "      <td>2,019.00</td>\n",
              "      <td>0.97</td>\n",
              "      <td>0.79</td>\n",
              "    </tr>\n",
              "  </tbody>\n",
              "</table>\n",
              "</div>"
            ],
            "text/plain": [
              "               days_listed           last_price             bedrooms  \\\n",
              "count            14,190.00            14,190.00            14,190.00   \n",
              "mean                146.99           111,516.66                 1.90   \n",
              "std                 185.82            60,939.28                 0.79   \n",
              "min                   0.00            28,400.00                 0.00   \n",
              "25%                  25.00            72,000.00                 1.00   \n",
              "50%                  74.00            95,453.50                 2.00   \n",
              "75%                 193.00           131,980.00                 3.00   \n",
              "max               1,045.00           474,336.00                 3.00   \n",
              "\n",
              "              kitchen_area          living_area           total_area  \\\n",
              "count            14,190.00            14,190.00            14,190.00   \n",
              "mean                 10.23                31.25                55.72   \n",
              "std                   3.81                12.76                19.11   \n",
              "min                   5.01                14.10                28.50   \n",
              "25%                   7.76                19.00                40.90   \n",
              "50%                   9.60                30.00                52.00   \n",
              "75%                  11.89                40.00                67.00   \n",
              "max                  31.20                82.80               141.00   \n",
              "\n",
              "                 balconies       ceiling_height         floors_total  \\\n",
              "count            14,190.00            14,190.00            14,190.00   \n",
              "mean                  0.63                 2.70                11.01   \n",
              "std                   0.98                 0.14                 5.67   \n",
              "min                   0.00                 2.55                 4.00   \n",
              "25%                   0.00                 2.65                 5.00   \n",
              "50%                   0.00                 2.65                 9.00   \n",
              "75%                   1.00                 2.70                16.00   \n",
              "max                   5.00                 3.39                24.00   \n",
              "\n",
              "                     floor         total_images         airport_dist  \\\n",
              "count            14,190.00            14,190.00            14,190.00   \n",
              "mean                  6.01                 9.86            27,971.57   \n",
              "std                   4.51                 5.64            10,779.53   \n",
              "min                   1.00                 0.00                 0.00   \n",
              "25%                   3.00                 6.00            20,151.25   \n",
              "50%                   5.00                10.00            26,726.00   \n",
              "75%                   8.00                14.00            34,213.75   \n",
              "max                  24.00                50.00            73,391.00   \n",
              "\n",
              "          city_center_dist            park_dist    parks_within_3000  \\\n",
              "count            14,190.00            14,190.00            14,190.00   \n",
              "mean             14,036.70               471.48                 0.46   \n",
              "std               7,222.72               211.04                 0.72   \n",
              "min                 287.00                 1.00                 0.00   \n",
              "25%              11,096.00               455.00                 0.00   \n",
              "50%              13,098.50               455.00                 0.00   \n",
              "75%              15,186.00               455.00                 1.00   \n",
              "max              61,495.00             3,190.00                 3.00   \n",
              "\n",
              "                 pond_dist    ponds_within_3000        price_per_sqm  \\\n",
              "count            14,190.00            14,190.00            14,190.00   \n",
              "mean                511.42                 0.81             1,978.28   \n",
              "std                 173.53                 0.82               642.44   \n",
              "min                  13.00                 0.00               384.62   \n",
              "25%                 502.00                 0.00             1,586.68   \n",
              "50%                 502.00                 1.00             1,917.45   \n",
              "75%                 502.00                 1.00             2,290.27   \n",
              "max               1,344.00                 3.00             7,741.94   \n",
              "\n",
              "            weekday_posted         month_posted          year_posted  \\\n",
              "count            14,190.00            14,190.00            14,190.00   \n",
              "mean                  2.58                 6.41             2,017.34   \n",
              "std                   1.79                 3.48                 1.01   \n",
              "min                   0.00                 1.00             2,014.00   \n",
              "25%                   1.00                 3.00             2,017.00   \n",
              "50%                   3.00                 6.00             2,017.00   \n",
              "75%                   4.00                10.00             2,018.00   \n",
              "max                   6.00                12.00             2,019.00   \n",
              "\n",
              "       living_space_to_tot_area  kitchen_to_tot_area  \n",
              "count                 14,190.00            14,190.00  \n",
              "mean                       0.55                 0.19  \n",
              "std                        0.09                 0.06  \n",
              "min                        0.18                 0.06  \n",
              "25%                        0.49                 0.15  \n",
              "50%                        0.57                 0.18  \n",
              "75%                        0.61                 0.23  \n",
              "max                        0.97                 0.79  "
            ]
          },
          "metadata": {
            "tags": []
          },
          "execution_count": 118
        }
      ]
    },
    {
      "cell_type": "code",
      "metadata": {
        "id": "DwswXdk6635V",
        "colab_type": "code",
        "colab": {
          "base_uri": "https://localhost:8080/",
          "height": 173
        },
        "outputId": "81ad4b4a-4ab4-4815-bc12-be0d193583ce"
      },
      "source": [
        "sales1 = sales_ads[['last_price','total_area','living_area','kitchen_area']]\n",
        "sales1.corr()"
      ],
      "execution_count": 119,
      "outputs": [
        {
          "output_type": "execute_result",
          "data": {
            "text/html": [
              "<div>\n",
              "<style scoped>\n",
              "    .dataframe tbody tr th:only-of-type {\n",
              "        vertical-align: middle;\n",
              "    }\n",
              "\n",
              "    .dataframe tbody tr th {\n",
              "        vertical-align: top;\n",
              "    }\n",
              "\n",
              "    .dataframe thead th {\n",
              "        text-align: right;\n",
              "    }\n",
              "</style>\n",
              "<table border=\"1\" class=\"dataframe\">\n",
              "  <thead>\n",
              "    <tr style=\"text-align: right;\">\n",
              "      <th></th>\n",
              "      <th>last_price</th>\n",
              "      <th>total_area</th>\n",
              "      <th>living_area</th>\n",
              "      <th>kitchen_area</th>\n",
              "    </tr>\n",
              "  </thead>\n",
              "  <tbody>\n",
              "    <tr>\n",
              "      <th>last_price</th>\n",
              "      <td>1.00</td>\n",
              "      <td>0.74</td>\n",
              "      <td>0.62</td>\n",
              "      <td>0.56</td>\n",
              "    </tr>\n",
              "    <tr>\n",
              "      <th>total_area</th>\n",
              "      <td>0.74</td>\n",
              "      <td>1.00</td>\n",
              "      <td>0.92</td>\n",
              "      <td>0.55</td>\n",
              "    </tr>\n",
              "    <tr>\n",
              "      <th>living_area</th>\n",
              "      <td>0.62</td>\n",
              "      <td>0.92</td>\n",
              "      <td>1.00</td>\n",
              "      <td>0.29</td>\n",
              "    </tr>\n",
              "    <tr>\n",
              "      <th>kitchen_area</th>\n",
              "      <td>0.56</td>\n",
              "      <td>0.55</td>\n",
              "      <td>0.29</td>\n",
              "      <td>1.00</td>\n",
              "    </tr>\n",
              "  </tbody>\n",
              "</table>\n",
              "</div>"
            ],
            "text/plain": [
              "                       last_price           total_area          living_area  \\\n",
              "last_price                   1.00                 0.74                 0.62   \n",
              "total_area                   0.74                 1.00                 0.92   \n",
              "living_area                  0.62                 0.92                 1.00   \n",
              "kitchen_area                 0.56                 0.55                 0.29   \n",
              "\n",
              "                     kitchen_area  \n",
              "last_price                   0.56  \n",
              "total_area                   0.55  \n",
              "living_area                  0.29  \n",
              "kitchen_area                 1.00  "
            ]
          },
          "metadata": {
            "tags": []
          },
          "execution_count": 119
        }
      ]
    },
    {
      "cell_type": "code",
      "metadata": {
        "id": "43KM6gGM635Z",
        "colab_type": "code",
        "colab": {
          "base_uri": "https://localhost:8080/",
          "height": 572
        },
        "outputId": "1e58275f-2c6a-4a64-ad54-21f2a1c2bbd5"
      },
      "source": [
        "pd.plotting.scatter_matrix(sales1, figsize=(9, 9));"
      ],
      "execution_count": 120,
      "outputs": [
        {
          "output_type": "display_data",
          "data": {
            "image/png": "[encoded data removed]",
            "text/plain": [
              "<Figure size 648x648 with 16 Axes>"
            ]
          },
          "metadata": {
            "tags": [],
            "needs_background": "light"
          }
        }
      ]
    },
    {
      "cell_type": "markdown",
      "metadata": {
        "id": "lh1P2IZ4635e",
        "colab_type": "text"
      },
      "source": [
        "Influence on Apartment's price\n",
        "<br>As expected the highest factor is the `total_area` (0.77). \n",
        "<br>Obviously it is followed by `living_area` (0.67) and `kitcken area` (0.58).\n",
        "<br>Please note the negative correlation of `cityCenters_nearest` (-0.29).\n",
        "<br>In addition, `rooms`: 0.47"
      ]
    },
    {
      "cell_type": "code",
      "metadata": {
        "id": "aJPW3jgJ635f",
        "colab_type": "code",
        "colab": {
          "base_uri": "https://localhost:8080/",
          "height": 844
        },
        "outputId": "bb528cc7-58b5-4871-bffb-bb62a339519b"
      },
      "source": [
        "sales_ads.corr()"
      ],
      "execution_count": 121,
      "outputs": [
        {
          "output_type": "execute_result",
          "data": {
            "text/html": [
              "<div>\n",
              "<style scoped>\n",
              "    .dataframe tbody tr th:only-of-type {\n",
              "        vertical-align: middle;\n",
              "    }\n",
              "\n",
              "    .dataframe tbody tr th {\n",
              "        vertical-align: top;\n",
              "    }\n",
              "\n",
              "    .dataframe thead th {\n",
              "        text-align: right;\n",
              "    }\n",
              "</style>\n",
              "<table border=\"1\" class=\"dataframe\">\n",
              "  <thead>\n",
              "    <tr style=\"text-align: right;\">\n",
              "      <th></th>\n",
              "      <th>days_listed</th>\n",
              "      <th>last_price</th>\n",
              "      <th>bedrooms</th>\n",
              "      <th>kitchen_area</th>\n",
              "      <th>living_area</th>\n",
              "      <th>total_area</th>\n",
              "      <th>balconies</th>\n",
              "      <th>ceiling_height</th>\n",
              "      <th>floors_total</th>\n",
              "      <th>floor</th>\n",
              "      <th>total_images</th>\n",
              "      <th>is_studio</th>\n",
              "      <th>is_open_plan</th>\n",
              "      <th>airport_dist</th>\n",
              "      <th>city_center_dist</th>\n",
              "      <th>park_dist</th>\n",
              "      <th>parks_within_3000</th>\n",
              "      <th>pond_dist</th>\n",
              "      <th>ponds_within_3000</th>\n",
              "      <th>price_per_sqm</th>\n",
              "      <th>weekday_posted</th>\n",
              "      <th>month_posted</th>\n",
              "      <th>year_posted</th>\n",
              "      <th>living_space_to_tot_area</th>\n",
              "      <th>kitchen_to_tot_area</th>\n",
              "    </tr>\n",
              "  </thead>\n",
              "  <tbody>\n",
              "    <tr>\n",
              "      <th>days_listed</th>\n",
              "      <td>1.00</td>\n",
              "      <td>0.03</td>\n",
              "      <td>0.04</td>\n",
              "      <td>0.04</td>\n",
              "      <td>0.05</td>\n",
              "      <td>0.06</td>\n",
              "      <td>-0.02</td>\n",
              "      <td>0.03</td>\n",
              "      <td>-0.03</td>\n",
              "      <td>-0.03</td>\n",
              "      <td>-0.05</td>\n",
              "      <td>-0.01</td>\n",
              "      <td>-0.01</td>\n",
              "      <td>-0.01</td>\n",
              "      <td>-0.03</td>\n",
              "      <td>0.02</td>\n",
              "      <td>0.04</td>\n",
              "      <td>-0.03</td>\n",
              "      <td>0.03</td>\n",
              "      <td>-0.02</td>\n",
              "      <td>-0.02</td>\n",
              "      <td>0.01</td>\n",
              "      <td>-0.58</td>\n",
              "      <td>-0.01</td>\n",
              "      <td>-0.01</td>\n",
              "    </tr>\n",
              "    <tr>\n",
              "      <th>last_price</th>\n",
              "      <td>0.03</td>\n",
              "      <td>1.00</td>\n",
              "      <td>0.43</td>\n",
              "      <td>0.56</td>\n",
              "      <td>0.62</td>\n",
              "      <td>0.74</td>\n",
              "      <td>0.05</td>\n",
              "      <td>0.36</td>\n",
              "      <td>0.10</td>\n",
              "      <td>0.08</td>\n",
              "      <td>0.14</td>\n",
              "      <td>-0.02</td>\n",
              "      <td>-0.02</td>\n",
              "      <td>0.02</td>\n",
              "      <td>-0.28</td>\n",
              "      <td>0.09</td>\n",
              "      <td>0.26</td>\n",
              "      <td>-0.05</td>\n",
              "      <td>0.13</td>\n",
              "      <td>0.72</td>\n",
              "      <td>-0.01</td>\n",
              "      <td>0.00</td>\n",
              "      <td>0.03</td>\n",
              "      <td>0.03</td>\n",
              "      <td>-0.14</td>\n",
              "    </tr>\n",
              "    <tr>\n",
              "      <th>bedrooms</th>\n",
              "      <td>0.04</td>\n",
              "      <td>0.43</td>\n",
              "      <td>1.00</td>\n",
              "      <td>0.16</td>\n",
              "      <td>0.87</td>\n",
              "      <td>0.78</td>\n",
              "      <td>0.01</td>\n",
              "      <td>0.10</td>\n",
              "      <td>-0.20</td>\n",
              "      <td>-0.14</td>\n",
              "      <td>0.08</td>\n",
              "      <td>-0.11</td>\n",
              "      <td>-0.05</td>\n",
              "      <td>-0.02</td>\n",
              "      <td>-0.07</td>\n",
              "      <td>-0.01</td>\n",
              "      <td>0.08</td>\n",
              "      <td>-0.00</td>\n",
              "      <td>0.03</td>\n",
              "      <td>-0.12</td>\n",
              "      <td>-0.00</td>\n",
              "      <td>0.01</td>\n",
              "      <td>-0.03</td>\n",
              "      <td>0.58</td>\n",
              "      <td>-0.64</td>\n",
              "    </tr>\n",
              "    <tr>\n",
              "      <th>kitchen_area</th>\n",
              "      <td>0.04</td>\n",
              "      <td>0.56</td>\n",
              "      <td>0.16</td>\n",
              "      <td>1.00</td>\n",
              "      <td>0.29</td>\n",
              "      <td>0.55</td>\n",
              "      <td>0.08</td>\n",
              "      <td>0.24</td>\n",
              "      <td>0.23</td>\n",
              "      <td>0.15</td>\n",
              "      <td>0.07</td>\n",
              "      <td>-0.05</td>\n",
              "      <td>-0.03</td>\n",
              "      <td>0.03</td>\n",
              "      <td>-0.11</td>\n",
              "      <td>0.06</td>\n",
              "      <td>0.04</td>\n",
              "      <td>-0.03</td>\n",
              "      <td>0.11</td>\n",
              "      <td>0.29</td>\n",
              "      <td>-0.01</td>\n",
              "      <td>0.02</td>\n",
              "      <td>-0.00</td>\n",
              "      <td>-0.38</td>\n",
              "      <td>0.50</td>\n",
              "    </tr>\n",
              "    <tr>\n",
              "      <th>living_area</th>\n",
              "      <td>0.05</td>\n",
              "      <td>0.62</td>\n",
              "      <td>0.87</td>\n",
              "      <td>0.29</td>\n",
              "      <td>1.00</td>\n",
              "      <td>0.92</td>\n",
              "      <td>0.02</td>\n",
              "      <td>0.22</td>\n",
              "      <td>-0.14</td>\n",
              "      <td>-0.10</td>\n",
              "      <td>0.09</td>\n",
              "      <td>-0.03</td>\n",
              "      <td>-0.02</td>\n",
              "      <td>-0.02</td>\n",
              "      <td>-0.12</td>\n",
              "      <td>0.01</td>\n",
              "      <td>0.13</td>\n",
              "      <td>-0.01</td>\n",
              "      <td>0.07</td>\n",
              "      <td>0.01</td>\n",
              "      <td>-0.01</td>\n",
              "      <td>0.01</td>\n",
              "      <td>-0.03</td>\n",
              "      <td>0.59</td>\n",
              "      <td>-0.60</td>\n",
              "    </tr>\n",
              "    <tr>\n",
              "      <th>total_area</th>\n",
              "      <td>0.06</td>\n",
              "      <td>0.74</td>\n",
              "      <td>0.78</td>\n",
              "      <td>0.55</td>\n",
              "      <td>0.92</td>\n",
              "      <td>1.00</td>\n",
              "      <td>0.06</td>\n",
              "      <td>0.27</td>\n",
              "      <td>-0.02</td>\n",
              "      <td>-0.02</td>\n",
              "      <td>0.10</td>\n",
              "      <td>-0.05</td>\n",
              "      <td>-0.03</td>\n",
              "      <td>0.01</td>\n",
              "      <td>-0.13</td>\n",
              "      <td>0.04</td>\n",
              "      <td>0.11</td>\n",
              "      <td>-0.03</td>\n",
              "      <td>0.10</td>\n",
              "      <td>0.11</td>\n",
              "      <td>-0.01</td>\n",
              "      <td>0.01</td>\n",
              "      <td>-0.03</td>\n",
              "      <td>0.24</td>\n",
              "      <td>-0.41</td>\n",
              "    </tr>\n",
              "    <tr>\n",
              "      <th>balconies</th>\n",
              "      <td>-0.02</td>\n",
              "      <td>0.05</td>\n",
              "      <td>0.01</td>\n",
              "      <td>0.08</td>\n",
              "      <td>0.02</td>\n",
              "      <td>0.06</td>\n",
              "      <td>1.00</td>\n",
              "      <td>-0.02</td>\n",
              "      <td>0.16</td>\n",
              "      <td>0.16</td>\n",
              "      <td>0.05</td>\n",
              "      <td>0.03</td>\n",
              "      <td>0.02</td>\n",
              "      <td>0.03</td>\n",
              "      <td>0.05</td>\n",
              "      <td>0.01</td>\n",
              "      <td>-0.07</td>\n",
              "      <td>0.02</td>\n",
              "      <td>-0.02</td>\n",
              "      <td>0.03</td>\n",
              "      <td>0.01</td>\n",
              "      <td>0.02</td>\n",
              "      <td>0.01</td>\n",
              "      <td>-0.07</td>\n",
              "      <td>0.04</td>\n",
              "    </tr>\n",
              "    <tr>\n",
              "      <th>ceiling_height</th>\n",
              "      <td>0.03</td>\n",
              "      <td>0.36</td>\n",
              "      <td>0.10</td>\n",
              "      <td>0.24</td>\n",
              "      <td>0.22</td>\n",
              "      <td>0.27</td>\n",
              "      <td>-0.02</td>\n",
              "      <td>1.00</td>\n",
              "      <td>-0.10</td>\n",
              "      <td>-0.05</td>\n",
              "      <td>0.03</td>\n",
              "      <td>0.02</td>\n",
              "      <td>-0.00</td>\n",
              "      <td>-0.03</td>\n",
              "      <td>-0.22</td>\n",
              "      <td>-0.02</td>\n",
              "      <td>0.21</td>\n",
              "      <td>-0.05</td>\n",
              "      <td>0.12</td>\n",
              "      <td>0.29</td>\n",
              "      <td>-0.03</td>\n",
              "      <td>-0.00</td>\n",
              "      <td>0.03</td>\n",
              "      <td>-0.01</td>\n",
              "      <td>0.01</td>\n",
              "    </tr>\n",
              "    <tr>\n",
              "      <th>floors_total</th>\n",
              "      <td>-0.03</td>\n",
              "      <td>0.10</td>\n",
              "      <td>-0.20</td>\n",
              "      <td>0.23</td>\n",
              "      <td>-0.14</td>\n",
              "      <td>-0.02</td>\n",
              "      <td>0.16</td>\n",
              "      <td>-0.10</td>\n",
              "      <td>1.00</td>\n",
              "      <td>0.63</td>\n",
              "      <td>0.03</td>\n",
              "      <td>0.03</td>\n",
              "      <td>0.01</td>\n",
              "      <td>0.07</td>\n",
              "      <td>-0.01</td>\n",
              "      <td>0.01</td>\n",
              "      <td>-0.15</td>\n",
              "      <td>0.02</td>\n",
              "      <td>-0.08</td>\n",
              "      <td>0.21</td>\n",
              "      <td>0.00</td>\n",
              "      <td>0.01</td>\n",
              "      <td>0.03</td>\n",
              "      <td>-0.34</td>\n",
              "      <td>0.31</td>\n",
              "    </tr>\n",
              "    <tr>\n",
              "      <th>floor</th>\n",
              "      <td>-0.03</td>\n",
              "      <td>0.08</td>\n",
              "      <td>-0.14</td>\n",
              "      <td>0.15</td>\n",
              "      <td>-0.10</td>\n",
              "      <td>-0.02</td>\n",
              "      <td>0.16</td>\n",
              "      <td>-0.05</td>\n",
              "      <td>0.63</td>\n",
              "      <td>1.00</td>\n",
              "      <td>0.05</td>\n",
              "      <td>0.00</td>\n",
              "      <td>-0.00</td>\n",
              "      <td>0.04</td>\n",
              "      <td>-0.00</td>\n",
              "      <td>0.02</td>\n",
              "      <td>-0.10</td>\n",
              "      <td>0.01</td>\n",
              "      <td>-0.05</td>\n",
              "      <td>0.16</td>\n",
              "      <td>0.01</td>\n",
              "      <td>0.02</td>\n",
              "      <td>0.03</td>\n",
              "      <td>-0.23</td>\n",
              "      <td>0.21</td>\n",
              "    </tr>\n",
              "    <tr>\n",
              "      <th>total_images</th>\n",
              "      <td>-0.05</td>\n",
              "      <td>0.14</td>\n",
              "      <td>0.08</td>\n",
              "      <td>0.07</td>\n",
              "      <td>0.09</td>\n",
              "      <td>0.10</td>\n",
              "      <td>0.05</td>\n",
              "      <td>0.03</td>\n",
              "      <td>0.03</td>\n",
              "      <td>0.05</td>\n",
              "      <td>1.00</td>\n",
              "      <td>-0.01</td>\n",
              "      <td>0.00</td>\n",
              "      <td>-0.00</td>\n",
              "      <td>-0.02</td>\n",
              "      <td>-0.00</td>\n",
              "      <td>0.01</td>\n",
              "      <td>0.00</td>\n",
              "      <td>-0.03</td>\n",
              "      <td>0.13</td>\n",
              "      <td>0.00</td>\n",
              "      <td>0.01</td>\n",
              "      <td>0.15</td>\n",
              "      <td>0.01</td>\n",
              "      <td>-0.02</td>\n",
              "    </tr>\n",
              "    <tr>\n",
              "      <th>is_studio</th>\n",
              "      <td>-0.01</td>\n",
              "      <td>-0.02</td>\n",
              "      <td>-0.11</td>\n",
              "      <td>-0.05</td>\n",
              "      <td>-0.03</td>\n",
              "      <td>-0.05</td>\n",
              "      <td>0.03</td>\n",
              "      <td>0.02</td>\n",
              "      <td>0.03</td>\n",
              "      <td>0.00</td>\n",
              "      <td>-0.01</td>\n",
              "      <td>1.00</td>\n",
              "      <td>-0.00</td>\n",
              "      <td>0.00</td>\n",
              "      <td>-0.01</td>\n",
              "      <td>0.00</td>\n",
              "      <td>-0.02</td>\n",
              "      <td>0.01</td>\n",
              "      <td>-0.00</td>\n",
              "      <td>0.02</td>\n",
              "      <td>-0.00</td>\n",
              "      <td>0.01</td>\n",
              "      <td>0.00</td>\n",
              "      <td>0.05</td>\n",
              "      <td>-0.01</td>\n",
              "    </tr>\n",
              "    <tr>\n",
              "      <th>is_open_plan</th>\n",
              "      <td>-0.01</td>\n",
              "      <td>-0.02</td>\n",
              "      <td>-0.05</td>\n",
              "      <td>-0.03</td>\n",
              "      <td>-0.02</td>\n",
              "      <td>-0.03</td>\n",
              "      <td>0.02</td>\n",
              "      <td>-0.00</td>\n",
              "      <td>0.01</td>\n",
              "      <td>-0.00</td>\n",
              "      <td>0.00</td>\n",
              "      <td>-0.00</td>\n",
              "      <td>1.00</td>\n",
              "      <td>-0.00</td>\n",
              "      <td>-0.00</td>\n",
              "      <td>-0.00</td>\n",
              "      <td>-0.01</td>\n",
              "      <td>0.00</td>\n",
              "      <td>0.00</td>\n",
              "      <td>-0.01</td>\n",
              "      <td>0.01</td>\n",
              "      <td>0.01</td>\n",
              "      <td>-0.02</td>\n",
              "      <td>0.03</td>\n",
              "      <td>-0.01</td>\n",
              "    </tr>\n",
              "    <tr>\n",
              "      <th>airport_dist</th>\n",
              "      <td>-0.01</td>\n",
              "      <td>0.02</td>\n",
              "      <td>-0.02</td>\n",
              "      <td>0.03</td>\n",
              "      <td>-0.02</td>\n",
              "      <td>0.01</td>\n",
              "      <td>0.03</td>\n",
              "      <td>-0.03</td>\n",
              "      <td>0.07</td>\n",
              "      <td>0.04</td>\n",
              "      <td>-0.00</td>\n",
              "      <td>0.00</td>\n",
              "      <td>-0.00</td>\n",
              "      <td>1.00</td>\n",
              "      <td>0.23</td>\n",
              "      <td>-0.05</td>\n",
              "      <td>0.05</td>\n",
              "      <td>0.01</td>\n",
              "      <td>-0.01</td>\n",
              "      <td>0.01</td>\n",
              "      <td>-0.00</td>\n",
              "      <td>-0.01</td>\n",
              "      <td>-0.01</td>\n",
              "      <td>-0.05</td>\n",
              "      <td>0.02</td>\n",
              "    </tr>\n",
              "    <tr>\n",
              "      <th>city_center_dist</th>\n",
              "      <td>-0.03</td>\n",
              "      <td>-0.28</td>\n",
              "      <td>-0.07</td>\n",
              "      <td>-0.11</td>\n",
              "      <td>-0.12</td>\n",
              "      <td>-0.13</td>\n",
              "      <td>0.05</td>\n",
              "      <td>-0.22</td>\n",
              "      <td>-0.01</td>\n",
              "      <td>-0.00</td>\n",
              "      <td>-0.02</td>\n",
              "      <td>-0.01</td>\n",
              "      <td>-0.00</td>\n",
              "      <td>0.23</td>\n",
              "      <td>1.00</td>\n",
              "      <td>-0.04</td>\n",
              "      <td>-0.13</td>\n",
              "      <td>0.01</td>\n",
              "      <td>-0.06</td>\n",
              "      <td>-0.30</td>\n",
              "      <td>0.01</td>\n",
              "      <td>-0.02</td>\n",
              "      <td>0.01</td>\n",
              "      <td>-0.03</td>\n",
              "      <td>0.01</td>\n",
              "    </tr>\n",
              "    <tr>\n",
              "      <th>park_dist</th>\n",
              "      <td>0.02</td>\n",
              "      <td>0.09</td>\n",
              "      <td>-0.01</td>\n",
              "      <td>0.06</td>\n",
              "      <td>0.01</td>\n",
              "      <td>0.04</td>\n",
              "      <td>0.01</td>\n",
              "      <td>-0.02</td>\n",
              "      <td>0.01</td>\n",
              "      <td>0.02</td>\n",
              "      <td>-0.00</td>\n",
              "      <td>0.00</td>\n",
              "      <td>-0.00</td>\n",
              "      <td>-0.05</td>\n",
              "      <td>-0.04</td>\n",
              "      <td>1.00</td>\n",
              "      <td>-0.02</td>\n",
              "      <td>-0.01</td>\n",
              "      <td>0.11</td>\n",
              "      <td>0.09</td>\n",
              "      <td>-0.00</td>\n",
              "      <td>0.01</td>\n",
              "      <td>-0.02</td>\n",
              "      <td>-0.05</td>\n",
              "      <td>0.02</td>\n",
              "    </tr>\n",
              "    <tr>\n",
              "      <th>parks_within_3000</th>\n",
              "      <td>0.04</td>\n",
              "      <td>0.26</td>\n",
              "      <td>0.08</td>\n",
              "      <td>0.04</td>\n",
              "      <td>0.13</td>\n",
              "      <td>0.11</td>\n",
              "      <td>-0.07</td>\n",
              "      <td>0.21</td>\n",
              "      <td>-0.15</td>\n",
              "      <td>-0.10</td>\n",
              "      <td>0.01</td>\n",
              "      <td>-0.02</td>\n",
              "      <td>-0.01</td>\n",
              "      <td>0.05</td>\n",
              "      <td>-0.13</td>\n",
              "      <td>-0.02</td>\n",
              "      <td>1.00</td>\n",
              "      <td>-0.09</td>\n",
              "      <td>0.22</td>\n",
              "      <td>0.28</td>\n",
              "      <td>-0.01</td>\n",
              "      <td>-0.00</td>\n",
              "      <td>-0.03</td>\n",
              "      <td>0.09</td>\n",
              "      <td>-0.08</td>\n",
              "    </tr>\n",
              "    <tr>\n",
              "      <th>pond_dist</th>\n",
              "      <td>-0.03</td>\n",
              "      <td>-0.05</td>\n",
              "      <td>-0.00</td>\n",
              "      <td>-0.03</td>\n",
              "      <td>-0.01</td>\n",
              "      <td>-0.03</td>\n",
              "      <td>0.02</td>\n",
              "      <td>-0.05</td>\n",
              "      <td>0.02</td>\n",
              "      <td>0.01</td>\n",
              "      <td>0.00</td>\n",
              "      <td>0.01</td>\n",
              "      <td>0.00</td>\n",
              "      <td>0.01</td>\n",
              "      <td>0.01</td>\n",
              "      <td>-0.01</td>\n",
              "      <td>-0.09</td>\n",
              "      <td>1.00</td>\n",
              "      <td>-0.13</td>\n",
              "      <td>-0.03</td>\n",
              "      <td>-0.00</td>\n",
              "      <td>0.01</td>\n",
              "      <td>0.01</td>\n",
              "      <td>0.02</td>\n",
              "      <td>-0.01</td>\n",
              "    </tr>\n",
              "    <tr>\n",
              "      <th>ponds_within_3000</th>\n",
              "      <td>0.03</td>\n",
              "      <td>0.13</td>\n",
              "      <td>0.03</td>\n",
              "      <td>0.11</td>\n",
              "      <td>0.07</td>\n",
              "      <td>0.10</td>\n",
              "      <td>-0.02</td>\n",
              "      <td>0.12</td>\n",
              "      <td>-0.08</td>\n",
              "      <td>-0.05</td>\n",
              "      <td>-0.03</td>\n",
              "      <td>-0.00</td>\n",
              "      <td>0.00</td>\n",
              "      <td>-0.01</td>\n",
              "      <td>-0.06</td>\n",
              "      <td>0.11</td>\n",
              "      <td>0.22</td>\n",
              "      <td>-0.13</td>\n",
              "      <td>1.00</td>\n",
              "      <td>0.07</td>\n",
              "      <td>-0.00</td>\n",
              "      <td>-0.02</td>\n",
              "      <td>0.00</td>\n",
              "      <td>-0.03</td>\n",
              "      <td>0.02</td>\n",
              "    </tr>\n",
              "    <tr>\n",
              "      <th>price_per_sqm</th>\n",
              "      <td>-0.02</td>\n",
              "      <td>0.72</td>\n",
              "      <td>-0.12</td>\n",
              "      <td>0.29</td>\n",
              "      <td>0.01</td>\n",
              "      <td>0.11</td>\n",
              "      <td>0.03</td>\n",
              "      <td>0.29</td>\n",
              "      <td>0.21</td>\n",
              "      <td>0.16</td>\n",
              "      <td>0.13</td>\n",
              "      <td>0.02</td>\n",
              "      <td>-0.01</td>\n",
              "      <td>0.01</td>\n",
              "      <td>-0.30</td>\n",
              "      <td>0.09</td>\n",
              "      <td>0.28</td>\n",
              "      <td>-0.03</td>\n",
              "      <td>0.07</td>\n",
              "      <td>1.00</td>\n",
              "      <td>-0.01</td>\n",
              "      <td>-0.01</td>\n",
              "      <td>0.09</td>\n",
              "      <td>-0.19</td>\n",
              "      <td>0.22</td>\n",
              "    </tr>\n",
              "    <tr>\n",
              "      <th>weekday_posted</th>\n",
              "      <td>-0.02</td>\n",
              "      <td>-0.01</td>\n",
              "      <td>-0.00</td>\n",
              "      <td>-0.01</td>\n",
              "      <td>-0.01</td>\n",
              "      <td>-0.01</td>\n",
              "      <td>0.01</td>\n",
              "      <td>-0.03</td>\n",
              "      <td>0.00</td>\n",
              "      <td>0.01</td>\n",
              "      <td>0.00</td>\n",
              "      <td>-0.00</td>\n",
              "      <td>0.01</td>\n",
              "      <td>-0.00</td>\n",
              "      <td>0.01</td>\n",
              "      <td>-0.00</td>\n",
              "      <td>-0.01</td>\n",
              "      <td>-0.00</td>\n",
              "      <td>-0.00</td>\n",
              "      <td>-0.01</td>\n",
              "      <td>1.00</td>\n",
              "      <td>0.03</td>\n",
              "      <td>-0.00</td>\n",
              "      <td>0.01</td>\n",
              "      <td>-0.00</td>\n",
              "    </tr>\n",
              "    <tr>\n",
              "      <th>month_posted</th>\n",
              "      <td>0.01</td>\n",
              "      <td>0.00</td>\n",
              "      <td>0.01</td>\n",
              "      <td>0.02</td>\n",
              "      <td>0.01</td>\n",
              "      <td>0.01</td>\n",
              "      <td>0.02</td>\n",
              "      <td>-0.00</td>\n",
              "      <td>0.01</td>\n",
              "      <td>0.02</td>\n",
              "      <td>0.01</td>\n",
              "      <td>0.01</td>\n",
              "      <td>0.01</td>\n",
              "      <td>-0.01</td>\n",
              "      <td>-0.02</td>\n",
              "      <td>0.01</td>\n",
              "      <td>-0.00</td>\n",
              "      <td>0.01</td>\n",
              "      <td>-0.02</td>\n",
              "      <td>-0.01</td>\n",
              "      <td>0.03</td>\n",
              "      <td>1.00</td>\n",
              "      <td>-0.27</td>\n",
              "      <td>-0.01</td>\n",
              "      <td>0.01</td>\n",
              "    </tr>\n",
              "    <tr>\n",
              "      <th>year_posted</th>\n",
              "      <td>-0.58</td>\n",
              "      <td>0.03</td>\n",
              "      <td>-0.03</td>\n",
              "      <td>-0.00</td>\n",
              "      <td>-0.03</td>\n",
              "      <td>-0.03</td>\n",
              "      <td>0.01</td>\n",
              "      <td>0.03</td>\n",
              "      <td>0.03</td>\n",
              "      <td>0.03</td>\n",
              "      <td>0.15</td>\n",
              "      <td>0.00</td>\n",
              "      <td>-0.02</td>\n",
              "      <td>-0.01</td>\n",
              "      <td>0.01</td>\n",
              "      <td>-0.02</td>\n",
              "      <td>-0.03</td>\n",
              "      <td>0.01</td>\n",
              "      <td>0.00</td>\n",
              "      <td>0.09</td>\n",
              "      <td>-0.00</td>\n",
              "      <td>-0.27</td>\n",
              "      <td>1.00</td>\n",
              "      <td>-0.01</td>\n",
              "      <td>0.03</td>\n",
              "    </tr>\n",
              "    <tr>\n",
              "      <th>living_space_to_tot_area</th>\n",
              "      <td>-0.01</td>\n",
              "      <td>0.03</td>\n",
              "      <td>0.58</td>\n",
              "      <td>-0.38</td>\n",
              "      <td>0.59</td>\n",
              "      <td>0.24</td>\n",
              "      <td>-0.07</td>\n",
              "      <td>-0.01</td>\n",
              "      <td>-0.34</td>\n",
              "      <td>-0.23</td>\n",
              "      <td>0.01</td>\n",
              "      <td>0.05</td>\n",
              "      <td>0.03</td>\n",
              "      <td>-0.05</td>\n",
              "      <td>-0.03</td>\n",
              "      <td>-0.05</td>\n",
              "      <td>0.09</td>\n",
              "      <td>0.02</td>\n",
              "      <td>-0.03</td>\n",
              "      <td>-0.19</td>\n",
              "      <td>0.01</td>\n",
              "      <td>-0.01</td>\n",
              "      <td>-0.01</td>\n",
              "      <td>1.00</td>\n",
              "      <td>-0.70</td>\n",
              "    </tr>\n",
              "    <tr>\n",
              "      <th>kitchen_to_tot_area</th>\n",
              "      <td>-0.01</td>\n",
              "      <td>-0.14</td>\n",
              "      <td>-0.64</td>\n",
              "      <td>0.50</td>\n",
              "      <td>-0.60</td>\n",
              "      <td>-0.41</td>\n",
              "      <td>0.04</td>\n",
              "      <td>0.01</td>\n",
              "      <td>0.31</td>\n",
              "      <td>0.21</td>\n",
              "      <td>-0.02</td>\n",
              "      <td>-0.01</td>\n",
              "      <td>-0.01</td>\n",
              "      <td>0.02</td>\n",
              "      <td>0.01</td>\n",
              "      <td>0.02</td>\n",
              "      <td>-0.08</td>\n",
              "      <td>-0.01</td>\n",
              "      <td>0.02</td>\n",
              "      <td>0.22</td>\n",
              "      <td>-0.00</td>\n",
              "      <td>0.01</td>\n",
              "      <td>0.03</td>\n",
              "      <td>-0.70</td>\n",
              "      <td>1.00</td>\n",
              "    </tr>\n",
              "  </tbody>\n",
              "</table>\n",
              "</div>"
            ],
            "text/plain": [
              "                                  days_listed           last_price  \\\n",
              "days_listed                              1.00                 0.03   \n",
              "last_price                               0.03                 1.00   \n",
              "bedrooms                                 0.04                 0.43   \n",
              "kitchen_area                             0.04                 0.56   \n",
              "living_area                              0.05                 0.62   \n",
              "total_area                               0.06                 0.74   \n",
              "balconies                               -0.02                 0.05   \n",
              "ceiling_height                           0.03                 0.36   \n",
              "floors_total                            -0.03                 0.10   \n",
              "floor                                   -0.03                 0.08   \n",
              "total_images                            -0.05                 0.14   \n",
              "is_studio                               -0.01                -0.02   \n",
              "is_open_plan                            -0.01                -0.02   \n",
              "airport_dist                            -0.01                 0.02   \n",
              "city_center_dist                        -0.03                -0.28   \n",
              "park_dist                                0.02                 0.09   \n",
              "parks_within_3000                        0.04                 0.26   \n",
              "pond_dist                               -0.03                -0.05   \n",
              "ponds_within_3000                        0.03                 0.13   \n",
              "price_per_sqm                           -0.02                 0.72   \n",
              "weekday_posted                          -0.02                -0.01   \n",
              "month_posted                             0.01                 0.00   \n",
              "year_posted                             -0.58                 0.03   \n",
              "living_space_to_tot_area                -0.01                 0.03   \n",
              "kitchen_to_tot_area                     -0.01                -0.14   \n",
              "\n",
              "                                     bedrooms         kitchen_area  \\\n",
              "days_listed                              0.04                 0.04   \n",
              "last_price                               0.43                 0.56   \n",
              "bedrooms                                 1.00                 0.16   \n",
              "kitchen_area                             0.16                 1.00   \n",
              "living_area                              0.87                 0.29   \n",
              "total_area                               0.78                 0.55   \n",
              "balconies                                0.01                 0.08   \n",
              "ceiling_height                           0.10                 0.24   \n",
              "floors_total                            -0.20                 0.23   \n",
              "floor                                   -0.14                 0.15   \n",
              "total_images                             0.08                 0.07   \n",
              "is_studio                               -0.11                -0.05   \n",
              "is_open_plan                            -0.05                -0.03   \n",
              "airport_dist                            -0.02                 0.03   \n",
              "city_center_dist                        -0.07                -0.11   \n",
              "park_dist                               -0.01                 0.06   \n",
              "parks_within_3000                        0.08                 0.04   \n",
              "pond_dist                               -0.00                -0.03   \n",
              "ponds_within_3000                        0.03                 0.11   \n",
              "price_per_sqm                           -0.12                 0.29   \n",
              "weekday_posted                          -0.00                -0.01   \n",
              "month_posted                             0.01                 0.02   \n",
              "year_posted                             -0.03                -0.00   \n",
              "living_space_to_tot_area                 0.58                -0.38   \n",
              "kitchen_to_tot_area                     -0.64                 0.50   \n",
              "\n",
              "                                  living_area           total_area  \\\n",
              "days_listed                              0.05                 0.06   \n",
              "last_price                               0.62                 0.74   \n",
              "bedrooms                                 0.87                 0.78   \n",
              "kitchen_area                             0.29                 0.55   \n",
              "living_area                              1.00                 0.92   \n",
              "total_area                               0.92                 1.00   \n",
              "balconies                                0.02                 0.06   \n",
              "ceiling_height                           0.22                 0.27   \n",
              "floors_total                            -0.14                -0.02   \n",
              "floor                                   -0.10                -0.02   \n",
              "total_images                             0.09                 0.10   \n",
              "is_studio                               -0.03                -0.05   \n",
              "is_open_plan                            -0.02                -0.03   \n",
              "airport_dist                            -0.02                 0.01   \n",
              "city_center_dist                        -0.12                -0.13   \n",
              "park_dist                                0.01                 0.04   \n",
              "parks_within_3000                        0.13                 0.11   \n",
              "pond_dist                               -0.01                -0.03   \n",
              "ponds_within_3000                        0.07                 0.10   \n",
              "price_per_sqm                            0.01                 0.11   \n",
              "weekday_posted                          -0.01                -0.01   \n",
              "month_posted                             0.01                 0.01   \n",
              "year_posted                             -0.03                -0.03   \n",
              "living_space_to_tot_area                 0.59                 0.24   \n",
              "kitchen_to_tot_area                     -0.60                -0.41   \n",
              "\n",
              "                                    balconies       ceiling_height  \\\n",
              "days_listed                             -0.02                 0.03   \n",
              "last_price                               0.05                 0.36   \n",
              "bedrooms                                 0.01                 0.10   \n",
              "kitchen_area                             0.08                 0.24   \n",
              "living_area                              0.02                 0.22   \n",
              "total_area                               0.06                 0.27   \n",
              "balconies                                1.00                -0.02   \n",
              "ceiling_height                          -0.02                 1.00   \n",
              "floors_total                             0.16                -0.10   \n",
              "floor                                    0.16                -0.05   \n",
              "total_images                             0.05                 0.03   \n",
              "is_studio                                0.03                 0.02   \n",
              "is_open_plan                             0.02                -0.00   \n",
              "airport_dist                             0.03                -0.03   \n",
              "city_center_dist                         0.05                -0.22   \n",
              "park_dist                                0.01                -0.02   \n",
              "parks_within_3000                       -0.07                 0.21   \n",
              "pond_dist                                0.02                -0.05   \n",
              "ponds_within_3000                       -0.02                 0.12   \n",
              "price_per_sqm                            0.03                 0.29   \n",
              "weekday_posted                           0.01                -0.03   \n",
              "month_posted                             0.02                -0.00   \n",
              "year_posted                              0.01                 0.03   \n",
              "living_space_to_tot_area                -0.07                -0.01   \n",
              "kitchen_to_tot_area                      0.04                 0.01   \n",
              "\n",
              "                                 floors_total                floor  \\\n",
              "days_listed                             -0.03                -0.03   \n",
              "last_price                               0.10                 0.08   \n",
              "bedrooms                                -0.20                -0.14   \n",
              "kitchen_area                             0.23                 0.15   \n",
              "living_area                             -0.14                -0.10   \n",
              "total_area                              -0.02                -0.02   \n",
              "balconies                                0.16                 0.16   \n",
              "ceiling_height                          -0.10                -0.05   \n",
              "floors_total                             1.00                 0.63   \n",
              "floor                                    0.63                 1.00   \n",
              "total_images                             0.03                 0.05   \n",
              "is_studio                                0.03                 0.00   \n",
              "is_open_plan                             0.01                -0.00   \n",
              "airport_dist                             0.07                 0.04   \n",
              "city_center_dist                        -0.01                -0.00   \n",
              "park_dist                                0.01                 0.02   \n",
              "parks_within_3000                       -0.15                -0.10   \n",
              "pond_dist                                0.02                 0.01   \n",
              "ponds_within_3000                       -0.08                -0.05   \n",
              "price_per_sqm                            0.21                 0.16   \n",
              "weekday_posted                           0.00                 0.01   \n",
              "month_posted                             0.01                 0.02   \n",
              "year_posted                              0.03                 0.03   \n",
              "living_space_to_tot_area                -0.34                -0.23   \n",
              "kitchen_to_tot_area                      0.31                 0.21   \n",
              "\n",
              "                                 total_images            is_studio  \\\n",
              "days_listed                             -0.05                -0.01   \n",
              "last_price                               0.14                -0.02   \n",
              "bedrooms                                 0.08                -0.11   \n",
              "kitchen_area                             0.07                -0.05   \n",
              "living_area                              0.09                -0.03   \n",
              "total_area                               0.10                -0.05   \n",
              "balconies                                0.05                 0.03   \n",
              "ceiling_height                           0.03                 0.02   \n",
              "floors_total                             0.03                 0.03   \n",
              "floor                                    0.05                 0.00   \n",
              "total_images                             1.00                -0.01   \n",
              "is_studio                               -0.01                 1.00   \n",
              "is_open_plan                             0.00                -0.00   \n",
              "airport_dist                            -0.00                 0.00   \n",
              "city_center_dist                        -0.02                -0.01   \n",
              "park_dist                               -0.00                 0.00   \n",
              "parks_within_3000                        0.01                -0.02   \n",
              "pond_dist                                0.00                 0.01   \n",
              "ponds_within_3000                       -0.03                -0.00   \n",
              "price_per_sqm                            0.13                 0.02   \n",
              "weekday_posted                           0.00                -0.00   \n",
              "month_posted                             0.01                 0.01   \n",
              "year_posted                              0.15                 0.00   \n",
              "living_space_to_tot_area                 0.01                 0.05   \n",
              "kitchen_to_tot_area                     -0.02                -0.01   \n",
              "\n",
              "                                 is_open_plan         airport_dist  \\\n",
              "days_listed                             -0.01                -0.01   \n",
              "last_price                              -0.02                 0.02   \n",
              "bedrooms                                -0.05                -0.02   \n",
              "kitchen_area                            -0.03                 0.03   \n",
              "living_area                             -0.02                -0.02   \n",
              "total_area                              -0.03                 0.01   \n",
              "balconies                                0.02                 0.03   \n",
              "ceiling_height                          -0.00                -0.03   \n",
              "floors_total                             0.01                 0.07   \n",
              "floor                                   -0.00                 0.04   \n",
              "total_images                             0.00                -0.00   \n",
              "is_studio                               -0.00                 0.00   \n",
              "is_open_plan                             1.00                -0.00   \n",
              "airport_dist                            -0.00                 1.00   \n",
              "city_center_dist                        -0.00                 0.23   \n",
              "park_dist                               -0.00                -0.05   \n",
              "parks_within_3000                       -0.01                 0.05   \n",
              "pond_dist                                0.00                 0.01   \n",
              "ponds_within_3000                        0.00                -0.01   \n",
              "price_per_sqm                           -0.01                 0.01   \n",
              "weekday_posted                           0.01                -0.00   \n",
              "month_posted                             0.01                -0.01   \n",
              "year_posted                             -0.02                -0.01   \n",
              "living_space_to_tot_area                 0.03                -0.05   \n",
              "kitchen_to_tot_area                     -0.01                 0.02   \n",
              "\n",
              "                             city_center_dist            park_dist  \\\n",
              "days_listed                             -0.03                 0.02   \n",
              "last_price                              -0.28                 0.09   \n",
              "bedrooms                                -0.07                -0.01   \n",
              "kitchen_area                            -0.11                 0.06   \n",
              "living_area                             -0.12                 0.01   \n",
              "total_area                              -0.13                 0.04   \n",
              "balconies                                0.05                 0.01   \n",
              "ceiling_height                          -0.22                -0.02   \n",
              "floors_total                            -0.01                 0.01   \n",
              "floor                                   -0.00                 0.02   \n",
              "total_images                            -0.02                -0.00   \n",
              "is_studio                               -0.01                 0.00   \n",
              "is_open_plan                            -0.00                -0.00   \n",
              "airport_dist                             0.23                -0.05   \n",
              "city_center_dist                         1.00                -0.04   \n",
              "park_dist                               -0.04                 1.00   \n",
              "parks_within_3000                       -0.13                -0.02   \n",
              "pond_dist                                0.01                -0.01   \n",
              "ponds_within_3000                       -0.06                 0.11   \n",
              "price_per_sqm                           -0.30                 0.09   \n",
              "weekday_posted                           0.01                -0.00   \n",
              "month_posted                            -0.02                 0.01   \n",
              "year_posted                              0.01                -0.02   \n",
              "living_space_to_tot_area                -0.03                -0.05   \n",
              "kitchen_to_tot_area                      0.01                 0.02   \n",
              "\n",
              "                            parks_within_3000            pond_dist  \\\n",
              "days_listed                              0.04                -0.03   \n",
              "last_price                               0.26                -0.05   \n",
              "bedrooms                                 0.08                -0.00   \n",
              "kitchen_area                             0.04                -0.03   \n",
              "living_area                              0.13                -0.01   \n",
              "total_area                               0.11                -0.03   \n",
              "balconies                               -0.07                 0.02   \n",
              "ceiling_height                           0.21                -0.05   \n",
              "floors_total                            -0.15                 0.02   \n",
              "floor                                   -0.10                 0.01   \n",
              "total_images                             0.01                 0.00   \n",
              "is_studio                               -0.02                 0.01   \n",
              "is_open_plan                            -0.01                 0.00   \n",
              "airport_dist                             0.05                 0.01   \n",
              "city_center_dist                        -0.13                 0.01   \n",
              "park_dist                               -0.02                -0.01   \n",
              "parks_within_3000                        1.00                -0.09   \n",
              "pond_dist                               -0.09                 1.00   \n",
              "ponds_within_3000                        0.22                -0.13   \n",
              "price_per_sqm                            0.28                -0.03   \n",
              "weekday_posted                          -0.01                -0.00   \n",
              "month_posted                            -0.00                 0.01   \n",
              "year_posted                             -0.03                 0.01   \n",
              "living_space_to_tot_area                 0.09                 0.02   \n",
              "kitchen_to_tot_area                     -0.08                -0.01   \n",
              "\n",
              "                            ponds_within_3000        price_per_sqm  \\\n",
              "days_listed                              0.03                -0.02   \n",
              "last_price                               0.13                 0.72   \n",
              "bedrooms                                 0.03                -0.12   \n",
              "kitchen_area                             0.11                 0.29   \n",
              "living_area                              0.07                 0.01   \n",
              "total_area                               0.10                 0.11   \n",
              "balconies                               -0.02                 0.03   \n",
              "ceiling_height                           0.12                 0.29   \n",
              "floors_total                            -0.08                 0.21   \n",
              "floor                                   -0.05                 0.16   \n",
              "total_images                            -0.03                 0.13   \n",
              "is_studio                               -0.00                 0.02   \n",
              "is_open_plan                             0.00                -0.01   \n",
              "airport_dist                            -0.01                 0.01   \n",
              "city_center_dist                        -0.06                -0.30   \n",
              "park_dist                                0.11                 0.09   \n",
              "parks_within_3000                        0.22                 0.28   \n",
              "pond_dist                               -0.13                -0.03   \n",
              "ponds_within_3000                        1.00                 0.07   \n",
              "price_per_sqm                            0.07                 1.00   \n",
              "weekday_posted                          -0.00                -0.01   \n",
              "month_posted                            -0.02                -0.01   \n",
              "year_posted                              0.00                 0.09   \n",
              "living_space_to_tot_area                -0.03                -0.19   \n",
              "kitchen_to_tot_area                      0.02                 0.22   \n",
              "\n",
              "                               weekday_posted         month_posted  \\\n",
              "days_listed                             -0.02                 0.01   \n",
              "last_price                              -0.01                 0.00   \n",
              "bedrooms                                -0.00                 0.01   \n",
              "kitchen_area                            -0.01                 0.02   \n",
              "living_area                             -0.01                 0.01   \n",
              "total_area                              -0.01                 0.01   \n",
              "balconies                                0.01                 0.02   \n",
              "ceiling_height                          -0.03                -0.00   \n",
              "floors_total                             0.00                 0.01   \n",
              "floor                                    0.01                 0.02   \n",
              "total_images                             0.00                 0.01   \n",
              "is_studio                               -0.00                 0.01   \n",
              "is_open_plan                             0.01                 0.01   \n",
              "airport_dist                            -0.00                -0.01   \n",
              "city_center_dist                         0.01                -0.02   \n",
              "park_dist                               -0.00                 0.01   \n",
              "parks_within_3000                       -0.01                -0.00   \n",
              "pond_dist                               -0.00                 0.01   \n",
              "ponds_within_3000                       -0.00                -0.02   \n",
              "price_per_sqm                           -0.01                -0.01   \n",
              "weekday_posted                           1.00                 0.03   \n",
              "month_posted                             0.03                 1.00   \n",
              "year_posted                             -0.00                -0.27   \n",
              "living_space_to_tot_area                 0.01                -0.01   \n",
              "kitchen_to_tot_area                     -0.00                 0.01   \n",
              "\n",
              "                                  year_posted  living_space_to_tot_area  \\\n",
              "days_listed                             -0.58                     -0.01   \n",
              "last_price                               0.03                      0.03   \n",
              "bedrooms                                -0.03                      0.58   \n",
              "kitchen_area                            -0.00                     -0.38   \n",
              "living_area                             -0.03                      0.59   \n",
              "total_area                              -0.03                      0.24   \n",
              "balconies                                0.01                     -0.07   \n",
              "ceiling_height                           0.03                     -0.01   \n",
              "floors_total                             0.03                     -0.34   \n",
              "floor                                    0.03                     -0.23   \n",
              "total_images                             0.15                      0.01   \n",
              "is_studio                                0.00                      0.05   \n",
              "is_open_plan                            -0.02                      0.03   \n",
              "airport_dist                            -0.01                     -0.05   \n",
              "city_center_dist                         0.01                     -0.03   \n",
              "park_dist                               -0.02                     -0.05   \n",
              "parks_within_3000                       -0.03                      0.09   \n",
              "pond_dist                                0.01                      0.02   \n",
              "ponds_within_3000                        0.00                     -0.03   \n",
              "price_per_sqm                            0.09                     -0.19   \n",
              "weekday_posted                          -0.00                      0.01   \n",
              "month_posted                            -0.27                     -0.01   \n",
              "year_posted                              1.00                     -0.01   \n",
              "living_space_to_tot_area                -0.01                      1.00   \n",
              "kitchen_to_tot_area                      0.03                     -0.70   \n",
              "\n",
              "                          kitchen_to_tot_area  \n",
              "days_listed                             -0.01  \n",
              "last_price                              -0.14  \n",
              "bedrooms                                -0.64  \n",
              "kitchen_area                             0.50  \n",
              "living_area                             -0.60  \n",
              "total_area                              -0.41  \n",
              "balconies                                0.04  \n",
              "ceiling_height                           0.01  \n",
              "floors_total                             0.31  \n",
              "floor                                    0.21  \n",
              "total_images                            -0.02  \n",
              "is_studio                               -0.01  \n",
              "is_open_plan                            -0.01  \n",
              "airport_dist                             0.02  \n",
              "city_center_dist                         0.01  \n",
              "park_dist                                0.02  \n",
              "parks_within_3000                       -0.08  \n",
              "pond_dist                               -0.01  \n",
              "ponds_within_3000                        0.02  \n",
              "price_per_sqm                            0.22  \n",
              "weekday_posted                          -0.00  \n",
              "month_posted                             0.01  \n",
              "year_posted                              0.03  \n",
              "living_space_to_tot_area                -0.70  \n",
              "kitchen_to_tot_area                      1.00  "
            ]
          },
          "metadata": {
            "tags": []
          },
          "execution_count": 121
        }
      ]
    },
    {
      "cell_type": "markdown",
      "metadata": {
        "id": "3tm_5Y5z635j",
        "colab_type": "text"
      },
      "source": [
        "<span style=\"color:Green\">\n",
        "\n",
        "**2020-02-25 DD**\n",
        "\n",
        "That's a lot of figures! I am impressed you have found 'speaking' numbers in that, the conclusions look correct. However, to made it clear I'd advise to build smaller correlation tables (use less variables) or use a formatting option to highlight figures (check the Pandas output formatting option, it is quite easy to do). It might help you to find more interesting correlations.\n",
        "\n",
        "</span>"
      ]
    },
    {
      "cell_type": "markdown",
      "metadata": {
        "id": "JgVIx0h1635j",
        "colab_type": "text"
      },
      "source": [
        "Influence of `floor_category` (top, bottom, other) on price: First floor is the cheapest (like in other places in the world). Last floor is a bit less expensive than middle floors."
      ]
    },
    {
      "cell_type": "code",
      "metadata": {
        "id": "W0HwxYFa635k",
        "colab_type": "code",
        "colab": {
          "base_uri": "https://localhost:8080/",
          "height": 102
        },
        "outputId": "1115b430-3510-43c8-e22b-7e44cbb1eddb"
      },
      "source": [
        "sales_ads.groupby('floor_category')['last_price'].mean()"
      ],
      "execution_count": 122,
      "outputs": [
        {
          "output_type": "execute_result",
          "data": {
            "text/plain": [
              "floor_category\n",
              "First              92,280.27\n",
              "Last              109,258.84\n",
              "Other             114,543.49\n",
              "Name: last_price, dtype: float64"
            ]
          },
          "metadata": {
            "tags": []
          },
          "execution_count": 122
        }
      ]
    },
    {
      "cell_type": "markdown",
      "metadata": {
        "id": "uQSu6XtG635o",
        "colab_type": "text"
      },
      "source": [
        "Influence of weekday on price: no real influence - no surprise at all since it take time to close a sales deal..."
      ]
    },
    {
      "cell_type": "code",
      "metadata": {
        "id": "1AT8me2S635p",
        "colab_type": "code",
        "colab": {
          "base_uri": "https://localhost:8080/",
          "height": 170
        },
        "outputId": "b4d457c3-782a-4c2d-e79e-364bc3057212"
      },
      "source": [
        "sales_ads.groupby('weekday_posted')['last_price'].mean()"
      ],
      "execution_count": 123,
      "outputs": [
        {
          "output_type": "execute_result",
          "data": {
            "text/plain": [
              "weekday_posted\n",
              "0             111,910.11\n",
              "1             112,145.90\n",
              "2             111,922.51\n",
              "3             112,615.25\n",
              "4             109,624.86\n",
              "5             110,827.33\n",
              "6             110,763.15\n",
              "Name: last_price, dtype: float64"
            ]
          },
          "metadata": {
            "tags": []
          },
          "execution_count": 123
        }
      ]
    },
    {
      "cell_type": "markdown",
      "metadata": {
        "id": "KdLp2Ii0635t",
        "colab_type": "text"
      },
      "source": [
        "Influence of month on prices: influence is quite marginal (6% diferences) - September is the top, while June is the bottom."
      ]
    },
    {
      "cell_type": "code",
      "metadata": {
        "id": "s6xMVT2i635u",
        "colab_type": "code",
        "colab": {
          "base_uri": "https://localhost:8080/",
          "height": 255
        },
        "outputId": "423744c9-964a-4240-c11b-95f6e096d84e"
      },
      "source": [
        "sales_ads.groupby('month_posted')['last_price'].mean()"
      ],
      "execution_count": 124,
      "outputs": [
        {
          "output_type": "execute_result",
          "data": {
            "text/plain": [
              "month_posted\n",
              "1              112,186.54\n",
              "2              110,765.55\n",
              "3              111,721.07\n",
              "4              114,055.47\n",
              "5              108,102.10\n",
              "6              106,164.66\n",
              "7              109,948.98\n",
              "8              115,911.74\n",
              "9              115,448.96\n",
              "10             110,617.35\n",
              "11             111,929.63\n",
              "12             109,707.62\n",
              "Name: last_price, dtype: float64"
            ]
          },
          "metadata": {
            "tags": []
          },
          "execution_count": 124
        }
      ]
    },
    {
      "cell_type": "markdown",
      "metadata": {
        "id": "VR3zAifX635w",
        "colab_type": "text"
      },
      "source": [
        "Influence of year on the prices: 2014 was a peak year. From then there was a decline till 2017 (worst year in this period). Afterwards there is a recovey that continues in 2019 - but still far from 2014.."
      ]
    },
    {
      "cell_type": "code",
      "metadata": {
        "id": "tPSbKHou635x",
        "colab_type": "code",
        "colab": {
          "base_uri": "https://localhost:8080/",
          "height": 153
        },
        "outputId": "45c8cd30-3f88-4430-ebf6-b197b07074eb"
      },
      "source": [
        "sales_ads.groupby('year_posted')['last_price'].mean()"
      ],
      "execution_count": 125,
      "outputs": [
        {
          "output_type": "execute_result",
          "data": {
            "text/plain": [
              "year_posted\n",
              "2014             157,280.78\n",
              "2015             117,450.94\n",
              "2016             107,514.63\n",
              "2017             108,150.86\n",
              "2018             111,903.18\n",
              "2019             121,880.95\n",
              "Name: last_price, dtype: float64"
            ]
          },
          "metadata": {
            "tags": []
          },
          "execution_count": 125
        }
      ]
    },
    {
      "cell_type": "markdown",
      "metadata": {
        "id": "pOBO0wIb6350",
        "colab_type": "text"
      },
      "source": [
        "<span style=\"color:Green\">\n",
        "\n",
        "**2020-02-25 DD**\n",
        "\n",
        "2014-2015 were quite tough years in Russia indeed because of the rouble losing its buying power.\n",
        "\n",
        "</span>"
      ]
    },
    {
      "cell_type": "markdown",
      "metadata": {
        "id": "OVoePfo76350",
        "colab_type": "text"
      },
      "source": [
        "The 10 Municipalities with most ads:"
      ]
    },
    {
      "cell_type": "code",
      "metadata": {
        "id": "B4AMX4MJ6350",
        "colab_type": "code",
        "colab": {
          "base_uri": "https://localhost:8080/",
          "height": 54
        },
        "outputId": "cf84d0f2-275d-46c7-af0f-fcda09c5e494"
      },
      "source": [
        "top10 = list(sales_ads.groupby('locality_name')['last_price'].count().sort_values(ascending=False).head(10).index)\n",
        "print(top10)\n",
        "top10_ads = sales_ads[sales_ads['locality_name'].isin(top10)]"
      ],
      "execution_count": 126,
      "outputs": [
        {
          "output_type": "stream",
          "text": [
            "['Saint Petersburg', 'Murino village', 'Shushary village', 'Vsevolozhsk', 'Kudrovo village', 'Pushkin', 'Kolpino', 'Gatchina', 'Vyborg', 'Sestroretsk']\n"
          ],
          "name": "stdout"
        }
      ]
    },
    {
      "cell_type": "markdown",
      "metadata": {
        "id": "JCYsmGFE6354",
        "colab_type": "text"
      },
      "source": [
        "Impact of municipality on prices - it is not a surprise that there is impact: `Saint Petersburg` is the highest (127,437.02), which is about double from the lowest - `Vyborg` (64,895.59)"
      ]
    },
    {
      "cell_type": "code",
      "metadata": {
        "id": "hxV-JdjQ6355",
        "colab_type": "code",
        "colab": {
          "base_uri": "https://localhost:8080/",
          "height": 221
        },
        "outputId": "1de26b4b-b5e6-460f-84de-d950a88d43a0"
      },
      "source": [
        "top10_ads.groupby('locality_name')['last_price'].mean().sort_values()"
      ],
      "execution_count": 128,
      "outputs": [
        {
          "output_type": "execute_result",
          "data": {
            "text/plain": [
              "locality_name\n",
              "Vyborg                        64,895.59\n",
              "Gatchina                      72,506.71\n",
              "Vsevolozhsk                   76,651.18\n",
              "Kolpino                       77,710.85\n",
              "Murino village                78,594.99\n",
              "Shushary village              83,275.50\n",
              "Kudrovo village               89,044.59\n",
              "Pushkin                      118,844.73\n",
              "Saint Petersburg             127,437.02\n",
              "Sestroretsk                  127,823.77\n",
              "Name: last_price, dtype: float64"
            ]
          },
          "metadata": {
            "tags": []
          },
          "execution_count": 128
        }
      ]
    },
    {
      "cell_type": "markdown",
      "metadata": {
        "id": "RHm1LVUz6357",
        "colab_type": "text"
      },
      "source": [
        "In the graph below we can notice a drop in price on 7-8km - this defines pretty well the boundaries of city center."
      ]
    },
    {
      "cell_type": "code",
      "metadata": {
        "id": "E-d1qR5w6359",
        "colab_type": "code",
        "colab": {
          "base_uri": "https://localhost:8080/",
          "height": 286
        },
        "outputId": "acedff32-7512-485f-b092-a6b2cb71da39"
      },
      "source": [
        "city_ads = sales_ads[sales_ads['locality_name'] == 'Saint Petersburg'].copy()\n",
        "citycenter_ads = city_ads.query('city_center_dist <= 8000')\n",
        "city_ads.loc[:,'cityCenters_nearest_km'] = (citycenter_ads.loc[:,'city_center_dist'] / 1000).astype('int')\n",
        "price_per_distance = city_ads.groupby('cityCenters_nearest_km')['last_price'].mean()\n",
        "price_per_distance.plot(kind='bar', grid=True);"
      ],
      "execution_count": 129,
      "outputs": [
        {
          "output_type": "display_data",
          "data": {
            "image/png": "[encoded data removed]",
            "text/plain": [
              "<Figure size 432x288 with 1 Axes>"
            ]
          },
          "metadata": {
            "tags": [],
            "needs_background": "light"
          }
        }
      ]
    },
    {
      "cell_type": "markdown",
      "metadata": {
        "id": "CRBH_w_1636B",
        "colab_type": "text"
      },
      "source": [
        "<span style=\"color:Green\">\n",
        "\n",
        "**2020-02-25 DD**\n",
        "\n",
        "I have added the variable citycenter_ads, it was missing. Hopefully, I correctly guessed its meaning.\n",
        "\n",
        "</span>"
      ]
    },
    {
      "cell_type": "markdown",
      "metadata": {
        "id": "DxKo2bQb636C",
        "colab_type": "text"
      },
      "source": [
        "Analyze apartments in city center"
      ]
    },
    {
      "cell_type": "markdown",
      "metadata": {
        "id": "vcT5ZZN3636D",
        "colab_type": "text"
      },
      "source": [
        "When comparing city center to the total ads we can note the following:\n",
        "- price in city center is significantly  higher: 9.9M vs 5.9M\n",
        "- price_per_sqm in city center also higher - 30% - 131K vs 99K\n",
        "- total are is 25% bigger 76 sqm vs 58\n",
        "- more rooms: 2.5 vs 2\n",
        "- higher ceiling\n",
        "- lower building 7.5 vs 11"
      ]
    },
    {
      "cell_type": "code",
      "metadata": {
        "id": "wvVz__6PFF_T",
        "colab_type": "code",
        "colab": {
          "base_uri": "https://localhost:8080/",
          "height": 204
        },
        "outputId": "4581dff4-a72b-4580-e940-eed78c9c26b9"
      },
      "source": [
        "citycenter_ads = city_ads[city_ads['cityCenters_nearest_km'] < 8][\n",
        "    ['total_area','last_price','price_per_sqm','bedrooms','ceiling_height','floor','city_center_dist','days_listed',\n",
        "     'date_posted','year_posted','floors_total']]\n",
        "citycenter = citycenter_ads.mean()\n",
        "citycenter"
      ],
      "execution_count": 130,
      "outputs": [
        {
          "output_type": "execute_result",
          "data": {
            "text/plain": [
              "total_area                        67.45\n",
              "last_price                   175,170.52\n",
              "price_per_sqm                  2,609.84\n",
              "bedrooms                           2.18\n",
              "ceiling_height                     2.82\n",
              "floor                              4.51\n",
              "city_center_dist               4,980.32\n",
              "days_listed                      180.95\n",
              "year_posted                    2,017.23\n",
              "floors_total                       7.86\n",
              "dtype: float64"
            ]
          },
          "metadata": {
            "tags": []
          },
          "execution_count": 130
        }
      ]
    },
    {
      "cell_type": "markdown",
      "metadata": {
        "id": "X54MscNl636P",
        "colab_type": "text"
      },
      "source": [
        "As can be noted below the main driver for the price is the area - this is very similar to result in total ads."
      ]
    },
    {
      "cell_type": "code",
      "metadata": {
        "id": "Ubfjzyop636D",
        "colab_type": "code",
        "colab": {
          "base_uri": "https://localhost:8080/",
          "height": 359
        },
        "outputId": "7cbd972d-c468-43a1-e776-b0622eb53ad7"
      },
      "source": [
        "rest = sales_ads.loc[:,['total_area','last_price','price_per_sqm','bedrooms','ceiling_height','floor',\n",
        "                        'city_center_dist','days_listed','date_posted','year_posted','floors_total']].mean()\n",
        "citycenter_vs_rest = pd.concat([citycenter, rest], axis=1,sort=False)\n",
        "citycenter_vs_rest.columns = ['city_center','rest']\n",
        "citycenter_vs_rest"
      ],
      "execution_count": 131,
      "outputs": [
        {
          "output_type": "execute_result",
          "data": {
            "text/html": [
              "<div>\n",
              "<style scoped>\n",
              "    .dataframe tbody tr th:only-of-type {\n",
              "        vertical-align: middle;\n",
              "    }\n",
              "\n",
              "    .dataframe tbody tr th {\n",
              "        vertical-align: top;\n",
              "    }\n",
              "\n",
              "    .dataframe thead th {\n",
              "        text-align: right;\n",
              "    }\n",
              "</style>\n",
              "<table border=\"1\" class=\"dataframe\">\n",
              "  <thead>\n",
              "    <tr style=\"text-align: right;\">\n",
              "      <th></th>\n",
              "      <th>city_center</th>\n",
              "      <th>rest</th>\n",
              "    </tr>\n",
              "  </thead>\n",
              "  <tbody>\n",
              "    <tr>\n",
              "      <th>total_area</th>\n",
              "      <td>67.45</td>\n",
              "      <td>55.72</td>\n",
              "    </tr>\n",
              "    <tr>\n",
              "      <th>last_price</th>\n",
              "      <td>175,170.52</td>\n",
              "      <td>111,516.66</td>\n",
              "    </tr>\n",
              "    <tr>\n",
              "      <th>price_per_sqm</th>\n",
              "      <td>2,609.84</td>\n",
              "      <td>1,978.28</td>\n",
              "    </tr>\n",
              "    <tr>\n",
              "      <th>bedrooms</th>\n",
              "      <td>2.18</td>\n",
              "      <td>1.90</td>\n",
              "    </tr>\n",
              "    <tr>\n",
              "      <th>ceiling_height</th>\n",
              "      <td>2.82</td>\n",
              "      <td>2.70</td>\n",
              "    </tr>\n",
              "    <tr>\n",
              "      <th>floor</th>\n",
              "      <td>4.51</td>\n",
              "      <td>6.01</td>\n",
              "    </tr>\n",
              "    <tr>\n",
              "      <th>city_center_dist</th>\n",
              "      <td>4,980.32</td>\n",
              "      <td>14,036.70</td>\n",
              "    </tr>\n",
              "    <tr>\n",
              "      <th>days_listed</th>\n",
              "      <td>180.95</td>\n",
              "      <td>146.99</td>\n",
              "    </tr>\n",
              "    <tr>\n",
              "      <th>year_posted</th>\n",
              "      <td>2,017.23</td>\n",
              "      <td>2,017.34</td>\n",
              "    </tr>\n",
              "    <tr>\n",
              "      <th>floors_total</th>\n",
              "      <td>7.86</td>\n",
              "      <td>11.01</td>\n",
              "    </tr>\n",
              "  </tbody>\n",
              "</table>\n",
              "</div>"
            ],
            "text/plain": [
              "                          city_center                 rest\n",
              "total_area                      67.45                55.72\n",
              "last_price                 175,170.52           111,516.66\n",
              "price_per_sqm                2,609.84             1,978.28\n",
              "bedrooms                         2.18                 1.90\n",
              "ceiling_height                   2.82                 2.70\n",
              "floor                            4.51                 6.01\n",
              "city_center_dist             4,980.32            14,036.70\n",
              "days_listed                    180.95               146.99\n",
              "year_posted                  2,017.23             2,017.34\n",
              "floors_total                     7.86                11.01"
            ]
          },
          "metadata": {
            "tags": []
          },
          "execution_count": 131
        }
      ]
    },
    {
      "cell_type": "code",
      "metadata": {
        "id": "8jfxL0sM636H",
        "colab_type": "code",
        "colab": {
          "base_uri": "https://localhost:8080/",
          "height": 204
        },
        "outputId": "bf24d2eb-0b0d-48c2-94c7-6648985fc0c6"
      },
      "source": [
        "citycenter_ads.head()"
      ],
      "execution_count": 132,
      "outputs": [
        {
          "output_type": "execute_result",
          "data": {
            "text/html": [
              "<div>\n",
              "<style scoped>\n",
              "    .dataframe tbody tr th:only-of-type {\n",
              "        vertical-align: middle;\n",
              "    }\n",
              "\n",
              "    .dataframe tbody tr th {\n",
              "        vertical-align: top;\n",
              "    }\n",
              "\n",
              "    .dataframe thead th {\n",
              "        text-align: right;\n",
              "    }\n",
              "</style>\n",
              "<table border=\"1\" class=\"dataframe\">\n",
              "  <thead>\n",
              "    <tr style=\"text-align: right;\">\n",
              "      <th></th>\n",
              "      <th>total_area</th>\n",
              "      <th>last_price</th>\n",
              "      <th>price_per_sqm</th>\n",
              "      <th>bedrooms</th>\n",
              "      <th>ceiling_height</th>\n",
              "      <th>floor</th>\n",
              "      <th>city_center_dist</th>\n",
              "      <th>days_listed</th>\n",
              "      <th>date_posted</th>\n",
              "      <th>year_posted</th>\n",
              "      <th>floors_total</th>\n",
              "    </tr>\n",
              "  </thead>\n",
              "  <tbody>\n",
              "    <tr>\n",
              "      <th>61</th>\n",
              "      <td>74.00</td>\n",
              "      <td>159,800.00</td>\n",
              "      <td>2,159.46</td>\n",
              "      <td>2</td>\n",
              "      <td>2.65</td>\n",
              "      <td>4</td>\n",
              "      <td>4,288.00</td>\n",
              "      <td>609.00</td>\n",
              "      <td>2017-08-24</td>\n",
              "      <td>2017</td>\n",
              "      <td>4.00</td>\n",
              "    </tr>\n",
              "    <tr>\n",
              "      <th>63</th>\n",
              "      <td>118.00</td>\n",
              "      <td>400,000.00</td>\n",
              "      <td>3,389.83</td>\n",
              "      <td>3</td>\n",
              "      <td>3.00</td>\n",
              "      <td>7</td>\n",
              "      <td>4,800.00</td>\n",
              "      <td>37.00</td>\n",
              "      <td>2018-09-11</td>\n",
              "      <td>2018</td>\n",
              "      <td>9.00</td>\n",
              "    </tr>\n",
              "    <tr>\n",
              "      <th>111</th>\n",
              "      <td>40.00</td>\n",
              "      <td>91,800.00</td>\n",
              "      <td>2,295.00</td>\n",
              "      <td>1</td>\n",
              "      <td>2.65</td>\n",
              "      <td>1</td>\n",
              "      <td>6,175.00</td>\n",
              "      <td>31.00</td>\n",
              "      <td>2017-05-29</td>\n",
              "      <td>2017</td>\n",
              "      <td>6.00</td>\n",
              "    </tr>\n",
              "    <tr>\n",
              "      <th>137</th>\n",
              "      <td>85.10</td>\n",
              "      <td>266,216.00</td>\n",
              "      <td>3,128.27</td>\n",
              "      <td>2</td>\n",
              "      <td>2.70</td>\n",
              "      <td>5</td>\n",
              "      <td>4,263.00</td>\n",
              "      <td>340.00</td>\n",
              "      <td>2018-01-01</td>\n",
              "      <td>2018</td>\n",
              "      <td>10.00</td>\n",
              "    </tr>\n",
              "    <tr>\n",
              "      <th>141</th>\n",
              "      <td>32.60</td>\n",
              "      <td>130,000.00</td>\n",
              "      <td>3,987.73</td>\n",
              "      <td>1</td>\n",
              "      <td>2.65</td>\n",
              "      <td>5</td>\n",
              "      <td>5,448.00</td>\n",
              "      <td>0.00</td>\n",
              "      <td>2019-02-27</td>\n",
              "      <td>2019</td>\n",
              "      <td>5.00</td>\n",
              "    </tr>\n",
              "  </tbody>\n",
              "</table>\n",
              "</div>"
            ],
            "text/plain": [
              "              total_area           last_price        price_per_sqm  bedrooms  \\\n",
              "61                 74.00           159,800.00             2,159.46         2   \n",
              "63                118.00           400,000.00             3,389.83         3   \n",
              "111                40.00            91,800.00             2,295.00         1   \n",
              "137                85.10           266,216.00             3,128.27         2   \n",
              "141                32.60           130,000.00             3,987.73         1   \n",
              "\n",
              "          ceiling_height  floor     city_center_dist          days_listed  \\\n",
              "61                  2.65      4             4,288.00               609.00   \n",
              "63                  3.00      7             4,800.00                37.00   \n",
              "111                 2.65      1             6,175.00                31.00   \n",
              "137                 2.70      5             4,263.00               340.00   \n",
              "141                 2.65      5             5,448.00                 0.00   \n",
              "\n",
              "    date_posted  year_posted         floors_total  \n",
              "61   2017-08-24         2017                 4.00  \n",
              "63   2018-09-11         2018                 9.00  \n",
              "111  2017-05-29         2017                 6.00  \n",
              "137  2018-01-01         2018                10.00  \n",
              "141  2019-02-27         2019                 5.00  "
            ]
          },
          "metadata": {
            "tags": []
          },
          "execution_count": 132
        }
      ]
    },
    {
      "cell_type": "code",
      "metadata": {
        "id": "GsqsKscB636Q",
        "colab_type": "code",
        "colab": {
          "base_uri": "https://localhost:8080/",
          "height": 359
        },
        "outputId": "f41deddb-a8a5-43eb-e20f-8b7409af3512"
      },
      "source": [
        "citycenter_ads.corr()"
      ],
      "execution_count": 133,
      "outputs": [
        {
          "output_type": "execute_result",
          "data": {
            "text/html": [
              "<div>\n",
              "<style scoped>\n",
              "    .dataframe tbody tr th:only-of-type {\n",
              "        vertical-align: middle;\n",
              "    }\n",
              "\n",
              "    .dataframe tbody tr th {\n",
              "        vertical-align: top;\n",
              "    }\n",
              "\n",
              "    .dataframe thead th {\n",
              "        text-align: right;\n",
              "    }\n",
              "</style>\n",
              "<table border=\"1\" class=\"dataframe\">\n",
              "  <thead>\n",
              "    <tr style=\"text-align: right;\">\n",
              "      <th></th>\n",
              "      <th>total_area</th>\n",
              "      <th>last_price</th>\n",
              "      <th>price_per_sqm</th>\n",
              "      <th>bedrooms</th>\n",
              "      <th>ceiling_height</th>\n",
              "      <th>floor</th>\n",
              "      <th>city_center_dist</th>\n",
              "      <th>days_listed</th>\n",
              "      <th>year_posted</th>\n",
              "      <th>floors_total</th>\n",
              "    </tr>\n",
              "  </thead>\n",
              "  <tbody>\n",
              "    <tr>\n",
              "      <th>total_area</th>\n",
              "      <td>1.00</td>\n",
              "      <td>0.71</td>\n",
              "      <td>-0.05</td>\n",
              "      <td>0.68</td>\n",
              "      <td>0.12</td>\n",
              "      <td>0.07</td>\n",
              "      <td>-0.09</td>\n",
              "      <td>0.05</td>\n",
              "      <td>-0.03</td>\n",
              "      <td>0.02</td>\n",
              "    </tr>\n",
              "    <tr>\n",
              "      <th>last_price</th>\n",
              "      <td>0.71</td>\n",
              "      <td>1.00</td>\n",
              "      <td>0.64</td>\n",
              "      <td>0.33</td>\n",
              "      <td>0.08</td>\n",
              "      <td>0.18</td>\n",
              "      <td>-0.02</td>\n",
              "      <td>-0.02</td>\n",
              "      <td>0.07</td>\n",
              "      <td>0.18</td>\n",
              "    </tr>\n",
              "    <tr>\n",
              "      <th>price_per_sqm</th>\n",
              "      <td>-0.05</td>\n",
              "      <td>0.64</td>\n",
              "      <td>1.00</td>\n",
              "      <td>-0.27</td>\n",
              "      <td>0.00</td>\n",
              "      <td>0.18</td>\n",
              "      <td>0.04</td>\n",
              "      <td>-0.06</td>\n",
              "      <td>0.12</td>\n",
              "      <td>0.25</td>\n",
              "    </tr>\n",
              "    <tr>\n",
              "      <th>bedrooms</th>\n",
              "      <td>0.68</td>\n",
              "      <td>0.33</td>\n",
              "      <td>-0.27</td>\n",
              "      <td>1.00</td>\n",
              "      <td>0.14</td>\n",
              "      <td>-0.06</td>\n",
              "      <td>-0.11</td>\n",
              "      <td>0.01</td>\n",
              "      <td>0.01</td>\n",
              "      <td>-0.19</td>\n",
              "    </tr>\n",
              "    <tr>\n",
              "      <th>ceiling_height</th>\n",
              "      <td>0.12</td>\n",
              "      <td>0.08</td>\n",
              "      <td>0.00</td>\n",
              "      <td>0.14</td>\n",
              "      <td>1.00</td>\n",
              "      <td>-0.18</td>\n",
              "      <td>-0.18</td>\n",
              "      <td>-0.02</td>\n",
              "      <td>0.14</td>\n",
              "      <td>-0.29</td>\n",
              "    </tr>\n",
              "    <tr>\n",
              "      <th>floor</th>\n",
              "      <td>0.07</td>\n",
              "      <td>0.18</td>\n",
              "      <td>0.18</td>\n",
              "      <td>-0.06</td>\n",
              "      <td>-0.18</td>\n",
              "      <td>1.00</td>\n",
              "      <td>0.27</td>\n",
              "      <td>0.00</td>\n",
              "      <td>-0.04</td>\n",
              "      <td>0.65</td>\n",
              "    </tr>\n",
              "    <tr>\n",
              "      <th>city_center_dist</th>\n",
              "      <td>-0.09</td>\n",
              "      <td>-0.02</td>\n",
              "      <td>0.04</td>\n",
              "      <td>-0.11</td>\n",
              "      <td>-0.18</td>\n",
              "      <td>0.27</td>\n",
              "      <td>1.00</td>\n",
              "      <td>-0.03</td>\n",
              "      <td>0.01</td>\n",
              "      <td>0.40</td>\n",
              "    </tr>\n",
              "    <tr>\n",
              "      <th>days_listed</th>\n",
              "      <td>0.05</td>\n",
              "      <td>-0.02</td>\n",
              "      <td>-0.06</td>\n",
              "      <td>0.01</td>\n",
              "      <td>-0.02</td>\n",
              "      <td>0.00</td>\n",
              "      <td>-0.03</td>\n",
              "      <td>1.00</td>\n",
              "      <td>-0.62</td>\n",
              "      <td>0.02</td>\n",
              "    </tr>\n",
              "    <tr>\n",
              "      <th>year_posted</th>\n",
              "      <td>-0.03</td>\n",
              "      <td>0.07</td>\n",
              "      <td>0.12</td>\n",
              "      <td>0.01</td>\n",
              "      <td>0.14</td>\n",
              "      <td>-0.04</td>\n",
              "      <td>0.01</td>\n",
              "      <td>-0.62</td>\n",
              "      <td>1.00</td>\n",
              "      <td>-0.08</td>\n",
              "    </tr>\n",
              "    <tr>\n",
              "      <th>floors_total</th>\n",
              "      <td>0.02</td>\n",
              "      <td>0.18</td>\n",
              "      <td>0.25</td>\n",
              "      <td>-0.19</td>\n",
              "      <td>-0.29</td>\n",
              "      <td>0.65</td>\n",
              "      <td>0.40</td>\n",
              "      <td>0.02</td>\n",
              "      <td>-0.08</td>\n",
              "      <td>1.00</td>\n",
              "    </tr>\n",
              "  </tbody>\n",
              "</table>\n",
              "</div>"
            ],
            "text/plain": [
              "                           total_area           last_price  \\\n",
              "total_area                       1.00                 0.71   \n",
              "last_price                       0.71                 1.00   \n",
              "price_per_sqm                   -0.05                 0.64   \n",
              "bedrooms                         0.68                 0.33   \n",
              "ceiling_height                   0.12                 0.08   \n",
              "floor                            0.07                 0.18   \n",
              "city_center_dist                -0.09                -0.02   \n",
              "days_listed                      0.05                -0.02   \n",
              "year_posted                     -0.03                 0.07   \n",
              "floors_total                     0.02                 0.18   \n",
              "\n",
              "                        price_per_sqm             bedrooms  \\\n",
              "total_area                      -0.05                 0.68   \n",
              "last_price                       0.64                 0.33   \n",
              "price_per_sqm                    1.00                -0.27   \n",
              "bedrooms                        -0.27                 1.00   \n",
              "ceiling_height                   0.00                 0.14   \n",
              "floor                            0.18                -0.06   \n",
              "city_center_dist                 0.04                -0.11   \n",
              "days_listed                     -0.06                 0.01   \n",
              "year_posted                      0.12                 0.01   \n",
              "floors_total                     0.25                -0.19   \n",
              "\n",
              "                       ceiling_height                floor  \\\n",
              "total_area                       0.12                 0.07   \n",
              "last_price                       0.08                 0.18   \n",
              "price_per_sqm                    0.00                 0.18   \n",
              "bedrooms                         0.14                -0.06   \n",
              "ceiling_height                   1.00                -0.18   \n",
              "floor                           -0.18                 1.00   \n",
              "city_center_dist                -0.18                 0.27   \n",
              "days_listed                     -0.02                 0.00   \n",
              "year_posted                      0.14                -0.04   \n",
              "floors_total                    -0.29                 0.65   \n",
              "\n",
              "                     city_center_dist          days_listed  \\\n",
              "total_area                      -0.09                 0.05   \n",
              "last_price                      -0.02                -0.02   \n",
              "price_per_sqm                    0.04                -0.06   \n",
              "bedrooms                        -0.11                 0.01   \n",
              "ceiling_height                  -0.18                -0.02   \n",
              "floor                            0.27                 0.00   \n",
              "city_center_dist                 1.00                -0.03   \n",
              "days_listed                     -0.03                 1.00   \n",
              "year_posted                      0.01                -0.62   \n",
              "floors_total                     0.40                 0.02   \n",
              "\n",
              "                          year_posted         floors_total  \n",
              "total_area                      -0.03                 0.02  \n",
              "last_price                       0.07                 0.18  \n",
              "price_per_sqm                    0.12                 0.25  \n",
              "bedrooms                         0.01                -0.19  \n",
              "ceiling_height                   0.14                -0.29  \n",
              "floor                           -0.04                 0.65  \n",
              "city_center_dist                 0.01                 0.40  \n",
              "days_listed                     -0.62                 0.02  \n",
              "year_posted                      1.00                -0.08  \n",
              "floors_total                    -0.08                 1.00  "
            ]
          },
          "metadata": {
            "tags": []
          },
          "execution_count": 133
        }
      ]
    },
    {
      "cell_type": "markdown",
      "metadata": {
        "id": "PCvX8rT5636U",
        "colab_type": "text"
      },
      "source": [
        "### Step 5. Overall conclusionType Markdown and LaTeX:  𝛼2 "
      ]
    },
    {
      "cell_type": "markdown",
      "metadata": {
        "id": "On3U2-J6636U",
        "colab_type": "text"
      },
      "source": [
        "- High variation can be noticed in the data - rare values and uneven distribution - removing outliers (1% on each side) was found to be helpful.\n",
        "- Influence on price\n",
        "  - apartments in city center have highest price (same also per sqm)\n",
        "  - apartments in St. Petersburg have higher prices than other cities\n",
        "  - generally, main influence on price is the area size.\n",
        "  - Apartments in 1st floor are cheaper.\n",
        "  - 2014 for the year with top prices. Bottom was in 2017 followed by slow recovery."
      ]
    },
    {
      "cell_type": "markdown",
      "metadata": {
        "id": "Fp-lsSao636V",
        "colab_type": "text"
      },
      "source": [
        "<span style=\"color:Green\">\n",
        "\n",
        "**2020-02-25 DD**\n",
        "\n",
        "The conclusions look quite right. Removing outliers can make an analysis easier indeed though it needs to be with care so as to cut off interesting cases.\n",
        "    \n",
        "I'd suggest using more kind of graphs (line graphs, scatterplots, KDE plots (can be a bit more accurate than histograms)).\n",
        "    \n",
        "You may want to check my other comments in the project. I don't find them critical therefore the project is accepted.\n",
        "\n",
        "</span>"
      ]
    },
    {
      "cell_type": "markdown",
      "metadata": {
        "id": "Hrde8cw5636W",
        "colab_type": "text"
      },
      "source": [
        "### Project completion checklist\n",
        "\n",
        "Mark the completed tasks with 'x'. Then press Shift+Enter."
      ]
    },
    {
      "cell_type": "markdown",
      "metadata": {
        "id": "eg9TM2ur636X",
        "colab_type": "text"
      },
      "source": [
        "- [x]  file opened\n",
        "- [x]  files explored (first rows printed, info() method)\n",
        "- [x]  missing values determined\n",
        "- [x]  missing values filled in\n",
        "- [x]  clarification of the discovered missing values provided\n",
        "- [x]  data types converted\n",
        "- [x]  explanation of which columns had the data types changed and why\n",
        "- [x]  calculated and added to the table: the price per square meter\n",
        "- [x]  calculated and added to the table: the day of the week, month, and year that the ad was published\n",
        "- [x]  calculated and added to the table: which floor the apartment is on (first, last, or other)\n",
        "- [x]  calculated and added to the table: the ratio between the living space and the total area, as well as between the kitchen space and the total area\n",
        "- [x]  the following parameters investigated: square area, price, number of rooms, and ceiling height\n",
        "- [x]  histograms for each parameter created\n",
        "- [x]  task completed: \"Examine the time it's taken to sell the apartment and create a histogram. Calculate the mean and median and explain the average time it usually takes to complete a sale. When can a sale be considered extra quick or taken an extra slow?\"\n",
        "- [x]  task completed: \"Remove rare and outlying values and describe the specific details you've discovered.\"\n",
        "- [x]  task completed: \"Which factors have had the biggest influence on an apartment’s value? Examine whether the value depends on price per meter, number of rooms, floor (top or bottom), or the proximity to the downtown area. Also study the correlation to the ad posting date: day of the week, month, and year. \"Select the 10 places with the largest number of ads and then calculate the average price per square foot in these localities. Select the locations with the highest and lowest housing prices. You can find this data by name in the ’*locality_name’* column. \"\n",
        "- [x]  task completed: \"Thoroughly look at apartment offers: each apartment has information about the distance to the downtown area. Select apartments in Saint Petersburg (*‘locality_name’*). Your task is to pinpoint which area is considered to be downtown. Create a column with the distance to the downtown area in km and round to the nearest whole number. Next, calculate the average price for each kilometer. Build a graph to display how prices are affected by the distance to the downtown area. Define the turning point where the graph significantly changes. This will indicate downtown. \"\n",
        "- [x]  task completed: \"Select a segment of apartments in the downtown. Analyze this area and examine the following parameters: square area, price, number of rooms, ceiling height. Also identify the factors that affect an apartment’s price (number of rooms, floor, distance to the downtown area, and ad publication date). Draw your conclusions. Are they different from the overall conclusions about the entire city?\"\n",
        "- [x]  each stage has a conclusion\n",
        "- [x]  overall conclusion drawn"
      ]
    },
    {
      "cell_type": "code",
      "metadata": {
        "id": "bK2UMFe-636X",
        "colab_type": "code",
        "colab": {}
      },
      "source": [
        ""
      ],
      "execution_count": null,
      "outputs": []
    }
  ]
}