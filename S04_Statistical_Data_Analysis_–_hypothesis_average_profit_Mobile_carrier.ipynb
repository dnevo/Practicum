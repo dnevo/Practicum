{
  "nbformat": 4,
  "nbformat_minor": 0,
  "metadata": {
    "kernelspec": {
      "display_name": "Python 3",
      "language": "python",
      "name": "python3"
    },
    "language_info": {
      "codemirror_mode": {
        "name": "ipython",
        "version": 3
      },
      "file_extension": ".py",
      "mimetype": "text/x-python",
      "name": "python",
      "nbconvert_exporter": "python",
      "pygments_lexer": "ipython3",
      "version": "3.7.4"
    },
    "colab": {
      "name": "S04 Statistical Data Analysis – hypothesis average profit Mobile carrier.ipynb",
      "provenance": [],
      "collapsed_sections": [],
      "include_colab_link": true
    }
  },
  "cells": [
    {
      "cell_type": "markdown",
      "metadata": {
        "id": "view-in-github",
        "colab_type": "text"
      },
      "source": [
        "<a href=\"https://colab.research.google.com/github/dnevo/Practicum/blob/master/S04_Statistical_Data_Analysis_%E2%80%93_hypothesis_average_profit_Mobile_carrier.ipynb\" target=\"_parent\"><img src=\"https://colab.research.google.com/assets/colab-badge.svg\" alt=\"Open In Colab\"/></a>"
      ]
    },
    {
      "cell_type": "markdown",
      "metadata": {
        "id": "7Te434PTRnWK",
        "colab_type": "text"
      },
      "source": [
        "<div class=\"alert alert-block alert-info\">\n",
        "<h2> Comments </h2>\n",
        "</div>\n",
        "\n",
        "Hi Doron,\n",
        "\n",
        "I have checked you work and left comments in such cells. Cells are of two types:\n",
        "\n",
        "<div class=\"alert alert-block alert-danger\">\n",
        "<p> <strong> A red colored cell </strong> indicates that you need to improve or adjust part of the project above. </p>\n",
        "</div>\n",
        "<div class=\"alert alert-block alert-info\">\n",
        "<p> <strong> A blue colored cell </strong> indicates that no improvements are needed in the cells above. May include some suggestions and recommendations.</p>\n",
        "</div>\n",
        "\n",
        "Hope it all will be clear to you :)\n",
        "\n",
        "You did a good job 😀. You  understand what you are doing and why - 👍.\n",
        "\n",
        "There is a mistake in the interpretation of the test results, I hope you will take this into account in your future projects :)\n",
        "\n",
        "The project is accepted :)\n",
        "\n",
        "*Good luck!*\n",
        "\n",
        "------------"
      ]
    },
    {
      "cell_type": "code",
      "metadata": {
        "id": "VoXWNpT-RnWM",
        "colab_type": "code",
        "colab": {}
      },
      "source": [
        "import pandas as pd\n",
        "import numpy as np\n",
        "pd.set_option('display.width', 200)\n",
        "pd.set_option('display.max_columns', None)\n",
        "pd.options.display.float_format = '{:11,.2f}'.format"
      ],
      "execution_count": 69,
      "outputs": []
    },
    {
      "cell_type": "markdown",
      "metadata": {
        "id": "8Q-UxZFPRnWR",
        "colab_type": "text"
      },
      "source": [
        "### Step 1. Open the data file and study the general information. "
      ]
    },
    {
      "cell_type": "code",
      "metadata": {
        "id": "8_EHtVv1RnWS",
        "colab_type": "code",
        "colab": {}
      },
      "source": [
        "megaline_calls = pd.read_csv('https://raw.githubusercontent.com/dnevo/Practicum/master/datasets/megaline_calls.csv')\n",
        "megaline_internet = pd.read_csv('https://raw.githubusercontent.com/dnevo/Practicum/master/datasets/megaline_internet.csv')\n",
        "megaline_messages = pd.read_csv('https://raw.githubusercontent.com/dnevo/Practicum/master/datasets/megaline_messages.csv')\n",
        "megaline_plans = pd.read_csv('https://raw.githubusercontent.com/dnevo/Practicum/master/datasets/megaline_plans.csv')\n",
        "megaline_users = pd.read_csv('https://raw.githubusercontent.com/dnevo/Practicum/master/datasets/megaline_users1.csv')"
      ],
      "execution_count": 70,
      "outputs": []
    },
    {
      "cell_type": "markdown",
      "metadata": {
        "id": "h4ktsZFVRnWX",
        "colab_type": "text"
      },
      "source": [
        "## megaline_users\n",
        "As can be seen below:\n",
        "1. no missing data\n",
        "2.  `reg_date` and `churn_date` need to be converted to datetime in order to be more useful\n",
        "3. The state (region) is embedded in the `city` column - we will have to extract it.\n",
        "4. `churn_date' only 34 non-Nan values - churn rate is quite low..."
      ]
    },
    {
      "cell_type": "code",
      "metadata": {
        "id": "rUIggh1vRnWY",
        "colab_type": "code",
        "colab": {
          "base_uri": "https://localhost:8080/",
          "height": 204
        },
        "outputId": "737c4fed-de1a-415a-fb60-76664fdb0e04"
      },
      "source": [
        "megaline_users.head()"
      ],
      "execution_count": 71,
      "outputs": [
        {
          "output_type": "execute_result",
          "data": {
            "text/html": [
              "<div>\n",
              "<style scoped>\n",
              "    .dataframe tbody tr th:only-of-type {\n",
              "        vertical-align: middle;\n",
              "    }\n",
              "\n",
              "    .dataframe tbody tr th {\n",
              "        vertical-align: top;\n",
              "    }\n",
              "\n",
              "    .dataframe thead th {\n",
              "        text-align: right;\n",
              "    }\n",
              "</style>\n",
              "<table border=\"1\" class=\"dataframe\">\n",
              "  <thead>\n",
              "    <tr style=\"text-align: right;\">\n",
              "      <th></th>\n",
              "      <th>user_id</th>\n",
              "      <th>first_name</th>\n",
              "      <th>last_name</th>\n",
              "      <th>age</th>\n",
              "      <th>city</th>\n",
              "      <th>reg_date</th>\n",
              "      <th>plan</th>\n",
              "      <th>churn_date</th>\n",
              "    </tr>\n",
              "  </thead>\n",
              "  <tbody>\n",
              "    <tr>\n",
              "      <th>0</th>\n",
              "      <td>1000</td>\n",
              "      <td>Anamaria</td>\n",
              "      <td>Bauer</td>\n",
              "      <td>45</td>\n",
              "      <td>Atlanta-Sandy Springs-Roswell, GA MSA</td>\n",
              "      <td>2018-12-24</td>\n",
              "      <td>ultimate</td>\n",
              "      <td>NaN</td>\n",
              "    </tr>\n",
              "    <tr>\n",
              "      <th>1</th>\n",
              "      <td>1001</td>\n",
              "      <td>Mickey</td>\n",
              "      <td>Wilkerson</td>\n",
              "      <td>28</td>\n",
              "      <td>Seattle-Tacoma-Bellevue, WA MSA</td>\n",
              "      <td>2018-08-13</td>\n",
              "      <td>surf</td>\n",
              "      <td>NaN</td>\n",
              "    </tr>\n",
              "    <tr>\n",
              "      <th>2</th>\n",
              "      <td>1002</td>\n",
              "      <td>Carlee</td>\n",
              "      <td>Hoffman</td>\n",
              "      <td>36</td>\n",
              "      <td>Las Vegas-Henderson-Paradise, NV MSA</td>\n",
              "      <td>2018-10-21</td>\n",
              "      <td>surf</td>\n",
              "      <td>NaN</td>\n",
              "    </tr>\n",
              "    <tr>\n",
              "      <th>3</th>\n",
              "      <td>1003</td>\n",
              "      <td>Reynaldo</td>\n",
              "      <td>Jenkins</td>\n",
              "      <td>52</td>\n",
              "      <td>Tulsa, OK MSA</td>\n",
              "      <td>2018-01-28</td>\n",
              "      <td>surf</td>\n",
              "      <td>NaN</td>\n",
              "    </tr>\n",
              "    <tr>\n",
              "      <th>4</th>\n",
              "      <td>1004</td>\n",
              "      <td>Leonila</td>\n",
              "      <td>Thompson</td>\n",
              "      <td>40</td>\n",
              "      <td>Seattle-Tacoma-Bellevue, WA MSA</td>\n",
              "      <td>2018-05-23</td>\n",
              "      <td>surf</td>\n",
              "      <td>NaN</td>\n",
              "    </tr>\n",
              "  </tbody>\n",
              "</table>\n",
              "</div>"
            ],
            "text/plain": [
              "   user_id first_name  last_name  age                                   city    reg_date      plan churn_date\n",
              "0     1000   Anamaria      Bauer   45  Atlanta-Sandy Springs-Roswell, GA MSA  2018-12-24  ultimate        NaN\n",
              "1     1001     Mickey  Wilkerson   28        Seattle-Tacoma-Bellevue, WA MSA  2018-08-13      surf        NaN\n",
              "2     1002     Carlee    Hoffman   36   Las Vegas-Henderson-Paradise, NV MSA  2018-10-21      surf        NaN\n",
              "3     1003   Reynaldo    Jenkins   52                          Tulsa, OK MSA  2018-01-28      surf        NaN\n",
              "4     1004    Leonila   Thompson   40        Seattle-Tacoma-Bellevue, WA MSA  2018-05-23      surf        NaN"
            ]
          },
          "metadata": {
            "tags": []
          },
          "execution_count": 71
        }
      ]
    },
    {
      "cell_type": "code",
      "metadata": {
        "id": "IE6BlEndRnWf",
        "colab_type": "code",
        "colab": {
          "base_uri": "https://localhost:8080/",
          "height": 272
        },
        "outputId": "dba5436d-4dcb-4f75-9d0f-f4d0e5164f35"
      },
      "source": [
        "megaline_users.info();"
      ],
      "execution_count": 72,
      "outputs": [
        {
          "output_type": "stream",
          "text": [
            "<class 'pandas.core.frame.DataFrame'>\n",
            "RangeIndex: 500 entries, 0 to 499\n",
            "Data columns (total 8 columns):\n",
            " #   Column      Non-Null Count  Dtype \n",
            "---  ------      --------------  ----- \n",
            " 0   user_id     500 non-null    int64 \n",
            " 1   first_name  500 non-null    object\n",
            " 2   last_name   500 non-null    object\n",
            " 3   age         500 non-null    int64 \n",
            " 4   city        500 non-null    object\n",
            " 5   reg_date    500 non-null    object\n",
            " 6   plan        500 non-null    object\n",
            " 7   churn_date  34 non-null     object\n",
            "dtypes: int64(2), object(6)\n",
            "memory usage: 31.4+ KB\n"
          ],
          "name": "stdout"
        }
      ]
    },
    {
      "cell_type": "markdown",
      "metadata": {
        "id": "GSeNm1HGRnWk",
        "colab_type": "text"
      },
      "source": [
        "## megaline_plans"
      ]
    },
    {
      "cell_type": "code",
      "metadata": {
        "id": "CRaPLzk1RnWl",
        "colab_type": "code",
        "colab": {
          "base_uri": "https://localhost:8080/",
          "height": 111
        },
        "outputId": "d1831625-c455-4077-8c13-5ab5021cf476"
      },
      "source": [
        "megaline_plans"
      ],
      "execution_count": 73,
      "outputs": [
        {
          "output_type": "execute_result",
          "data": {
            "text/html": [
              "<div>\n",
              "<style scoped>\n",
              "    .dataframe tbody tr th:only-of-type {\n",
              "        vertical-align: middle;\n",
              "    }\n",
              "\n",
              "    .dataframe tbody tr th {\n",
              "        vertical-align: top;\n",
              "    }\n",
              "\n",
              "    .dataframe thead th {\n",
              "        text-align: right;\n",
              "    }\n",
              "</style>\n",
              "<table border=\"1\" class=\"dataframe\">\n",
              "  <thead>\n",
              "    <tr style=\"text-align: right;\">\n",
              "      <th></th>\n",
              "      <th>messages_included</th>\n",
              "      <th>mb_per_month_included</th>\n",
              "      <th>minutes_included</th>\n",
              "      <th>usd_monthly_pay</th>\n",
              "      <th>usd_per_gb</th>\n",
              "      <th>usd_per_message</th>\n",
              "      <th>usd_per_minute</th>\n",
              "      <th>plan_name</th>\n",
              "    </tr>\n",
              "  </thead>\n",
              "  <tbody>\n",
              "    <tr>\n",
              "      <th>0</th>\n",
              "      <td>50</td>\n",
              "      <td>15360</td>\n",
              "      <td>500</td>\n",
              "      <td>20</td>\n",
              "      <td>10</td>\n",
              "      <td>0.03</td>\n",
              "      <td>0.03</td>\n",
              "      <td>surf</td>\n",
              "    </tr>\n",
              "    <tr>\n",
              "      <th>1</th>\n",
              "      <td>1000</td>\n",
              "      <td>30720</td>\n",
              "      <td>3000</td>\n",
              "      <td>70</td>\n",
              "      <td>7</td>\n",
              "      <td>0.01</td>\n",
              "      <td>0.01</td>\n",
              "      <td>ultimate</td>\n",
              "    </tr>\n",
              "  </tbody>\n",
              "</table>\n",
              "</div>"
            ],
            "text/plain": [
              "   messages_included  mb_per_month_included  minutes_included  usd_monthly_pay  usd_per_gb  usd_per_message  usd_per_minute plan_name\n",
              "0                 50                  15360               500               20          10             0.03            0.03      surf\n",
              "1               1000                  30720              3000               70           7             0.01            0.01  ultimate"
            ]
          },
          "metadata": {
            "tags": []
          },
          "execution_count": 73
        }
      ]
    },
    {
      "cell_type": "markdown",
      "metadata": {
        "id": "-HThRZOHRnWp",
        "colab_type": "text"
      },
      "source": [
        "## megaline_calls\n",
        "As can be seen below:\n",
        "1. no missing data\n",
        "2.  `call_date` need to be converted to datetime in order to be more useful"
      ]
    },
    {
      "cell_type": "code",
      "metadata": {
        "id": "1GIsSxl9RnWq",
        "colab_type": "code",
        "colab": {
          "base_uri": "https://localhost:8080/",
          "height": 204
        },
        "outputId": "fa9470d6-532b-40fd-bde8-b0e3568cf7b2"
      },
      "source": [
        "megaline_calls.head()"
      ],
      "execution_count": 74,
      "outputs": [
        {
          "output_type": "execute_result",
          "data": {
            "text/html": [
              "<div>\n",
              "<style scoped>\n",
              "    .dataframe tbody tr th:only-of-type {\n",
              "        vertical-align: middle;\n",
              "    }\n",
              "\n",
              "    .dataframe tbody tr th {\n",
              "        vertical-align: top;\n",
              "    }\n",
              "\n",
              "    .dataframe thead th {\n",
              "        text-align: right;\n",
              "    }\n",
              "</style>\n",
              "<table border=\"1\" class=\"dataframe\">\n",
              "  <thead>\n",
              "    <tr style=\"text-align: right;\">\n",
              "      <th></th>\n",
              "      <th>id</th>\n",
              "      <th>user_id</th>\n",
              "      <th>call_date</th>\n",
              "      <th>duration</th>\n",
              "    </tr>\n",
              "  </thead>\n",
              "  <tbody>\n",
              "    <tr>\n",
              "      <th>0</th>\n",
              "      <td>1000_93</td>\n",
              "      <td>1000</td>\n",
              "      <td>2018-12-27</td>\n",
              "      <td>8.52</td>\n",
              "    </tr>\n",
              "    <tr>\n",
              "      <th>1</th>\n",
              "      <td>1000_145</td>\n",
              "      <td>1000</td>\n",
              "      <td>2018-12-27</td>\n",
              "      <td>13.66</td>\n",
              "    </tr>\n",
              "    <tr>\n",
              "      <th>2</th>\n",
              "      <td>1000_247</td>\n",
              "      <td>1000</td>\n",
              "      <td>2018-12-27</td>\n",
              "      <td>14.48</td>\n",
              "    </tr>\n",
              "    <tr>\n",
              "      <th>3</th>\n",
              "      <td>1000_309</td>\n",
              "      <td>1000</td>\n",
              "      <td>2018-12-28</td>\n",
              "      <td>5.76</td>\n",
              "    </tr>\n",
              "    <tr>\n",
              "      <th>4</th>\n",
              "      <td>1000_380</td>\n",
              "      <td>1000</td>\n",
              "      <td>2018-12-30</td>\n",
              "      <td>4.22</td>\n",
              "    </tr>\n",
              "  </tbody>\n",
              "</table>\n",
              "</div>"
            ],
            "text/plain": [
              "         id  user_id   call_date    duration\n",
              "0   1000_93     1000  2018-12-27        8.52\n",
              "1  1000_145     1000  2018-12-27       13.66\n",
              "2  1000_247     1000  2018-12-27       14.48\n",
              "3  1000_309     1000  2018-12-28        5.76\n",
              "4  1000_380     1000  2018-12-30        4.22"
            ]
          },
          "metadata": {
            "tags": []
          },
          "execution_count": 74
        }
      ]
    },
    {
      "cell_type": "code",
      "metadata": {
        "id": "c7b4Q0w2RnWy",
        "colab_type": "code",
        "colab": {
          "base_uri": "https://localhost:8080/",
          "height": 221
        },
        "outputId": "e9feec69-7854-4ecb-c99a-3cb52c78747b"
      },
      "source": [
        "print(megaline_calls.info())"
      ],
      "execution_count": 75,
      "outputs": [
        {
          "output_type": "stream",
          "text": [
            "<class 'pandas.core.frame.DataFrame'>\n",
            "RangeIndex: 137735 entries, 0 to 137734\n",
            "Data columns (total 4 columns):\n",
            " #   Column     Non-Null Count   Dtype  \n",
            "---  ------     --------------   -----  \n",
            " 0   id         137735 non-null  object \n",
            " 1   user_id    137735 non-null  int64  \n",
            " 2   call_date  137735 non-null  object \n",
            " 3   duration   137735 non-null  float64\n",
            "dtypes: float64(1), int64(1), object(2)\n",
            "memory usage: 4.2+ MB\n",
            "None\n"
          ],
          "name": "stdout"
        }
      ]
    },
    {
      "cell_type": "markdown",
      "metadata": {
        "id": "HYSqKjzwRnW3",
        "colab_type": "text"
      },
      "source": [
        "### megaline_internet\n",
        "As can be seen below:\n",
        "1. no missing data\n",
        "2. session_date need to be converted to datetime in order to be more useful"
      ]
    },
    {
      "cell_type": "code",
      "metadata": {
        "id": "NsVZqbOuRnW4",
        "colab_type": "code",
        "colab": {
          "base_uri": "https://localhost:8080/",
          "height": 204
        },
        "outputId": "705e07f3-2427-4742-b46c-1ea8ceaef277"
      },
      "source": [
        "megaline_internet.head()"
      ],
      "execution_count": 76,
      "outputs": [
        {
          "output_type": "execute_result",
          "data": {
            "text/html": [
              "<div>\n",
              "<style scoped>\n",
              "    .dataframe tbody tr th:only-of-type {\n",
              "        vertical-align: middle;\n",
              "    }\n",
              "\n",
              "    .dataframe tbody tr th {\n",
              "        vertical-align: top;\n",
              "    }\n",
              "\n",
              "    .dataframe thead th {\n",
              "        text-align: right;\n",
              "    }\n",
              "</style>\n",
              "<table border=\"1\" class=\"dataframe\">\n",
              "  <thead>\n",
              "    <tr style=\"text-align: right;\">\n",
              "      <th></th>\n",
              "      <th>id</th>\n",
              "      <th>user_id</th>\n",
              "      <th>session_date</th>\n",
              "      <th>mb_used</th>\n",
              "    </tr>\n",
              "  </thead>\n",
              "  <tbody>\n",
              "    <tr>\n",
              "      <th>0</th>\n",
              "      <td>1000_13</td>\n",
              "      <td>1000</td>\n",
              "      <td>2018-12-29</td>\n",
              "      <td>89.86</td>\n",
              "    </tr>\n",
              "    <tr>\n",
              "      <th>1</th>\n",
              "      <td>1000_204</td>\n",
              "      <td>1000</td>\n",
              "      <td>2018-12-31</td>\n",
              "      <td>0.00</td>\n",
              "    </tr>\n",
              "    <tr>\n",
              "      <th>2</th>\n",
              "      <td>1000_379</td>\n",
              "      <td>1000</td>\n",
              "      <td>2018-12-28</td>\n",
              "      <td>660.40</td>\n",
              "    </tr>\n",
              "    <tr>\n",
              "      <th>3</th>\n",
              "      <td>1000_413</td>\n",
              "      <td>1000</td>\n",
              "      <td>2018-12-26</td>\n",
              "      <td>270.99</td>\n",
              "    </tr>\n",
              "    <tr>\n",
              "      <th>4</th>\n",
              "      <td>1000_442</td>\n",
              "      <td>1000</td>\n",
              "      <td>2018-12-27</td>\n",
              "      <td>880.22</td>\n",
              "    </tr>\n",
              "  </tbody>\n",
              "</table>\n",
              "</div>"
            ],
            "text/plain": [
              "         id  user_id session_date     mb_used\n",
              "0   1000_13     1000   2018-12-29       89.86\n",
              "1  1000_204     1000   2018-12-31        0.00\n",
              "2  1000_379     1000   2018-12-28      660.40\n",
              "3  1000_413     1000   2018-12-26      270.99\n",
              "4  1000_442     1000   2018-12-27      880.22"
            ]
          },
          "metadata": {
            "tags": []
          },
          "execution_count": 76
        }
      ]
    },
    {
      "cell_type": "code",
      "metadata": {
        "id": "MNb47LbjRnW8",
        "colab_type": "code",
        "colab": {
          "base_uri": "https://localhost:8080/",
          "height": 221
        },
        "outputId": "6b2571ad-2bf7-41e6-8867-6155285cc365"
      },
      "source": [
        "print(megaline_internet.info())"
      ],
      "execution_count": 77,
      "outputs": [
        {
          "output_type": "stream",
          "text": [
            "<class 'pandas.core.frame.DataFrame'>\n",
            "RangeIndex: 104825 entries, 0 to 104824\n",
            "Data columns (total 4 columns):\n",
            " #   Column        Non-Null Count   Dtype  \n",
            "---  ------        --------------   -----  \n",
            " 0   id            104825 non-null  object \n",
            " 1   user_id       104825 non-null  int64  \n",
            " 2   session_date  104825 non-null  object \n",
            " 3   mb_used       104825 non-null  float64\n",
            "dtypes: float64(1), int64(1), object(2)\n",
            "memory usage: 3.2+ MB\n",
            "None\n"
          ],
          "name": "stdout"
        }
      ]
    },
    {
      "cell_type": "markdown",
      "metadata": {
        "id": "61u-LuR7RnW_",
        "colab_type": "text"
      },
      "source": [
        "## megaline_messages\n",
        "As can be seen below:\n",
        "1. no missing data\n",
        "2.  `message_date` need to be converted to datetime in order to be more useful"
      ]
    },
    {
      "cell_type": "code",
      "metadata": {
        "id": "PSLm6tkURnXA",
        "colab_type": "code",
        "colab": {
          "base_uri": "https://localhost:8080/",
          "height": 306
        },
        "outputId": "6f54e048-10a5-4370-a835-6046fb928f98"
      },
      "source": [
        "print(megaline_messages.head())\n",
        "print(megaline_messages.info())"
      ],
      "execution_count": 78,
      "outputs": [
        {
          "output_type": "stream",
          "text": [
            "         id  user_id message_date\n",
            "0  1000_125     1000   2018-12-27\n",
            "1  1000_160     1000   2018-12-31\n",
            "2  1000_223     1000   2018-12-31\n",
            "3  1000_251     1000   2018-12-27\n",
            "4  1000_255     1000   2018-12-26\n",
            "<class 'pandas.core.frame.DataFrame'>\n",
            "RangeIndex: 76051 entries, 0 to 76050\n",
            "Data columns (total 3 columns):\n",
            " #   Column        Non-Null Count  Dtype \n",
            "---  ------        --------------  ----- \n",
            " 0   id            76051 non-null  object\n",
            " 1   user_id       76051 non-null  int64 \n",
            " 2   message_date  76051 non-null  object\n",
            "dtypes: int64(1), object(2)\n",
            "memory usage: 1.7+ MB\n",
            "None\n"
          ],
          "name": "stdout"
        }
      ]
    },
    {
      "cell_type": "markdown",
      "metadata": {
        "id": "mi_RuI41RnXE",
        "colab_type": "text"
      },
      "source": [
        "<div class=\"alert alert-block alert-info\">\n",
        "<h2> Comments </h2>\n",
        "</div>\n",
        "\n",
        "Good :)\n",
        "\n",
        "You should also check for duplicates :)\n",
        "\n",
        "------------"
      ]
    },
    {
      "cell_type": "markdown",
      "metadata": {
        "id": "I8eVfewlRnXG",
        "colab_type": "text"
      },
      "source": [
        "### Step 2. Prepare the data\n",
        "#### Convert type dates columns to datetime"
      ]
    },
    {
      "cell_type": "code",
      "metadata": {
        "id": "MGTSQ3lFRnXH",
        "colab_type": "code",
        "colab": {}
      },
      "source": [
        "# source format example: 2018-05-24\n",
        "megaline_users['reg_date'] = pd.to_datetime(megaline_users['reg_date'], format='%Y-%m-%d')\n",
        "megaline_users['churn_date'] = pd.to_datetime(megaline_users['churn_date'], format='%Y-%m-%d')\n",
        "megaline_calls['call_date'] = pd.to_datetime(megaline_calls['call_date'], format='%Y-%m-%d')\n",
        "megaline_internet['session_date'] = pd.to_datetime(megaline_internet['session_date'], format='%Y-%m-%d')\n",
        "megaline_messages['message_date'] = pd.to_datetime(megaline_messages['message_date'], format='%Y-%m-%d')"
      ],
      "execution_count": 79,
      "outputs": []
    },
    {
      "cell_type": "markdown",
      "metadata": {
        "id": "Faa9Y1mLRnXK",
        "colab_type": "text"
      },
      "source": [
        "#### Create `area` column by extracting from `city`\n",
        "The category will contains 'NY' (Ney York area) and 'OTHER'."
      ]
    },
    {
      "cell_type": "code",
      "metadata": {
        "id": "xZkH2v-6RnXL",
        "colab_type": "code",
        "colab": {
          "base_uri": "https://localhost:8080/",
          "height": 68
        },
        "outputId": "d8b99983-883e-4d3f-b205-c58c76eedd27"
      },
      "source": [
        "def area(row):\n",
        "  city_acronym = row['city'].split(',')[1][1:-4]  # Ex. 'NY-NJ-PA' <-- 'New York-Newark-Jersey City, NY-NJ-PA MSA'\n",
        "  if city_acronym in ['NY-NJ-PA', 'NY']:\n",
        "    return 'NY'\n",
        "  else:\n",
        "    return 'OTHER'\n",
        "megaline_users['area'] = megaline_users.apply(area, axis=1)\n",
        "print(megaline_users['area'].value_counts())"
      ],
      "execution_count": 80,
      "outputs": [
        {
          "output_type": "stream",
          "text": [
            "OTHER    414\n",
            "NY        86\n",
            "Name: area, dtype: int64\n"
          ],
          "name": "stdout"
        }
      ]
    },
    {
      "cell_type": "markdown",
      "metadata": {
        "id": "j2Ko5VXcRnXP",
        "colab_type": "text"
      },
      "source": [
        "**Errors in data** There are many calls with zero duration (19.5%). An explation for it might be that unanswered calls are included in the file. We will drop them since they are not billable.\n",
        "<br>**Note:** There also data sessions with zero usage (13.1%) - however according to Yandex experts, this is valid - therfore no measure wil be taken."
      ]
    },
    {
      "cell_type": "code",
      "metadata": {
        "id": "zYJCwCg7RnXQ",
        "colab_type": "code",
        "colab": {
          "base_uri": "https://localhost:8080/",
          "height": 85
        },
        "outputId": "4232b5b2-b843-4fe7-9351-e77ea9ea0a2a"
      },
      "source": [
        "print('total number of calls=',megaline_calls['duration'].count())\n",
        "print('total number of zero-duration calls=', megaline_calls['duration'][megaline_calls['duration']==0].count())\n",
        "megaline_calls.query('duration > 0', inplace=True)  # removal of calls records with zero duration\n",
        "print('total number of sessions=',megaline_internet['mb_used'].count())\n",
        "print('total number of zero-usage sessions=', megaline_internet['mb_used'][megaline_internet['mb_used']==0].count())"
      ],
      "execution_count": 81,
      "outputs": [
        {
          "output_type": "stream",
          "text": [
            "total number of calls= 137735\n",
            "total number of zero-duration calls= 26834\n",
            "total number of sessions= 104825\n",
            "total number of zero-usage sessions= 13747\n"
          ],
          "name": "stdout"
        }
      ]
    },
    {
      "cell_type": "markdown",
      "metadata": {
        "id": "9NFIpDDtRnXT",
        "colab_type": "text"
      },
      "source": [
        "We will round up (ceiling) the call duration to minutes (1 sec convert to 1 minutes) - as charged by megaline"
      ]
    },
    {
      "cell_type": "code",
      "metadata": {
        "id": "dzA5wQwFRnXU",
        "colab_type": "code",
        "colab": {}
      },
      "source": [
        "megaline_calls['duration'] = np.ceil(megaline_calls['duration'])"
      ],
      "execution_count": 82,
      "outputs": []
    },
    {
      "cell_type": "markdown",
      "metadata": {
        "id": "S18wZFe5RnXY",
        "colab_type": "text"
      },
      "source": [
        "As can be seen below, the period of consumption is the whole  2018 (1/1/2018 - 31/12/2018):"
      ]
    },
    {
      "cell_type": "code",
      "metadata": {
        "id": "QynE2QNVRnXZ",
        "colab_type": "code",
        "colab": {
          "base_uri": "https://localhost:8080/",
          "height": 102
        },
        "outputId": "aa99eec2-64a3-4552-e85d-9781587fe37f"
      },
      "source": [
        "print('reg_date min:', megaline_users['reg_date'].min(), ', max=', megaline_users['reg_date'].max())\n",
        "print('churn_date min:', megaline_users['churn_date'].min(), ', max=', megaline_users['churn_date'].max())\n",
        "print('call_date min:', megaline_calls['call_date'].min(), ', max=', megaline_calls['call_date'].max())\n",
        "print('session_date min:', megaline_internet['session_date'].min(), ', max=', megaline_internet['session_date'].max())\n",
        "print('message_date min:', megaline_messages['message_date'].min(), ', max=', megaline_messages['message_date'].max())"
      ],
      "execution_count": 83,
      "outputs": [
        {
          "output_type": "stream",
          "text": [
            "reg_date min: 2018-01-01 00:00:00 , max= 2018-12-31 00:00:00\n",
            "churn_date min: 2018-07-31 00:00:00 , max= 2018-12-31 00:00:00\n",
            "call_date min: 2018-01-15 00:00:00 , max= 2018-12-31 00:00:00\n",
            "session_date min: 2018-01-15 00:00:00 , max= 2018-12-31 00:00:00\n",
            "message_date min: 2018-01-15 00:00:00 , max= 2018-12-31 00:00:00\n"
          ],
          "name": "stdout"
        }
      ]
    },
    {
      "cell_type": "markdown",
      "metadata": {
        "id": "yjNSYAS2RnXd",
        "colab_type": "text"
      },
      "source": [
        "We will create a `users` Dataframe based on the information we will need out of `megaline_users` Dataframe:\n",
        "- Copy as-is: `user_id`, `age`, `area`, `plan`\n",
        "- `reg_month`: the registration month based on `reg_date`\n",
        "- `churn_date` the curn montn based on `churn_date`. Note: We will replace NaNs in `churn_date` by 2010-12-31 (the last day of the measurement period) - it is required for the calculations we are about to do.\n",
        "- The plan information from `megaline_plans` will be merged into the table.\n",
        "- `usd_per_mb` will be used instead of `usd_per_gb`"
      ]
    },
    {
      "cell_type": "code",
      "metadata": {
        "id": "qVPcA7emRnXe",
        "colab_type": "code",
        "colab": {
          "base_uri": "https://localhost:8080/",
          "height": 224
        },
        "outputId": "a1c8a6a6-26f5-4003-d4c6-5471152c7f09"
      },
      "source": [
        "users = megaline_users[['user_id', 'age', 'area', 'plan']].copy()\n",
        "users['reg_month'] = megaline_users['reg_date'].dt.month\n",
        "users['churn_month'] = megaline_users['churn_date'].fillna(pd.Timestamp('2018-12-31')).dt.month\n",
        "users = users.merge(megaline_plans,left_on='plan',right_on='plan_name')\n",
        "users['usd_per_mb'] = users['usd_per_gb'] / 1024\n",
        "users.drop(columns=['plan_name','usd_per_gb'],inplace=True)\n",
        "users.head()"
      ],
      "execution_count": 87,
      "outputs": [
        {
          "output_type": "execute_result",
          "data": {
            "text/html": [
              "<div>\n",
              "<style scoped>\n",
              "    .dataframe tbody tr th:only-of-type {\n",
              "        vertical-align: middle;\n",
              "    }\n",
              "\n",
              "    .dataframe tbody tr th {\n",
              "        vertical-align: top;\n",
              "    }\n",
              "\n",
              "    .dataframe thead th {\n",
              "        text-align: right;\n",
              "    }\n",
              "</style>\n",
              "<table border=\"1\" class=\"dataframe\">\n",
              "  <thead>\n",
              "    <tr style=\"text-align: right;\">\n",
              "      <th></th>\n",
              "      <th>user_id</th>\n",
              "      <th>age</th>\n",
              "      <th>area</th>\n",
              "      <th>plan</th>\n",
              "      <th>reg_month</th>\n",
              "      <th>churn_month</th>\n",
              "      <th>messages_included</th>\n",
              "      <th>mb_per_month_included</th>\n",
              "      <th>minutes_included</th>\n",
              "      <th>usd_monthly_pay</th>\n",
              "      <th>usd_per_message</th>\n",
              "      <th>usd_per_minute</th>\n",
              "      <th>usd_per_mb</th>\n",
              "    </tr>\n",
              "  </thead>\n",
              "  <tbody>\n",
              "    <tr>\n",
              "      <th>0</th>\n",
              "      <td>1000</td>\n",
              "      <td>45</td>\n",
              "      <td>OTHER</td>\n",
              "      <td>ultimate</td>\n",
              "      <td>12</td>\n",
              "      <td>12</td>\n",
              "      <td>1000</td>\n",
              "      <td>30720</td>\n",
              "      <td>3000</td>\n",
              "      <td>70</td>\n",
              "      <td>0.01</td>\n",
              "      <td>0.01</td>\n",
              "      <td>0.01</td>\n",
              "    </tr>\n",
              "    <tr>\n",
              "      <th>1</th>\n",
              "      <td>1006</td>\n",
              "      <td>73</td>\n",
              "      <td>OTHER</td>\n",
              "      <td>ultimate</td>\n",
              "      <td>11</td>\n",
              "      <td>12</td>\n",
              "      <td>1000</td>\n",
              "      <td>30720</td>\n",
              "      <td>3000</td>\n",
              "      <td>70</td>\n",
              "      <td>0.01</td>\n",
              "      <td>0.01</td>\n",
              "      <td>0.01</td>\n",
              "    </tr>\n",
              "    <tr>\n",
              "      <th>2</th>\n",
              "      <td>1008</td>\n",
              "      <td>53</td>\n",
              "      <td>OTHER</td>\n",
              "      <td>ultimate</td>\n",
              "      <td>8</td>\n",
              "      <td>12</td>\n",
              "      <td>1000</td>\n",
              "      <td>30720</td>\n",
              "      <td>3000</td>\n",
              "      <td>70</td>\n",
              "      <td>0.01</td>\n",
              "      <td>0.01</td>\n",
              "      <td>0.01</td>\n",
              "    </tr>\n",
              "    <tr>\n",
              "      <th>3</th>\n",
              "      <td>1011</td>\n",
              "      <td>73</td>\n",
              "      <td>OTHER</td>\n",
              "      <td>ultimate</td>\n",
              "      <td>1</td>\n",
              "      <td>12</td>\n",
              "      <td>1000</td>\n",
              "      <td>30720</td>\n",
              "      <td>3000</td>\n",
              "      <td>70</td>\n",
              "      <td>0.01</td>\n",
              "      <td>0.01</td>\n",
              "      <td>0.01</td>\n",
              "    </tr>\n",
              "    <tr>\n",
              "      <th>4</th>\n",
              "      <td>1013</td>\n",
              "      <td>50</td>\n",
              "      <td>OTHER</td>\n",
              "      <td>ultimate</td>\n",
              "      <td>12</td>\n",
              "      <td>12</td>\n",
              "      <td>1000</td>\n",
              "      <td>30720</td>\n",
              "      <td>3000</td>\n",
              "      <td>70</td>\n",
              "      <td>0.01</td>\n",
              "      <td>0.01</td>\n",
              "      <td>0.01</td>\n",
              "    </tr>\n",
              "  </tbody>\n",
              "</table>\n",
              "</div>"
            ],
            "text/plain": [
              "   user_id  age   area      plan  reg_month  churn_month  messages_included  mb_per_month_included  minutes_included  usd_monthly_pay  usd_per_message  usd_per_minute  usd_per_mb\n",
              "0     1000   45  OTHER  ultimate         12           12               1000                  30720              3000               70             0.01            0.01        0.01\n",
              "1     1006   73  OTHER  ultimate         11           12               1000                  30720              3000               70             0.01            0.01        0.01\n",
              "2     1008   53  OTHER  ultimate          8           12               1000                  30720              3000               70             0.01            0.01        0.01\n",
              "3     1011   73  OTHER  ultimate          1           12               1000                  30720              3000               70             0.01            0.01        0.01\n",
              "4     1013   50  OTHER  ultimate         12           12               1000                  30720              3000               70             0.01            0.01        0.01"
            ]
          },
          "metadata": {
            "tags": []
          },
          "execution_count": 87
        }
      ]
    },
    {
      "cell_type": "markdown",
      "metadata": {
        "id": "8eI5cf7gRnXi",
        "colab_type": "text"
      },
      "source": [
        "We will create  tables: for the number of calls made, and for minutes spent - per user per month (12 columns for the months)"
      ]
    },
    {
      "cell_type": "code",
      "metadata": {
        "id": "zUVz6Qv5RnXi",
        "colab_type": "code",
        "colab": {
          "base_uri": "https://localhost:8080/",
          "height": 204
        },
        "outputId": "4bb59d7a-8a15-4316-9e0c-66aa26825699"
      },
      "source": [
        "megaline_calls = megaline_calls.merge(users, how='left', on='user_id')  # merge users information into the calls dataframe\n",
        "megaline_calls['month'] = megaline_calls['call_date'].dt.month\n",
        "user_calls_per_month = megaline_calls.pivot_table(index='user_id', columns='month', values='duration', aggfunc='count')\n",
        "user_calls_per_month.reset_index(inplace=True)\n",
        "user_calls_per_month.head()"
      ],
      "execution_count": 88,
      "outputs": [
        {
          "output_type": "execute_result",
          "data": {
            "text/html": [
              "<div>\n",
              "<style scoped>\n",
              "    .dataframe tbody tr th:only-of-type {\n",
              "        vertical-align: middle;\n",
              "    }\n",
              "\n",
              "    .dataframe tbody tr th {\n",
              "        vertical-align: top;\n",
              "    }\n",
              "\n",
              "    .dataframe thead th {\n",
              "        text-align: right;\n",
              "    }\n",
              "</style>\n",
              "<table border=\"1\" class=\"dataframe\">\n",
              "  <thead>\n",
              "    <tr style=\"text-align: right;\">\n",
              "      <th>month</th>\n",
              "      <th>user_id</th>\n",
              "      <th>1</th>\n",
              "      <th>2</th>\n",
              "      <th>3</th>\n",
              "      <th>4</th>\n",
              "      <th>5</th>\n",
              "      <th>6</th>\n",
              "      <th>7</th>\n",
              "      <th>8</th>\n",
              "      <th>9</th>\n",
              "      <th>10</th>\n",
              "      <th>11</th>\n",
              "      <th>12</th>\n",
              "    </tr>\n",
              "  </thead>\n",
              "  <tbody>\n",
              "    <tr>\n",
              "      <th>0</th>\n",
              "      <td>1000</td>\n",
              "      <td>nan</td>\n",
              "      <td>nan</td>\n",
              "      <td>nan</td>\n",
              "      <td>nan</td>\n",
              "      <td>nan</td>\n",
              "      <td>nan</td>\n",
              "      <td>nan</td>\n",
              "      <td>nan</td>\n",
              "      <td>nan</td>\n",
              "      <td>nan</td>\n",
              "      <td>nan</td>\n",
              "      <td>16.00</td>\n",
              "    </tr>\n",
              "    <tr>\n",
              "      <th>1</th>\n",
              "      <td>1001</td>\n",
              "      <td>nan</td>\n",
              "      <td>nan</td>\n",
              "      <td>nan</td>\n",
              "      <td>nan</td>\n",
              "      <td>nan</td>\n",
              "      <td>nan</td>\n",
              "      <td>nan</td>\n",
              "      <td>22.00</td>\n",
              "      <td>38.00</td>\n",
              "      <td>47.00</td>\n",
              "      <td>49.00</td>\n",
              "      <td>46.00</td>\n",
              "    </tr>\n",
              "    <tr>\n",
              "      <th>2</th>\n",
              "      <td>1002</td>\n",
              "      <td>nan</td>\n",
              "      <td>nan</td>\n",
              "      <td>nan</td>\n",
              "      <td>nan</td>\n",
              "      <td>nan</td>\n",
              "      <td>nan</td>\n",
              "      <td>nan</td>\n",
              "      <td>nan</td>\n",
              "      <td>nan</td>\n",
              "      <td>8.00</td>\n",
              "      <td>48.00</td>\n",
              "      <td>38.00</td>\n",
              "    </tr>\n",
              "    <tr>\n",
              "      <th>3</th>\n",
              "      <td>1003</td>\n",
              "      <td>nan</td>\n",
              "      <td>nan</td>\n",
              "      <td>nan</td>\n",
              "      <td>nan</td>\n",
              "      <td>nan</td>\n",
              "      <td>nan</td>\n",
              "      <td>nan</td>\n",
              "      <td>nan</td>\n",
              "      <td>nan</td>\n",
              "      <td>nan</td>\n",
              "      <td>nan</td>\n",
              "      <td>118.00</td>\n",
              "    </tr>\n",
              "    <tr>\n",
              "      <th>4</th>\n",
              "      <td>1004</td>\n",
              "      <td>nan</td>\n",
              "      <td>nan</td>\n",
              "      <td>nan</td>\n",
              "      <td>nan</td>\n",
              "      <td>19.00</td>\n",
              "      <td>33.00</td>\n",
              "      <td>45.00</td>\n",
              "      <td>42.00</td>\n",
              "      <td>32.00</td>\n",
              "      <td>47.00</td>\n",
              "      <td>45.00</td>\n",
              "      <td>43.00</td>\n",
              "    </tr>\n",
              "  </tbody>\n",
              "</table>\n",
              "</div>"
            ],
            "text/plain": [
              "month  user_id           1           2           3           4           5           6           7           8           9          10          11          12\n",
              "0         1000         nan         nan         nan         nan         nan         nan         nan         nan         nan         nan         nan       16.00\n",
              "1         1001         nan         nan         nan         nan         nan         nan         nan       22.00       38.00       47.00       49.00       46.00\n",
              "2         1002         nan         nan         nan         nan         nan         nan         nan         nan         nan        8.00       48.00       38.00\n",
              "3         1003         nan         nan         nan         nan         nan         nan         nan         nan         nan         nan         nan      118.00\n",
              "4         1004         nan         nan         nan         nan       19.00       33.00       45.00       42.00       32.00       47.00       45.00       43.00"
            ]
          },
          "metadata": {
            "tags": []
          },
          "execution_count": 88
        }
      ]
    },
    {
      "cell_type": "code",
      "metadata": {
        "id": "ZmAZ6p4qRnXm",
        "colab_type": "code",
        "colab": {
          "base_uri": "https://localhost:8080/",
          "height": 204
        },
        "outputId": "f32d1c73-a397-45be-c190-9b33f5625137"
      },
      "source": [
        "user_minutes_per_month = megaline_calls.pivot_table(index='user_id', columns='month', values='duration', aggfunc='sum') #,fill_value=0)\n",
        "user_minutes_per_month.reset_index(inplace=True)\n",
        "user_minutes_per_month.head()"
      ],
      "execution_count": 89,
      "outputs": [
        {
          "output_type": "execute_result",
          "data": {
            "text/html": [
              "<div>\n",
              "<style scoped>\n",
              "    .dataframe tbody tr th:only-of-type {\n",
              "        vertical-align: middle;\n",
              "    }\n",
              "\n",
              "    .dataframe tbody tr th {\n",
              "        vertical-align: top;\n",
              "    }\n",
              "\n",
              "    .dataframe thead th {\n",
              "        text-align: right;\n",
              "    }\n",
              "</style>\n",
              "<table border=\"1\" class=\"dataframe\">\n",
              "  <thead>\n",
              "    <tr style=\"text-align: right;\">\n",
              "      <th>month</th>\n",
              "      <th>user_id</th>\n",
              "      <th>1</th>\n",
              "      <th>2</th>\n",
              "      <th>3</th>\n",
              "      <th>4</th>\n",
              "      <th>5</th>\n",
              "      <th>6</th>\n",
              "      <th>7</th>\n",
              "      <th>8</th>\n",
              "      <th>9</th>\n",
              "      <th>10</th>\n",
              "      <th>11</th>\n",
              "      <th>12</th>\n",
              "    </tr>\n",
              "  </thead>\n",
              "  <tbody>\n",
              "    <tr>\n",
              "      <th>0</th>\n",
              "      <td>1000</td>\n",
              "      <td>nan</td>\n",
              "      <td>nan</td>\n",
              "      <td>nan</td>\n",
              "      <td>nan</td>\n",
              "      <td>nan</td>\n",
              "      <td>nan</td>\n",
              "      <td>nan</td>\n",
              "      <td>nan</td>\n",
              "      <td>nan</td>\n",
              "      <td>nan</td>\n",
              "      <td>nan</td>\n",
              "      <td>124.00</td>\n",
              "    </tr>\n",
              "    <tr>\n",
              "      <th>1</th>\n",
              "      <td>1001</td>\n",
              "      <td>nan</td>\n",
              "      <td>nan</td>\n",
              "      <td>nan</td>\n",
              "      <td>nan</td>\n",
              "      <td>nan</td>\n",
              "      <td>nan</td>\n",
              "      <td>nan</td>\n",
              "      <td>182.00</td>\n",
              "      <td>315.00</td>\n",
              "      <td>393.00</td>\n",
              "      <td>426.00</td>\n",
              "      <td>412.00</td>\n",
              "    </tr>\n",
              "    <tr>\n",
              "      <th>2</th>\n",
              "      <td>1002</td>\n",
              "      <td>nan</td>\n",
              "      <td>nan</td>\n",
              "      <td>nan</td>\n",
              "      <td>nan</td>\n",
              "      <td>nan</td>\n",
              "      <td>nan</td>\n",
              "      <td>nan</td>\n",
              "      <td>nan</td>\n",
              "      <td>nan</td>\n",
              "      <td>59.00</td>\n",
              "      <td>386.00</td>\n",
              "      <td>384.00</td>\n",
              "    </tr>\n",
              "    <tr>\n",
              "      <th>3</th>\n",
              "      <td>1003</td>\n",
              "      <td>nan</td>\n",
              "      <td>nan</td>\n",
              "      <td>nan</td>\n",
              "      <td>nan</td>\n",
              "      <td>nan</td>\n",
              "      <td>nan</td>\n",
              "      <td>nan</td>\n",
              "      <td>nan</td>\n",
              "      <td>nan</td>\n",
              "      <td>nan</td>\n",
              "      <td>nan</td>\n",
              "      <td>1,104.00</td>\n",
              "    </tr>\n",
              "    <tr>\n",
              "      <th>4</th>\n",
              "      <td>1004</td>\n",
              "      <td>nan</td>\n",
              "      <td>nan</td>\n",
              "      <td>nan</td>\n",
              "      <td>nan</td>\n",
              "      <td>193.00</td>\n",
              "      <td>275.00</td>\n",
              "      <td>381.00</td>\n",
              "      <td>354.00</td>\n",
              "      <td>301.00</td>\n",
              "      <td>365.00</td>\n",
              "      <td>476.00</td>\n",
              "      <td>427.00</td>\n",
              "    </tr>\n",
              "  </tbody>\n",
              "</table>\n",
              "</div>"
            ],
            "text/plain": [
              "month  user_id           1           2           3           4           5           6           7           8           9          10          11          12\n",
              "0         1000         nan         nan         nan         nan         nan         nan         nan         nan         nan         nan         nan      124.00\n",
              "1         1001         nan         nan         nan         nan         nan         nan         nan      182.00      315.00      393.00      426.00      412.00\n",
              "2         1002         nan         nan         nan         nan         nan         nan         nan         nan         nan       59.00      386.00      384.00\n",
              "3         1003         nan         nan         nan         nan         nan         nan         nan         nan         nan         nan         nan    1,104.00\n",
              "4         1004         nan         nan         nan         nan      193.00      275.00      381.00      354.00      301.00      365.00      476.00      427.00"
            ]
          },
          "metadata": {
            "tags": []
          },
          "execution_count": 89
        }
      ]
    },
    {
      "cell_type": "markdown",
      "metadata": {
        "id": "BTyJpcndRnXu",
        "colab_type": "text"
      },
      "source": [
        "We will create a table for the number of messages per user per month (12 columns for the months)"
      ]
    },
    {
      "cell_type": "code",
      "metadata": {
        "id": "KXPSzv2PRnXv",
        "colab_type": "code",
        "colab": {
          "base_uri": "https://localhost:8080/",
          "height": 204
        },
        "outputId": "d01054fc-f54f-4a7e-b660-b23315f018b1"
      },
      "source": [
        "megaline_messages = megaline_messages.merge(users, how='left', on='user_id')  # merge users information into the messages dataframe\n",
        "megaline_messages['month'] = megaline_messages['message_date'].dt.month\n",
        "user_messages_per_month = megaline_messages.pivot_table(index='user_id', columns='month', values='message_date', aggfunc='count')\n",
        "user_messages_per_month.reset_index(inplace=True)\n",
        "user_messages_per_month.head()"
      ],
      "execution_count": 90,
      "outputs": [
        {
          "output_type": "execute_result",
          "data": {
            "text/html": [
              "<div>\n",
              "<style scoped>\n",
              "    .dataframe tbody tr th:only-of-type {\n",
              "        vertical-align: middle;\n",
              "    }\n",
              "\n",
              "    .dataframe tbody tr th {\n",
              "        vertical-align: top;\n",
              "    }\n",
              "\n",
              "    .dataframe thead th {\n",
              "        text-align: right;\n",
              "    }\n",
              "</style>\n",
              "<table border=\"1\" class=\"dataframe\">\n",
              "  <thead>\n",
              "    <tr style=\"text-align: right;\">\n",
              "      <th>month</th>\n",
              "      <th>user_id</th>\n",
              "      <th>1</th>\n",
              "      <th>2</th>\n",
              "      <th>3</th>\n",
              "      <th>4</th>\n",
              "      <th>5</th>\n",
              "      <th>6</th>\n",
              "      <th>7</th>\n",
              "      <th>8</th>\n",
              "      <th>9</th>\n",
              "      <th>10</th>\n",
              "      <th>11</th>\n",
              "      <th>12</th>\n",
              "    </tr>\n",
              "  </thead>\n",
              "  <tbody>\n",
              "    <tr>\n",
              "      <th>0</th>\n",
              "      <td>1000</td>\n",
              "      <td>nan</td>\n",
              "      <td>nan</td>\n",
              "      <td>nan</td>\n",
              "      <td>nan</td>\n",
              "      <td>nan</td>\n",
              "      <td>nan</td>\n",
              "      <td>nan</td>\n",
              "      <td>nan</td>\n",
              "      <td>nan</td>\n",
              "      <td>nan</td>\n",
              "      <td>nan</td>\n",
              "      <td>11.00</td>\n",
              "    </tr>\n",
              "    <tr>\n",
              "      <th>1</th>\n",
              "      <td>1001</td>\n",
              "      <td>nan</td>\n",
              "      <td>nan</td>\n",
              "      <td>nan</td>\n",
              "      <td>nan</td>\n",
              "      <td>nan</td>\n",
              "      <td>nan</td>\n",
              "      <td>nan</td>\n",
              "      <td>30.00</td>\n",
              "      <td>44.00</td>\n",
              "      <td>53.00</td>\n",
              "      <td>36.00</td>\n",
              "      <td>44.00</td>\n",
              "    </tr>\n",
              "    <tr>\n",
              "      <th>2</th>\n",
              "      <td>1002</td>\n",
              "      <td>nan</td>\n",
              "      <td>nan</td>\n",
              "      <td>nan</td>\n",
              "      <td>nan</td>\n",
              "      <td>nan</td>\n",
              "      <td>nan</td>\n",
              "      <td>nan</td>\n",
              "      <td>nan</td>\n",
              "      <td>nan</td>\n",
              "      <td>15.00</td>\n",
              "      <td>32.00</td>\n",
              "      <td>41.00</td>\n",
              "    </tr>\n",
              "    <tr>\n",
              "      <th>3</th>\n",
              "      <td>1003</td>\n",
              "      <td>nan</td>\n",
              "      <td>nan</td>\n",
              "      <td>nan</td>\n",
              "      <td>nan</td>\n",
              "      <td>nan</td>\n",
              "      <td>nan</td>\n",
              "      <td>nan</td>\n",
              "      <td>nan</td>\n",
              "      <td>nan</td>\n",
              "      <td>nan</td>\n",
              "      <td>nan</td>\n",
              "      <td>50.00</td>\n",
              "    </tr>\n",
              "    <tr>\n",
              "      <th>4</th>\n",
              "      <td>1004</td>\n",
              "      <td>nan</td>\n",
              "      <td>nan</td>\n",
              "      <td>nan</td>\n",
              "      <td>nan</td>\n",
              "      <td>7.00</td>\n",
              "      <td>18.00</td>\n",
              "      <td>26.00</td>\n",
              "      <td>25.00</td>\n",
              "      <td>21.00</td>\n",
              "      <td>24.00</td>\n",
              "      <td>25.00</td>\n",
              "      <td>31.00</td>\n",
              "    </tr>\n",
              "  </tbody>\n",
              "</table>\n",
              "</div>"
            ],
            "text/plain": [
              "month  user_id           1           2           3           4           5           6           7           8           9          10          11          12\n",
              "0         1000         nan         nan         nan         nan         nan         nan         nan         nan         nan         nan         nan       11.00\n",
              "1         1001         nan         nan         nan         nan         nan         nan         nan       30.00       44.00       53.00       36.00       44.00\n",
              "2         1002         nan         nan         nan         nan         nan         nan         nan         nan         nan       15.00       32.00       41.00\n",
              "3         1003         nan         nan         nan         nan         nan         nan         nan         nan         nan         nan         nan       50.00\n",
              "4         1004         nan         nan         nan         nan        7.00       18.00       26.00       25.00       21.00       24.00       25.00       31.00"
            ]
          },
          "metadata": {
            "tags": []
          },
          "execution_count": 90
        }
      ]
    },
    {
      "cell_type": "markdown",
      "metadata": {
        "id": "HkpJB5zARnXz",
        "colab_type": "text"
      },
      "source": [
        "We will create tables for the internet consumption (in MB) per user per month (12 columns for the months)"
      ]
    },
    {
      "cell_type": "code",
      "metadata": {
        "id": "I_jGWkiDRnXz",
        "colab_type": "code",
        "colab": {
          "base_uri": "https://localhost:8080/",
          "height": 204
        },
        "outputId": "c2d5df73-3707-4533-db88-57a3b092c48c"
      },
      "source": [
        "megaline_internet = megaline_internet.merge(users, how='left', on='user_id')  # merge users information into the internet dataframe\n",
        "megaline_internet['month'] = megaline_internet['session_date'].dt.month\n",
        "user_internet_per_month = megaline_internet.pivot_table(index='user_id', columns='month', values='mb_used', aggfunc='sum')\n",
        "user_internet_per_month.reset_index(inplace=True)\n",
        "user_internet_per_month.head()"
      ],
      "execution_count": 91,
      "outputs": [
        {
          "output_type": "execute_result",
          "data": {
            "text/html": [
              "<div>\n",
              "<style scoped>\n",
              "    .dataframe tbody tr th:only-of-type {\n",
              "        vertical-align: middle;\n",
              "    }\n",
              "\n",
              "    .dataframe tbody tr th {\n",
              "        vertical-align: top;\n",
              "    }\n",
              "\n",
              "    .dataframe thead th {\n",
              "        text-align: right;\n",
              "    }\n",
              "</style>\n",
              "<table border=\"1\" class=\"dataframe\">\n",
              "  <thead>\n",
              "    <tr style=\"text-align: right;\">\n",
              "      <th>month</th>\n",
              "      <th>user_id</th>\n",
              "      <th>1</th>\n",
              "      <th>2</th>\n",
              "      <th>3</th>\n",
              "      <th>4</th>\n",
              "      <th>5</th>\n",
              "      <th>6</th>\n",
              "      <th>7</th>\n",
              "      <th>8</th>\n",
              "      <th>9</th>\n",
              "      <th>10</th>\n",
              "      <th>11</th>\n",
              "      <th>12</th>\n",
              "    </tr>\n",
              "  </thead>\n",
              "  <tbody>\n",
              "    <tr>\n",
              "      <th>0</th>\n",
              "      <td>1000</td>\n",
              "      <td>nan</td>\n",
              "      <td>nan</td>\n",
              "      <td>nan</td>\n",
              "      <td>nan</td>\n",
              "      <td>nan</td>\n",
              "      <td>nan</td>\n",
              "      <td>nan</td>\n",
              "      <td>nan</td>\n",
              "      <td>nan</td>\n",
              "      <td>nan</td>\n",
              "      <td>nan</td>\n",
              "      <td>1,901.47</td>\n",
              "    </tr>\n",
              "    <tr>\n",
              "      <th>1</th>\n",
              "      <td>1001</td>\n",
              "      <td>nan</td>\n",
              "      <td>nan</td>\n",
              "      <td>nan</td>\n",
              "      <td>nan</td>\n",
              "      <td>nan</td>\n",
              "      <td>nan</td>\n",
              "      <td>nan</td>\n",
              "      <td>6,919.15</td>\n",
              "      <td>13,314.82</td>\n",
              "      <td>22,330.49</td>\n",
              "      <td>18,504.30</td>\n",
              "      <td>19,369.18</td>\n",
              "    </tr>\n",
              "    <tr>\n",
              "      <th>2</th>\n",
              "      <td>1002</td>\n",
              "      <td>nan</td>\n",
              "      <td>nan</td>\n",
              "      <td>nan</td>\n",
              "      <td>nan</td>\n",
              "      <td>nan</td>\n",
              "      <td>nan</td>\n",
              "      <td>nan</td>\n",
              "      <td>nan</td>\n",
              "      <td>nan</td>\n",
              "      <td>6,552.01</td>\n",
              "      <td>19,345.08</td>\n",
              "      <td>14,396.24</td>\n",
              "    </tr>\n",
              "    <tr>\n",
              "      <th>3</th>\n",
              "      <td>1003</td>\n",
              "      <td>nan</td>\n",
              "      <td>nan</td>\n",
              "      <td>nan</td>\n",
              "      <td>nan</td>\n",
              "      <td>nan</td>\n",
              "      <td>nan</td>\n",
              "      <td>nan</td>\n",
              "      <td>nan</td>\n",
              "      <td>nan</td>\n",
              "      <td>nan</td>\n",
              "      <td>nan</td>\n",
              "      <td>27,044.14</td>\n",
              "    </tr>\n",
              "    <tr>\n",
              "      <th>4</th>\n",
              "      <td>1004</td>\n",
              "      <td>nan</td>\n",
              "      <td>nan</td>\n",
              "      <td>nan</td>\n",
              "      <td>nan</td>\n",
              "      <td>6,547.21</td>\n",
              "      <td>20,672.82</td>\n",
              "      <td>24,516.62</td>\n",
              "      <td>27,981.74</td>\n",
              "      <td>18,852.72</td>\n",
              "      <td>14,541.63</td>\n",
              "      <td>21,850.78</td>\n",
              "      <td>21,389.29</td>\n",
              "    </tr>\n",
              "  </tbody>\n",
              "</table>\n",
              "</div>"
            ],
            "text/plain": [
              "month  user_id           1           2           3           4           5           6           7           8           9          10          11          12\n",
              "0         1000         nan         nan         nan         nan         nan         nan         nan         nan         nan         nan         nan    1,901.47\n",
              "1         1001         nan         nan         nan         nan         nan         nan         nan    6,919.15   13,314.82   22,330.49   18,504.30   19,369.18\n",
              "2         1002         nan         nan         nan         nan         nan         nan         nan         nan         nan    6,552.01   19,345.08   14,396.24\n",
              "3         1003         nan         nan         nan         nan         nan         nan         nan         nan         nan         nan         nan   27,044.14\n",
              "4         1004         nan         nan         nan         nan    6,547.21   20,672.82   24,516.62   27,981.74   18,852.72   14,541.63   21,850.78   21,389.29"
            ]
          },
          "metadata": {
            "tags": []
          },
          "execution_count": 91
        }
      ]
    },
    {
      "cell_type": "markdown",
      "metadata": {
        "id": "M1ZML3LIRnX5",
        "colab_type": "text"
      },
      "source": [
        "Calculate the monthly profit per each user"
      ]
    },
    {
      "cell_type": "code",
      "metadata": {
        "scrolled": true,
        "id": "BcwFrqDHRnX6",
        "colab_type": "code",
        "colab": {
          "base_uri": "https://localhost:8080/",
          "height": 241
        },
        "outputId": "9d742cac-6b90-4503-dd2e-89fd3c4529f2"
      },
      "source": [
        "def set_month(row, col):\n",
        "  if row['reg_month'] <= col <= row['churn_month']:\n",
        "    return 0\n",
        "  else:\n",
        "    return np.nan\n",
        "'''\n",
        "STEP 1 - create a dataframe (user1) aggregating all the information per user, include the monthly consumption of each of the 3 traffic type (calls, messages, internet)\n",
        "'''\n",
        "users1 = users.merge(user_minutes_per_month, on='user_id', how='left')\n",
        "users1 = users1.merge(user_messages_per_month,on='user_id', how='left',suffixes=('_minutes', '_messages'))\n",
        "user_internet_per_month.columns = ['user_id', '1_mb', '2_mb', '3_mb', '4_mb', '5_mb', '6_mb', '7_mb', '8_mb', '9_mb', '10_mb', '11_mb', '12_mb']  # rename the 12 cmonths columns for internet consuption\n",
        "users1 = users1.merge(user_internet_per_month,on='user_id', how='left')\n",
        "\n",
        "'''\n",
        "STEP 2 - calculate the profit per month\n",
        "'''\n",
        "# create 12 new columns to calculate the monthly profit per user.\n",
        "#users1['1_tot']=users1['2_tot']=users1['3_tot']=users1['4_tot']=users1['5_tot']=users1['6_tot']=users1['7_tot']=users1['8_tot']=users1['9_tot']=users1['10_tot']=users1['11_tot']=users1['12_tot']=0\n",
        "for i in range(12):\n",
        "  users1[str(i+1)+'_tot'] = users1.apply(lambda row: set_month(row, i+1), axis=1)\n",
        "\n",
        "print(list(zip(users1.columns, range(len(users1.columns)))))  # retrieve the columns ids - this will enable us to iterate over the months using .iloc\n",
        "TOT_1 = 49\n",
        "MINUTES_1 = 13\n",
        "MESSAGES_1 = 25\n",
        "MB_1 = 37\n",
        "for i in range(12):\n",
        "  # monthly_pay considered only during registration period\n",
        "  users1.iloc[:,TOT_1+i] += users1['usd_monthly_pay'].where(\n",
        "      (users1['reg_month'] <= (1+i) ) & ((1+i) <= users1['churn_month']), other=0)\n",
        "  excess_minutes = (users1.iloc[:,MINUTES_1+i]- users1['minutes_included']).where((users1.iloc[:,MINUTES_1+i]- users1['minutes_included'])> 0, other=0)\n",
        "  users1.iloc[:,TOT_1+i] += excess_minutes * users1['usd_per_minute']\n",
        "\n",
        "  excess_messages = (users1.iloc[:,MESSAGES_1+i]- users1['messages_included']).where((users1.iloc[:,MESSAGES_1+i]- users1['messages_included'])> 0, other=0)\n",
        "  users1.iloc[:,TOT_1+i] += excess_messages * users1['usd_per_message']\n",
        "\n",
        "  excess_mb = (users1.iloc[:,MB_1+i]- users1['mb_per_month_included']).where((users1.iloc[:,MB_1+i]- users1['mb_per_month_included'])> 0, other=0)\n",
        "  users1.iloc[:,TOT_1+i] += excess_mb * users1['usd_per_mb']\n",
        "\n",
        "users1.head()"
      ],
      "execution_count": 92,
      "outputs": [
        {
          "output_type": "stream",
          "text": [
            "[('user_id', 0), ('age', 1), ('area', 2), ('plan', 3), ('reg_month', 4), ('churn_month', 5), ('messages_included', 6), ('mb_per_month_included', 7), ('minutes_included', 8), ('usd_monthly_pay', 9), ('usd_per_message', 10), ('usd_per_minute', 11), ('usd_per_mb', 12), ('1_minutes', 13), ('2_minutes', 14), ('3_minutes', 15), ('4_minutes', 16), ('5_minutes', 17), ('6_minutes', 18), ('7_minutes', 19), ('8_minutes', 20), ('9_minutes', 21), ('10_minutes', 22), ('11_minutes', 23), ('12_minutes', 24), ('1_messages', 25), ('2_messages', 26), ('3_messages', 27), ('4_messages', 28), ('5_messages', 29), ('6_messages', 30), ('7_messages', 31), ('8_messages', 32), ('9_messages', 33), ('10_messages', 34), ('11_messages', 35), ('12_messages', 36), ('1_mb', 37), ('2_mb', 38), ('3_mb', 39), ('4_mb', 40), ('5_mb', 41), ('6_mb', 42), ('7_mb', 43), ('8_mb', 44), ('9_mb', 45), ('10_mb', 46), ('11_mb', 47), ('12_mb', 48), ('1_tot', 49), ('2_tot', 50), ('3_tot', 51), ('4_tot', 52), ('5_tot', 53), ('6_tot', 54), ('7_tot', 55), ('8_tot', 56), ('9_tot', 57), ('10_tot', 58), ('11_tot', 59), ('12_tot', 60)]\n"
          ],
          "name": "stdout"
        },
        {
          "output_type": "execute_result",
          "data": {
            "text/html": [
              "<div>\n",
              "<style scoped>\n",
              "    .dataframe tbody tr th:only-of-type {\n",
              "        vertical-align: middle;\n",
              "    }\n",
              "\n",
              "    .dataframe tbody tr th {\n",
              "        vertical-align: top;\n",
              "    }\n",
              "\n",
              "    .dataframe thead th {\n",
              "        text-align: right;\n",
              "    }\n",
              "</style>\n",
              "<table border=\"1\" class=\"dataframe\">\n",
              "  <thead>\n",
              "    <tr style=\"text-align: right;\">\n",
              "      <th></th>\n",
              "      <th>user_id</th>\n",
              "      <th>age</th>\n",
              "      <th>area</th>\n",
              "      <th>plan</th>\n",
              "      <th>reg_month</th>\n",
              "      <th>churn_month</th>\n",
              "      <th>messages_included</th>\n",
              "      <th>mb_per_month_included</th>\n",
              "      <th>minutes_included</th>\n",
              "      <th>usd_monthly_pay</th>\n",
              "      <th>usd_per_message</th>\n",
              "      <th>usd_per_minute</th>\n",
              "      <th>usd_per_mb</th>\n",
              "      <th>1_minutes</th>\n",
              "      <th>2_minutes</th>\n",
              "      <th>3_minutes</th>\n",
              "      <th>4_minutes</th>\n",
              "      <th>5_minutes</th>\n",
              "      <th>6_minutes</th>\n",
              "      <th>7_minutes</th>\n",
              "      <th>8_minutes</th>\n",
              "      <th>9_minutes</th>\n",
              "      <th>10_minutes</th>\n",
              "      <th>11_minutes</th>\n",
              "      <th>12_minutes</th>\n",
              "      <th>1_messages</th>\n",
              "      <th>2_messages</th>\n",
              "      <th>3_messages</th>\n",
              "      <th>4_messages</th>\n",
              "      <th>5_messages</th>\n",
              "      <th>6_messages</th>\n",
              "      <th>7_messages</th>\n",
              "      <th>8_messages</th>\n",
              "      <th>9_messages</th>\n",
              "      <th>10_messages</th>\n",
              "      <th>11_messages</th>\n",
              "      <th>12_messages</th>\n",
              "      <th>1_mb</th>\n",
              "      <th>2_mb</th>\n",
              "      <th>3_mb</th>\n",
              "      <th>4_mb</th>\n",
              "      <th>5_mb</th>\n",
              "      <th>6_mb</th>\n",
              "      <th>7_mb</th>\n",
              "      <th>8_mb</th>\n",
              "      <th>9_mb</th>\n",
              "      <th>10_mb</th>\n",
              "      <th>11_mb</th>\n",
              "      <th>12_mb</th>\n",
              "      <th>1_tot</th>\n",
              "      <th>2_tot</th>\n",
              "      <th>3_tot</th>\n",
              "      <th>4_tot</th>\n",
              "      <th>5_tot</th>\n",
              "      <th>6_tot</th>\n",
              "      <th>7_tot</th>\n",
              "      <th>8_tot</th>\n",
              "      <th>9_tot</th>\n",
              "      <th>10_tot</th>\n",
              "      <th>11_tot</th>\n",
              "      <th>12_tot</th>\n",
              "    </tr>\n",
              "  </thead>\n",
              "  <tbody>\n",
              "    <tr>\n",
              "      <th>0</th>\n",
              "      <td>1000</td>\n",
              "      <td>45</td>\n",
              "      <td>OTHER</td>\n",
              "      <td>ultimate</td>\n",
              "      <td>12</td>\n",
              "      <td>12</td>\n",
              "      <td>1000</td>\n",
              "      <td>30720</td>\n",
              "      <td>3000</td>\n",
              "      <td>70</td>\n",
              "      <td>0.01</td>\n",
              "      <td>0.01</td>\n",
              "      <td>0.01</td>\n",
              "      <td>nan</td>\n",
              "      <td>nan</td>\n",
              "      <td>nan</td>\n",
              "      <td>nan</td>\n",
              "      <td>nan</td>\n",
              "      <td>nan</td>\n",
              "      <td>nan</td>\n",
              "      <td>nan</td>\n",
              "      <td>nan</td>\n",
              "      <td>nan</td>\n",
              "      <td>nan</td>\n",
              "      <td>124.00</td>\n",
              "      <td>nan</td>\n",
              "      <td>nan</td>\n",
              "      <td>nan</td>\n",
              "      <td>nan</td>\n",
              "      <td>nan</td>\n",
              "      <td>nan</td>\n",
              "      <td>nan</td>\n",
              "      <td>nan</td>\n",
              "      <td>nan</td>\n",
              "      <td>nan</td>\n",
              "      <td>nan</td>\n",
              "      <td>11.00</td>\n",
              "      <td>nan</td>\n",
              "      <td>nan</td>\n",
              "      <td>nan</td>\n",
              "      <td>nan</td>\n",
              "      <td>nan</td>\n",
              "      <td>nan</td>\n",
              "      <td>nan</td>\n",
              "      <td>nan</td>\n",
              "      <td>nan</td>\n",
              "      <td>nan</td>\n",
              "      <td>nan</td>\n",
              "      <td>1,901.47</td>\n",
              "      <td>nan</td>\n",
              "      <td>nan</td>\n",
              "      <td>nan</td>\n",
              "      <td>nan</td>\n",
              "      <td>nan</td>\n",
              "      <td>nan</td>\n",
              "      <td>nan</td>\n",
              "      <td>nan</td>\n",
              "      <td>nan</td>\n",
              "      <td>nan</td>\n",
              "      <td>nan</td>\n",
              "      <td>70.00</td>\n",
              "    </tr>\n",
              "    <tr>\n",
              "      <th>1</th>\n",
              "      <td>1006</td>\n",
              "      <td>73</td>\n",
              "      <td>OTHER</td>\n",
              "      <td>ultimate</td>\n",
              "      <td>11</td>\n",
              "      <td>12</td>\n",
              "      <td>1000</td>\n",
              "      <td>30720</td>\n",
              "      <td>3000</td>\n",
              "      <td>70</td>\n",
              "      <td>0.01</td>\n",
              "      <td>0.01</td>\n",
              "      <td>0.01</td>\n",
              "      <td>nan</td>\n",
              "      <td>nan</td>\n",
              "      <td>nan</td>\n",
              "      <td>nan</td>\n",
              "      <td>nan</td>\n",
              "      <td>nan</td>\n",
              "      <td>nan</td>\n",
              "      <td>nan</td>\n",
              "      <td>nan</td>\n",
              "      <td>nan</td>\n",
              "      <td>10.00</td>\n",
              "      <td>59.00</td>\n",
              "      <td>nan</td>\n",
              "      <td>nan</td>\n",
              "      <td>nan</td>\n",
              "      <td>nan</td>\n",
              "      <td>nan</td>\n",
              "      <td>nan</td>\n",
              "      <td>nan</td>\n",
              "      <td>nan</td>\n",
              "      <td>nan</td>\n",
              "      <td>nan</td>\n",
              "      <td>15.00</td>\n",
              "      <td>139.00</td>\n",
              "      <td>nan</td>\n",
              "      <td>nan</td>\n",
              "      <td>nan</td>\n",
              "      <td>nan</td>\n",
              "      <td>nan</td>\n",
              "      <td>nan</td>\n",
              "      <td>nan</td>\n",
              "      <td>nan</td>\n",
              "      <td>nan</td>\n",
              "      <td>nan</td>\n",
              "      <td>2,068.37</td>\n",
              "      <td>32,118.82</td>\n",
              "      <td>nan</td>\n",
              "      <td>nan</td>\n",
              "      <td>nan</td>\n",
              "      <td>nan</td>\n",
              "      <td>nan</td>\n",
              "      <td>nan</td>\n",
              "      <td>nan</td>\n",
              "      <td>nan</td>\n",
              "      <td>nan</td>\n",
              "      <td>nan</td>\n",
              "      <td>70.00</td>\n",
              "      <td>79.56</td>\n",
              "    </tr>\n",
              "    <tr>\n",
              "      <th>2</th>\n",
              "      <td>1008</td>\n",
              "      <td>53</td>\n",
              "      <td>OTHER</td>\n",
              "      <td>ultimate</td>\n",
              "      <td>8</td>\n",
              "      <td>12</td>\n",
              "      <td>1000</td>\n",
              "      <td>30720</td>\n",
              "      <td>3000</td>\n",
              "      <td>70</td>\n",
              "      <td>0.01</td>\n",
              "      <td>0.01</td>\n",
              "      <td>0.01</td>\n",
              "      <td>nan</td>\n",
              "      <td>nan</td>\n",
              "      <td>nan</td>\n",
              "      <td>nan</td>\n",
              "      <td>nan</td>\n",
              "      <td>nan</td>\n",
              "      <td>nan</td>\n",
              "      <td>nan</td>\n",
              "      <td>nan</td>\n",
              "      <td>476.00</td>\n",
              "      <td>446.00</td>\n",
              "      <td>634.00</td>\n",
              "      <td>nan</td>\n",
              "      <td>nan</td>\n",
              "      <td>nan</td>\n",
              "      <td>nan</td>\n",
              "      <td>nan</td>\n",
              "      <td>nan</td>\n",
              "      <td>nan</td>\n",
              "      <td>nan</td>\n",
              "      <td>nan</td>\n",
              "      <td>21.00</td>\n",
              "      <td>37.00</td>\n",
              "      <td>26.00</td>\n",
              "      <td>nan</td>\n",
              "      <td>nan</td>\n",
              "      <td>nan</td>\n",
              "      <td>nan</td>\n",
              "      <td>nan</td>\n",
              "      <td>nan</td>\n",
              "      <td>nan</td>\n",
              "      <td>nan</td>\n",
              "      <td>nan</td>\n",
              "      <td>17,106.99</td>\n",
              "      <td>23,676.72</td>\n",
              "      <td>14,689.33</td>\n",
              "      <td>nan</td>\n",
              "      <td>nan</td>\n",
              "      <td>nan</td>\n",
              "      <td>nan</td>\n",
              "      <td>nan</td>\n",
              "      <td>nan</td>\n",
              "      <td>nan</td>\n",
              "      <td>70.00</td>\n",
              "      <td>70.00</td>\n",
              "      <td>70.00</td>\n",
              "      <td>70.00</td>\n",
              "      <td>70.00</td>\n",
              "    </tr>\n",
              "    <tr>\n",
              "      <th>3</th>\n",
              "      <td>1011</td>\n",
              "      <td>73</td>\n",
              "      <td>OTHER</td>\n",
              "      <td>ultimate</td>\n",
              "      <td>1</td>\n",
              "      <td>12</td>\n",
              "      <td>1000</td>\n",
              "      <td>30720</td>\n",
              "      <td>3000</td>\n",
              "      <td>70</td>\n",
              "      <td>0.01</td>\n",
              "      <td>0.01</td>\n",
              "      <td>0.01</td>\n",
              "      <td>nan</td>\n",
              "      <td>nan</td>\n",
              "      <td>nan</td>\n",
              "      <td>nan</td>\n",
              "      <td>nan</td>\n",
              "      <td>118.00</td>\n",
              "      <td>499.00</td>\n",
              "      <td>486.00</td>\n",
              "      <td>484.00</td>\n",
              "      <td>504.00</td>\n",
              "      <td>505.00</td>\n",
              "      <td>311.00</td>\n",
              "      <td>nan</td>\n",
              "      <td>nan</td>\n",
              "      <td>nan</td>\n",
              "      <td>nan</td>\n",
              "      <td>nan</td>\n",
              "      <td>21.00</td>\n",
              "      <td>53.00</td>\n",
              "      <td>54.00</td>\n",
              "      <td>60.00</td>\n",
              "      <td>64.00</td>\n",
              "      <td>58.00</td>\n",
              "      <td>61.00</td>\n",
              "      <td>nan</td>\n",
              "      <td>nan</td>\n",
              "      <td>nan</td>\n",
              "      <td>nan</td>\n",
              "      <td>nan</td>\n",
              "      <td>6,685.11</td>\n",
              "      <td>21,046.41</td>\n",
              "      <td>21,099.37</td>\n",
              "      <td>16,638.46</td>\n",
              "      <td>24,575.65</td>\n",
              "      <td>22,102.97</td>\n",
              "      <td>19,630.63</td>\n",
              "      <td>70.00</td>\n",
              "      <td>70.00</td>\n",
              "      <td>70.00</td>\n",
              "      <td>70.00</td>\n",
              "      <td>70.00</td>\n",
              "      <td>70.00</td>\n",
              "      <td>70.00</td>\n",
              "      <td>70.00</td>\n",
              "      <td>70.00</td>\n",
              "      <td>70.00</td>\n",
              "      <td>70.00</td>\n",
              "      <td>70.00</td>\n",
              "    </tr>\n",
              "    <tr>\n",
              "      <th>4</th>\n",
              "      <td>1013</td>\n",
              "      <td>50</td>\n",
              "      <td>OTHER</td>\n",
              "      <td>ultimate</td>\n",
              "      <td>12</td>\n",
              "      <td>12</td>\n",
              "      <td>1000</td>\n",
              "      <td>30720</td>\n",
              "      <td>3000</td>\n",
              "      <td>70</td>\n",
              "      <td>0.01</td>\n",
              "      <td>0.01</td>\n",
              "      <td>0.01</td>\n",
              "      <td>nan</td>\n",
              "      <td>nan</td>\n",
              "      <td>nan</td>\n",
              "      <td>nan</td>\n",
              "      <td>nan</td>\n",
              "      <td>nan</td>\n",
              "      <td>nan</td>\n",
              "      <td>nan</td>\n",
              "      <td>nan</td>\n",
              "      <td>nan</td>\n",
              "      <td>nan</td>\n",
              "      <td>219.00</td>\n",
              "      <td>nan</td>\n",
              "      <td>nan</td>\n",
              "      <td>nan</td>\n",
              "      <td>nan</td>\n",
              "      <td>nan</td>\n",
              "      <td>nan</td>\n",
              "      <td>nan</td>\n",
              "      <td>nan</td>\n",
              "      <td>nan</td>\n",
              "      <td>nan</td>\n",
              "      <td>nan</td>\n",
              "      <td>16.00</td>\n",
              "      <td>nan</td>\n",
              "      <td>nan</td>\n",
              "      <td>nan</td>\n",
              "      <td>nan</td>\n",
              "      <td>nan</td>\n",
              "      <td>nan</td>\n",
              "      <td>nan</td>\n",
              "      <td>nan</td>\n",
              "      <td>nan</td>\n",
              "      <td>nan</td>\n",
              "      <td>nan</td>\n",
              "      <td>20,113.92</td>\n",
              "      <td>nan</td>\n",
              "      <td>nan</td>\n",
              "      <td>nan</td>\n",
              "      <td>nan</td>\n",
              "      <td>nan</td>\n",
              "      <td>nan</td>\n",
              "      <td>nan</td>\n",
              "      <td>nan</td>\n",
              "      <td>nan</td>\n",
              "      <td>nan</td>\n",
              "      <td>nan</td>\n",
              "      <td>70.00</td>\n",
              "    </tr>\n",
              "  </tbody>\n",
              "</table>\n",
              "</div>"
            ],
            "text/plain": [
              "   user_id  age   area      plan  reg_month  churn_month  messages_included  mb_per_month_included  minutes_included  usd_monthly_pay  usd_per_message  usd_per_minute  usd_per_mb   1_minutes  \\\n",
              "0     1000   45  OTHER  ultimate         12           12               1000                  30720              3000               70             0.01            0.01        0.01         nan   \n",
              "1     1006   73  OTHER  ultimate         11           12               1000                  30720              3000               70             0.01            0.01        0.01         nan   \n",
              "2     1008   53  OTHER  ultimate          8           12               1000                  30720              3000               70             0.01            0.01        0.01         nan   \n",
              "3     1011   73  OTHER  ultimate          1           12               1000                  30720              3000               70             0.01            0.01        0.01         nan   \n",
              "4     1013   50  OTHER  ultimate         12           12               1000                  30720              3000               70             0.01            0.01        0.01         nan   \n",
              "\n",
              "    2_minutes   3_minutes   4_minutes   5_minutes   6_minutes   7_minutes   8_minutes   9_minutes  10_minutes  11_minutes  12_minutes  1_messages  2_messages  3_messages  4_messages  5_messages  \\\n",
              "0         nan         nan         nan         nan         nan         nan         nan         nan         nan         nan      124.00         nan         nan         nan         nan         nan   \n",
              "1         nan         nan         nan         nan         nan         nan         nan         nan         nan       10.00       59.00         nan         nan         nan         nan         nan   \n",
              "2         nan         nan         nan         nan         nan         nan         nan         nan      476.00      446.00      634.00         nan         nan         nan         nan         nan   \n",
              "3         nan         nan         nan         nan      118.00      499.00      486.00      484.00      504.00      505.00      311.00         nan         nan         nan         nan         nan   \n",
              "4         nan         nan         nan         nan         nan         nan         nan         nan         nan         nan      219.00         nan         nan         nan         nan         nan   \n",
              "\n",
              "   6_messages  7_messages  8_messages  9_messages  10_messages  11_messages  12_messages        1_mb        2_mb        3_mb        4_mb        5_mb        6_mb        7_mb        8_mb        9_mb  \\\n",
              "0         nan         nan         nan         nan          nan          nan        11.00         nan         nan         nan         nan         nan         nan         nan         nan         nan   \n",
              "1         nan         nan         nan         nan          nan        15.00       139.00         nan         nan         nan         nan         nan         nan         nan         nan         nan   \n",
              "2         nan         nan         nan         nan        21.00        37.00        26.00         nan         nan         nan         nan         nan         nan         nan         nan         nan   \n",
              "3       21.00       53.00       54.00       60.00        64.00        58.00        61.00         nan         nan         nan         nan         nan    6,685.11   21,046.41   21,099.37   16,638.46   \n",
              "4         nan         nan         nan         nan          nan          nan        16.00         nan         nan         nan         nan         nan         nan         nan         nan         nan   \n",
              "\n",
              "        10_mb       11_mb       12_mb       1_tot       2_tot       3_tot       4_tot       5_tot       6_tot       7_tot       8_tot       9_tot      10_tot      11_tot      12_tot  \n",
              "0         nan         nan    1,901.47         nan         nan         nan         nan         nan         nan         nan         nan         nan         nan         nan       70.00  \n",
              "1         nan    2,068.37   32,118.82         nan         nan         nan         nan         nan         nan         nan         nan         nan         nan       70.00       79.56  \n",
              "2   17,106.99   23,676.72   14,689.33         nan         nan         nan         nan         nan         nan         nan       70.00       70.00       70.00       70.00       70.00  \n",
              "3   24,575.65   22,102.97   19,630.63       70.00       70.00       70.00       70.00       70.00       70.00       70.00       70.00       70.00       70.00       70.00       70.00  \n",
              "4         nan         nan   20,113.92         nan         nan         nan         nan         nan         nan         nan         nan         nan         nan         nan       70.00  "
            ]
          },
          "metadata": {
            "tags": []
          },
          "execution_count": 92
        }
      ]
    },
    {
      "cell_type": "markdown",
      "metadata": {
        "id": "G5QPZgZpRnX-",
        "colab_type": "text"
      },
      "source": [
        "<div class=\"alert alert-block alert-info\">\n",
        "<h2> Comments </h2>\n",
        "</div>\n",
        "\n",
        "Great :)\n",
        "\n",
        "------------"
      ]
    },
    {
      "cell_type": "markdown",
      "metadata": {
        "id": "gNG0KB8eRnX_",
        "colab_type": "text"
      },
      "source": [
        "### Step 3. Analyse the data\n",
        "Describe the clients' behavior. For the users of each of the plans, find the number of minutes and SMS and the volume of web traffic they require per month. Calculate the mean, dispersion and standard deviation. Plot histograms. Describe the distributions.\n"
      ]
    },
    {
      "cell_type": "markdown",
      "metadata": {
        "id": "K7BYxFauRnX_",
        "colab_type": "text"
      },
      "source": [
        "### Number of users per month\n",
        "As we can see in the table and the plot bellow, apparently the Megaline network was launched in the beginning of 2018: just 6 subscribers in January (1.2%), 15 in February and up to 460 in December. The number of subscribers in Surf is double than the number of subssribers in Ultimate (311 vs. 149)"
      ]
    },
    {
      "cell_type": "code",
      "metadata": {
        "id": "EjlTUj1YRnYA",
        "colab_type": "code",
        "colab": {
          "base_uri": "https://localhost:8080/",
          "height": 404
        },
        "outputId": "3b791e90-ab4d-4caa-c8bb-61843f9e4b95"
      },
      "source": [
        "minutes_per_users_months = users1.groupby('plan')['1_minutes', '2_minutes', '3_minutes', '4_minutes', '5_minutes', \n",
        "                              '6_minutes', '7_minutes', '8_minutes', '9_minutes', '10_minutes', '11_minutes', '12_minutes']\n",
        "users_per_month = minutes_per_users_months.count()\n",
        "users_per_month.columns=[1,2,3,4,5,6,7,8,9,10,11,12]\n",
        "print('Number of users per plan and month:')\n",
        "print(users_per_month)\n",
        "users_per_month.transpose().plot(xticks=[1,2,3,4,5,6,7,8,9,10,11,12],grid=True);"
      ],
      "execution_count": 93,
      "outputs": [
        {
          "output_type": "stream",
          "text": [
            "/usr/local/lib/python3.6/dist-packages/ipykernel_launcher.py:2: FutureWarning: Indexing with multiple keys (implicitly converted to a tuple of keys) will be deprecated, use a list instead.\n",
            "  \n"
          ],
          "name": "stderr"
        },
        {
          "output_type": "stream",
          "text": [
            "Number of users per plan and month:\n",
            "          1   2   3   4   5   6    7    8    9    10   11   12\n",
            "plan                                                          \n",
            "surf       2   9  23  50  75  96  120  159  191  231  277  311\n",
            "ultimate   4   6  12  21  29  45   59   71   86  105  125  149\n"
          ],
          "name": "stdout"
        },
        {
          "output_type": "display_data",
          "data": {
            "image/png": "[encoded data removed]",
            "text/plain": [
              "<Figure size 432x288 with 1 Axes>"
            ]
          },
          "metadata": {
            "tags": [],
            "needs_background": "light"
          }
        }
      ]
    },
    {
      "cell_type": "markdown",
      "metadata": {
        "id": "r9cGFzLkRnYE",
        "colab_type": "text"
      },
      "source": [
        "#### Average number of minutes per month in 2018\n",
        "\n",
        "The average number of minutes is around 450 minutes per month. It is interesting that this is true for both 2 plans!"
      ]
    },
    {
      "cell_type": "code",
      "metadata": {
        "id": "emy-fFJkRnYE",
        "colab_type": "code",
        "colab": {
          "base_uri": "https://localhost:8080/",
          "height": 370
        },
        "outputId": "2e2a886a-0d8e-4496-d0a5-38f0235e5cbe"
      },
      "source": [
        "minutes_per_month = minutes_per_users_months.mean()\n",
        "minutes_per_month.columns=[1,2,3,4,5,6,7,8,9,10,11,12]\n",
        "print('Mean of Minutes per plan and month:')\n",
        "print(minutes_per_month)\n",
        "minutes_per_month.transpose().plot(xticks=[1,2,3,4,5,6,7,8,9,10,11,12],grid=True);"
      ],
      "execution_count": 94,
      "outputs": [
        {
          "output_type": "stream",
          "text": [
            "Mean of Minutes per plan and month:\n",
            "                  1           2           3           4           5           6           7           8           9           10          11          12\n",
            "plan                                                                                                                                                    \n",
            "surf          203.00      297.00      330.00      351.54      410.24      435.79      453.73      417.85      420.73      440.89      432.49      484.50\n",
            "ultimate      193.50      470.33      304.25      336.86      406.24      387.44      427.07      421.44      437.51      455.03      452.32      465.26\n"
          ],
          "name": "stdout"
        },
        {
          "output_type": "display_data",
          "data": {
            "image/png": "[encoded data removed]",
            "text/plain": [
              "<Figure size 432x288 with 1 Axes>"
            ]
          },
          "metadata": {
            "tags": [],
            "needs_background": "light"
          }
        }
      ]
    },
    {
      "cell_type": "markdown",
      "metadata": {
        "id": "5uM6esb0RnYJ",
        "colab_type": "text"
      },
      "source": [
        "#### Standard deviation of average number of minutes per month in 2018\n",
        "\n",
        "As can be noted in the table below, the standard deviation is developing to around 245 (minutes) for both plans - indicating a very high dispertion / variation."
      ]
    },
    {
      "cell_type": "code",
      "metadata": {
        "id": "RNftMstuRnYK",
        "colab_type": "code",
        "colab": {
          "base_uri": "https://localhost:8080/",
          "height": 122
        },
        "outputId": "e06fab50-1cf3-44af-f83b-079d75bf2f4a"
      },
      "source": [
        "std_minutes_per_month = minutes_per_users_months.std()\n",
        "std_minutes_per_month.columns=[1,2,3,4,5,6,7,8,9,10,11,12]\n",
        "print('Standard Deviation of Minutes per plan and month:')\n",
        "print(std_minutes_per_month)"
      ],
      "execution_count": 95,
      "outputs": [
        {
          "output_type": "stream",
          "text": [
            "Standard Deviation of Minutes per plan and month:\n",
            "                  1           2           3           4           5           6           7           8           9           10          11          12\n",
            "plan                                                                                                                                                    \n",
            "surf          125.87      228.53      189.23      225.54      238.62      209.99      244.54      228.30      211.14      220.68      220.79      244.71\n",
            "ultimate      128.73      233.12      248.97      186.79      209.38      194.69      269.38      231.61      238.89      229.81      241.50      245.89\n"
          ],
          "name": "stdout"
        }
      ]
    },
    {
      "cell_type": "markdown",
      "metadata": {
        "id": "60CjUoJrRnYO",
        "colab_type": "text"
      },
      "source": [
        "#### Minutes per user in 12/2018 - Distribution\n",
        "As in the below plots, the distribution of the number of the call is skewed to the right (positively) - this is true for both plans. In addition the distribution of the surf plan includes many outliers in the range of 1000-1200 minutes."
      ]
    },
    {
      "cell_type": "code",
      "metadata": {
        "id": "d7qCEA1FRnYO",
        "colab_type": "code",
        "colab": {
          "base_uri": "https://localhost:8080/",
          "height": 579
        },
        "outputId": "3e45eb58-b3df-4a2c-cf48-dee29fc88fef"
      },
      "source": [
        "users1.boxplot(column='12_minutes',by='plan');\n",
        "users1.hist(column='12_minutes',by='plan',bins=15);"
      ],
      "execution_count": 96,
      "outputs": [
        {
          "output_type": "display_data",
          "data": {
            "image/png": "[encoded data removed]",
            "text/plain": [
              "<Figure size 432x288 with 1 Axes>"
            ]
          },
          "metadata": {
            "tags": [],
            "needs_background": "light"
          }
        },
        {
          "output_type": "display_data",
          "data": {
            "image/png": "[encoded data removed]",
            "text/plain": [
              "<Figure size 432x288 with 2 Axes>"
            ]
          },
          "metadata": {
            "tags": [],
            "needs_background": "light"
          }
        }
      ]
    },
    {
      "cell_type": "markdown",
      "metadata": {
        "id": "2CprqZ0oRnYT",
        "colab_type": "text"
      },
      "source": [
        "#### Average number of messages per month in 2018\n",
        "The average number of messages per user per month is growing lineary during the months and actuly doubling from 25/user in 1/2018 to 50/user in 12/2018"
      ]
    },
    {
      "cell_type": "code",
      "metadata": {
        "id": "lgUMPffQRnYU",
        "colab_type": "code",
        "colab": {
          "base_uri": "https://localhost:8080/",
          "height": 405
        },
        "outputId": "0a019ac8-e4f9-477c-d93e-c63e29cf0822"
      },
      "source": [
        "messages_per_users_months = users1.groupby('plan')['1_messages', '2_messages', '3_messages', '4_messages', '5_messages', \n",
        "                              '6_messages', '7_messages', '8_messages', '9_messages', '10_messages', '11_messages', '12_messages']\n",
        "messages_per_month = messages_per_users_months.mean()\n",
        "messages_per_month.columns=[1,2,3,4,5,6,7,8,9,10,11,12]\n",
        "print('Number of messages per plan and month:')\n",
        "print(messages_per_month)\n",
        "messages_per_month.transpose().plot(xticks=[1,2,3,4,5,6,7,8,9,10,11,12],grid=True);"
      ],
      "execution_count": 111,
      "outputs": [
        {
          "output_type": "stream",
          "text": [
            "/usr/local/lib/python3.6/dist-packages/ipykernel_launcher.py:2: FutureWarning: Indexing with multiple keys (implicitly converted to a tuple of keys) will be deprecated, use a list instead.\n",
            "  \n"
          ],
          "name": "stderr"
        },
        {
          "output_type": "stream",
          "text": [
            "Number of messages per plan and month:\n",
            "                  1           2           3           4           5           6           7           8           9           10          11          12\n",
            "plan                                                                                                                                                    \n",
            "surf           21.00       21.60       21.94       24.17       33.02       33.62       35.95       37.60       39.52       42.43       40.55       48.33\n",
            "ultimate       20.67       25.17       34.71       28.94       44.33       36.29       41.21       47.93       45.90       46.98       47.60       53.94\n"
          ],
          "name": "stdout"
        },
        {
          "output_type": "display_data",
          "data": {
            "image/png": "[encoded data removed]",
            "text/plain": [
              "<Figure size 432x288 with 1 Axes>"
            ]
          },
          "metadata": {
            "tags": [],
            "needs_background": "light"
          }
        }
      ]
    },
    {
      "cell_type": "markdown",
      "metadata": {
        "id": "LqGgFZ_ERnYY",
        "colab_type": "text"
      },
      "source": [
        "#### Standard deviation of average number of messages in 2018\n",
        "The STD is around 35 messages/user for both plans - a quite high figure."
      ]
    },
    {
      "cell_type": "code",
      "metadata": {
        "id": "uPL9O8fORnYZ",
        "colab_type": "code",
        "colab": {
          "base_uri": "https://localhost:8080/",
          "height": 122
        },
        "outputId": "d5bb9ddc-16e6-4665-e64f-74536492beba"
      },
      "source": [
        "std_messages_per_month = messages_per_users_months.std()\n",
        "std_messages_per_month.columns=[1,2,3,4,5,6,7,8,9,10,11,12]\n",
        "print('Standard Deviation of messages per plan and month:')\n",
        "print(std_messages_per_month)"
      ],
      "execution_count": 110,
      "outputs": [
        {
          "output_type": "stream",
          "text": [
            "Standard Deviation of messages per plan and month:\n",
            "                  1           2           3           4           5           6           7           8           9           10          11          12\n",
            "plan                                                                                                                                                    \n",
            "surf             nan       22.65       18.76       23.11       29.46       30.60       30.13       31.83       30.71       35.14       31.66       36.81\n",
            "ultimate       17.62       21.57       24.78       22.65       35.31       28.41       29.29       32.16       30.06       33.15       33.02       37.06\n"
          ],
          "name": "stdout"
        }
      ]
    },
    {
      "cell_type": "markdown",
      "metadata": {
        "id": "7_dM5ZwJRnYd",
        "colab_type": "text"
      },
      "source": [
        "#### Average Internet usage (mb/month) in 2018\n",
        "The average Internet usage in per user per month is 17,000 mb or 17GB/user per month. Note that in the first months the usage is smaller, but as the number of users was very small in the first months the first months can be be discarded."
      ]
    },
    {
      "cell_type": "code",
      "metadata": {
        "id": "v6S0Xo3IRnYd",
        "colab_type": "code",
        "colab": {
          "base_uri": "https://localhost:8080/",
          "height": 404
        },
        "outputId": "0d11f7d2-311f-4fb8-b546-fa1ccdb87e4a"
      },
      "source": [
        "mb_per_users_months = users1.groupby('plan')['1_mb', '2_mb', '3_mb', '4_mb', '5_mb', \n",
        "                              '6_mb', '7_mb', '8_mb', '9_mb', '10_mb', '11_mb', '12_mb']\n",
        "mb_per_month = mb_per_users_months.mean()\n",
        "mb_per_month.columns=[1,2,3,4,5,6,7,8,9,10,11,12]\n",
        "print('Web traffic (mb) per plan and month:')\n",
        "print(mb_per_month)\n",
        "mb_per_month.transpose().plot(xticks=[1,2,3,4,5,6,7,8,9,10,11,12],grid=True);"
      ],
      "execution_count": 109,
      "outputs": [
        {
          "output_type": "stream",
          "text": [
            "/usr/local/lib/python3.6/dist-packages/ipykernel_launcher.py:2: FutureWarning: Indexing with multiple keys (implicitly converted to a tuple of keys) will be deprecated, use a list instead.\n",
            "  \n"
          ],
          "name": "stderr"
        },
        {
          "output_type": "stream",
          "text": [
            "Web traffic (mb) per plan and month:\n",
            "                  1           2           3           4           5           6           7           8           9           10          11          12\n",
            "plan                                                                                                                                                    \n",
            "surf        4,874.86   12,178.84   13,345.44   12,228.78   14,119.73   15,623.67   16,923.46   17,112.22   16,677.40   17,533.28   16,455.55   18,189.67\n",
            "ultimate    6,918.09   17,128.81   18,321.52   16,121.65   16,624.48   15,337.92   16,344.74   17,814.72   16,969.87   17,780.29   17,033.69   18,323.19\n"
          ],
          "name": "stdout"
        },
        {
          "output_type": "display_data",
          "data": {
            "image/png": "[encoded data removed]",
            "text/plain": [
              "<Figure size 432x288 with 1 Axes>"
            ]
          },
          "metadata": {
            "tags": [],
            "needs_background": "light"
          }
        }
      ]
    },
    {
      "cell_type": "markdown",
      "metadata": {
        "id": "TkrKvCjqRnYh",
        "colab_type": "text"
      },
      "source": [
        "#### Standard deviation of average mb/user in 2018\n",
        "The STD is around 8,000 mb/user for both plans - relatively less than the STDs of the 2 other traffic types (calls and messages)."
      ]
    },
    {
      "cell_type": "code",
      "metadata": {
        "id": "8pMb8jLHRnYh",
        "colab_type": "code",
        "colab": {
          "base_uri": "https://localhost:8080/",
          "height": 122
        },
        "outputId": "7091b134-b8f5-407c-d1a5-b07855624bee"
      },
      "source": [
        "std_mb_per_month = mb_per_users_months.std()\n",
        "std_mb_per_month.columns=[1,2,3,4,5,6,7,8,9,10,11,12]\n",
        "print('Standard Deviation of Web traffic (in mb) per plan and month:')\n",
        "print(std_mb_per_month)"
      ],
      "execution_count": 108,
      "outputs": [
        {
          "output_type": "stream",
          "text": [
            "Standard Deviation of Web traffic (in mb) per plan and month:\n",
            "                  1           2           3           4           5           6           7           8           9           10          11          12\n",
            "plan                                                                                                                                                    \n",
            "surf        4,270.83    6,608.55    8,261.09    7,564.51    7,724.80    6,715.08    7,927.37    8,402.18    7,081.16    7,708.76    7,460.79    8,445.83\n",
            "ultimate    4,049.04    6,135.89   11,846.48    9,403.65    7,535.92    8,486.14    8,271.59    7,774.77    7,024.18    7,384.59    7,588.77    7,866.47\n"
          ],
          "name": "stdout"
        }
      ]
    },
    {
      "cell_type": "markdown",
      "metadata": {
        "id": "FFoPMPj5RnYl",
        "colab_type": "text"
      },
      "source": [
        "#### Average Profit per plan plan in 2018\n",
        "The average Profit per Ultimate user per month is 70 USD - this can be explained by the generous capacity provided by the package...\n",
        "On the other hand for the Surf user, the profit is lineary increasing over the 12 months period from 20 usd to 63 usd."
      ]
    },
    {
      "cell_type": "code",
      "metadata": {
        "id": "clnCU7chRnYl",
        "colab_type": "code",
        "colab": {
          "base_uri": "https://localhost:8080/",
          "height": 404
        },
        "outputId": "95a7194e-3063-40e8-e60c-274c2af7295b"
      },
      "source": [
        "profit_per_users_months = users1.groupby('plan')['1_tot', '2_tot', '3_tot', '4_tot', '5_tot', \n",
        "                              '6_tot', '7_tot', '8_tot', '9_tot', '10_tot', '11_tot', '12_tot']\n",
        "profit_per_month = profit_per_users_months.mean()\n",
        "profit_per_month.columns=[1,2,3,4,5,6,7,8,9,10,11,12]\n",
        "print('Profit per plan and month:')\n",
        "print(profit_per_month)\n",
        "profit_per_month.transpose().plot(xticks=[1,2,3,4,5,6,7,8,9,10,11,12],grid=True);"
      ],
      "execution_count": 107,
      "outputs": [
        {
          "output_type": "stream",
          "text": [
            "Profit per plan and month:\n",
            "                  1           2           3           4           5           6           7           8           9           10          11          12\n",
            "plan                                                                                                                                                    \n",
            "surf           20.00       21.97       26.06       27.67       33.30       34.08       43.39       48.27       46.82       54.59       52.24       63.65\n",
            "ultimate       70.00       70.00       70.99       71.12       70.23       70.80       71.10       71.65       71.25       71.65       71.37       72.97\n"
          ],
          "name": "stdout"
        },
        {
          "output_type": "stream",
          "text": [
            "/usr/local/lib/python3.6/dist-packages/ipykernel_launcher.py:2: FutureWarning: Indexing with multiple keys (implicitly converted to a tuple of keys) will be deprecated, use a list instead.\n",
            "  \n"
          ],
          "name": "stderr"
        },
        {
          "output_type": "display_data",
          "data": {
            "image/png": "[encoded data removed]",
            "text/plain": [
              "<Figure size 432x288 with 1 Axes>"
            ]
          },
          "metadata": {
            "tags": [],
            "needs_background": "light"
          }
        }
      ]
    },
    {
      "cell_type": "markdown",
      "metadata": {
        "id": "jmehC_fmRnYp",
        "colab_type": "text"
      },
      "source": [
        "#### Standard deviation of average profit plan in 2018\n",
        "We can notice substantial difference between STDs of users of the 2 plans - both STD are gradualy growing. The STD of surf reach 65 at the end of the period while the STD of Ultimum reaches 14."
      ]
    },
    {
      "cell_type": "code",
      "metadata": {
        "id": "sYhkQgJxRnYr",
        "colab_type": "code",
        "colab": {
          "base_uri": "https://localhost:8080/",
          "height": 159
        },
        "outputId": "b498a1bb-8097-41d4-efae-94098d7a0b3e"
      },
      "source": [
        "std_profit_per_month = profit_per_users_months.std()\n",
        "std_profit_per_month.columns=[1,2,3,4,5,6,7,8,9,10,11,12]\n",
        "print('Standard Deviation of Profit per plan and month:')\n",
        "std_profit_per_month"
      ],
      "execution_count": 106,
      "outputs": [
        {
          "output_type": "stream",
          "text": [
            "Standard Deviation of Profit per plan and month:\n"
          ],
          "name": "stdout"
        },
        {
          "output_type": "execute_result",
          "data": {
            "text/html": [
              "<div>\n",
              "<style scoped>\n",
              "    .dataframe tbody tr th:only-of-type {\n",
              "        vertical-align: middle;\n",
              "    }\n",
              "\n",
              "    .dataframe tbody tr th {\n",
              "        vertical-align: top;\n",
              "    }\n",
              "\n",
              "    .dataframe thead th {\n",
              "        text-align: right;\n",
              "    }\n",
              "</style>\n",
              "<table border=\"1\" class=\"dataframe\">\n",
              "  <thead>\n",
              "    <tr style=\"text-align: right;\">\n",
              "      <th></th>\n",
              "      <th>1</th>\n",
              "      <th>2</th>\n",
              "      <th>3</th>\n",
              "      <th>4</th>\n",
              "      <th>5</th>\n",
              "      <th>6</th>\n",
              "      <th>7</th>\n",
              "      <th>8</th>\n",
              "      <th>9</th>\n",
              "      <th>10</th>\n",
              "      <th>11</th>\n",
              "      <th>12</th>\n",
              "    </tr>\n",
              "    <tr>\n",
              "      <th>plan</th>\n",
              "      <th></th>\n",
              "      <th></th>\n",
              "      <th></th>\n",
              "      <th></th>\n",
              "      <th></th>\n",
              "      <th></th>\n",
              "      <th></th>\n",
              "      <th></th>\n",
              "      <th></th>\n",
              "      <th></th>\n",
              "      <th></th>\n",
              "      <th></th>\n",
              "    </tr>\n",
              "  </thead>\n",
              "  <tbody>\n",
              "    <tr>\n",
              "      <th>surf</th>\n",
              "      <td>0.00</td>\n",
              "      <td>8.54</td>\n",
              "      <td>21.33</td>\n",
              "      <td>22.88</td>\n",
              "      <td>33.16</td>\n",
              "      <td>33.92</td>\n",
              "      <td>45.06</td>\n",
              "      <td>52.21</td>\n",
              "      <td>42.74</td>\n",
              "      <td>52.39</td>\n",
              "      <td>47.35</td>\n",
              "      <td>65.56</td>\n",
              "    </tr>\n",
              "    <tr>\n",
              "      <th>ultimate</th>\n",
              "      <td>0.00</td>\n",
              "      <td>0.00</td>\n",
              "      <td>5.70</td>\n",
              "      <td>6.79</td>\n",
              "      <td>1.86</td>\n",
              "      <td>5.68</td>\n",
              "      <td>7.72</td>\n",
              "      <td>9.26</td>\n",
              "      <td>6.53</td>\n",
              "      <td>10.98</td>\n",
              "      <td>8.60</td>\n",
              "      <td>13.81</td>\n",
              "    </tr>\n",
              "  </tbody>\n",
              "</table>\n",
              "</div>"
            ],
            "text/plain": [
              "                  1           2           3           4           5           6           7           8           9           10          11          12\n",
              "plan                                                                                                                                                    \n",
              "surf            0.00        8.54       21.33       22.88       33.16       33.92       45.06       52.21       42.74       52.39       47.35       65.56\n",
              "ultimate        0.00        0.00        5.70        6.79        1.86        5.68        7.72        9.26        6.53       10.98        8.60       13.81"
            ]
          },
          "metadata": {
            "tags": []
          },
          "execution_count": 106
        }
      ]
    },
    {
      "cell_type": "markdown",
      "metadata": {
        "id": "hhZhoow1RnYv",
        "colab_type": "text"
      },
      "source": [
        "#### Average Profit per area"
      ]
    },
    {
      "cell_type": "code",
      "metadata": {
        "scrolled": false,
        "id": "aC2GvVDLRnYw",
        "colab_type": "code",
        "colab": {
          "base_uri": "https://localhost:8080/",
          "height": 404
        },
        "outputId": "88b08335-823a-4075-a2c7-69a6921a077e"
      },
      "source": [
        "profit_per_area_months = users1.groupby('area')['1_tot', '2_tot', '3_tot', '4_tot', '5_tot', \n",
        "                              '6_tot', '7_tot', '8_tot', '9_tot', '10_tot', '11_tot', '12_tot']\n",
        "profit_per_area = profit_per_area_months.mean()\n",
        "profit_per_area.columns=[1,2,3,4,5,6,7,8,9,10,11,12]\n",
        "print('Profit per area and month:')\n",
        "print(profit_per_area)\n",
        "profit_per_area.transpose().plot(xticks=[1,2,3,4,5,6,7,8,9,10,11,12],grid=True);"
      ],
      "execution_count": 103,
      "outputs": [
        {
          "output_type": "stream",
          "text": [
            "Profit per area and month:\n",
            "               1           2           3           4           5           6           7           8           9           10          11          12\n",
            "area                                                                                                                                                 \n",
            "NY          30.00       30.19       32.90       34.15       39.23       39.15       43.90       53.21       55.89       62.56       63.21       60.42\n",
            "OTHER       41.79       40.48       41.75       41.98       45.62       47.57       54.29       56.54       54.63       59.55       57.54       67.96\n"
          ],
          "name": "stdout"
        },
        {
          "output_type": "stream",
          "text": [
            "/usr/local/lib/python3.6/dist-packages/ipykernel_launcher.py:2: FutureWarning: Indexing with multiple keys (implicitly converted to a tuple of keys) will be deprecated, use a list instead.\n",
            "  \n"
          ],
          "name": "stderr"
        },
        {
          "output_type": "display_data",
          "data": {
            "image/png": "[encoded data removed]",
            "text/plain": [
              "<Figure size 432x288 with 1 Axes>"
            ]
          },
          "metadata": {
            "tags": [],
            "needs_background": "light"
          }
        }
      ]
    },
    {
      "cell_type": "markdown",
      "metadata": {
        "id": "QeeYFySGRnY0",
        "colab_type": "text"
      },
      "source": [
        "<div class=\"alert alert-block alert-info\">\n",
        "<h2> Comments </h2>\n",
        "</div>\n",
        "\n",
        "Great :)\n",
        "\n",
        "You should provide graphs with titles and name their axis. These attributes help study the graph.\n",
        "\n",
        "------------"
      ]
    },
    {
      "cell_type": "markdown",
      "metadata": {
        "id": "1gKt3yj5RnY0",
        "colab_type": "text"
      },
      "source": [
        "### Step 4. Test the hypotheses\n",
        "#### Testing hypothesis that profit from users of Ultimate and Surf plans in 12/2018 is the same\n",
        "THe formulation we use:\n",
        "- H0: The mean (average) profit from users of Ultimate and Surf plans in 12/2018 is the same.\n",
        "- H1: The mean (average) profit from users of Ultimate and Surf plans in 12/2018 is NOT the same.\n",
        "The critria we will use is T-Test with Alpha value of 0.05 which is the common practice."
      ]
    },
    {
      "cell_type": "code",
      "metadata": {
        "scrolled": true,
        "id": "Akdev4GlRnY1",
        "colab_type": "code",
        "colab": {
          "base_uri": "https://localhost:8080/",
          "height": 51
        },
        "outputId": "e96acb71-e135-47c8-ad57-608b62e88868"
      },
      "source": [
        "from scipy import stats as st\n",
        "profit_surf_12_2018 = users1.query('plan == \"surf\"')['12_tot'].copy()\n",
        "profit_ultimate_12_2018 = users1.query('plan == \"ultimate\"')['12_tot'].copy()\n",
        "profit_surf_12_2018.dropna(inplace=True)\n",
        "profit_ultimate_12_2018.dropna(inplace=True)\n",
        "\n",
        "alpha = .05 # critical statistical significance\n",
        "results = st.ttest_ind(\n",
        "        profit_surf_12_2018, \n",
        "        profit_ultimate_12_2018, equal_var=False)\n",
        "print('p-value: ', results.pvalue)\n",
        "if (results.pvalue < alpha):\n",
        "        print(\"The mean (average) profit from users of Ultimate and Surf plans in 12/2018 is the same\")\n",
        "else:\n",
        "        print(\"The mean (average) profit from users of Ultimate and Surf plans in 12/2018 is NOT the same\")"
      ],
      "execution_count": 104,
      "outputs": [
        {
          "output_type": "stream",
          "text": [
            "p-value:  0.014714134718437265\n",
            "The mean (average) profit from users of Ultimate and Surf plans in 12/2018 is the same\n"
          ],
          "name": "stdout"
        }
      ]
    },
    {
      "cell_type": "markdown",
      "metadata": {
        "id": "08h3AS1MRnY7",
        "colab_type": "text"
      },
      "source": [
        "<div class=\"alert alert-block alert-info\">\n",
        "<h2> Comments </h2>\n",
        "</div>\n",
        "\n",
        "Very good :)\n",
        "\n",
        "Actually, we reject null hypothesis if p-value is less than alpha. So, here you should conclude that profit is not the same.\n",
        "\n",
        "------------"
      ]
    },
    {
      "cell_type": "markdown",
      "metadata": {
        "id": "I_kCUflgRnY9",
        "colab_type": "text"
      },
      "source": [
        "#### Testing hypothesis that profit from the users in NY-NJ area and users from other regions in 12/2018 is the same\n",
        "THe formulation we use:\n",
        "- H0: The mean (average) profit from users of NY-NJ and other regions in 12/2018 is the same.\n",
        "- H1: The mean (average) profit from users of NY-NJ and other regions in 12/2018 is NOT the same.\n",
        "The critria we will use is T-Test with Alpha value of 0.05 which is the common practice."
      ]
    },
    {
      "cell_type": "code",
      "metadata": {
        "scrolled": true,
        "id": "IRWyw4A7RnY-",
        "colab_type": "code",
        "colab": {
          "base_uri": "https://localhost:8080/",
          "height": 51
        },
        "outputId": "9fc53a17-7780-4b5d-aa54-5291dfe3d31a"
      },
      "source": [
        "profit_ny_12_2018 = users1.query('area == \"NY\"')['12_tot'].copy()\n",
        "profit_other_12_2018 = users1.query('area == \"OTHER\"')['12_tot'].copy()\n",
        "profit_ny_12_2018.dropna(inplace=True)\n",
        "profit_other_12_2018.dropna(inplace=True)\n",
        "\n",
        "alpha = .05 # critical statistical significance\n",
        "results = st.ttest_ind(\n",
        "        profit_ny_12_2018, \n",
        "        profit_other_12_2018, equal_var=False)\n",
        "print('p-value: ', results.pvalue)\n",
        "if (results.pvalue < alpha):\n",
        "        print(\"The mean (average) profit from users in NY-NJ and users in other regions in 12/2018 is the same\")\n",
        "else:\n",
        "        print(\"The mean (average) profit from users in NY-NJ and users in other regions in 12/2018 is NOT the same\")"
      ],
      "execution_count": 105,
      "outputs": [
        {
          "output_type": "stream",
          "text": [
            "p-value:  0.1842915540534753\n",
            "The mean (average) profit from users in NY-NJ and users in other regions in 12/2018 is NOT the same\n"
          ],
          "name": "stdout"
        }
      ]
    },
    {
      "cell_type": "markdown",
      "metadata": {
        "id": "aR83eOsYRnZE",
        "colab_type": "text"
      },
      "source": [
        "<div class=\"alert alert-block alert-info\">\n",
        "<h2> Comments </h2>\n",
        "</div>\n",
        "\n",
        "Same here: everything is great, but conclusion is not right :(\n",
        "\n",
        "------------"
      ]
    },
    {
      "cell_type": "markdown",
      "metadata": {
        "id": "dkRtrAWORnZF",
        "colab_type": "text"
      },
      "source": [
        "### Step 5. Write an overall conclusion\n",
        "1. The information received for analysis contains sample of 500 users out of total population (size unknown).\n",
        "2. Churn rate is low – just 6.8% - Megaline is doing a good job in retention.\n",
        "3. The number of Surf users is double than those of Ultimate.\n",
        "4. Number of calls: \n",
        "  - Surf: average consumption is almost reaching the the package limit 465 / 500 – this means that Megaline is doing nice profit on extra calls from Surf.\n",
        "  - Ultimate – underusage of the package by the users.\n",
        "Messages – underusage of the package in both tariff plans – no surprise as SMS get less and less used.\n",
        "5. Internet usage: \n",
        "  - Surf – even average user is exceeding the package (18GB / 15 GB)\n",
        "  - Megaline make big money here… Ultimate – underusage in average 18GB / 30GB.\n",
        "6. Based on above – the network is making very nice profits on Surf (average profit of 64 usd on package of 20 usd) especially due to the Internet traffic.\n",
        "7. When looking on the figures – we can clearly notice that usage of average surf user internet increases during the year – this is the main reason of high profits. This may be probably due to promotions – the recommendation is keeping with this direction.\n",
        "8. As concluded above the mean profit from Surf and Ultimate subscribers is the same – although these are different segments.\n",
        "9. Profit in NY area is a bit lower than from other region in the country – maybe local promotion in that area can help in increasing revenues."
      ]
    },
    {
      "cell_type": "markdown",
      "metadata": {
        "id": "hu6irUtNRnZG",
        "colab_type": "text"
      },
      "source": [
        "<div class=\"alert alert-block alert-info\">\n",
        "<h2> Comments </h2>\n",
        "</div>\n",
        "\n",
        "Okay :)\n",
        "\n",
        "------------"
      ]
    },
    {
      "cell_type": "code",
      "metadata": {
        "id": "wFlfFIuKlpWL",
        "colab_type": "code",
        "colab": {}
      },
      "source": [
        ""
      ],
      "execution_count": null,
      "outputs": []
    }
  ]
}