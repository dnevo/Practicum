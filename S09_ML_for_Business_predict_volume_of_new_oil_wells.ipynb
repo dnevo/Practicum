{
  "nbformat": 4,
  "nbformat_minor": 0,
  "metadata": {
    "kernelspec": {
      "display_name": "Python 3",
      "language": "python",
      "name": "python3"
    },
    "language_info": {
      "codemirror_mode": {
        "name": "ipython",
        "version": 3
      },
      "file_extension": ".py",
      "mimetype": "text/x-python",
      "name": "python",
      "nbconvert_exporter": "python",
      "pygments_lexer": "ipython3",
      "version": "3.7.4"
    },
    "colab": {
      "name": "S09 ML for Business -  predict volume of new oil wells.ipynb",
      "provenance": [],
      "include_colab_link": true
    }
  },
  "cells": [
    {
      "cell_type": "markdown",
      "metadata": {
        "id": "view-in-github",
        "colab_type": "text"
      },
      "source": [
        "<a href=\"https://colab.research.google.com/github/dnevo/Practicum/blob/master/S09_ML_for_Business_predict_volume_of_new_oil_wells.ipynb\" target=\"_parent\"><img src=\"https://colab.research.google.com/assets/colab-badge.svg\" alt=\"Open In Colab\"/></a>"
      ]
    },
    {
      "cell_type": "markdown",
      "metadata": {
        "id": "WuqnqSKxpHnN",
        "colab_type": "text"
      },
      "source": [
        "## Review\n",
        "\n",
        "Hi Doron. This is Soslan again. I'm reviewing your next project. I've added all my comments to new cells with different coloring.\n",
        "\n",
        "<div class=\"alert alert-success\" role=\"alert\">\n",
        "  If you did something great I'm using green color for my comment\n",
        "</div>\n",
        "\n",
        "<div class=\"alert alert-warning\" role=\"alert\">\n",
        "If I want to give you advice or think that something can be improved, then I'll use yellow. This is an optional recommendation.\n",
        "</div>\n",
        "\n",
        "<div class=\"alert alert-danger\" role=\"alert\">\n",
        "  If the topic requires some extra work so I can accept it then the color will be red\n",
        "</div>\n",
        "\n",
        "Your project is of high quality. The code is clean and very compact. All the functions are done correctly. You just missed one task, but it is the easiest one and doesn't worth another iteration. So I'm accepting your project.\n",
        "\n",
        "---"
      ]
    },
    {
      "cell_type": "code",
      "metadata": {
        "id": "jQOTOCc0pHnP",
        "colab_type": "code",
        "colab": {}
      },
      "source": [
        "import pandas as pd\n",
        "import numpy as np\n",
        "from math import sqrt\n",
        "import matplotlib.pyplot as plt\n",
        "from sklearn.model_selection import train_test_split\n",
        "from sklearn.linear_model import LinearRegression\n",
        "from sklearn.metrics import mean_squared_error\n",
        "from scipy import stats as st"
      ],
      "execution_count": null,
      "outputs": []
    },
    {
      "cell_type": "markdown",
      "metadata": {
        "id": "5qz9N-3MpHnW",
        "colab_type": "text"
      },
      "source": [
        "# 1. Download and Data preparation\n",
        "\n",
        "There are 3 CSV Data files: `geo_data0.csv`, `geo_data1.csv`and `geo_data2.csv`, represention 3 regions: Region 0, Region 1 and Region 2.\n",
        "\n",
        "In order to avoid code duplication, we will load them in a loop. This principle will also be used in next parts of the project.\n",
        "\n",
        "The `id` column will be dropped since it is a string of text, and working instead with integer index is easier."
      ]
    },
    {
      "cell_type": "code",
      "metadata": {
        "id": "u01em3qHpHnX",
        "colab_type": "code",
        "colab": {}
      },
      "source": [
        "data = []\n",
        "for i in range(3):\n",
        "  data.append(pd.read_csv(\n",
        "      'https://code.s3.yandex.net/datasets/geo_data_' + str(i) + '.csv'\n",
        "      ,usecols = ['f0','f1','f2','product']))"
      ],
      "execution_count": null,
      "outputs": []
    },
    {
      "cell_type": "markdown",
      "metadata": {
        "id": "BuqkzIX7pHnd",
        "colab_type": "text"
      },
      "source": [
        "## Brief EDA\n",
        "\n",
        "As below in the descriptive statistics and comparative box plot, Region 1 reserve volume (`product`) is quite different from the 2 other regions:\n",
        "- It has lower average - hinting on lower profitability\n",
        "- It has denser distribution - pointing on better predictability, and lower risk.\n",
        "\n",
        "We will further explore and confirm these 2 observations in following section."
      ]
    },
    {
      "cell_type": "code",
      "metadata": {
        "id": "MPzJa7QjpHne",
        "colab_type": "code",
        "colab": {},
        "outputId": "e7ec7310-5057-47c5-ce94-645abcfb26bc"
      },
      "source": [
        "for i in range(3):\n",
        "  print(f'\\n#### Region {i} ####')\n",
        "  print(data[i].describe())"
      ],
      "execution_count": null,
      "outputs": [
        {
          "output_type": "stream",
          "text": [
            "\n",
            "#### Region 0 ####\n",
            "                  f0             f1             f2        product\n",
            "count  100000.000000  100000.000000  100000.000000  100000.000000\n",
            "mean        0.500419       0.250143       2.502647      92.500000\n",
            "std         0.871832       0.504433       3.248248      44.288691\n",
            "min        -1.408605      -0.848218     -12.088328       0.000000\n",
            "25%        -0.072580      -0.200881       0.287748      56.497507\n",
            "50%         0.502360       0.250252       2.515969      91.849972\n",
            "75%         1.073581       0.700646       4.715088     128.564089\n",
            "max         2.362331       1.343769      16.003790     185.364347\n",
            "\n",
            "#### Region 1 ####\n",
            "                  f0             f1             f2        product\n",
            "count  100000.000000  100000.000000  100000.000000  100000.000000\n",
            "mean        1.141296      -4.796579       2.494541      68.825000\n",
            "std         8.965932       5.119872       1.703572      45.944423\n",
            "min       -31.609576     -26.358598      -0.018144       0.000000\n",
            "25%        -6.298551      -8.267985       1.000021      26.953261\n",
            "50%         1.153055      -4.813172       2.011479      57.085625\n",
            "75%         8.621015      -1.332816       3.999904     107.813044\n",
            "max        29.421755      18.734063       5.019721     137.945408\n",
            "\n",
            "#### Region 2 ####\n",
            "                  f0             f1             f2        product\n",
            "count  100000.000000  100000.000000  100000.000000  100000.000000\n",
            "mean        0.002023      -0.002081       2.495128      95.000000\n",
            "std         1.732045       1.730417       3.473445      44.749921\n",
            "min        -8.760004      -7.084020     -11.970335       0.000000\n",
            "25%        -1.162288      -1.174820       0.130359      59.450441\n",
            "50%         0.009424      -0.009482       2.484236      94.925613\n",
            "75%         1.158535       1.163678       4.858794     130.595027\n",
            "max         7.238262       7.844801      16.739402     190.029838\n"
          ],
          "name": "stdout"
        }
      ]
    },
    {
      "cell_type": "code",
      "metadata": {
        "id": "_BdUwA47pHnl",
        "colab_type": "code",
        "colab": {},
        "outputId": "75316966-7c35-42a4-f5f6-2b22a7181a23"
      },
      "source": [
        "plt.figure(figsize=(9, 3))\n",
        "plt.boxplot([data[0]['product'], data[1]['product'], data[2]['product']], vert=False)\n",
        "plt.yticks([1,2,3],labels=['Region 0','Region 1','Region 2'])\n",
        "plt.show()"
      ],
      "execution_count": null,
      "outputs": [
        {
          "output_type": "display_data",
          "data": {
            "image/png": "[encoded data removed]",
            "text/plain": [
              "<Figure size 648x216 with 1 Axes>"
            ]
          },
          "metadata": {
            "tags": [],
            "needs_background": "light"
          }
        }
      ]
    },
    {
      "cell_type": "markdown",
      "metadata": {
        "id": "opzLMyf4pHnq",
        "colab_type": "text"
      },
      "source": [
        "<div class=\"alert alert-success\" role=\"alert\">\n",
        "Great start. Nice automation of the process.</div>"
      ]
    },
    {
      "cell_type": "markdown",
      "metadata": {
        "id": "SXLum5JEpHnr",
        "colab_type": "text"
      },
      "source": [
        "# 2. Train and Test\n",
        "1. Split the data into a training set and validation set at a ratio of 75:25.\n",
        "2. Train the model and make predictions for the validation set.\n",
        "3. Save the predictions and correct answers for the validation set.\n",
        "4. Print the average volume of reserves and model RMSE."
      ]
    },
    {
      "cell_type": "code",
      "metadata": {
        "id": "IBNcMRQdpHns",
        "colab_type": "code",
        "colab": {},
        "outputId": "da495678-5001-41f1-bd86-1dc4afe8abfc"
      },
      "source": [
        "state = np.random.RandomState(12345)\n",
        "target_valids = []  # to be used later in bootstrapping\n",
        "predicted_valids = [] # to be used later in bootstrapping\n",
        "for i in range(3):\n",
        "  target = data[i]['product']\n",
        "  features = data[i].drop('product', axis=1)\n",
        "  features_train, features_valid, target_train, target_valid = train_test_split(\n",
        "      features, target, test_size=0.25, random_state=state)\n",
        "  model = LinearRegression()\n",
        "  model.fit(features_train, target_train)\n",
        "  predicted_valid = model.predict(features_valid)\n",
        "  print(f'\\n#### Region {i} ####')\n",
        "  print('RMSE:', sqrt(mean_squared_error(target_valid, predicted_valid)))\n",
        "  print('mean target_valid:', target_valid.mean())\n",
        "  print('mean predicted_valid:', predicted_valid.mean())\n",
        "  target_valids.append(target_valid)\n",
        "  predicted_valids.append(predicted_valid)\n",
        "reserves = []\n",
        "for i in range(3):\n",
        "  reserves.append(pd.DataFrame({'target':target_valids[i], 'predicted':predicted_valids[i]}))"
      ],
      "execution_count": null,
      "outputs": [
        {
          "output_type": "stream",
          "text": [
            "\n",
            "#### Region 0 ####\n",
            "RMSE: 37.5794217150813\n",
            "mean target_valid: 92.07859674082927\n",
            "mean predicted_valid: 92.59256778438038\n",
            "\n",
            "#### Region 1 ####\n",
            "RMSE: 0.889736773768064\n",
            "mean target_valid: 68.77162424984647\n",
            "mean predicted_valid: 68.76995145799754\n",
            "\n",
            "#### Region 2 ####\n",
            "RMSE: 39.958042459521614\n",
            "mean target_valid: 94.74895871720241\n",
            "mean predicted_valid: 95.087528122523\n"
          ],
          "name": "stdout"
        }
      ]
    },
    {
      "cell_type": "markdown",
      "metadata": {
        "id": "WSoRsIgCpHnx",
        "colab_type": "text"
      },
      "source": [
        "5. Analyze the results - refer to above printout:\n",
        "\n",
        "As already hinted, Region 1 reserve volume (`product`) is different from the 2 other regions:\n",
        "- Lower Mean --> lower potential profitability\n",
        "- Lower RMSE --> reasonable predictability, and lower risk. \n",
        "\n",
        "**The 2 other regions suffer from high RMSE.**"
      ]
    },
    {
      "cell_type": "markdown",
      "metadata": {
        "id": "wtyDUbispHny",
        "colab_type": "text"
      },
      "source": [
        "<div class=\"alert alert-success\" role=\"alert\">\n",
        "Second step is done correctly.</div>"
      ]
    },
    {
      "cell_type": "markdown",
      "metadata": {
        "id": "00CIrSE1pHnz",
        "colab_type": "text"
      },
      "source": [
        "Prepare for profit calculation:"
      ]
    },
    {
      "cell_type": "markdown",
      "metadata": {
        "id": "r-HVzF-ZpHn0",
        "colab_type": "text"
      },
      "source": [
        "Key values for calculation, including number of wells:"
      ]
    },
    {
      "cell_type": "code",
      "metadata": {
        "id": "elOqZYR6pHn1",
        "colab_type": "code",
        "colab": {}
      },
      "source": [
        "N_SAMPLES = 1000\n",
        "SAMPLE_SIZE = 500\n",
        "TOTAL_BUDGET = 100000000\n",
        "WELL_COST = 500000\n",
        "BARREL_PRICE = 4.5\n",
        "N_WELLS = int(TOTAL_BUDGET / WELL_COST) # = 200"
      ],
      "execution_count": null,
      "outputs": []
    },
    {
      "cell_type": "markdown",
      "metadata": {
        "id": "p8qCDbUapHn6",
        "colab_type": "text"
      },
      "source": [
        "Function to calculate profit from a set of selected oil wells and model predictions:"
      ]
    },
    {
      "cell_type": "code",
      "metadata": {
        "id": "EYipZE7qpHn7",
        "colab_type": "code",
        "colab": {}
      },
      "source": [
        "def calc_profit(target, predicted):\n",
        "  n_barrels = target[pd.Series(predicted).sort_values(ascending=False).index][:N_WELLS].sum() * 1000\n",
        "  revenue = n_barrels * BARREL_PRICE\n",
        "  cost = N_WELLS * WELL_COST\n",
        "  return revenue - cost"
      ],
      "execution_count": null,
      "outputs": []
    },
    {
      "cell_type": "markdown",
      "metadata": {
        "id": "7LCVXkVhpHn_",
        "colab_type": "text"
      },
      "source": [
        "<div class=\"alert alert-warning\" role=\"alert\">\n",
        "You missed this task: \n",
        "\n",
        "3.2. Calculate the minimum average volume of reserves in the oil wells of the region, sufficient for its development. Provide the findings.\n",
        "</div>"
      ]
    },
    {
      "cell_type": "markdown",
      "metadata": {
        "id": "NOlRtZjHpHoA",
        "colab_type": "text"
      },
      "source": [
        "# 4. Risks and profits for each region:\n",
        "\n",
        "Profit per region:"
      ]
    },
    {
      "cell_type": "code",
      "metadata": {
        "id": "QxS42y7ypHoB",
        "colab_type": "code",
        "colab": {},
        "outputId": "58b5abbd-8aba-4de5-8c5d-4bb9f11d5f35"
      },
      "source": [
        "profits = []\n",
        "for i in range(3):\n",
        "  profit = []\n",
        "  for j in range(N_SAMPLES):\n",
        "    subsample = reserves[i].sample(n=SAMPLE_SIZE, replace=False, random_state=state)\n",
        "    profit.append(calc_profit(subsample['target'].values, subsample['predicted'].values))\n",
        "  profits.append(pd.Series(profit))\n",
        "  print(f'Region{i} - Mean profit:{pd.Series(profit).mean()}')"
      ],
      "execution_count": null,
      "outputs": [
        {
          "output_type": "stream",
          "text": [
            "Region0 - Mean profit:3845255.0587950097\n",
            "Region1 - Mean profit:4650508.330289074\n",
            "Region2 - Mean profit:3534133.720062032\n"
          ],
          "name": "stdout"
        }
      ]
    },
    {
      "cell_type": "markdown",
      "metadata": {
        "id": "GO1QxgR_pHoF",
        "colab_type": "text"
      },
      "source": [
        "The boxplots can already provide hint that Region 0 and Region 1 are risky (chance for profit losts):"
      ]
    },
    {
      "cell_type": "code",
      "metadata": {
        "id": "DUo1PWWwpHoG",
        "colab_type": "code",
        "colab": {},
        "outputId": "b0bcef86-2a73-4fcb-f824-430d8354bfdf"
      },
      "source": [
        "plt.figure(figsize=(9, 3))\n",
        "plt.boxplot([profits[0], profits[1], profits[2]], vert=False)\n",
        "plt.yticks([1,2,3],labels=['Region 0','Region 1','Region 2'])\n",
        "plt.show()"
      ],
      "execution_count": null,
      "outputs": [
        {
          "output_type": "display_data",
          "data": {
            "image/png": "[encoded data removed]",
            "text/plain": [
              "<Figure size 648x216 with 1 Axes>"
            ]
          },
          "metadata": {
            "tags": [],
            "needs_background": "light"
          }
        }
      ]
    },
    {
      "cell_type": "markdown",
      "metadata": {
        "id": "YTcRTDVkpHoL",
        "colab_type": "text"
      },
      "source": [
        "95% confidence interval:"
      ]
    },
    {
      "cell_type": "code",
      "metadata": {
        "id": "qeLEQmwfpHoM",
        "colab_type": "code",
        "colab": {},
        "outputId": "b5d5a285-db2b-4666-c40e-f31d7affaeb1"
      },
      "source": [
        "for i in range(3):\n",
        "  print(f'Region {i} confidence interval =',st.t.interval(0.95, len(profits[i])-1, loc=profits[i].mean(),scale=profits[i].sem()))"
      ],
      "execution_count": null,
      "outputs": [
        {
          "output_type": "stream",
          "text": [
            "Region 0 confidence interval = (3681962.254097969, 4008547.8634920507)\n",
            "Region 1 confidence interval = (4524972.248542842, 4776044.412035306)\n",
            "Region 2 confidence interval = (3366157.099843373, 3702110.3402806907)\n"
          ],
          "name": "stdout"
        }
      ]
    },
    {
      "cell_type": "markdown",
      "metadata": {
        "id": "cWSW_ClDpHoQ",
        "colab_type": "text"
      },
      "source": [
        "Risk for loss per region:"
      ]
    },
    {
      "cell_type": "code",
      "metadata": {
        "id": "yxvoVCdFpHoR",
        "colab_type": "code",
        "colab": {},
        "outputId": "ca6a4723-5423-4c1e-ef1a-345a5d369afe"
      },
      "source": [
        "for i in range(3):\n",
        "  print(f'Region {i}, risk for loss: {sum(profits[i]<0)/N_SAMPLES:0.1%}')"
      ],
      "execution_count": null,
      "outputs": [
        {
          "output_type": "stream",
          "text": [
            "Region 0, risk for loss: 8.1%\n",
            "Region 1, risk for loss: 1.0%\n",
            "Region 2, risk for loss: 9.6%\n"
          ],
          "name": "stdout"
        }
      ]
    },
    {
      "cell_type": "markdown",
      "metadata": {
        "id": "6UuK1wfXpHoV",
        "colab_type": "text"
      },
      "source": [
        "# Conclusions\n",
        "\n",
        "As above, Region 0 and Region 2 impose a risk of loss which is higher than 2.5% (6.3% and 10%).\n",
        "<br>**Therefore Region 1 is selected for development.**"
      ]
    },
    {
      "cell_type": "markdown",
      "metadata": {
        "id": "mslXNmarpHoW",
        "colab_type": "text"
      },
      "source": [
        "<div class=\"alert alert-success\" role=\"alert\">\n",
        "Great last step\n",
        "</div>"
      ]
    },
    {
      "cell_type": "code",
      "metadata": {
        "id": "MoUjtevTpHoX",
        "colab_type": "code",
        "colab": {}
      },
      "source": [
        ""
      ],
      "execution_count": null,
      "outputs": []
    }
  ]
}