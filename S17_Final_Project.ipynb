{
  "nbformat": 4,
  "nbformat_minor": 0,
  "metadata": {
    "colab": {
      "name": "S17_Final_Project.ipynb",
      "provenance": [],
      "collapsed_sections": [],
      "authorship_tag": "ABX9TyP0Ngk2k6KaCh8N3zYQi5R2",
      "include_colab_link": true
    },
    "kernelspec": {
      "name": "python3",
      "display_name": "Python 3"
    }
  },
  "cells": [
    {
      "cell_type": "markdown",
      "metadata": {
        "id": "view-in-github",
        "colab_type": "text"
      },
      "source": [
        "<a href=\"https://colab.research.google.com/github/dnevo/Practicum/blob/master/S17_Final_Project.ipynb\" target=\"_parent\"><img src=\"https://colab.research.google.com/assets/colab-badge.svg\" alt=\"Open In Colab\"/></a>"
      ]
    },
    {
      "cell_type": "code",
      "metadata": {
        "id": "TbHvp4b6Rmk1",
        "colab_type": "code",
        "colab": {}
      },
      "source": [
        "import numpy as np\n",
        "import pandas as pd\n",
        "pd.set_option('display.max_rows', 50)\n",
        "pd.set_option('display.width', 200)\n",
        "pd.set_option('display.max_columns', None)\n",
        "pd.options.display.float_format = '{:11,.2f}'.format\n",
        "np.set_printoptions(precision=2)"
      ],
      "execution_count": null,
      "outputs": []
    },
    {
      "cell_type": "code",
      "metadata": {
        "id": "8wxd_bbbQST6",
        "colab_type": "code",
        "colab": {}
      },
      "source": [
        "colab = True\n",
        "if colab:\n",
        "    data_path = 'https://raw.githubusercontent.com/dnevo/Practicum/master/datasets/'\n",
        "else:\n",
        "    data_path = '/datasets/'\n",
        "df_phone = pd.read_csv(data_path + 'phone.csv')\n",
        "df_personal = pd.read_csv(data_path + 'personal.csv')\n",
        "df_internet = pd.read_csv(data_path + 'internet.csv')\n",
        "df_contract = pd.read_csv(data_path + 'contract.csv')"
      ],
      "execution_count": null,
      "outputs": []
    },
    {
      "cell_type": "code",
      "metadata": {
        "id": "0Ofe-e1KSEDb",
        "colab_type": "code",
        "colab": {}
      },
      "source": [
        ""
      ],
      "execution_count": null,
      "outputs": []
    }
  ]
}