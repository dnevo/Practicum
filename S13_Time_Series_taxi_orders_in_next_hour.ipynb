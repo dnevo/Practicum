{
  "nbformat": 4,
  "nbformat_minor": 0,
  "metadata": {
    "colab": {
      "name": "S13 Time Series - taxi orders in next hour.ipynb",
      "provenance": [],
      "authorship_tag": "ABX9TyP0QsC3zjVBxMHE7p23tB3b",
      "include_colab_link": true
    },
    "kernelspec": {
      "name": "python3",
      "display_name": "Python 3"
    }
  },
  "cells": [
    {
      "cell_type": "markdown",
      "metadata": {
        "id": "view-in-github",
        "colab_type": "text"
      },
      "source": [
        "<a href=\"https://colab.research.google.com/github/dnevo/Practicum/blob/master/S13_Time_Series_taxi_orders_in_next_hour.ipynb\" target=\"_parent\"><img src=\"https://colab.research.google.com/assets/colab-badge.svg\" alt=\"Open In Colab\"/></a>"
      ]
    },
    {
      "cell_type": "markdown",
      "metadata": {
        "id": "voolZEhbVdjE",
        "colab_type": "text"
      },
      "source": [
        "# Project Descrition\n",
        "Sweet Lift Taxi company has collected historical data on taxi orders at\n",
        "airports. To attract more drivers during peak hours, we need to predict the\n",
        "amount of taxi orders for the next hour. Build a model for such a prediction.\n",
        "\n",
        "The RMSE metric on the test set should not be more than 48.\n",
        "##Project instructions\n",
        "1. Download the data and resample it by one hour.\n",
        "2. Analyze the data.\n",
        "3. Train different models with different hyperparameters. The test sample\n",
        "should be 10% of the initial dataset.\n",
        "4. Test the data using the test sample and provide a conclusion.\n",
        "\n",
        "## Data description\n",
        "The data is stored in the /datasets/taxi.csv file. Download the dataset.\n",
        "The number of orders is in the num_orders column.\n",
        "\n",
        "## Project evaluation\n",
        "- How did you prepare the data?\n",
        "- What models and hyperparameters have you considered?\n",
        "- Have you managed to avoid code duplication?\n",
        "- What are your findings?\n",
        "- Have you kept to the project structure?\n",
        "- Have you kept the code neat?\n"
      ]
    },
    {
      "cell_type": "code",
      "metadata": {
        "id": "RLo8U6JeUQGt",
        "colab_type": "code",
        "colab": {}
      },
      "source": [
        ""
      ],
      "execution_count": null,
      "outputs": []
    }
  ]
}